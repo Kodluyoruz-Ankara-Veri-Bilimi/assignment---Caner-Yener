{
 "cells": [
  {
   "cell_type": "code",
   "execution_count": 1,
   "metadata": {},
   "outputs": [],
   "source": [
    "class DataInfo():\n",
    "    def __init__(self, filename):\n",
    "        import pandas as pd\n",
    "        import numpy as np\n",
    "        import os\n",
    "        self.data = pd.read_csv(filename)\n",
    "\n",
    "    def dataInfo(self):\n",
    "        #veri tablosunun ilk 10 satırı\n",
    "        print(self.data.head())\n",
    "        #veri tablosunda null değer bulunuyor mu?\n",
    "        print(self.data.isnull())\n",
    "        #veri tablosunun tanımlayıcı istatistikleri\n",
    "        print(self.data.describe())\n",
    "        #veri tablosunun genel bilgileri\n",
    "        print(self.data.info())"
   ]
  },
  {
   "cell_type": "code",
   "execution_count": 2,
   "metadata": {},
   "outputs": [
    {
     "ename": "SyntaxError",
     "evalue": "unexpected EOF while parsing (<ipython-input-2-bd2e79c3b975>, line 10)",
     "output_type": "error",
     "traceback": [
      "\u001b[1;36m  File \u001b[1;32m\"<ipython-input-2-bd2e79c3b975>\"\u001b[1;36m, line \u001b[1;32m10\u001b[0m\n\u001b[1;33m    \u001b[0m\n\u001b[1;37m    ^\u001b[0m\n\u001b[1;31mSyntaxError\u001b[0m\u001b[1;31m:\u001b[0m unexpected EOF while parsing\n"
     ]
    }
   ],
   "source": [
    "class Visualize():\n",
    "    def __init__(self):\n",
    "        ...\n",
    "    \n",
    "    def hist(self):\n",
    "        for i in range (len(self.data.columns)):\n",
    "            self.data[i].hist(bins=70)\n",
    "    \n",
    "    def boxplot():\n",
    "        pass\n",
    "    \n",
    "    def countplot():\n",
    "        return sns.countplot(self.data.)"
   ]
  }
 ],
 "metadata": {
  "kernelspec": {
   "display_name": "Python 3",
   "language": "python",
   "name": "python3"
  },
  "language_info": {
   "codemirror_mode": {
    "name": "ipython",
    "version": 3
   },
   "file_extension": ".py",
   "mimetype": "text/x-python",
   "name": "python",
   "nbconvert_exporter": "python",
   "pygments_lexer": "ipython3",
   "version": "3.7.6"
  }
 },
 "nbformat": 4,
 "nbformat_minor": 4
}
