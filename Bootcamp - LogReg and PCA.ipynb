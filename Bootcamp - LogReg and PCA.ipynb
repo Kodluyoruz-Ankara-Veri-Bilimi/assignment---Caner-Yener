{
 "cells": [
  {
   "cell_type": "code",
   "execution_count": 157,
   "metadata": {},
   "outputs": [],
   "source": [
    "import numpy as np\n",
    "import pandas as pd \n",
    "import statsmodels.api as sm\n",
    "import statsmodels.formula.api as smf\n",
    "import seaborn as sns\n",
    "from sklearn.preprocessing import scale \n",
    "from sklearn.model_selection import train_test_split, GridSearchCV, cross_val_score\n",
    "from sklearn.metrics import confusion_matrix, accuracy_score, classification_report\n",
    "from sklearn.metrics import roc_auc_score,roc_curve\n",
    "from sklearn.metrics import mean_squared_error, r2_score\n",
    "import statsmodels.formula.api as smf\n",
    "import matplotlib.pyplot as plt\n",
    "from sklearn.neighbors import KNeighborsClassifier\n",
    "from sklearn.discriminant_analysis import LinearDiscriminantAnalysis\n",
    "from sklearn.linear_model import LogisticRegression\n",
    "from sklearn.linear_model import LinearRegression\n",
    "from sklearn.svm import SVC\n",
    "from sklearn.naive_bayes import GaussianNB\n",
    "from sklearn import tree\n",
    "from sklearn.ensemble import RandomForestClassifier\n",
    "from sklearn.ensemble import GradientBoostingClassifier\n",
    "\n",
    "\n",
    "from warnings import filterwarnings\n",
    "filterwarnings('ignore')"
   ]
  },
  {
   "cell_type": "code",
   "execution_count": 184,
   "metadata": {},
   "outputs": [
    {
     "data": {
      "text/html": [
       "<div>\n",
       "<style scoped>\n",
       "    .dataframe tbody tr th:only-of-type {\n",
       "        vertical-align: middle;\n",
       "    }\n",
       "\n",
       "    .dataframe tbody tr th {\n",
       "        vertical-align: top;\n",
       "    }\n",
       "\n",
       "    .dataframe thead th {\n",
       "        text-align: right;\n",
       "    }\n",
       "</style>\n",
       "<table border=\"1\" class=\"dataframe\">\n",
       "  <thead>\n",
       "    <tr style=\"text-align: right;\">\n",
       "      <th></th>\n",
       "      <th>bad</th>\n",
       "      <th>loan</th>\n",
       "      <th>mortdue</th>\n",
       "      <th>value</th>\n",
       "      <th>reason</th>\n",
       "      <th>job</th>\n",
       "      <th>yoj</th>\n",
       "      <th>derog</th>\n",
       "      <th>delinq</th>\n",
       "      <th>clage</th>\n",
       "      <th>ninq</th>\n",
       "      <th>clno</th>\n",
       "      <th>debtinc</th>\n",
       "    </tr>\n",
       "  </thead>\n",
       "  <tbody>\n",
       "    <tr>\n",
       "      <th>153</th>\n",
       "      <td>0</td>\n",
       "      <td>18200</td>\n",
       "      <td>94727.0</td>\n",
       "      <td>136877.0</td>\n",
       "      <td>DebtCon</td>\n",
       "      <td>Mgr</td>\n",
       "      <td>15.0</td>\n",
       "      <td>0.0</td>\n",
       "      <td>0.0</td>\n",
       "      <td>168.96</td>\n",
       "      <td>2.0</td>\n",
       "      <td>26.0</td>\n",
       "      <td>36.056</td>\n",
       "    </tr>\n",
       "    <tr>\n",
       "      <th>154</th>\n",
       "      <td>0</td>\n",
       "      <td>21700</td>\n",
       "      <td>79240.0</td>\n",
       "      <td>96784.0</td>\n",
       "      <td>DebtCon</td>\n",
       "      <td>Mgr</td>\n",
       "      <td>5.0</td>\n",
       "      <td>0.0</td>\n",
       "      <td>0.0</td>\n",
       "      <td>64.51</td>\n",
       "      <td>6.0</td>\n",
       "      <td>24.0</td>\n",
       "      <td>38.079</td>\n",
       "    </tr>\n",
       "    <tr>\n",
       "      <th>155</th>\n",
       "      <td>0</td>\n",
       "      <td>34100</td>\n",
       "      <td>241931.0</td>\n",
       "      <td>36486.0</td>\n",
       "      <td>DebtCon</td>\n",
       "      <td>Mgr</td>\n",
       "      <td>1.0</td>\n",
       "      <td>0.0</td>\n",
       "      <td>2.0</td>\n",
       "      <td>196.01</td>\n",
       "      <td>3.0</td>\n",
       "      <td>50.0</td>\n",
       "      <td>42.459</td>\n",
       "    </tr>\n",
       "    <tr>\n",
       "      <th>156</th>\n",
       "      <td>0</td>\n",
       "      <td>8400</td>\n",
       "      <td>62989.0</td>\n",
       "      <td>76718.0</td>\n",
       "      <td>HomeImp</td>\n",
       "      <td>Mgr</td>\n",
       "      <td>3.0</td>\n",
       "      <td>0.0</td>\n",
       "      <td>2.0</td>\n",
       "      <td>131.47</td>\n",
       "      <td>0.0</td>\n",
       "      <td>22.0</td>\n",
       "      <td>29.200</td>\n",
       "    </tr>\n",
       "    <tr>\n",
       "      <th>157</th>\n",
       "      <td>0</td>\n",
       "      <td>17400</td>\n",
       "      <td>25859.0</td>\n",
       "      <td>43684.0</td>\n",
       "      <td>DebtCon</td>\n",
       "      <td>Mgr</td>\n",
       "      <td>16.0</td>\n",
       "      <td>1.0</td>\n",
       "      <td>0.0</td>\n",
       "      <td>95.36</td>\n",
       "      <td>1.0</td>\n",
       "      <td>17.0</td>\n",
       "      <td>27.108</td>\n",
       "    </tr>\n",
       "  </tbody>\n",
       "</table>\n",
       "</div>"
      ],
      "text/plain": [
       "     bad   loan   mortdue     value   reason  job   yoj  derog  delinq  \\\n",
       "153    0  18200   94727.0  136877.0  DebtCon  Mgr  15.0    0.0     0.0   \n",
       "154    0  21700   79240.0   96784.0  DebtCon  Mgr   5.0    0.0     0.0   \n",
       "155    0  34100  241931.0   36486.0  DebtCon  Mgr   1.0    0.0     2.0   \n",
       "156    0   8400   62989.0   76718.0  HomeImp  Mgr   3.0    0.0     2.0   \n",
       "157    0  17400   25859.0   43684.0  DebtCon  Mgr  16.0    1.0     0.0   \n",
       "\n",
       "      clage  ninq  clno  debtinc  \n",
       "153  168.96   2.0  26.0   36.056  \n",
       "154   64.51   6.0  24.0   38.079  \n",
       "155  196.01   3.0  50.0   42.459  \n",
       "156  131.47   0.0  22.0   29.200  \n",
       "157   95.36   1.0  17.0   27.108  "
      ]
     },
     "execution_count": 184,
     "metadata": {},
     "output_type": "execute_result"
    }
   ],
   "source": [
    "hmelq = pd.read_csv(\"hmelq.csv\")\n",
    "df = hmelq.copy()\n",
    "df = df.dropna()\n",
    "df.head()"
   ]
  },
  {
   "cell_type": "code",
   "execution_count": 185,
   "metadata": {
    "scrolled": true
   },
   "outputs": [
    {
     "name": "stdout",
     "output_type": "stream",
     "text": [
      "<class 'pandas.core.frame.DataFrame'>\n",
      "Int64Index: 2018 entries, 153 to 3549\n",
      "Data columns (total 13 columns):\n",
      " #   Column   Non-Null Count  Dtype  \n",
      "---  ------   --------------  -----  \n",
      " 0   bad      2018 non-null   int64  \n",
      " 1   loan     2018 non-null   int64  \n",
      " 2   mortdue  2018 non-null   float64\n",
      " 3   value    2018 non-null   float64\n",
      " 4   reason   2018 non-null   object \n",
      " 5   job      2018 non-null   object \n",
      " 6   yoj      2018 non-null   float64\n",
      " 7   derog    2018 non-null   float64\n",
      " 8   delinq   2018 non-null   float64\n",
      " 9   clage    2018 non-null   float64\n",
      " 10  ninq     2018 non-null   float64\n",
      " 11  clno     2018 non-null   float64\n",
      " 12  debtinc  2018 non-null   float64\n",
      "dtypes: float64(9), int64(2), object(2)\n",
      "memory usage: 220.7+ KB\n"
     ]
    }
   ],
   "source": [
    "df.info()"
   ]
  },
  {
   "cell_type": "code",
   "execution_count": 186,
   "metadata": {},
   "outputs": [
    {
     "data": {
      "text/plain": [
       "0    1840\n",
       "1     178\n",
       "Name: bad, dtype: int64"
      ]
     },
     "execution_count": 186,
     "metadata": {},
     "output_type": "execute_result"
    }
   ],
   "source": [
    "df['bad'].value_counts()"
   ]
  },
  {
   "cell_type": "code",
   "execution_count": 187,
   "metadata": {
    "scrolled": true
   },
   "outputs": [
    {
     "data": {
      "image/png": "[encoded data removed]",
      "text/plain": [
       "<Figure size 432x288 with 1 Axes>"
      ]
     },
     "metadata": {
      "needs_background": "light"
     },
     "output_type": "display_data"
    }
   ],
   "source": [
    "df['bad'].value_counts().plot.barh();"
   ]
  },
  {
   "cell_type": "code",
   "execution_count": 188,
   "metadata": {
    "scrolled": true
   },
   "outputs": [
    {
     "data": {
      "text/html": [
       "<div>\n",
       "<style scoped>\n",
       "    .dataframe tbody tr th:only-of-type {\n",
       "        vertical-align: middle;\n",
       "    }\n",
       "\n",
       "    .dataframe tbody tr th {\n",
       "        vertical-align: top;\n",
       "    }\n",
       "\n",
       "    .dataframe thead th {\n",
       "        text-align: right;\n",
       "    }\n",
       "</style>\n",
       "<table border=\"1\" class=\"dataframe\">\n",
       "  <thead>\n",
       "    <tr style=\"text-align: right;\">\n",
       "      <th></th>\n",
       "      <th>count</th>\n",
       "      <th>mean</th>\n",
       "      <th>std</th>\n",
       "      <th>min</th>\n",
       "      <th>25%</th>\n",
       "      <th>50%</th>\n",
       "      <th>75%</th>\n",
       "      <th>max</th>\n",
       "    </tr>\n",
       "  </thead>\n",
       "  <tbody>\n",
       "    <tr>\n",
       "      <th>bad</th>\n",
       "      <td>2018.0</td>\n",
       "      <td>0.088206</td>\n",
       "      <td>0.283665</td>\n",
       "      <td>0.00</td>\n",
       "      <td>0.0000</td>\n",
       "      <td>0.000</td>\n",
       "      <td>0.0000</td>\n",
       "      <td>1.000</td>\n",
       "    </tr>\n",
       "    <tr>\n",
       "      <th>loan</th>\n",
       "      <td>2018.0</td>\n",
       "      <td>19010.257681</td>\n",
       "      <td>10768.607345</td>\n",
       "      <td>1700.00</td>\n",
       "      <td>12000.0000</td>\n",
       "      <td>16900.000</td>\n",
       "      <td>23600.0000</td>\n",
       "      <td>89900.000</td>\n",
       "    </tr>\n",
       "    <tr>\n",
       "      <th>mortdue</th>\n",
       "      <td>2018.0</td>\n",
       "      <td>76337.035183</td>\n",
       "      <td>44476.368189</td>\n",
       "      <td>5076.00</td>\n",
       "      <td>49577.2500</td>\n",
       "      <td>67595.000</td>\n",
       "      <td>92922.7500</td>\n",
       "      <td>399412.000</td>\n",
       "    </tr>\n",
       "    <tr>\n",
       "      <th>value</th>\n",
       "      <td>2018.0</td>\n",
       "      <td>106899.244797</td>\n",
       "      <td>54026.707096</td>\n",
       "      <td>23031.00</td>\n",
       "      <td>71287.2500</td>\n",
       "      <td>94514.000</td>\n",
       "      <td>121220.7500</td>\n",
       "      <td>512650.000</td>\n",
       "    </tr>\n",
       "    <tr>\n",
       "      <th>yoj</th>\n",
       "      <td>2018.0</td>\n",
       "      <td>9.003964</td>\n",
       "      <td>7.573012</td>\n",
       "      <td>0.00</td>\n",
       "      <td>3.0000</td>\n",
       "      <td>7.000</td>\n",
       "      <td>13.0000</td>\n",
       "      <td>41.000</td>\n",
       "    </tr>\n",
       "    <tr>\n",
       "      <th>derog</th>\n",
       "      <td>2018.0</td>\n",
       "      <td>0.150149</td>\n",
       "      <td>0.580421</td>\n",
       "      <td>0.00</td>\n",
       "      <td>0.0000</td>\n",
       "      <td>0.000</td>\n",
       "      <td>0.0000</td>\n",
       "      <td>10.000</td>\n",
       "    </tr>\n",
       "    <tr>\n",
       "      <th>delinq</th>\n",
       "      <td>2018.0</td>\n",
       "      <td>0.264123</td>\n",
       "      <td>0.789816</td>\n",
       "      <td>0.00</td>\n",
       "      <td>0.0000</td>\n",
       "      <td>0.000</td>\n",
       "      <td>0.0000</td>\n",
       "      <td>10.000</td>\n",
       "    </tr>\n",
       "    <tr>\n",
       "      <th>clage</th>\n",
       "      <td>2018.0</td>\n",
       "      <td>180.645020</td>\n",
       "      <td>84.420116</td>\n",
       "      <td>0.49</td>\n",
       "      <td>118.2050</td>\n",
       "      <td>176.670</td>\n",
       "      <td>229.6925</td>\n",
       "      <td>1168.230</td>\n",
       "    </tr>\n",
       "    <tr>\n",
       "      <th>ninq</th>\n",
       "      <td>2018.0</td>\n",
       "      <td>1.037661</td>\n",
       "      <td>1.578414</td>\n",
       "      <td>0.00</td>\n",
       "      <td>0.0000</td>\n",
       "      <td>0.000</td>\n",
       "      <td>2.0000</td>\n",
       "      <td>13.000</td>\n",
       "    </tr>\n",
       "    <tr>\n",
       "      <th>clno</th>\n",
       "      <td>2018.0</td>\n",
       "      <td>22.265114</td>\n",
       "      <td>9.457238</td>\n",
       "      <td>0.00</td>\n",
       "      <td>16.0000</td>\n",
       "      <td>21.000</td>\n",
       "      <td>27.0000</td>\n",
       "      <td>64.000</td>\n",
       "    </tr>\n",
       "    <tr>\n",
       "      <th>debtinc</th>\n",
       "      <td>2018.0</td>\n",
       "      <td>34.105829</td>\n",
       "      <td>8.438411</td>\n",
       "      <td>4.03</td>\n",
       "      <td>29.2955</td>\n",
       "      <td>34.949</td>\n",
       "      <td>38.9520</td>\n",
       "      <td>144.189</td>\n",
       "    </tr>\n",
       "  </tbody>\n",
       "</table>\n",
       "</div>"
      ],
      "text/plain": [
       "          count           mean           std       min         25%        50%  \\\n",
       "bad      2018.0       0.088206      0.283665      0.00      0.0000      0.000   \n",
       "loan     2018.0   19010.257681  10768.607345   1700.00  12000.0000  16900.000   \n",
       "mortdue  2018.0   76337.035183  44476.368189   5076.00  49577.2500  67595.000   \n",
       "value    2018.0  106899.244797  54026.707096  23031.00  71287.2500  94514.000   \n",
       "yoj      2018.0       9.003964      7.573012      0.00      3.0000      7.000   \n",
       "derog    2018.0       0.150149      0.580421      0.00      0.0000      0.000   \n",
       "delinq   2018.0       0.264123      0.789816      0.00      0.0000      0.000   \n",
       "clage    2018.0     180.645020     84.420116      0.49    118.2050    176.670   \n",
       "ninq     2018.0       1.037661      1.578414      0.00      0.0000      0.000   \n",
       "clno     2018.0      22.265114      9.457238      0.00     16.0000     21.000   \n",
       "debtinc  2018.0      34.105829      8.438411      4.03     29.2955     34.949   \n",
       "\n",
       "                 75%         max  \n",
       "bad           0.0000       1.000  \n",
       "loan      23600.0000   89900.000  \n",
       "mortdue   92922.7500  399412.000  \n",
       "value    121220.7500  512650.000  \n",
       "yoj          13.0000      41.000  \n",
       "derog         0.0000      10.000  \n",
       "delinq        0.0000      10.000  \n",
       "clage       229.6925    1168.230  \n",
       "ninq          2.0000      13.000  \n",
       "clno         27.0000      64.000  \n",
       "debtinc      38.9520     144.189  "
      ]
     },
     "execution_count": 188,
     "metadata": {},
     "output_type": "execute_result"
    }
   ],
   "source": [
    "df.describe().T"
   ]
  },
  {
   "cell_type": "code",
   "execution_count": 189,
   "metadata": {},
   "outputs": [],
   "source": [
    "y = df['bad']\n",
    "X = df.drop(['bad', 'reason', 'job'], axis=1)"
   ]
  },
  {
   "cell_type": "code",
   "execution_count": 190,
   "metadata": {
    "scrolled": false
   },
   "outputs": [
    {
     "name": "stdout",
     "output_type": "stream",
     "text": [
      "Optimization terminated successfully.\n",
      "         Current function value: 0.261768\n",
      "         Iterations 7\n"
     ]
    },
    {
     "data": {
      "text/html": [
       "<table class=\"simpletable\">\n",
       "<caption>Logit Regression Results</caption>\n",
       "<tr>\n",
       "  <th>Dep. Variable:</th>          <td>bad</td>       <th>  No. Observations:  </th>  <td>  2018</td>  \n",
       "</tr>\n",
       "<tr>\n",
       "  <th>Model:</th>                 <td>Logit</td>      <th>  Df Residuals:      </th>  <td>  2008</td>  \n",
       "</tr>\n",
       "<tr>\n",
       "  <th>Method:</th>                 <td>MLE</td>       <th>  Df Model:          </th>  <td>     9</td>  \n",
       "</tr>\n",
       "<tr>\n",
       "  <th>Date:</th>            <td>Thu, 06 Aug 2020</td> <th>  Pseudo R-squ.:     </th>  <td>0.1227</td>  \n",
       "</tr>\n",
       "<tr>\n",
       "  <th>Time:</th>                <td>18:17:39</td>     <th>  Log-Likelihood:    </th> <td> -528.25</td> \n",
       "</tr>\n",
       "<tr>\n",
       "  <th>converged:</th>             <td>True</td>       <th>  LL-Null:           </th> <td> -602.11</td> \n",
       "</tr>\n",
       "<tr>\n",
       "  <th>Covariance Type:</th>     <td>nonrobust</td>    <th>  LLR p-value:       </th> <td>2.621e-27</td>\n",
       "</tr>\n",
       "</table>\n",
       "<table class=\"simpletable\">\n",
       "<tr>\n",
       "     <td></td>        <th>coef</th>     <th>std err</th>      <th>z</th>      <th>P>|z|</th>  <th>[0.025</th>    <th>0.975]</th>  \n",
       "</tr>\n",
       "<tr>\n",
       "  <th>loan</th>    <td>-2.706e-05</td> <td> 1.04e-05</td> <td>   -2.600</td> <td> 0.009</td> <td>-4.74e-05</td> <td>-6.66e-06</td>\n",
       "</tr>\n",
       "<tr>\n",
       "  <th>mortdue</th> <td>-3.409e-07</td> <td> 5.22e-06</td> <td>   -0.065</td> <td> 0.948</td> <td>-1.06e-05</td> <td>  9.9e-06</td>\n",
       "</tr>\n",
       "<tr>\n",
       "  <th>value</th>   <td>-3.173e-06</td> <td> 4.29e-06</td> <td>   -0.739</td> <td> 0.460</td> <td>-1.16e-05</td> <td> 5.24e-06</td>\n",
       "</tr>\n",
       "<tr>\n",
       "  <th>yoj</th>     <td>   -0.0342</td> <td>    0.013</td> <td>   -2.727</td> <td> 0.006</td> <td>   -0.059</td> <td>   -0.010</td>\n",
       "</tr>\n",
       "<tr>\n",
       "  <th>derog</th>   <td>    0.5800</td> <td>    0.122</td> <td>    4.758</td> <td> 0.000</td> <td>    0.341</td> <td>    0.819</td>\n",
       "</tr>\n",
       "<tr>\n",
       "  <th>delinq</th>  <td>    0.7398</td> <td>    0.086</td> <td>    8.610</td> <td> 0.000</td> <td>    0.571</td> <td>    0.908</td>\n",
       "</tr>\n",
       "<tr>\n",
       "  <th>clage</th>   <td>   -0.0084</td> <td>    0.001</td> <td>   -6.358</td> <td> 0.000</td> <td>   -0.011</td> <td>   -0.006</td>\n",
       "</tr>\n",
       "<tr>\n",
       "  <th>ninq</th>    <td>    0.0266</td> <td>    0.047</td> <td>    0.571</td> <td> 0.568</td> <td>   -0.065</td> <td>    0.118</td>\n",
       "</tr>\n",
       "<tr>\n",
       "  <th>clno</th>    <td>   -0.0505</td> <td>    0.011</td> <td>   -4.635</td> <td> 0.000</td> <td>   -0.072</td> <td>   -0.029</td>\n",
       "</tr>\n",
       "<tr>\n",
       "  <th>debtinc</th> <td>    0.0222</td> <td>    0.007</td> <td>    3.126</td> <td> 0.002</td> <td>    0.008</td> <td>    0.036</td>\n",
       "</tr>\n",
       "</table>"
      ],
      "text/plain": [
       "<class 'statsmodels.iolib.summary.Summary'>\n",
       "\"\"\"\n",
       "                           Logit Regression Results                           \n",
       "==============================================================================\n",
       "Dep. Variable:                    bad   No. Observations:                 2018\n",
       "Model:                          Logit   Df Residuals:                     2008\n",
       "Method:                           MLE   Df Model:                            9\n",
       "Date:                Thu, 06 Aug 2020   Pseudo R-squ.:                  0.1227\n",
       "Time:                        18:17:39   Log-Likelihood:                -528.25\n",
       "converged:                       True   LL-Null:                       -602.11\n",
       "Covariance Type:            nonrobust   LLR p-value:                 2.621e-27\n",
       "==============================================================================\n",
       "                 coef    std err          z      P>|z|      [0.025      0.975]\n",
       "------------------------------------------------------------------------------\n",
       "loan       -2.706e-05   1.04e-05     -2.600      0.009   -4.74e-05   -6.66e-06\n",
       "mortdue    -3.409e-07   5.22e-06     -0.065      0.948   -1.06e-05     9.9e-06\n",
       "value      -3.173e-06   4.29e-06     -0.739      0.460   -1.16e-05    5.24e-06\n",
       "yoj           -0.0342      0.013     -2.727      0.006      -0.059      -0.010\n",
       "derog          0.5800      0.122      4.758      0.000       0.341       0.819\n",
       "delinq         0.7398      0.086      8.610      0.000       0.571       0.908\n",
       "clage         -0.0084      0.001     -6.358      0.000      -0.011      -0.006\n",
       "ninq           0.0266      0.047      0.571      0.568      -0.065       0.118\n",
       "clno          -0.0505      0.011     -4.635      0.000      -0.072      -0.029\n",
       "debtinc        0.0222      0.007      3.126      0.002       0.008       0.036\n",
       "==============================================================================\n",
       "\"\"\""
      ]
     },
     "execution_count": 190,
     "metadata": {},
     "output_type": "execute_result"
    }
   ],
   "source": [
    "loj = sm.Logit(y.astype(float), X.astype(float))\n",
    "loj_model = loj.fit()\n",
    "loj_model.summary()"
   ]
  },
  {
   "cell_type": "code",
   "execution_count": 191,
   "metadata": {},
   "outputs": [],
   "source": [
    "y = df['bad']\n",
    "X = df.drop(['bad', 'reason', 'job', 'mortdue'], axis=1)"
   ]
  },
  {
   "cell_type": "code",
   "execution_count": 192,
   "metadata": {
    "scrolled": true
   },
   "outputs": [
    {
     "name": "stdout",
     "output_type": "stream",
     "text": [
      "Optimization terminated successfully.\n",
      "         Current function value: 0.261769\n",
      "         Iterations 7\n"
     ]
    },
    {
     "data": {
      "text/html": [
       "<table class=\"simpletable\">\n",
       "<caption>Logit Regression Results</caption>\n",
       "<tr>\n",
       "  <th>Dep. Variable:</th>          <td>bad</td>       <th>  No. Observations:  </th>  <td>  2018</td>  \n",
       "</tr>\n",
       "<tr>\n",
       "  <th>Model:</th>                 <td>Logit</td>      <th>  Df Residuals:      </th>  <td>  2009</td>  \n",
       "</tr>\n",
       "<tr>\n",
       "  <th>Method:</th>                 <td>MLE</td>       <th>  Df Model:          </th>  <td>     8</td>  \n",
       "</tr>\n",
       "<tr>\n",
       "  <th>Date:</th>            <td>Thu, 06 Aug 2020</td> <th>  Pseudo R-squ.:     </th>  <td>0.1227</td>  \n",
       "</tr>\n",
       "<tr>\n",
       "  <th>Time:</th>                <td>18:17:50</td>     <th>  Log-Likelihood:    </th> <td> -528.25</td> \n",
       "</tr>\n",
       "<tr>\n",
       "  <th>converged:</th>             <td>True</td>       <th>  LL-Null:           </th> <td> -602.11</td> \n",
       "</tr>\n",
       "<tr>\n",
       "  <th>Covariance Type:</th>     <td>nonrobust</td>    <th>  LLR p-value:       </th> <td>5.884e-28</td>\n",
       "</tr>\n",
       "</table>\n",
       "<table class=\"simpletable\">\n",
       "<tr>\n",
       "     <td></td>        <th>coef</th>     <th>std err</th>      <th>z</th>      <th>P>|z|</th>  <th>[0.025</th>    <th>0.975]</th>  \n",
       "</tr>\n",
       "<tr>\n",
       "  <th>loan</th>    <td>-2.691e-05</td> <td> 1.01e-05</td> <td>   -2.654</td> <td> 0.008</td> <td>-4.68e-05</td> <td>-7.04e-06</td>\n",
       "</tr>\n",
       "<tr>\n",
       "  <th>value</th>   <td>-3.405e-06</td> <td> 2.39e-06</td> <td>   -1.423</td> <td> 0.155</td> <td> -8.1e-06</td> <td> 1.29e-06</td>\n",
       "</tr>\n",
       "<tr>\n",
       "  <th>yoj</th>     <td>   -0.0341</td> <td>    0.012</td> <td>   -2.734</td> <td> 0.006</td> <td>   -0.059</td> <td>   -0.010</td>\n",
       "</tr>\n",
       "<tr>\n",
       "  <th>derog</th>   <td>    0.5803</td> <td>    0.122</td> <td>    4.764</td> <td> 0.000</td> <td>    0.342</td> <td>    0.819</td>\n",
       "</tr>\n",
       "<tr>\n",
       "  <th>delinq</th>  <td>    0.7402</td> <td>    0.086</td> <td>    8.648</td> <td> 0.000</td> <td>    0.572</td> <td>    0.908</td>\n",
       "</tr>\n",
       "<tr>\n",
       "  <th>clage</th>   <td>   -0.0084</td> <td>    0.001</td> <td>   -6.375</td> <td> 0.000</td> <td>   -0.011</td> <td>   -0.006</td>\n",
       "</tr>\n",
       "<tr>\n",
       "  <th>ninq</th>    <td>    0.0265</td> <td>    0.047</td> <td>    0.570</td> <td> 0.569</td> <td>   -0.065</td> <td>    0.118</td>\n",
       "</tr>\n",
       "<tr>\n",
       "  <th>clno</th>    <td>   -0.0507</td> <td>    0.011</td> <td>   -4.826</td> <td> 0.000</td> <td>   -0.071</td> <td>   -0.030</td>\n",
       "</tr>\n",
       "<tr>\n",
       "  <th>debtinc</th> <td>    0.0222</td> <td>    0.007</td> <td>    3.144</td> <td> 0.002</td> <td>    0.008</td> <td>    0.036</td>\n",
       "</tr>\n",
       "</table>"
      ],
      "text/plain": [
       "<class 'statsmodels.iolib.summary.Summary'>\n",
       "\"\"\"\n",
       "                           Logit Regression Results                           \n",
       "==============================================================================\n",
       "Dep. Variable:                    bad   No. Observations:                 2018\n",
       "Model:                          Logit   Df Residuals:                     2009\n",
       "Method:                           MLE   Df Model:                            8\n",
       "Date:                Thu, 06 Aug 2020   Pseudo R-squ.:                  0.1227\n",
       "Time:                        18:17:50   Log-Likelihood:                -528.25\n",
       "converged:                       True   LL-Null:                       -602.11\n",
       "Covariance Type:            nonrobust   LLR p-value:                 5.884e-28\n",
       "==============================================================================\n",
       "                 coef    std err          z      P>|z|      [0.025      0.975]\n",
       "------------------------------------------------------------------------------\n",
       "loan       -2.691e-05   1.01e-05     -2.654      0.008   -4.68e-05   -7.04e-06\n",
       "value      -3.405e-06   2.39e-06     -1.423      0.155    -8.1e-06    1.29e-06\n",
       "yoj           -0.0341      0.012     -2.734      0.006      -0.059      -0.010\n",
       "derog          0.5803      0.122      4.764      0.000       0.342       0.819\n",
       "delinq         0.7402      0.086      8.648      0.000       0.572       0.908\n",
       "clage         -0.0084      0.001     -6.375      0.000      -0.011      -0.006\n",
       "ninq           0.0265      0.047      0.570      0.569      -0.065       0.118\n",
       "clno          -0.0507      0.011     -4.826      0.000      -0.071      -0.030\n",
       "debtinc        0.0222      0.007      3.144      0.002       0.008       0.036\n",
       "==============================================================================\n",
       "\"\"\""
      ]
     },
     "execution_count": 192,
     "metadata": {},
     "output_type": "execute_result"
    }
   ],
   "source": [
    "loj = sm.Logit(y.astype(float), X.astype(float))\n",
    "loj_model = loj.fit()\n",
    "loj_model.summary()"
   ]
  },
  {
   "cell_type": "code",
   "execution_count": 193,
   "metadata": {},
   "outputs": [],
   "source": [
    "y = df['bad']\n",
    "X = df.drop(['bad', 'reason', 'job', 'mortdue','ninq'], axis=1)"
   ]
  },
  {
   "cell_type": "code",
   "execution_count": 194,
   "metadata": {},
   "outputs": [
    {
     "name": "stdout",
     "output_type": "stream",
     "text": [
      "Optimization terminated successfully.\n",
      "         Current function value: 0.261849\n",
      "         Iterations 7\n"
     ]
    },
    {
     "data": {
      "text/html": [
       "<table class=\"simpletable\">\n",
       "<caption>Logit Regression Results</caption>\n",
       "<tr>\n",
       "  <th>Dep. Variable:</th>          <td>bad</td>       <th>  No. Observations:  </th>  <td>  2018</td>  \n",
       "</tr>\n",
       "<tr>\n",
       "  <th>Model:</th>                 <td>Logit</td>      <th>  Df Residuals:      </th>  <td>  2010</td>  \n",
       "</tr>\n",
       "<tr>\n",
       "  <th>Method:</th>                 <td>MLE</td>       <th>  Df Model:          </th>  <td>     7</td>  \n",
       "</tr>\n",
       "<tr>\n",
       "  <th>Date:</th>            <td>Thu, 06 Aug 2020</td> <th>  Pseudo R-squ.:     </th>  <td>0.1224</td>  \n",
       "</tr>\n",
       "<tr>\n",
       "  <th>Time:</th>                <td>18:19:13</td>     <th>  Log-Likelihood:    </th> <td> -528.41</td> \n",
       "</tr>\n",
       "<tr>\n",
       "  <th>converged:</th>             <td>True</td>       <th>  LL-Null:           </th> <td> -602.11</td> \n",
       "</tr>\n",
       "<tr>\n",
       "  <th>Covariance Type:</th>     <td>nonrobust</td>    <th>  LLR p-value:       </th> <td>1.434e-28</td>\n",
       "</tr>\n",
       "</table>\n",
       "<table class=\"simpletable\">\n",
       "<tr>\n",
       "     <td></td>        <th>coef</th>     <th>std err</th>      <th>z</th>      <th>P>|z|</th>  <th>[0.025</th>    <th>0.975]</th>  \n",
       "</tr>\n",
       "<tr>\n",
       "  <th>loan</th>    <td>-2.657e-05</td> <td> 1.01e-05</td> <td>   -2.631</td> <td> 0.009</td> <td>-4.64e-05</td> <td>-6.78e-06</td>\n",
       "</tr>\n",
       "<tr>\n",
       "  <th>value</th>   <td> -3.46e-06</td> <td> 2.39e-06</td> <td>   -1.448</td> <td> 0.148</td> <td>-8.14e-06</td> <td> 1.22e-06</td>\n",
       "</tr>\n",
       "<tr>\n",
       "  <th>yoj</th>     <td>   -0.0341</td> <td>    0.012</td> <td>   -2.737</td> <td> 0.006</td> <td>   -0.059</td> <td>   -0.010</td>\n",
       "</tr>\n",
       "<tr>\n",
       "  <th>derog</th>   <td>    0.5921</td> <td>    0.120</td> <td>    4.943</td> <td> 0.000</td> <td>    0.357</td> <td>    0.827</td>\n",
       "</tr>\n",
       "<tr>\n",
       "  <th>delinq</th>  <td>    0.7394</td> <td>    0.085</td> <td>    8.656</td> <td> 0.000</td> <td>    0.572</td> <td>    0.907</td>\n",
       "</tr>\n",
       "<tr>\n",
       "  <th>clage</th>   <td>   -0.0085</td> <td>    0.001</td> <td>   -6.478</td> <td> 0.000</td> <td>   -0.011</td> <td>   -0.006</td>\n",
       "</tr>\n",
       "<tr>\n",
       "  <th>clno</th>    <td>   -0.0503</td> <td>    0.010</td> <td>   -4.807</td> <td> 0.000</td> <td>   -0.071</td> <td>   -0.030</td>\n",
       "</tr>\n",
       "<tr>\n",
       "  <th>debtinc</th> <td>    0.0230</td> <td>    0.007</td> <td>    3.367</td> <td> 0.001</td> <td>    0.010</td> <td>    0.036</td>\n",
       "</tr>\n",
       "</table>"
      ],
      "text/plain": [
       "<class 'statsmodels.iolib.summary.Summary'>\n",
       "\"\"\"\n",
       "                           Logit Regression Results                           \n",
       "==============================================================================\n",
       "Dep. Variable:                    bad   No. Observations:                 2018\n",
       "Model:                          Logit   Df Residuals:                     2010\n",
       "Method:                           MLE   Df Model:                            7\n",
       "Date:                Thu, 06 Aug 2020   Pseudo R-squ.:                  0.1224\n",
       "Time:                        18:19:13   Log-Likelihood:                -528.41\n",
       "converged:                       True   LL-Null:                       -602.11\n",
       "Covariance Type:            nonrobust   LLR p-value:                 1.434e-28\n",
       "==============================================================================\n",
       "                 coef    std err          z      P>|z|      [0.025      0.975]\n",
       "------------------------------------------------------------------------------\n",
       "loan       -2.657e-05   1.01e-05     -2.631      0.009   -4.64e-05   -6.78e-06\n",
       "value       -3.46e-06   2.39e-06     -1.448      0.148   -8.14e-06    1.22e-06\n",
       "yoj           -0.0341      0.012     -2.737      0.006      -0.059      -0.010\n",
       "derog          0.5921      0.120      4.943      0.000       0.357       0.827\n",
       "delinq         0.7394      0.085      8.656      0.000       0.572       0.907\n",
       "clage         -0.0085      0.001     -6.478      0.000      -0.011      -0.006\n",
       "clno          -0.0503      0.010     -4.807      0.000      -0.071      -0.030\n",
       "debtinc        0.0230      0.007      3.367      0.001       0.010       0.036\n",
       "==============================================================================\n",
       "\"\"\""
      ]
     },
     "execution_count": 194,
     "metadata": {},
     "output_type": "execute_result"
    }
   ],
   "source": [
    "loj = sm.Logit(y.astype(float), X.astype(float))\n",
    "loj_model = loj.fit()\n",
    "loj_model.summary()"
   ]
  },
  {
   "cell_type": "code",
   "execution_count": 195,
   "metadata": {},
   "outputs": [
    {
     "data": {
      "text/plain": [
       "LogisticRegression(C=1.0, class_weight=None, dual=False, fit_intercept=True,\n",
       "                   intercept_scaling=1, l1_ratio=None, max_iter=100,\n",
       "                   multi_class='auto', n_jobs=None, penalty='l2',\n",
       "                   random_state=None, solver='liblinear', tol=0.0001, verbose=0,\n",
       "                   warm_start=False)"
      ]
     },
     "execution_count": 195,
     "metadata": {},
     "output_type": "execute_result"
    }
   ],
   "source": [
    "loj = LogisticRegression(solver = \"liblinear\")\n",
    "loj_model = loj.fit(X,y)\n",
    "loj_model"
   ]
  },
  {
   "cell_type": "code",
   "execution_count": 196,
   "metadata": {},
   "outputs": [],
   "source": [
    "y_pred = loj_model.predict(X)"
   ]
  },
  {
   "cell_type": "code",
   "execution_count": 197,
   "metadata": {},
   "outputs": [
    {
     "data": {
      "text/plain": [
       "array([[1834,    6],\n",
       "       [ 175,    3]], dtype=int64)"
      ]
     },
     "execution_count": 197,
     "metadata": {},
     "output_type": "execute_result"
    }
   ],
   "source": [
    "confusion_matrix(y, y_pred)"
   ]
  },
  {
   "cell_type": "code",
   "execution_count": 198,
   "metadata": {},
   "outputs": [
    {
     "data": {
      "text/plain": [
       "0.9103072348860257"
      ]
     },
     "execution_count": 198,
     "metadata": {},
     "output_type": "execute_result"
    }
   ],
   "source": [
    "accuracy_score(y, y_pred)"
   ]
  },
  {
   "cell_type": "code",
   "execution_count": 24,
   "metadata": {},
   "outputs": [
    {
     "name": "stdout",
     "output_type": "stream",
     "text": [
      "              precision    recall  f1-score   support\n",
      "\n",
      "           0       0.91      1.00      0.95      1840\n",
      "           1       0.00      0.00      0.00       178\n",
      "\n",
      "    accuracy                           0.91      2018\n",
      "   macro avg       0.46      0.50      0.48      2018\n",
      "weighted avg       0.83      0.91      0.87      2018\n",
      "\n"
     ]
    }
   ],
   "source": [
    "print(classification_report(y, y_pred))"
   ]
  },
  {
   "cell_type": "code",
   "execution_count": 202,
   "metadata": {},
   "outputs": [
    {
     "data": {
      "text/plain": [
       "array([0, 0, 0, 0, 0, 0, 0, 0, 0, 0], dtype=int64)"
      ]
     },
     "execution_count": 202,
     "metadata": {},
     "output_type": "execute_result"
    }
   ],
   "source": [
    "loj_model.predict(X)[0:10]"
   ]
  },
  {
   "cell_type": "code",
   "execution_count": 203,
   "metadata": {},
   "outputs": [
    {
     "data": {
      "text/plain": [
       "array([[0.94370331, 0.05629669],\n",
       "       [0.81222381, 0.18777619],\n",
       "       [0.95136974, 0.04863026],\n",
       "       [0.83164303, 0.16835697],\n",
       "       [0.83387435, 0.16612565],\n",
       "       [0.97991904, 0.02008096],\n",
       "       [0.84978998, 0.15021002],\n",
       "       [0.96849456, 0.03150544],\n",
       "       [0.75620069, 0.24379931],\n",
       "       [0.96202149, 0.03797851]])"
      ]
     },
     "execution_count": 203,
     "metadata": {},
     "output_type": "execute_result"
    }
   ],
   "source": [
    "loj_model.predict_proba(X)[0:10][:,0:2]\n"
   ]
  },
  {
   "cell_type": "code",
   "execution_count": 204,
   "metadata": {},
   "outputs": [],
   "source": [
    "y_probs = loj_model.predict_proba(X)\n",
    "y_probs = y_probs[:,1]"
   ]
  },
  {
   "cell_type": "code",
   "execution_count": 205,
   "metadata": {},
   "outputs": [
    {
     "data": {
      "text/plain": [
       "array([0.05629669, 0.18777619, 0.04863026, 0.16835697, 0.16612565,\n",
       "       0.02008096, 0.15021002, 0.03150544, 0.24379931, 0.03797851])"
      ]
     },
     "execution_count": 205,
     "metadata": {},
     "output_type": "execute_result"
    }
   ],
   "source": [
    "y_probs[0:10]"
   ]
  },
  {
   "cell_type": "code",
   "execution_count": 218,
   "metadata": {},
   "outputs": [],
   "source": [
    "y_pred = [1 if i > 0.3 else 0 for i in y_probs]"
   ]
  },
  {
   "cell_type": "code",
   "execution_count": 219,
   "metadata": {},
   "outputs": [
    {
     "data": {
      "text/plain": [
       "[0, 0, 0, 0, 0, 0, 0, 0, 0, 0]"
      ]
     },
     "execution_count": 219,
     "metadata": {},
     "output_type": "execute_result"
    }
   ],
   "source": [
    "y_pred[0:10]"
   ]
  },
  {
   "cell_type": "code",
   "execution_count": 220,
   "metadata": {},
   "outputs": [
    {
     "data": {
      "text/plain": [
       "array([[1796,   44],\n",
       "       [ 151,   27]], dtype=int64)"
      ]
     },
     "execution_count": 220,
     "metadata": {},
     "output_type": "execute_result"
    }
   ],
   "source": [
    "confusion_matrix(y, y_pred)"
   ]
  },
  {
   "cell_type": "code",
   "execution_count": 221,
   "metadata": {},
   "outputs": [
    {
     "data": {
      "text/plain": [
       "0.9033696729435085"
      ]
     },
     "execution_count": 221,
     "metadata": {},
     "output_type": "execute_result"
    }
   ],
   "source": [
    "accuracy_score(y, y_pred)\n",
    "\n",
    "#yeni accuracy değerine bakmak için"
   ]
  },
  {
   "cell_type": "code",
   "execution_count": 222,
   "metadata": {},
   "outputs": [
    {
     "name": "stdout",
     "output_type": "stream",
     "text": [
      "              precision    recall  f1-score   support\n",
      "\n",
      "           0       0.92      0.98      0.95      1840\n",
      "           1       0.38      0.15      0.22       178\n",
      "\n",
      "    accuracy                           0.90      2018\n",
      "   macro avg       0.65      0.56      0.58      2018\n",
      "weighted avg       0.87      0.90      0.88      2018\n",
      "\n"
     ]
    }
   ],
   "source": [
    "print(classification_report(y, y_pred))\n",
    "\n",
    "#yeni sınıflandırma raporu"
   ]
  },
  {
   "cell_type": "code",
   "execution_count": 223,
   "metadata": {},
   "outputs": [
    {
     "data": {
      "image/png": "[encoded data removed]",
      "text/plain": [
       "<Figure size 432x288 with 1 Axes>"
      ]
     },
     "metadata": {
      "needs_background": "light"
     },
     "output_type": "display_data"
    }
   ],
   "source": [
    "logit_roc_auc = roc_auc_score(y, loj_model.predict(X))\n",
    "\n",
    "fpr, tpr, thresholds = roc_curve(y, loj_model.predict_proba(X)[:,1])\n",
    "\n",
    "plt.figure()\n",
    "plt.plot(fpr, tpr, label=\"AUC (area = %0.2f)\" % logit_roc_auc)\n",
    "plt.plot([0,1], [0,1], \"r--\")\n",
    "plt.xlim([0.0, 1.0])\n",
    "plt.ylim([0.0, 1.0])\n",
    "plt.xlabel('False Positive Oranı')\n",
    "plt.ylabel('True Positive Oranı')\n",
    "plt.title('ROC')\n",
    "plt.show()"
   ]
  },
  {
   "cell_type": "code",
   "execution_count": 224,
   "metadata": {},
   "outputs": [],
   "source": [
    "X_train, X_test, y_train, y_test = train_test_split(X, y, test_size = 0.2,\n",
    "                                                   random_state = 42)"
   ]
  },
  {
   "cell_type": "code",
   "execution_count": 225,
   "metadata": {},
   "outputs": [
    {
     "data": {
      "text/plain": [
       "LogisticRegression(C=1.0, class_weight=None, dual=False, fit_intercept=True,\n",
       "                   intercept_scaling=1, l1_ratio=None, max_iter=100,\n",
       "                   multi_class='auto', n_jobs=None, penalty='l2',\n",
       "                   random_state=None, solver='liblinear', tol=0.0001, verbose=0,\n",
       "                   warm_start=False)"
      ]
     },
     "execution_count": 225,
     "metadata": {},
     "output_type": "execute_result"
    }
   ],
   "source": [
    "loj = LogisticRegression(solver = \"liblinear\")\n",
    "loj_model = loj.fit(X_train, y_train)\n",
    "loj_model"
   ]
  },
  {
   "cell_type": "code",
   "execution_count": 226,
   "metadata": {},
   "outputs": [
    {
     "data": {
      "text/plain": [
       "0.9133663366336634"
      ]
     },
     "execution_count": 226,
     "metadata": {},
     "output_type": "execute_result"
    }
   ],
   "source": [
    "accuracy_score(y_test, loj_model.predict(X_test))"
   ]
  },
  {
   "cell_type": "code",
   "execution_count": 227,
   "metadata": {
    "scrolled": true
   },
   "outputs": [
    {
     "name": "stdout",
     "output_type": "stream",
     "text": [
      "              precision    recall  f1-score   support\n",
      "\n",
      "           0       0.91      1.00      0.95       369\n",
      "           1       0.00      0.00      0.00        35\n",
      "\n",
      "    accuracy                           0.91       404\n",
      "   macro avg       0.46      0.50      0.48       404\n",
      "weighted avg       0.83      0.91      0.87       404\n",
      "\n"
     ]
    }
   ],
   "source": [
    "print(classification_report(y_test, loj_model.predict(X_test)))\n"
   ]
  },
  {
   "cell_type": "code",
   "execution_count": 228,
   "metadata": {},
   "outputs": [
    {
     "data": {
      "text/plain": [
       "LogisticRegression(C=1.0, class_weight=None, dual=False, fit_intercept=True,\n",
       "                   intercept_scaling=1, l1_ratio=None, max_iter=100,\n",
       "                   multi_class='auto', n_jobs=None, penalty='l2',\n",
       "                   random_state=None, solver='newton-cg', tol=0.0001, verbose=0,\n",
       "                   warm_start=False)"
      ]
     },
     "execution_count": 228,
     "metadata": {},
     "output_type": "execute_result"
    }
   ],
   "source": [
    "loj = LogisticRegression(solver = \"newton-cg\")\n",
    "loj_model_newton = loj.fit(X_train, y_train)\n",
    "loj_model_newton"
   ]
  },
  {
   "cell_type": "code",
   "execution_count": 229,
   "metadata": {},
   "outputs": [
    {
     "data": {
      "text/plain": [
       "0.9257425742574258"
      ]
     },
     "execution_count": 229,
     "metadata": {},
     "output_type": "execute_result"
    }
   ],
   "source": [
    "accuracy_score(y_test, loj_model_newton.predict(X_test))"
   ]
  },
  {
   "cell_type": "code",
   "execution_count": 230,
   "metadata": {
    "scrolled": true
   },
   "outputs": [
    {
     "name": "stdout",
     "output_type": "stream",
     "text": [
      "              precision    recall  f1-score   support\n",
      "\n",
      "           0       0.93      1.00      0.96       369\n",
      "           1       0.86      0.17      0.29        35\n",
      "\n",
      "    accuracy                           0.93       404\n",
      "   macro avg       0.89      0.58      0.62       404\n",
      "weighted avg       0.92      0.93      0.90       404\n",
      "\n"
     ]
    }
   ],
   "source": [
    "print(classification_report(y_test, loj_model_newton.predict(X_test)))\n"
   ]
  },
  {
   "cell_type": "code",
   "execution_count": 64,
   "metadata": {},
   "outputs": [
    {
     "data": {
      "text/plain": [
       "LogisticRegression(C=1.0, class_weight=None, dual=False, fit_intercept=True,\n",
       "                   intercept_scaling=1, l1_ratio=None, max_iter=100,\n",
       "                   multi_class='auto', n_jobs=None, penalty='l2',\n",
       "                   random_state=None, solver='saga', tol=0.0001, verbose=0,\n",
       "                   warm_start=False)"
      ]
     },
     "execution_count": 64,
     "metadata": {},
     "output_type": "execute_result"
    }
   ],
   "source": [
    "loj = LogisticRegression(solver = \"saga\")\n",
    "loj_model_saga = loj.fit(X_train, y_train)\n",
    "loj_model_saga"
   ]
  },
  {
   "cell_type": "code",
   "execution_count": 65,
   "metadata": {},
   "outputs": [
    {
     "data": {
      "text/plain": [
       "0.9133663366336634"
      ]
     },
     "execution_count": 65,
     "metadata": {},
     "output_type": "execute_result"
    }
   ],
   "source": [
    "accuracy_score(y_test, loj_model_saga.predict(X_test))"
   ]
  },
  {
   "cell_type": "code",
   "execution_count": 66,
   "metadata": {},
   "outputs": [
    {
     "name": "stdout",
     "output_type": "stream",
     "text": [
      "              precision    recall  f1-score   support\n",
      "\n",
      "           0       0.91      1.00      0.95       369\n",
      "           1       0.00      0.00      0.00        35\n",
      "\n",
      "    accuracy                           0.91       404\n",
      "   macro avg       0.46      0.50      0.48       404\n",
      "weighted avg       0.83      0.91      0.87       404\n",
      "\n"
     ]
    }
   ],
   "source": [
    "print(classification_report(y_test, loj_model_saga.predict(X_test)))"
   ]
  },
  {
   "cell_type": "code",
   "execution_count": 67,
   "metadata": {},
   "outputs": [
    {
     "data": {
      "text/plain": [
       "0.9134756097560978"
      ]
     },
     "execution_count": 67,
     "metadata": {},
     "output_type": "execute_result"
    }
   ],
   "source": [
    "cross_val_score(loj_model_saga, X_test, y_test, cv = 10).mean()"
   ]
  },
  {
   "cell_type": "code",
   "execution_count": 56,
   "metadata": {},
   "outputs": [
    {
     "data": {
      "text/plain": [
       "0.9158536585365855"
      ]
     },
     "execution_count": 56,
     "metadata": {},
     "output_type": "execute_result"
    }
   ],
   "source": [
    "cross_val_score(loj_model, X_test, y_test, cv = 10).mean()"
   ]
  },
  {
   "cell_type": "code",
   "execution_count": 63,
   "metadata": {},
   "outputs": [
    {
     "data": {
      "text/plain": [
       "0.9331097560975609"
      ]
     },
     "execution_count": 63,
     "metadata": {},
     "output_type": "execute_result"
    }
   ],
   "source": [
    "cross_val_score(loj_model_newton, X_test, y_test, cv = 10).mean()"
   ]
  },
  {
   "cell_type": "markdown",
   "metadata": {},
   "source": [
    "# PCA"
   ]
  },
  {
   "cell_type": "code",
   "execution_count": 232,
   "metadata": {},
   "outputs": [],
   "source": [
    "finance = pd.read_excel(\"HW_Data_Set.xlsx\")\n",
    "df = finance.copy()\n",
    "df = df.dropna()"
   ]
  },
  {
   "cell_type": "code",
   "execution_count": 233,
   "metadata": {
    "scrolled": false
   },
   "outputs": [
    {
     "name": "stdout",
     "output_type": "stream",
     "text": [
      "<class 'pandas.core.frame.DataFrame'>\n",
      "Int64Index: 6167 entries, 0 to 6166\n",
      "Columns: 136 entries, ind_5 to 90_target\n",
      "dtypes: float64(88), int64(45), object(3)\n",
      "memory usage: 6.4+ MB\n"
     ]
    }
   ],
   "source": [
    "df.info()"
   ]
  },
  {
   "cell_type": "code",
   "execution_count": 234,
   "metadata": {},
   "outputs": [
    {
     "data": {
      "text/html": [
       "<div>\n",
       "<style scoped>\n",
       "    .dataframe tbody tr th:only-of-type {\n",
       "        vertical-align: middle;\n",
       "    }\n",
       "\n",
       "    .dataframe tbody tr th {\n",
       "        vertical-align: top;\n",
       "    }\n",
       "\n",
       "    .dataframe thead th {\n",
       "        text-align: right;\n",
       "    }\n",
       "</style>\n",
       "<table border=\"1\" class=\"dataframe\">\n",
       "  <thead>\n",
       "    <tr style=\"text-align: right;\">\n",
       "      <th></th>\n",
       "      <th>ind_5</th>\n",
       "      <th>ind_6</th>\n",
       "      <th>ind_19</th>\n",
       "      <th>ind_20</th>\n",
       "      <th>ind_21</th>\n",
       "      <th>ind_22</th>\n",
       "      <th>ind_23</th>\n",
       "      <th>ind_40</th>\n",
       "      <th>ind_42</th>\n",
       "      <th>ind_43</th>\n",
       "      <th>...</th>\n",
       "      <th>ind_128</th>\n",
       "      <th>ind_130</th>\n",
       "      <th>ind_132</th>\n",
       "      <th>ind_134</th>\n",
       "      <th>ind_136</th>\n",
       "      <th>ind_217</th>\n",
       "      <th>ind_406</th>\n",
       "      <th>ind_407</th>\n",
       "      <th>ind_410</th>\n",
       "      <th>ind_418</th>\n",
       "    </tr>\n",
       "  </thead>\n",
       "  <tbody>\n",
       "    <tr>\n",
       "      <th>0</th>\n",
       "      <td>19</td>\n",
       "      <td>17</td>\n",
       "      <td>2</td>\n",
       "      <td>15</td>\n",
       "      <td>13</td>\n",
       "      <td>1</td>\n",
       "      <td>56</td>\n",
       "      <td>3</td>\n",
       "      <td>-5</td>\n",
       "      <td>-22</td>\n",
       "      <td>...</td>\n",
       "      <td>-50</td>\n",
       "      <td>-83</td>\n",
       "      <td>-125</td>\n",
       "      <td>6</td>\n",
       "      <td>6</td>\n",
       "      <td>1</td>\n",
       "      <td>-44</td>\n",
       "      <td>-23</td>\n",
       "      <td>-27</td>\n",
       "      <td>-54</td>\n",
       "    </tr>\n",
       "    <tr>\n",
       "      <th>1</th>\n",
       "      <td>24</td>\n",
       "      <td>19</td>\n",
       "      <td>0</td>\n",
       "      <td>11</td>\n",
       "      <td>11</td>\n",
       "      <td>1</td>\n",
       "      <td>63</td>\n",
       "      <td>3</td>\n",
       "      <td>-6</td>\n",
       "      <td>-18</td>\n",
       "      <td>...</td>\n",
       "      <td>-54</td>\n",
       "      <td>-88</td>\n",
       "      <td>-130</td>\n",
       "      <td>5</td>\n",
       "      <td>6</td>\n",
       "      <td>1</td>\n",
       "      <td>-48</td>\n",
       "      <td>-16</td>\n",
       "      <td>-31</td>\n",
       "      <td>-60</td>\n",
       "    </tr>\n",
       "    <tr>\n",
       "      <th>2</th>\n",
       "      <td>30</td>\n",
       "      <td>24</td>\n",
       "      <td>5</td>\n",
       "      <td>15</td>\n",
       "      <td>9</td>\n",
       "      <td>-1</td>\n",
       "      <td>65</td>\n",
       "      <td>3</td>\n",
       "      <td>-4</td>\n",
       "      <td>-11</td>\n",
       "      <td>...</td>\n",
       "      <td>-54</td>\n",
       "      <td>-89</td>\n",
       "      <td>-132</td>\n",
       "      <td>5</td>\n",
       "      <td>3</td>\n",
       "      <td>1</td>\n",
       "      <td>-48</td>\n",
       "      <td>-10</td>\n",
       "      <td>-30</td>\n",
       "      <td>-60</td>\n",
       "    </tr>\n",
       "    <tr>\n",
       "      <th>3</th>\n",
       "      <td>37</td>\n",
       "      <td>30</td>\n",
       "      <td>11</td>\n",
       "      <td>18</td>\n",
       "      <td>8</td>\n",
       "      <td>0</td>\n",
       "      <td>68</td>\n",
       "      <td>3</td>\n",
       "      <td>-5</td>\n",
       "      <td>-10</td>\n",
       "      <td>...</td>\n",
       "      <td>-57</td>\n",
       "      <td>-92</td>\n",
       "      <td>-136</td>\n",
       "      <td>3</td>\n",
       "      <td>5</td>\n",
       "      <td>1</td>\n",
       "      <td>-51</td>\n",
       "      <td>-10</td>\n",
       "      <td>-30</td>\n",
       "      <td>-65</td>\n",
       "    </tr>\n",
       "    <tr>\n",
       "      <th>4</th>\n",
       "      <td>41</td>\n",
       "      <td>37</td>\n",
       "      <td>13</td>\n",
       "      <td>23</td>\n",
       "      <td>10</td>\n",
       "      <td>10</td>\n",
       "      <td>91</td>\n",
       "      <td>2</td>\n",
       "      <td>-18</td>\n",
       "      <td>-26</td>\n",
       "      <td>...</td>\n",
       "      <td>-74</td>\n",
       "      <td>-111</td>\n",
       "      <td>-156</td>\n",
       "      <td>20</td>\n",
       "      <td>21</td>\n",
       "      <td>2</td>\n",
       "      <td>-70</td>\n",
       "      <td>-24</td>\n",
       "      <td>-45</td>\n",
       "      <td>-86</td>\n",
       "    </tr>\n",
       "    <tr>\n",
       "      <th>...</th>\n",
       "      <td>...</td>\n",
       "      <td>...</td>\n",
       "      <td>...</td>\n",
       "      <td>...</td>\n",
       "      <td>...</td>\n",
       "      <td>...</td>\n",
       "      <td>...</td>\n",
       "      <td>...</td>\n",
       "      <td>...</td>\n",
       "      <td>...</td>\n",
       "      <td>...</td>\n",
       "      <td>...</td>\n",
       "      <td>...</td>\n",
       "      <td>...</td>\n",
       "      <td>...</td>\n",
       "      <td>...</td>\n",
       "      <td>...</td>\n",
       "      <td>...</td>\n",
       "      <td>...</td>\n",
       "      <td>...</td>\n",
       "      <td>...</td>\n",
       "    </tr>\n",
       "    <tr>\n",
       "      <th>6162</th>\n",
       "      <td>27</td>\n",
       "      <td>31</td>\n",
       "      <td>13</td>\n",
       "      <td>31</td>\n",
       "      <td>19</td>\n",
       "      <td>-19</td>\n",
       "      <td>37</td>\n",
       "      <td>4</td>\n",
       "      <td>5</td>\n",
       "      <td>8</td>\n",
       "      <td>...</td>\n",
       "      <td>-31</td>\n",
       "      <td>-74</td>\n",
       "      <td>-38</td>\n",
       "      <td>-5</td>\n",
       "      <td>-6</td>\n",
       "      <td>0</td>\n",
       "      <td>-25</td>\n",
       "      <td>7</td>\n",
       "      <td>4</td>\n",
       "      <td>-40</td>\n",
       "    </tr>\n",
       "    <tr>\n",
       "      <th>6163</th>\n",
       "      <td>22</td>\n",
       "      <td>27</td>\n",
       "      <td>11</td>\n",
       "      <td>30</td>\n",
       "      <td>19</td>\n",
       "      <td>-19</td>\n",
       "      <td>36</td>\n",
       "      <td>4</td>\n",
       "      <td>0</td>\n",
       "      <td>4</td>\n",
       "      <td>...</td>\n",
       "      <td>-29</td>\n",
       "      <td>-73</td>\n",
       "      <td>-39</td>\n",
       "      <td>-8</td>\n",
       "      <td>0</td>\n",
       "      <td>0</td>\n",
       "      <td>-23</td>\n",
       "      <td>5</td>\n",
       "      <td>5</td>\n",
       "      <td>-41</td>\n",
       "    </tr>\n",
       "    <tr>\n",
       "      <th>6164</th>\n",
       "      <td>19</td>\n",
       "      <td>22</td>\n",
       "      <td>11</td>\n",
       "      <td>29</td>\n",
       "      <td>19</td>\n",
       "      <td>-13</td>\n",
       "      <td>44</td>\n",
       "      <td>4</td>\n",
       "      <td>-8</td>\n",
       "      <td>-6</td>\n",
       "      <td>...</td>\n",
       "      <td>-35</td>\n",
       "      <td>-81</td>\n",
       "      <td>-47</td>\n",
       "      <td>10</td>\n",
       "      <td>9</td>\n",
       "      <td>0</td>\n",
       "      <td>-30</td>\n",
       "      <td>-6</td>\n",
       "      <td>-3</td>\n",
       "      <td>-49</td>\n",
       "    </tr>\n",
       "    <tr>\n",
       "      <th>6165</th>\n",
       "      <td>19</td>\n",
       "      <td>19</td>\n",
       "      <td>9</td>\n",
       "      <td>27</td>\n",
       "      <td>18</td>\n",
       "      <td>-5</td>\n",
       "      <td>55</td>\n",
       "      <td>4</td>\n",
       "      <td>-9</td>\n",
       "      <td>-15</td>\n",
       "      <td>...</td>\n",
       "      <td>-43</td>\n",
       "      <td>-91</td>\n",
       "      <td>-59</td>\n",
       "      <td>11</td>\n",
       "      <td>12</td>\n",
       "      <td>0</td>\n",
       "      <td>-40</td>\n",
       "      <td>-17</td>\n",
       "      <td>-14</td>\n",
       "      <td>-61</td>\n",
       "    </tr>\n",
       "    <tr>\n",
       "      <th>6166</th>\n",
       "      <td>19</td>\n",
       "      <td>19</td>\n",
       "      <td>6</td>\n",
       "      <td>23</td>\n",
       "      <td>17</td>\n",
       "      <td>-11</td>\n",
       "      <td>47</td>\n",
       "      <td>4</td>\n",
       "      <td>1</td>\n",
       "      <td>-7</td>\n",
       "      <td>...</td>\n",
       "      <td>-36</td>\n",
       "      <td>-85</td>\n",
       "      <td>-54</td>\n",
       "      <td>-1</td>\n",
       "      <td>-5</td>\n",
       "      <td>0</td>\n",
       "      <td>-33</td>\n",
       "      <td>-7</td>\n",
       "      <td>-8</td>\n",
       "      <td>-56</td>\n",
       "    </tr>\n",
       "  </tbody>\n",
       "</table>\n",
       "<p>6167 rows × 45 columns</p>\n",
       "</div>"
      ],
      "text/plain": [
       "      ind_5  ind_6  ind_19  ind_20  ind_21  ind_22  ind_23  ind_40  ind_42  \\\n",
       "0        19     17       2      15      13       1      56       3      -5   \n",
       "1        24     19       0      11      11       1      63       3      -6   \n",
       "2        30     24       5      15       9      -1      65       3      -4   \n",
       "3        37     30      11      18       8       0      68       3      -5   \n",
       "4        41     37      13      23      10      10      91       2     -18   \n",
       "...     ...    ...     ...     ...     ...     ...     ...     ...     ...   \n",
       "6162     27     31      13      31      19     -19      37       4       5   \n",
       "6163     22     27      11      30      19     -19      36       4       0   \n",
       "6164     19     22      11      29      19     -13      44       4      -8   \n",
       "6165     19     19       9      27      18      -5      55       4      -9   \n",
       "6166     19     19       6      23      17     -11      47       4       1   \n",
       "\n",
       "      ind_43  ...  ind_128  ind_130  ind_132  ind_134  ind_136  ind_217  \\\n",
       "0        -22  ...      -50      -83     -125        6        6        1   \n",
       "1        -18  ...      -54      -88     -130        5        6        1   \n",
       "2        -11  ...      -54      -89     -132        5        3        1   \n",
       "3        -10  ...      -57      -92     -136        3        5        1   \n",
       "4        -26  ...      -74     -111     -156       20       21        2   \n",
       "...      ...  ...      ...      ...      ...      ...      ...      ...   \n",
       "6162       8  ...      -31      -74      -38       -5       -6        0   \n",
       "6163       4  ...      -29      -73      -39       -8        0        0   \n",
       "6164      -6  ...      -35      -81      -47       10        9        0   \n",
       "6165     -15  ...      -43      -91      -59       11       12        0   \n",
       "6166      -7  ...      -36      -85      -54       -1       -5        0   \n",
       "\n",
       "      ind_406  ind_407  ind_410  ind_418  \n",
       "0         -44      -23      -27      -54  \n",
       "1         -48      -16      -31      -60  \n",
       "2         -48      -10      -30      -60  \n",
       "3         -51      -10      -30      -65  \n",
       "4         -70      -24      -45      -86  \n",
       "...       ...      ...      ...      ...  \n",
       "6162      -25        7        4      -40  \n",
       "6163      -23        5        5      -41  \n",
       "6164      -30       -6       -3      -49  \n",
       "6165      -40      -17      -14      -61  \n",
       "6166      -33       -7       -8      -56  \n",
       "\n",
       "[6167 rows x 45 columns]"
      ]
     },
     "execution_count": 234,
     "metadata": {},
     "output_type": "execute_result"
    }
   ],
   "source": [
    "df.select_dtypes(include=[\"int64\"])"
   ]
  },
  {
   "cell_type": "code",
   "execution_count": 235,
   "metadata": {},
   "outputs": [
    {
     "data": {
      "text/html": [
       "<div>\n",
       "<style scoped>\n",
       "    .dataframe tbody tr th:only-of-type {\n",
       "        vertical-align: middle;\n",
       "    }\n",
       "\n",
       "    .dataframe tbody tr th {\n",
       "        vertical-align: top;\n",
       "    }\n",
       "\n",
       "    .dataframe thead th {\n",
       "        text-align: right;\n",
       "    }\n",
       "</style>\n",
       "<table border=\"1\" class=\"dataframe\">\n",
       "  <thead>\n",
       "    <tr style=\"text-align: right;\">\n",
       "      <th></th>\n",
       "      <th>ind_5</th>\n",
       "      <th>ind_6</th>\n",
       "      <th>ind_8</th>\n",
       "      <th>ind_9</th>\n",
       "      <th>ind_10</th>\n",
       "      <th>ind_12</th>\n",
       "      <th>ind_13</th>\n",
       "      <th>ind_14</th>\n",
       "      <th>ind_15</th>\n",
       "      <th>ind_16</th>\n",
       "      <th>...</th>\n",
       "      <th>ind_416</th>\n",
       "      <th>ind_418</th>\n",
       "      <th>ind_420</th>\n",
       "      <th>ind_422</th>\n",
       "      <th>ind_424</th>\n",
       "      <th>ind_426</th>\n",
       "      <th>ind_428</th>\n",
       "      <th>20_target</th>\n",
       "      <th>50_target</th>\n",
       "      <th>90_target</th>\n",
       "    </tr>\n",
       "  </thead>\n",
       "  <tbody>\n",
       "    <tr>\n",
       "      <th>0</th>\n",
       "      <td>19</td>\n",
       "      <td>17</td>\n",
       "      <td>100.000000</td>\n",
       "      <td>85.714286</td>\n",
       "      <td>14.285714</td>\n",
       "      <td>72.363515</td>\n",
       "      <td>60.808814</td>\n",
       "      <td>23.80</td>\n",
       "      <td>17.62</td>\n",
       "      <td>11.73</td>\n",
       "      <td>...</td>\n",
       "      <td>-49.6</td>\n",
       "      <td>-54</td>\n",
       "      <td>-152</td>\n",
       "      <td>-353</td>\n",
       "      <td>1.000000</td>\n",
       "      <td>0.498547</td>\n",
       "      <td>0.701906</td>\n",
       "      <td>15.135802</td>\n",
       "      <td>35.625252</td>\n",
       "      <td>36.997753</td>\n",
       "    </tr>\n",
       "    <tr>\n",
       "      <th>1</th>\n",
       "      <td>24</td>\n",
       "      <td>19</td>\n",
       "      <td>100.000000</td>\n",
       "      <td>78.571429</td>\n",
       "      <td>21.428571</td>\n",
       "      <td>74.275883</td>\n",
       "      <td>64.366798</td>\n",
       "      <td>11.45</td>\n",
       "      <td>18.16</td>\n",
       "      <td>12.22</td>\n",
       "      <td>...</td>\n",
       "      <td>-55.6</td>\n",
       "      <td>-60</td>\n",
       "      <td>-158</td>\n",
       "      <td>-359</td>\n",
       "      <td>1.000000</td>\n",
       "      <td>0.537088</td>\n",
       "      <td>0.690833</td>\n",
       "      <td>15.143348</td>\n",
       "      <td>35.643013</td>\n",
       "      <td>37.016198</td>\n",
       "    </tr>\n",
       "    <tr>\n",
       "      <th>2</th>\n",
       "      <td>30</td>\n",
       "      <td>24</td>\n",
       "      <td>100.000000</td>\n",
       "      <td>71.428571</td>\n",
       "      <td>28.571429</td>\n",
       "      <td>75.140402</td>\n",
       "      <td>65.915803</td>\n",
       "      <td>8.75</td>\n",
       "      <td>17.86</td>\n",
       "      <td>12.28</td>\n",
       "      <td>...</td>\n",
       "      <td>-58.4</td>\n",
       "      <td>-60</td>\n",
       "      <td>-160</td>\n",
       "      <td>-362</td>\n",
       "      <td>1.000000</td>\n",
       "      <td>0.615169</td>\n",
       "      <td>0.693040</td>\n",
       "      <td>15.146870</td>\n",
       "      <td>35.651301</td>\n",
       "      <td>-37.024805</td>\n",
       "    </tr>\n",
       "    <tr>\n",
       "      <th>3</th>\n",
       "      <td>37</td>\n",
       "      <td>30</td>\n",
       "      <td>100.000000</td>\n",
       "      <td>64.285714</td>\n",
       "      <td>35.714286</td>\n",
       "      <td>76.677846</td>\n",
       "      <td>68.584234</td>\n",
       "      <td>7.80</td>\n",
       "      <td>14.76</td>\n",
       "      <td>12.61</td>\n",
       "      <td>...</td>\n",
       "      <td>-61.8</td>\n",
       "      <td>-65</td>\n",
       "      <td>-166</td>\n",
       "      <td>-367</td>\n",
       "      <td>1.000000</td>\n",
       "      <td>0.661517</td>\n",
       "      <td>0.673418</td>\n",
       "      <td>15.153283</td>\n",
       "      <td>0.000000</td>\n",
       "      <td>-37.040483</td>\n",
       "    </tr>\n",
       "    <tr>\n",
       "      <th>4</th>\n",
       "      <td>41</td>\n",
       "      <td>37</td>\n",
       "      <td>100.000000</td>\n",
       "      <td>57.142857</td>\n",
       "      <td>42.857143</td>\n",
       "      <td>81.603007</td>\n",
       "      <td>76.455495</td>\n",
       "      <td>14.90</td>\n",
       "      <td>11.92</td>\n",
       "      <td>14.25</td>\n",
       "      <td>...</td>\n",
       "      <td>-79.8</td>\n",
       "      <td>-86</td>\n",
       "      <td>-186</td>\n",
       "      <td>-388</td>\n",
       "      <td>1.000000</td>\n",
       "      <td>0.747204</td>\n",
       "      <td>0.700522</td>\n",
       "      <td>-15.179065</td>\n",
       "      <td>-35.727079</td>\n",
       "      <td>-37.103503</td>\n",
       "    </tr>\n",
       "    <tr>\n",
       "      <th>...</th>\n",
       "      <td>...</td>\n",
       "      <td>...</td>\n",
       "      <td>...</td>\n",
       "      <td>...</td>\n",
       "      <td>...</td>\n",
       "      <td>...</td>\n",
       "      <td>...</td>\n",
       "      <td>...</td>\n",
       "      <td>...</td>\n",
       "      <td>...</td>\n",
       "      <td>...</td>\n",
       "      <td>...</td>\n",
       "      <td>...</td>\n",
       "      <td>...</td>\n",
       "      <td>...</td>\n",
       "      <td>...</td>\n",
       "      <td>...</td>\n",
       "      <td>...</td>\n",
       "      <td>...</td>\n",
       "      <td>...</td>\n",
       "      <td>...</td>\n",
       "    </tr>\n",
       "    <tr>\n",
       "      <th>6162</th>\n",
       "      <td>27</td>\n",
       "      <td>31</td>\n",
       "      <td>57.142857</td>\n",
       "      <td>28.571429</td>\n",
       "      <td>28.571429</td>\n",
       "      <td>60.010531</td>\n",
       "      <td>32.362582</td>\n",
       "      <td>9.70</td>\n",
       "      <td>9.38</td>\n",
       "      <td>13.66</td>\n",
       "      <td>...</td>\n",
       "      <td>-28.2</td>\n",
       "      <td>-40</td>\n",
       "      <td>-11</td>\n",
       "      <td>-270</td>\n",
       "      <td>0.270270</td>\n",
       "      <td>0.840000</td>\n",
       "      <td>0.600846</td>\n",
       "      <td>14.673247</td>\n",
       "      <td>-34.536532</td>\n",
       "      <td>-35.867088</td>\n",
       "    </tr>\n",
       "    <tr>\n",
       "      <th>6163</th>\n",
       "      <td>22</td>\n",
       "      <td>27</td>\n",
       "      <td>50.000000</td>\n",
       "      <td>21.428571</td>\n",
       "      <td>28.571429</td>\n",
       "      <td>60.209998</td>\n",
       "      <td>32.914628</td>\n",
       "      <td>7.65</td>\n",
       "      <td>8.84</td>\n",
       "      <td>11.79</td>\n",
       "      <td>...</td>\n",
       "      <td>-28.6</td>\n",
       "      <td>-41</td>\n",
       "      <td>-12</td>\n",
       "      <td>-271</td>\n",
       "      <td>0.000000</td>\n",
       "      <td>0.737470</td>\n",
       "      <td>0.527673</td>\n",
       "      <td>14.673750</td>\n",
       "      <td>-34.537716</td>\n",
       "      <td>-35.868318</td>\n",
       "    </tr>\n",
       "    <tr>\n",
       "      <th>6164</th>\n",
       "      <td>19</td>\n",
       "      <td>22</td>\n",
       "      <td>42.857143</td>\n",
       "      <td>14.285714</td>\n",
       "      <td>28.571429</td>\n",
       "      <td>64.329611</td>\n",
       "      <td>43.550592</td>\n",
       "      <td>8.95</td>\n",
       "      <td>9.06</td>\n",
       "      <td>10.30</td>\n",
       "      <td>...</td>\n",
       "      <td>-37.2</td>\n",
       "      <td>-49</td>\n",
       "      <td>-21</td>\n",
       "      <td>-280</td>\n",
       "      <td>0.769231</td>\n",
       "      <td>0.632107</td>\n",
       "      <td>0.551759</td>\n",
       "      <td>-14.684566</td>\n",
       "      <td>-34.563173</td>\n",
       "      <td>-35.894755</td>\n",
       "    </tr>\n",
       "    <tr>\n",
       "      <th>6165</th>\n",
       "      <td>19</td>\n",
       "      <td>19</td>\n",
       "      <td>100.000000</td>\n",
       "      <td>7.142857</td>\n",
       "      <td>92.857143</td>\n",
       "      <td>69.027764</td>\n",
       "      <td>54.130755</td>\n",
       "      <td>13.55</td>\n",
       "      <td>10.36</td>\n",
       "      <td>10.55</td>\n",
       "      <td>...</td>\n",
       "      <td>-48.9</td>\n",
       "      <td>-61</td>\n",
       "      <td>-33</td>\n",
       "      <td>-292</td>\n",
       "      <td>1.000000</td>\n",
       "      <td>0.733010</td>\n",
       "      <td>0.591584</td>\n",
       "      <td>-14.699280</td>\n",
       "      <td>-34.597806</td>\n",
       "      <td>-35.930723</td>\n",
       "    </tr>\n",
       "    <tr>\n",
       "      <th>6166</th>\n",
       "      <td>19</td>\n",
       "      <td>19</td>\n",
       "      <td>92.857143</td>\n",
       "      <td>0.000000</td>\n",
       "      <td>92.857143</td>\n",
       "      <td>65.157180</td>\n",
       "      <td>45.524973</td>\n",
       "      <td>11.45</td>\n",
       "      <td>10.16</td>\n",
       "      <td>9.68</td>\n",
       "      <td>...</td>\n",
       "      <td>-44.0</td>\n",
       "      <td>-56</td>\n",
       "      <td>-28</td>\n",
       "      <td>-288</td>\n",
       "      <td>1.000000</td>\n",
       "      <td>0.687500</td>\n",
       "      <td>0.593936</td>\n",
       "      <td>-14.693117</td>\n",
       "      <td>-34.583301</td>\n",
       "      <td>-35.915659</td>\n",
       "    </tr>\n",
       "  </tbody>\n",
       "</table>\n",
       "<p>6167 rows × 136 columns</p>\n",
       "</div>"
      ],
      "text/plain": [
       "      ind_5  ind_6       ind_8      ind_9     ind_10     ind_12     ind_13  \\\n",
       "0        19     17  100.000000  85.714286  14.285714  72.363515  60.808814   \n",
       "1        24     19  100.000000  78.571429  21.428571  74.275883  64.366798   \n",
       "2        30     24  100.000000  71.428571  28.571429  75.140402  65.915803   \n",
       "3        37     30  100.000000  64.285714  35.714286  76.677846  68.584234   \n",
       "4        41     37  100.000000  57.142857  42.857143  81.603007  76.455495   \n",
       "...     ...    ...         ...        ...        ...        ...        ...   \n",
       "6162     27     31   57.142857  28.571429  28.571429  60.010531  32.362582   \n",
       "6163     22     27   50.000000  21.428571  28.571429  60.209998  32.914628   \n",
       "6164     19     22   42.857143  14.285714  28.571429  64.329611  43.550592   \n",
       "6165     19     19  100.000000   7.142857  92.857143  69.027764  54.130755   \n",
       "6166     19     19   92.857143   0.000000  92.857143  65.157180  45.524973   \n",
       "\n",
       "      ind_14  ind_15  ind_16  ...  ind_416  ind_418  ind_420  ind_422  \\\n",
       "0      23.80   17.62   11.73  ...    -49.6      -54     -152     -353   \n",
       "1      11.45   18.16   12.22  ...    -55.6      -60     -158     -359   \n",
       "2       8.75   17.86   12.28  ...    -58.4      -60     -160     -362   \n",
       "3       7.80   14.76   12.61  ...    -61.8      -65     -166     -367   \n",
       "4      14.90   11.92   14.25  ...    -79.8      -86     -186     -388   \n",
       "...      ...     ...     ...  ...      ...      ...      ...      ...   \n",
       "6162    9.70    9.38   13.66  ...    -28.2      -40      -11     -270   \n",
       "6163    7.65    8.84   11.79  ...    -28.6      -41      -12     -271   \n",
       "6164    8.95    9.06   10.30  ...    -37.2      -49      -21     -280   \n",
       "6165   13.55   10.36   10.55  ...    -48.9      -61      -33     -292   \n",
       "6166   11.45   10.16    9.68  ...    -44.0      -56      -28     -288   \n",
       "\n",
       "       ind_424   ind_426   ind_428  20_target  50_target  90_target  \n",
       "0     1.000000  0.498547  0.701906  15.135802  35.625252  36.997753  \n",
       "1     1.000000  0.537088  0.690833  15.143348  35.643013  37.016198  \n",
       "2     1.000000  0.615169  0.693040  15.146870  35.651301 -37.024805  \n",
       "3     1.000000  0.661517  0.673418  15.153283   0.000000 -37.040483  \n",
       "4     1.000000  0.747204  0.700522 -15.179065 -35.727079 -37.103503  \n",
       "...        ...       ...       ...        ...        ...        ...  \n",
       "6162  0.270270  0.840000  0.600846  14.673247 -34.536532 -35.867088  \n",
       "6163  0.000000  0.737470  0.527673  14.673750 -34.537716 -35.868318  \n",
       "6164  0.769231  0.632107  0.551759 -14.684566 -34.563173 -35.894755  \n",
       "6165  1.000000  0.733010  0.591584 -14.699280 -34.597806 -35.930723  \n",
       "6166  1.000000  0.687500  0.593936 -14.693117 -34.583301 -35.915659  \n",
       "\n",
       "[6167 rows x 136 columns]"
      ]
     },
     "execution_count": 235,
     "metadata": {},
     "output_type": "execute_result"
    }
   ],
   "source": [
    "df.replace('?', 0, inplace=True)\n",
    "df"
   ]
  },
  {
   "cell_type": "code",
   "execution_count": 236,
   "metadata": {},
   "outputs": [
    {
     "data": {
      "text/html": [
       "<div>\n",
       "<style scoped>\n",
       "    .dataframe tbody tr th:only-of-type {\n",
       "        vertical-align: middle;\n",
       "    }\n",
       "\n",
       "    .dataframe tbody tr th {\n",
       "        vertical-align: top;\n",
       "    }\n",
       "\n",
       "    .dataframe thead th {\n",
       "        text-align: right;\n",
       "    }\n",
       "</style>\n",
       "<table border=\"1\" class=\"dataframe\">\n",
       "  <thead>\n",
       "    <tr style=\"text-align: right;\">\n",
       "      <th></th>\n",
       "      <th>ind_109_GREEN</th>\n",
       "      <th>ind_109_RED</th>\n",
       "    </tr>\n",
       "  </thead>\n",
       "  <tbody>\n",
       "    <tr>\n",
       "      <th>0</th>\n",
       "      <td>1</td>\n",
       "      <td>0</td>\n",
       "    </tr>\n",
       "    <tr>\n",
       "      <th>1</th>\n",
       "      <td>1</td>\n",
       "      <td>0</td>\n",
       "    </tr>\n",
       "    <tr>\n",
       "      <th>2</th>\n",
       "      <td>1</td>\n",
       "      <td>0</td>\n",
       "    </tr>\n",
       "    <tr>\n",
       "      <th>3</th>\n",
       "      <td>1</td>\n",
       "      <td>0</td>\n",
       "    </tr>\n",
       "    <tr>\n",
       "      <th>4</th>\n",
       "      <td>1</td>\n",
       "      <td>0</td>\n",
       "    </tr>\n",
       "  </tbody>\n",
       "</table>\n",
       "</div>"
      ],
      "text/plain": [
       "   ind_109_GREEN  ind_109_RED\n",
       "0              1            0\n",
       "1              1            0\n",
       "2              1            0\n",
       "3              1            0\n",
       "4              1            0"
      ]
     },
     "execution_count": 236,
     "metadata": {},
     "output_type": "execute_result"
    }
   ],
   "source": [
    "dms = pd.get_dummies(df[['ind_109']])\n",
    "dms.head()"
   ]
  },
  {
   "cell_type": "code",
   "execution_count": 237,
   "metadata": {},
   "outputs": [
    {
     "data": {
      "text/html": [
       "<div>\n",
       "<style scoped>\n",
       "    .dataframe tbody tr th:only-of-type {\n",
       "        vertical-align: middle;\n",
       "    }\n",
       "\n",
       "    .dataframe tbody tr th {\n",
       "        vertical-align: top;\n",
       "    }\n",
       "\n",
       "    .dataframe thead th {\n",
       "        text-align: right;\n",
       "    }\n",
       "</style>\n",
       "<table border=\"1\" class=\"dataframe\">\n",
       "  <thead>\n",
       "    <tr style=\"text-align: right;\">\n",
       "      <th></th>\n",
       "      <th>ind_5</th>\n",
       "      <th>ind_6</th>\n",
       "      <th>ind_8</th>\n",
       "      <th>ind_9</th>\n",
       "      <th>ind_10</th>\n",
       "      <th>ind_12</th>\n",
       "      <th>ind_13</th>\n",
       "      <th>ind_14</th>\n",
       "      <th>ind_15</th>\n",
       "      <th>ind_16</th>\n",
       "      <th>...</th>\n",
       "      <th>ind_410</th>\n",
       "      <th>ind_412</th>\n",
       "      <th>ind_414</th>\n",
       "      <th>ind_416</th>\n",
       "      <th>ind_418</th>\n",
       "      <th>ind_420</th>\n",
       "      <th>ind_422</th>\n",
       "      <th>ind_424</th>\n",
       "      <th>ind_426</th>\n",
       "      <th>ind_428</th>\n",
       "    </tr>\n",
       "  </thead>\n",
       "  <tbody>\n",
       "    <tr>\n",
       "      <th>0</th>\n",
       "      <td>19.0</td>\n",
       "      <td>17.0</td>\n",
       "      <td>100.0</td>\n",
       "      <td>85.714286</td>\n",
       "      <td>14.285714</td>\n",
       "      <td>72.363515</td>\n",
       "      <td>60.808814</td>\n",
       "      <td>23.80</td>\n",
       "      <td>17.62</td>\n",
       "      <td>11.73</td>\n",
       "      <td>...</td>\n",
       "      <td>-27.0</td>\n",
       "      <td>0.002371</td>\n",
       "      <td>2.0</td>\n",
       "      <td>-49.6</td>\n",
       "      <td>-54.0</td>\n",
       "      <td>-152.0</td>\n",
       "      <td>-353.0</td>\n",
       "      <td>1.0</td>\n",
       "      <td>0.498547</td>\n",
       "      <td>0.701906</td>\n",
       "    </tr>\n",
       "    <tr>\n",
       "      <th>1</th>\n",
       "      <td>24.0</td>\n",
       "      <td>19.0</td>\n",
       "      <td>100.0</td>\n",
       "      <td>78.571429</td>\n",
       "      <td>21.428571</td>\n",
       "      <td>74.275883</td>\n",
       "      <td>64.366798</td>\n",
       "      <td>11.45</td>\n",
       "      <td>18.16</td>\n",
       "      <td>12.22</td>\n",
       "      <td>...</td>\n",
       "      <td>-31.0</td>\n",
       "      <td>0.003074</td>\n",
       "      <td>0.8</td>\n",
       "      <td>-55.6</td>\n",
       "      <td>-60.0</td>\n",
       "      <td>-158.0</td>\n",
       "      <td>-359.0</td>\n",
       "      <td>1.0</td>\n",
       "      <td>0.537088</td>\n",
       "      <td>0.690833</td>\n",
       "    </tr>\n",
       "    <tr>\n",
       "      <th>2</th>\n",
       "      <td>30.0</td>\n",
       "      <td>24.0</td>\n",
       "      <td>100.0</td>\n",
       "      <td>71.428571</td>\n",
       "      <td>28.571429</td>\n",
       "      <td>75.140402</td>\n",
       "      <td>65.915803</td>\n",
       "      <td>8.75</td>\n",
       "      <td>17.86</td>\n",
       "      <td>12.28</td>\n",
       "      <td>...</td>\n",
       "      <td>-30.0</td>\n",
       "      <td>0.003561</td>\n",
       "      <td>2.7</td>\n",
       "      <td>-58.4</td>\n",
       "      <td>-60.0</td>\n",
       "      <td>-160.0</td>\n",
       "      <td>-362.0</td>\n",
       "      <td>1.0</td>\n",
       "      <td>0.615169</td>\n",
       "      <td>0.693040</td>\n",
       "    </tr>\n",
       "    <tr>\n",
       "      <th>3</th>\n",
       "      <td>37.0</td>\n",
       "      <td>30.0</td>\n",
       "      <td>100.0</td>\n",
       "      <td>64.285714</td>\n",
       "      <td>35.714286</td>\n",
       "      <td>76.677846</td>\n",
       "      <td>68.584234</td>\n",
       "      <td>7.80</td>\n",
       "      <td>14.76</td>\n",
       "      <td>12.61</td>\n",
       "      <td>...</td>\n",
       "      <td>-30.0</td>\n",
       "      <td>0.004366</td>\n",
       "      <td>0.9</td>\n",
       "      <td>-61.8</td>\n",
       "      <td>-65.0</td>\n",
       "      <td>-166.0</td>\n",
       "      <td>-367.0</td>\n",
       "      <td>1.0</td>\n",
       "      <td>0.661517</td>\n",
       "      <td>0.673418</td>\n",
       "    </tr>\n",
       "    <tr>\n",
       "      <th>4</th>\n",
       "      <td>41.0</td>\n",
       "      <td>37.0</td>\n",
       "      <td>100.0</td>\n",
       "      <td>57.142857</td>\n",
       "      <td>42.857143</td>\n",
       "      <td>81.603007</td>\n",
       "      <td>76.455495</td>\n",
       "      <td>14.90</td>\n",
       "      <td>11.92</td>\n",
       "      <td>14.25</td>\n",
       "      <td>...</td>\n",
       "      <td>-45.0</td>\n",
       "      <td>0.004198</td>\n",
       "      <td>0.1</td>\n",
       "      <td>-79.8</td>\n",
       "      <td>-86.0</td>\n",
       "      <td>-186.0</td>\n",
       "      <td>-388.0</td>\n",
       "      <td>1.0</td>\n",
       "      <td>0.747204</td>\n",
       "      <td>0.700522</td>\n",
       "    </tr>\n",
       "  </tbody>\n",
       "</table>\n",
       "<p>5 rows × 132 columns</p>\n",
       "</div>"
      ],
      "text/plain": [
       "   ind_5  ind_6  ind_8      ind_9     ind_10     ind_12     ind_13  ind_14  \\\n",
       "0   19.0   17.0  100.0  85.714286  14.285714  72.363515  60.808814   23.80   \n",
       "1   24.0   19.0  100.0  78.571429  21.428571  74.275883  64.366798   11.45   \n",
       "2   30.0   24.0  100.0  71.428571  28.571429  75.140402  65.915803    8.75   \n",
       "3   37.0   30.0  100.0  64.285714  35.714286  76.677846  68.584234    7.80   \n",
       "4   41.0   37.0  100.0  57.142857  42.857143  81.603007  76.455495   14.90   \n",
       "\n",
       "   ind_15  ind_16  ...  ind_410   ind_412  ind_414  ind_416  ind_418  ind_420  \\\n",
       "0   17.62   11.73  ...    -27.0  0.002371      2.0    -49.6    -54.0   -152.0   \n",
       "1   18.16   12.22  ...    -31.0  0.003074      0.8    -55.6    -60.0   -158.0   \n",
       "2   17.86   12.28  ...    -30.0  0.003561      2.7    -58.4    -60.0   -160.0   \n",
       "3   14.76   12.61  ...    -30.0  0.004366      0.9    -61.8    -65.0   -166.0   \n",
       "4   11.92   14.25  ...    -45.0  0.004198      0.1    -79.8    -86.0   -186.0   \n",
       "\n",
       "   ind_422  ind_424   ind_426   ind_428  \n",
       "0   -353.0      1.0  0.498547  0.701906  \n",
       "1   -359.0      1.0  0.537088  0.690833  \n",
       "2   -362.0      1.0  0.615169  0.693040  \n",
       "3   -367.0      1.0  0.661517  0.673418  \n",
       "4   -388.0      1.0  0.747204  0.700522  \n",
       "\n",
       "[5 rows x 132 columns]"
      ]
     },
     "execution_count": 237,
     "metadata": {},
     "output_type": "execute_result"
    }
   ],
   "source": [
    "y = df[\"90_target\"]\n",
    "X_ = df.drop([\"90_target\", \"50_target\", \"20_target\", \"ind_109\"], axis = 1).astype(\"float64\")\n",
    "X_.head()"
   ]
  },
  {
   "cell_type": "code",
   "execution_count": 238,
   "metadata": {},
   "outputs": [
    {
     "data": {
      "text/html": [
       "<div>\n",
       "<style scoped>\n",
       "    .dataframe tbody tr th:only-of-type {\n",
       "        vertical-align: middle;\n",
       "    }\n",
       "\n",
       "    .dataframe tbody tr th {\n",
       "        vertical-align: top;\n",
       "    }\n",
       "\n",
       "    .dataframe thead th {\n",
       "        text-align: right;\n",
       "    }\n",
       "</style>\n",
       "<table border=\"1\" class=\"dataframe\">\n",
       "  <thead>\n",
       "    <tr style=\"text-align: right;\">\n",
       "      <th></th>\n",
       "      <th>ind_5</th>\n",
       "      <th>ind_6</th>\n",
       "      <th>ind_8</th>\n",
       "      <th>ind_9</th>\n",
       "      <th>ind_10</th>\n",
       "      <th>ind_12</th>\n",
       "      <th>ind_13</th>\n",
       "      <th>ind_14</th>\n",
       "      <th>ind_15</th>\n",
       "      <th>ind_16</th>\n",
       "      <th>...</th>\n",
       "      <th>ind_414</th>\n",
       "      <th>ind_416</th>\n",
       "      <th>ind_418</th>\n",
       "      <th>ind_420</th>\n",
       "      <th>ind_422</th>\n",
       "      <th>ind_424</th>\n",
       "      <th>ind_426</th>\n",
       "      <th>ind_428</th>\n",
       "      <th>ind_109_GREEN</th>\n",
       "      <th>ind_109_RED</th>\n",
       "    </tr>\n",
       "  </thead>\n",
       "  <tbody>\n",
       "    <tr>\n",
       "      <th>0</th>\n",
       "      <td>19.0</td>\n",
       "      <td>17.0</td>\n",
       "      <td>100.0</td>\n",
       "      <td>85.714286</td>\n",
       "      <td>14.285714</td>\n",
       "      <td>72.363515</td>\n",
       "      <td>60.808814</td>\n",
       "      <td>23.80</td>\n",
       "      <td>17.62</td>\n",
       "      <td>11.73</td>\n",
       "      <td>...</td>\n",
       "      <td>2.0</td>\n",
       "      <td>-49.6</td>\n",
       "      <td>-54.0</td>\n",
       "      <td>-152.0</td>\n",
       "      <td>-353.0</td>\n",
       "      <td>1.0</td>\n",
       "      <td>0.498547</td>\n",
       "      <td>0.701906</td>\n",
       "      <td>1</td>\n",
       "      <td>0</td>\n",
       "    </tr>\n",
       "    <tr>\n",
       "      <th>1</th>\n",
       "      <td>24.0</td>\n",
       "      <td>19.0</td>\n",
       "      <td>100.0</td>\n",
       "      <td>78.571429</td>\n",
       "      <td>21.428571</td>\n",
       "      <td>74.275883</td>\n",
       "      <td>64.366798</td>\n",
       "      <td>11.45</td>\n",
       "      <td>18.16</td>\n",
       "      <td>12.22</td>\n",
       "      <td>...</td>\n",
       "      <td>0.8</td>\n",
       "      <td>-55.6</td>\n",
       "      <td>-60.0</td>\n",
       "      <td>-158.0</td>\n",
       "      <td>-359.0</td>\n",
       "      <td>1.0</td>\n",
       "      <td>0.537088</td>\n",
       "      <td>0.690833</td>\n",
       "      <td>1</td>\n",
       "      <td>0</td>\n",
       "    </tr>\n",
       "    <tr>\n",
       "      <th>2</th>\n",
       "      <td>30.0</td>\n",
       "      <td>24.0</td>\n",
       "      <td>100.0</td>\n",
       "      <td>71.428571</td>\n",
       "      <td>28.571429</td>\n",
       "      <td>75.140402</td>\n",
       "      <td>65.915803</td>\n",
       "      <td>8.75</td>\n",
       "      <td>17.86</td>\n",
       "      <td>12.28</td>\n",
       "      <td>...</td>\n",
       "      <td>2.7</td>\n",
       "      <td>-58.4</td>\n",
       "      <td>-60.0</td>\n",
       "      <td>-160.0</td>\n",
       "      <td>-362.0</td>\n",
       "      <td>1.0</td>\n",
       "      <td>0.615169</td>\n",
       "      <td>0.693040</td>\n",
       "      <td>1</td>\n",
       "      <td>0</td>\n",
       "    </tr>\n",
       "    <tr>\n",
       "      <th>3</th>\n",
       "      <td>37.0</td>\n",
       "      <td>30.0</td>\n",
       "      <td>100.0</td>\n",
       "      <td>64.285714</td>\n",
       "      <td>35.714286</td>\n",
       "      <td>76.677846</td>\n",
       "      <td>68.584234</td>\n",
       "      <td>7.80</td>\n",
       "      <td>14.76</td>\n",
       "      <td>12.61</td>\n",
       "      <td>...</td>\n",
       "      <td>0.9</td>\n",
       "      <td>-61.8</td>\n",
       "      <td>-65.0</td>\n",
       "      <td>-166.0</td>\n",
       "      <td>-367.0</td>\n",
       "      <td>1.0</td>\n",
       "      <td>0.661517</td>\n",
       "      <td>0.673418</td>\n",
       "      <td>1</td>\n",
       "      <td>0</td>\n",
       "    </tr>\n",
       "    <tr>\n",
       "      <th>4</th>\n",
       "      <td>41.0</td>\n",
       "      <td>37.0</td>\n",
       "      <td>100.0</td>\n",
       "      <td>57.142857</td>\n",
       "      <td>42.857143</td>\n",
       "      <td>81.603007</td>\n",
       "      <td>76.455495</td>\n",
       "      <td>14.90</td>\n",
       "      <td>11.92</td>\n",
       "      <td>14.25</td>\n",
       "      <td>...</td>\n",
       "      <td>0.1</td>\n",
       "      <td>-79.8</td>\n",
       "      <td>-86.0</td>\n",
       "      <td>-186.0</td>\n",
       "      <td>-388.0</td>\n",
       "      <td>1.0</td>\n",
       "      <td>0.747204</td>\n",
       "      <td>0.700522</td>\n",
       "      <td>1</td>\n",
       "      <td>0</td>\n",
       "    </tr>\n",
       "  </tbody>\n",
       "</table>\n",
       "<p>5 rows × 134 columns</p>\n",
       "</div>"
      ],
      "text/plain": [
       "   ind_5  ind_6  ind_8      ind_9     ind_10     ind_12     ind_13  ind_14  \\\n",
       "0   19.0   17.0  100.0  85.714286  14.285714  72.363515  60.808814   23.80   \n",
       "1   24.0   19.0  100.0  78.571429  21.428571  74.275883  64.366798   11.45   \n",
       "2   30.0   24.0  100.0  71.428571  28.571429  75.140402  65.915803    8.75   \n",
       "3   37.0   30.0  100.0  64.285714  35.714286  76.677846  68.584234    7.80   \n",
       "4   41.0   37.0  100.0  57.142857  42.857143  81.603007  76.455495   14.90   \n",
       "\n",
       "   ind_15  ind_16  ...  ind_414  ind_416  ind_418  ind_420  ind_422  ind_424  \\\n",
       "0   17.62   11.73  ...      2.0    -49.6    -54.0   -152.0   -353.0      1.0   \n",
       "1   18.16   12.22  ...      0.8    -55.6    -60.0   -158.0   -359.0      1.0   \n",
       "2   17.86   12.28  ...      2.7    -58.4    -60.0   -160.0   -362.0      1.0   \n",
       "3   14.76   12.61  ...      0.9    -61.8    -65.0   -166.0   -367.0      1.0   \n",
       "4   11.92   14.25  ...      0.1    -79.8    -86.0   -186.0   -388.0      1.0   \n",
       "\n",
       "    ind_426   ind_428  ind_109_GREEN  ind_109_RED  \n",
       "0  0.498547  0.701906              1            0  \n",
       "1  0.537088  0.690833              1            0  \n",
       "2  0.615169  0.693040              1            0  \n",
       "3  0.661517  0.673418              1            0  \n",
       "4  0.747204  0.700522              1            0  \n",
       "\n",
       "[5 rows x 134 columns]"
      ]
     },
     "execution_count": 238,
     "metadata": {},
     "output_type": "execute_result"
    }
   ],
   "source": [
    "X = pd.concat([X_, dms[[\"ind_109_GREEN\", \"ind_109_RED\"]]], axis=1)\n",
    "X.head()"
   ]
  },
  {
   "cell_type": "code",
   "execution_count": 239,
   "metadata": {},
   "outputs": [],
   "source": [
    "X_train, X_test, y_train, y_test = train_test_split(X, y, test_size=0.25,\n",
    "                                                   random_state=42)"
   ]
  },
  {
   "cell_type": "code",
   "execution_count": 240,
   "metadata": {},
   "outputs": [],
   "source": [
    "training = df.copy()"
   ]
  },
  {
   "cell_type": "code",
   "execution_count": 241,
   "metadata": {},
   "outputs": [],
   "source": [
    "from sklearn.decomposition import PCA\n",
    "from sklearn.preprocessing import scale\n",
    "\n",
    "pca = PCA()"
   ]
  },
  {
   "cell_type": "code",
   "execution_count": 242,
   "metadata": {},
   "outputs": [],
   "source": [
    "X_reduced_train = pca.fit_transform(scale(X_train))\n"
   ]
  },
  {
   "cell_type": "code",
   "execution_count": 243,
   "metadata": {},
   "outputs": [
    {
     "data": {
      "text/plain": [
       "array([36.45, 48.83, 54.89, 59.28, 62.37, 65.31, 67.98, 69.98, 71.86,\n",
       "       73.51, 75.03, 76.41, 77.77, 79.04, 80.26, 81.38, 82.47, 83.4 ,\n",
       "       84.24, 85.07, 85.87, 86.59, 87.28, 87.93, 88.54, 89.13, 89.69,\n",
       "       90.2 , 90.7 , 91.17, 91.62, 92.04, 92.43, 92.81, 93.17, 93.51,\n",
       "       93.83, 94.14, 94.44, 94.73, 95.01, 95.27, 95.52, 95.75, 95.97,\n",
       "       96.19, 96.39, 96.59, 96.77, 96.94, 97.11, 97.27, 97.42, 97.56,\n",
       "       97.69, 97.82, 97.94, 98.05, 98.15, 98.25, 98.34, 98.43, 98.52,\n",
       "       98.6 , 98.68, 98.76, 98.83, 98.9 , 98.97, 99.03, 99.09, 99.15,\n",
       "       99.2 , 99.25, 99.3 , 99.34, 99.38, 99.42, 99.46, 99.49, 99.52,\n",
       "       99.55, 99.58, 99.61, 99.64, 99.67, 99.7 , 99.72, 99.74, 99.76,\n",
       "       99.78, 99.8 , 99.82, 99.84, 99.85, 99.86, 99.87, 99.88, 99.89,\n",
       "       99.9 , 99.91, 99.92, 99.93, 99.94, 99.95, 99.96, 99.96, 99.96,\n",
       "       99.96, 99.96, 99.96, 99.96, 99.96, 99.96, 99.96, 99.96, 99.96,\n",
       "       99.96, 99.96, 99.96, 99.96, 99.96, 99.96, 99.96, 99.96, 99.96,\n",
       "       99.96, 99.96, 99.96, 99.96, 99.96, 99.96, 99.96, 99.96])"
      ]
     },
     "execution_count": 243,
     "metadata": {},
     "output_type": "execute_result"
    }
   ],
   "source": [
    "np.cumsum(np.round(pca.explained_variance_ratio_, decimals=4)*100)\n",
    "\n"
   ]
  },
  {
   "cell_type": "code",
   "execution_count": 244,
   "metadata": {},
   "outputs": [
    {
     "data": {
      "text/plain": [
       "([<matplotlib.axis.XTick at 0x1760a903c88>,\n",
       "  <matplotlib.axis.XTick at 0x1760a903e48>,\n",
       "  <matplotlib.axis.XTick at 0x1760f4b3548>,\n",
       "  <matplotlib.axis.XTick at 0x17608c32588>,\n",
       "  <matplotlib.axis.XTick at 0x1760a1f5408>,\n",
       "  <matplotlib.axis.XTick at 0x17608f87f48>,\n",
       "  <matplotlib.axis.XTick at 0x17608cc3848>,\n",
       "  <matplotlib.axis.XTick at 0x176089c8488>,\n",
       "  <matplotlib.axis.XTick at 0x176085a9408>,\n",
       "  <matplotlib.axis.XTick at 0x17608c288c8>,\n",
       "  <matplotlib.axis.XTick at 0x176084358c8>,\n",
       "  <matplotlib.axis.XTick at 0x17608435c48>,\n",
       "  <matplotlib.axis.XTick at 0x17606e05688>,\n",
       "  <matplotlib.axis.XTick at 0x17608c32088>,\n",
       "  <matplotlib.axis.XTick at 0x17606c9b7c8>,\n",
       "  <matplotlib.axis.XTick at 0x176085bfa08>,\n",
       "  <matplotlib.axis.XTick at 0x176061fdb88>,\n",
       "  <matplotlib.axis.XTick at 0x1760843fa48>,\n",
       "  <matplotlib.axis.XTick at 0x1760843f108>,\n",
       "  <matplotlib.axis.XTick at 0x17606e02088>,\n",
       "  <matplotlib.axis.XTick at 0x1760a764988>,\n",
       "  <matplotlib.axis.XTick at 0x17608c37208>,\n",
       "  <matplotlib.axis.XTick at 0x176083e1788>,\n",
       "  <matplotlib.axis.XTick at 0x1760adb95c8>,\n",
       "  <matplotlib.axis.XTick at 0x1760b003c48>,\n",
       "  <matplotlib.axis.XTick at 0x17608a4a508>,\n",
       "  <matplotlib.axis.XTick at 0x17606c39a08>,\n",
       "  <matplotlib.axis.XTick at 0x176089bf948>,\n",
       "  <matplotlib.axis.XTick at 0x17608676748>,\n",
       "  <matplotlib.axis.XTick at 0x1760aac4388>,\n",
       "  <matplotlib.axis.XTick at 0x176123a0f48>,\n",
       "  <matplotlib.axis.XTick at 0x17608676d48>,\n",
       "  <matplotlib.axis.XTick at 0x17608a4a048>,\n",
       "  <matplotlib.axis.XTick at 0x1760a287388>,\n",
       "  <matplotlib.axis.XTick at 0x176086d1b48>,\n",
       "  <matplotlib.axis.XTick at 0x1760698ff88>,\n",
       "  <matplotlib.axis.XTick at 0x1760b007d08>,\n",
       "  <matplotlib.axis.XTick at 0x1760b007708>,\n",
       "  <matplotlib.axis.XTick at 0x1760ad1ee08>,\n",
       "  <matplotlib.axis.XTick at 0x1760a38b308>,\n",
       "  <matplotlib.axis.XTick at 0x1760aff6bc8>,\n",
       "  <matplotlib.axis.XTick at 0x1760ad1e948>,\n",
       "  <matplotlib.axis.XTick at 0x1760aff67c8>,\n",
       "  <matplotlib.axis.XTick at 0x17608450b08>,\n",
       "  <matplotlib.axis.XTick at 0x17608c48148>,\n",
       "  <matplotlib.axis.XTick at 0x17608d1a348>,\n",
       "  <matplotlib.axis.XTick at 0x17608f9bf48>,\n",
       "  <matplotlib.axis.XTick at 0x1760a2dc408>,\n",
       "  <matplotlib.axis.XTick at 0x17608f77348>,\n",
       "  <matplotlib.axis.XTick at 0x1760b179fc8>,\n",
       "  <matplotlib.axis.XTick at 0x176086a6088>,\n",
       "  <matplotlib.axis.XTick at 0x17608450488>,\n",
       "  <matplotlib.axis.XTick at 0x17606c84b08>,\n",
       "  <matplotlib.axis.XTick at 0x1760b18cb88>,\n",
       "  <matplotlib.axis.XTick at 0x1760a5663c8>,\n",
       "  <matplotlib.axis.XTick at 0x17608477c48>,\n",
       "  <matplotlib.axis.XTick at 0x17608b4ee48>,\n",
       "  <matplotlib.axis.XTick at 0x176089dbfc8>,\n",
       "  <matplotlib.axis.XTick at 0x1760a67f8c8>,\n",
       "  <matplotlib.axis.XTick at 0x1760a67f588>,\n",
       "  <matplotlib.axis.XTick at 0x176089dbd88>,\n",
       "  <matplotlib.axis.XTick at 0x17606c6d688>,\n",
       "  <matplotlib.axis.XTick at 0x1760a607688>,\n",
       "  <matplotlib.axis.XTick at 0x17608443f48>,\n",
       "  <matplotlib.axis.XTick at 0x1760ada9c08>,\n",
       "  <matplotlib.axis.XTick at 0x17606929548>,\n",
       "  <matplotlib.axis.XTick at 0x1760ad11188>,\n",
       "  <matplotlib.axis.XTick at 0x17608877c08>,\n",
       "  <matplotlib.axis.XTick at 0x1760b20c948>,\n",
       "  <matplotlib.axis.XTick at 0x17608fd8388>,\n",
       "  <matplotlib.axis.XTick at 0x17608c48908>,\n",
       "  <matplotlib.axis.XTick at 0x1760a1d8288>,\n",
       "  <matplotlib.axis.XTick at 0x1760b17c248>,\n",
       "  <matplotlib.axis.XTick at 0x1760adeb288>,\n",
       "  <matplotlib.axis.XTick at 0x1760a7bdc48>,\n",
       "  <matplotlib.axis.XTick at 0x17606c3bd88>,\n",
       "  <matplotlib.axis.XTick at 0x1760a2ff7c8>,\n",
       "  <matplotlib.axis.XTick at 0x17608428c08>,\n",
       "  <matplotlib.axis.XTick at 0x1760a2bec48>,\n",
       "  <matplotlib.axis.XTick at 0x17608428cc8>,\n",
       "  <matplotlib.axis.XTick at 0x1760ada9608>,\n",
       "  <matplotlib.axis.XTick at 0x17612398348>,\n",
       "  <matplotlib.axis.XTick at 0x1760b1ab1c8>,\n",
       "  <matplotlib.axis.XTick at 0x17608c4e708>,\n",
       "  <matplotlib.axis.XTick at 0x1760a5e6cc8>,\n",
       "  <matplotlib.axis.XTick at 0x1760a377788>,\n",
       "  <matplotlib.axis.XTick at 0x1760a377348>,\n",
       "  <matplotlib.axis.XTick at 0x1760b1aaac8>,\n",
       "  <matplotlib.axis.XTick at 0x176086a4e88>,\n",
       "  <matplotlib.axis.XTick at 0x1760b17c988>,\n",
       "  <matplotlib.axis.XTick at 0x1760a7d1148>,\n",
       "  <matplotlib.axis.XTick at 0x1760aff9988>,\n",
       "  <matplotlib.axis.XTick at 0x1760aff9788>,\n",
       "  <matplotlib.axis.XTick at 0x17608421cc8>,\n",
       "  <matplotlib.axis.XTick at 0x17608424a88>,\n",
       "  <matplotlib.axis.XTick at 0x17608594a88>,\n",
       "  <matplotlib.axis.XTick at 0x17608594408>,\n",
       "  <matplotlib.axis.XTick at 0x1760b020a88>,\n",
       "  <matplotlib.axis.XTick at 0x176085940c8>,\n",
       "  <matplotlib.axis.XTick at 0x176089aebc8>,\n",
       "  <matplotlib.axis.XTick at 0x17608456b48>,\n",
       "  <matplotlib.axis.XTick at 0x1760846d0c8>,\n",
       "  <matplotlib.axis.XTick at 0x1760a2391c8>,\n",
       "  <matplotlib.axis.XTick at 0x1760a386e48>,\n",
       "  <matplotlib.axis.XTick at 0x1760a386988>,\n",
       "  <matplotlib.axis.XTick at 0x1760a376808>,\n",
       "  <matplotlib.axis.XTick at 0x1760a376e08>,\n",
       "  <matplotlib.axis.XTick at 0x176086a23c8>,\n",
       "  <matplotlib.axis.XTick at 0x1760846dc48>,\n",
       "  <matplotlib.axis.XTick at 0x1760b1a6748>,\n",
       "  <matplotlib.axis.XTick at 0x176068fdf88>,\n",
       "  <matplotlib.axis.XTick at 0x1760afffdc8>,\n",
       "  <matplotlib.axis.XTick at 0x176061b5fc8>,\n",
       "  <matplotlib.axis.XTick at 0x1760a382cc8>,\n",
       "  <matplotlib.axis.XTick at 0x17608f64d08>,\n",
       "  <matplotlib.axis.XTick at 0x17608a9e288>,\n",
       "  <matplotlib.axis.XTick at 0x1760b01fac8>,\n",
       "  <matplotlib.axis.XTick at 0x17608a9e808>,\n",
       "  <matplotlib.axis.XTick at 0x1760a500888>,\n",
       "  <matplotlib.axis.XTick at 0x176089b8388>,\n",
       "  <matplotlib.axis.XTick at 0x17606c31808>,\n",
       "  <matplotlib.axis.XTick at 0x1760842d788>,\n",
       "  <matplotlib.axis.XTick at 0x1760aebc0c8>,\n",
       "  <matplotlib.axis.XTick at 0x1760a649a08>,\n",
       "  <matplotlib.axis.XTick at 0x176086f6348>,\n",
       "  <matplotlib.axis.XTick at 0x17608baa588>,\n",
       "  <matplotlib.axis.XTick at 0x17608c292c8>,\n",
       "  <matplotlib.axis.XTick at 0x17606c31088>,\n",
       "  <matplotlib.axis.XTick at 0x17608603388>,\n",
       "  <matplotlib.axis.XTick at 0x17608603fc8>,\n",
       "  <matplotlib.axis.XTick at 0x1760aff1288>,\n",
       "  <matplotlib.axis.XTick at 0x17608504408>,\n",
       "  <matplotlib.axis.XTick at 0x1760a81db48>,\n",
       "  <matplotlib.axis.XTick at 0x1760a81db88>],\n",
       " <a list of 134 Text major ticklabel objects>)"
      ]
     },
     "execution_count": 244,
     "metadata": {},
     "output_type": "execute_result"
    },
    {
     "data": {
      "image/png": "[encoded data removed]",
      "text/plain": [
       "<Figure size 432x288 with 1 Axes>"
      ]
     },
     "metadata": {
      "needs_background": "light"
     },
     "output_type": "display_data"
    }
   ],
   "source": [
    "features = range(pca.n_components_)\n",
    "plt.bar(features, pca.explained_variance_ratio_, color='black')\n",
    "plt.xlabel('PCA features')\n",
    "plt.ylabel('variance %')\n",
    "plt.xticks(features)"
   ]
  },
  {
   "cell_type": "code",
   "execution_count": 245,
   "metadata": {},
   "outputs": [],
   "source": [
    "def pca_fon(X, threshold):\n",
    "    pca = PCA()\n",
    "    X_pca = pca.fit_transform(scale(X))\n",
    "    arr = np.cumsum(np.round(pca.explained_variance_ratio_, decimals = 4)*100)\n",
    "    num_var = sum((arr < threshold*100)) + 1 \n",
    "    print('pca sonrası değişken sayısı: ',num_var)\n",
    "    X_pcad = pd.DataFrame(X_pca[:,0:num_var], index = X.index)\n",
    "    return X_pcad"
   ]
  },
  {
   "cell_type": "code",
   "execution_count": 246,
   "metadata": {},
   "outputs": [],
   "source": [
    "pca = PCA(n_components=8)\n",
    "X_reduced_train = pca.fit_transform(scale(X_train))\n",
    "lm = LinearRegression()\n",
    "pcr_model = lm.fit(X_reduced_train, y_train)"
   ]
  },
  {
   "cell_type": "code",
   "execution_count": 247,
   "metadata": {},
   "outputs": [
    {
     "data": {
      "text/plain": [
       "-3.284856445450811"
      ]
     },
     "execution_count": 247,
     "metadata": {},
     "output_type": "execute_result"
    }
   ],
   "source": [
    "pcr_model.intercept_"
   ]
  },
  {
   "cell_type": "code",
   "execution_count": 248,
   "metadata": {},
   "outputs": [
    {
     "data": {
      "text/plain": [
       "array([-0.28065907,  0.4199937 ,  0.97561565,  1.24563825, -0.5902269 ,\n",
       "       -0.60163048, -0.13860767,  0.31151751])"
      ]
     },
     "execution_count": 248,
     "metadata": {},
     "output_type": "execute_result"
    }
   ],
   "source": [
    "pcr_model.coef_"
   ]
  },
  {
   "cell_type": "code",
   "execution_count": 249,
   "metadata": {},
   "outputs": [
    {
     "data": {
      "text/plain": [
       "array([ -3.56494814,  -5.18591934, -10.88240355,  -6.50270917,\n",
       "        -7.75204655])"
      ]
     },
     "execution_count": 249,
     "metadata": {},
     "output_type": "execute_result"
    }
   ],
   "source": [
    "y_pred = pcr_model.predict(X_reduced_train)\n",
    "y_pred[0:5]"
   ]
  },
  {
   "cell_type": "code",
   "execution_count": 250,
   "metadata": {},
   "outputs": [
    {
     "data": {
      "text/plain": [
       "36.497539085205496"
      ]
     },
     "execution_count": 250,
     "metadata": {},
     "output_type": "execute_result"
    }
   ],
   "source": [
    "np.sqrt(mean_squared_error(y_train, y_pred))"
   ]
  },
  {
   "cell_type": "code",
   "execution_count": 251,
   "metadata": {},
   "outputs": [
    {
     "data": {
      "text/plain": [
       "0.019743723003044944"
      ]
     },
     "execution_count": 251,
     "metadata": {},
     "output_type": "execute_result"
    }
   ],
   "source": [
    "r2_score(y_train, y_pred)"
   ]
  },
  {
   "cell_type": "code",
   "execution_count": 252,
   "metadata": {},
   "outputs": [
    {
     "data": {
      "text/plain": [
       "Text(0, 0.5, 'PCA 2')"
      ]
     },
     "execution_count": 252,
     "metadata": {},
     "output_type": "execute_result"
    },
    {
     "data": {
      "image/png": "[encoded data removed]",
      "text/plain": [
       "<Figure size 432x288 with 1 Axes>"
      ]
     },
     "metadata": {
      "needs_background": "light"
     },
     "output_type": "display_data"
    }
   ],
   "source": [
    "X_reduced_train = pca.fit_transform(scale(X_train))\n",
    "PCA_components = pd.DataFrame(X_reduced_train)\n",
    "plt.scatter(PCA_components[0] , PCA_components[1], alpha = .1 , color='black')\n",
    "plt.xlabel('PCA 1')\n",
    "plt.ylabel('PCA 2')"
   ]
  },
  {
   "cell_type": "code",
   "execution_count": 253,
   "metadata": {},
   "outputs": [],
   "source": [
    "pca2 = PCA(n_components=15)\n",
    "X_reduced_train = pca2.fit_transform(scale(X_train))\n",
    "lm = LinearRegression()\n",
    "pcr_model2 = lm.fit(X_reduced_train, y_train)"
   ]
  },
  {
   "cell_type": "code",
   "execution_count": 254,
   "metadata": {},
   "outputs": [
    {
     "data": {
      "text/plain": [
       "-3.2848564454508105"
      ]
     },
     "execution_count": 254,
     "metadata": {},
     "output_type": "execute_result"
    }
   ],
   "source": [
    "pcr_model2.intercept_"
   ]
  },
  {
   "cell_type": "code",
   "execution_count": 255,
   "metadata": {},
   "outputs": [
    {
     "data": {
      "text/plain": [
       "array([-0.28065907,  0.41999349,  0.97561516,  1.24553469, -0.59094732,\n",
       "       -0.60158496, -0.13792246,  0.30568088, -1.63900443, -2.16011894,\n",
       "        1.16803101, -0.17277235, -1.10032069,  1.37417844,  0.58793031])"
      ]
     },
     "execution_count": 255,
     "metadata": {},
     "output_type": "execute_result"
    }
   ],
   "source": [
    "pcr_model2.coef_"
   ]
  },
  {
   "cell_type": "code",
   "execution_count": 256,
   "metadata": {},
   "outputs": [
    {
     "data": {
      "text/plain": [
       "array([-3.86976003, -3.9564526 , -9.48385923, -6.29976926,  3.24964125])"
      ]
     },
     "execution_count": 256,
     "metadata": {},
     "output_type": "execute_result"
    }
   ],
   "source": [
    "y_pred = pcr_model2.predict(X_reduced_train)\n",
    "y_pred[0:5]"
   ]
  },
  {
   "cell_type": "code",
   "execution_count": 257,
   "metadata": {},
   "outputs": [
    {
     "data": {
      "text/plain": [
       "36.14069398604538"
      ]
     },
     "execution_count": 257,
     "metadata": {},
     "output_type": "execute_result"
    }
   ],
   "source": [
    "np.sqrt(mean_squared_error(y_train, y_pred))"
   ]
  },
  {
   "cell_type": "code",
   "execution_count": 258,
   "metadata": {},
   "outputs": [
    {
     "data": {
      "text/plain": [
       "0.038818412421218085"
      ]
     },
     "execution_count": 258,
     "metadata": {},
     "output_type": "execute_result"
    }
   ],
   "source": [
    "r2_score(y_train, y_pred)"
   ]
  }
 ],
 "metadata": {
  "kernelspec": {
   "display_name": "Python 3",
   "language": "python",
   "name": "python3"
  },
  "language_info": {
   "codemirror_mode": {
    "name": "ipython",
    "version": 3
   },
   "file_extension": ".py",
   "mimetype": "text/x-python",
   "name": "python",
   "nbconvert_exporter": "python",
   "pygments_lexer": "ipython3",
   "version": "3.7.6"
  }
 },
 "nbformat": 4,
 "nbformat_minor": 4
}
