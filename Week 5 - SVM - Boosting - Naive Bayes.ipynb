{
 "cells": [
  {
   "cell_type": "code",
   "execution_count": 1,
   "metadata": {},
   "outputs": [],
   "source": [
    "import numpy as np\n",
    "import pandas as pd\n",
    "import statsmodels.api as sm\n",
    "import statsmodels.formula.api as smf\n",
    "import seaborn as sns\n",
    "import os\n",
    "from sklearn.preprocessing import scale\n",
    "from sklearn.model_selection import train_test_split, GridSearchCV, cross_val_score\n",
    "from sklearn.metrics import confusion_matrix, accuracy_score, classification_report\n",
    "from sklearn.metrics import roc_auc_score,roc_curve\n",
    "import statsmodels.formula.api as smf\n",
    "import matplotlib.pyplot as plt\n",
    "from sklearn.neighbors import KNeighborsClassifier\n",
    "from sklearn.discriminant_analysis import LinearDiscriminantAnalysis\n",
    "from sklearn.linear_model import LogisticRegression\n",
    "from sklearn.svm import SVC\n",
    "from sklearn.naive_bayes import GaussianNB, MultinomialNB, BernoulliNB\n",
    "from sklearn import tree\n",
    "from sklearn.ensemble import RandomForestClassifier\n",
    "from sklearn.ensemble import GradientBoostingClassifier\n",
    "from sklearn.metrics import confusion_matrix, accuracy_score, classification_report\n",
    "from sklearn.metrics import roc_auc_score,roc_curve\n",
    "from sklearn.metrics import mean_squared_error, r2_score\n",
    "from sklearn import svm\n",
    "from sklearn.svm import SVC\n",
    "from sklearn.svm import LinearSVC\n",
    "from sklearn.svm import SVR, LinearSVR\n",
    "from sklearn.naive_bayes import GaussianNB\n",
    "from xgboost import XGBClassifier, XGBRegressor\n",
    "from lightgbm import LGBMClassifier\n",
    "from catboost import CatBoostClassifier, CatBoostRegressor\n",
    "from sklearn.ensemble import GradientBoostingClassifier, GradientBoostingRegressor\n",
    "from sklearn.neighbors import KNeighborsClassifier, KNeighborsRegressor\n",
    "from sklearn.cluster import KMeans\n",
    "from mpl_toolkits.mplot3d import Axes3D\n",
    "from sklearn.cluster import AgglomerativeClustering\n",
    "from sklearn.decomposition import PCA\n",
    "from sklearn.preprocessing import scale\n",
    "\n",
    "\n",
    "from warnings import filterwarnings\n",
    "filterwarnings('ignore')"
   ]
  },
  {
   "cell_type": "code",
   "execution_count": 136,
   "metadata": {},
   "outputs": [],
   "source": [
    "import os\n",
    "os.getcwd()\n",
    "os.chdir('C:/Users/caner/Desktop/Kodluyoruz Bootcamp')\n",
    "\n",
    "import pandas as pd\n",
    "classdf = pd.read_csv('hmelq.csv')\n",
    "regressdf = pd.read_excel(\"HW_Data_Set.xlsx\")\n",
    "\n",
    "dfc = classdf.copy()\n",
    "dfc = dfc.dropna()\n",
    "y = dfc['bad']\n",
    "X = dfc.drop(['bad', 'reason', \"job\"],axis=1)\n",
    "X = pd.DataFrame(X)\n",
    "X_train,X_test,y_train,y_test = train_test_split(X,y,test_size=0.30,random_state=42)"
   ]
  },
  {
   "cell_type": "markdown",
   "metadata": {},
   "source": [
    "# CatBoost Class"
   ]
  },
  {
   "cell_type": "code",
   "execution_count": 158,
   "metadata": {},
   "outputs": [
    {
     "name": "stdout",
     "output_type": "stream",
     "text": [
      "Learning rate set to 0.011938\n",
      "0:\tlearn: 0.6792960\ttotal: 3.24ms\tremaining: 3.24s\n",
      "1:\tlearn: 0.6655558\ttotal: 5.19ms\tremaining: 2.59s\n",
      "2:\tlearn: 0.6530802\ttotal: 6.94ms\tremaining: 2.31s\n",
      "3:\tlearn: 0.6404354\ttotal: 8.82ms\tremaining: 2.2s\n",
      "4:\tlearn: 0.6274910\ttotal: 10.8ms\tremaining: 2.15s\n",
      "5:\tlearn: 0.6147148\ttotal: 12.6ms\tremaining: 2.09s\n",
      "6:\tlearn: 0.6030355\ttotal: 14.6ms\tremaining: 2.06s\n",
      "7:\tlearn: 0.5915807\ttotal: 16.4ms\tremaining: 2.04s\n",
      "8:\tlearn: 0.5804425\ttotal: 18.3ms\tremaining: 2.02s\n",
      "9:\tlearn: 0.5700558\ttotal: 20.2ms\tremaining: 2s\n",
      "10:\tlearn: 0.5595747\ttotal: 22ms\tremaining: 1.98s\n",
      "11:\tlearn: 0.5495046\ttotal: 23.8ms\tremaining: 1.96s\n",
      "12:\tlearn: 0.5390164\ttotal: 26ms\tremaining: 1.97s\n",
      "13:\tlearn: 0.5299930\ttotal: 27.9ms\tremaining: 1.97s\n",
      "14:\tlearn: 0.5223259\ttotal: 29.7ms\tremaining: 1.95s\n",
      "15:\tlearn: 0.5133964\ttotal: 31.7ms\tremaining: 1.95s\n",
      "16:\tlearn: 0.5056737\ttotal: 34.1ms\tremaining: 1.97s\n",
      "17:\tlearn: 0.4980689\ttotal: 36.6ms\tremaining: 1.99s\n",
      "18:\tlearn: 0.4886475\ttotal: 38.3ms\tremaining: 1.98s\n",
      "19:\tlearn: 0.4799286\ttotal: 40.3ms\tremaining: 1.97s\n",
      "20:\tlearn: 0.4712447\ttotal: 42.4ms\tremaining: 1.98s\n",
      "21:\tlearn: 0.4634984\ttotal: 44.3ms\tremaining: 1.97s\n",
      "22:\tlearn: 0.4557472\ttotal: 46.1ms\tremaining: 1.96s\n",
      "23:\tlearn: 0.4483027\ttotal: 47.8ms\tremaining: 1.94s\n",
      "24:\tlearn: 0.4410581\ttotal: 49.7ms\tremaining: 1.94s\n",
      "25:\tlearn: 0.4344412\ttotal: 51.5ms\tremaining: 1.93s\n",
      "26:\tlearn: 0.4277467\ttotal: 53.3ms\tremaining: 1.92s\n",
      "27:\tlearn: 0.4208187\ttotal: 55ms\tremaining: 1.91s\n",
      "28:\tlearn: 0.4153011\ttotal: 57.1ms\tremaining: 1.91s\n",
      "29:\tlearn: 0.4090548\ttotal: 58.9ms\tremaining: 1.91s\n",
      "30:\tlearn: 0.4034100\ttotal: 60.8ms\tremaining: 1.9s\n",
      "31:\tlearn: 0.3968661\ttotal: 63.2ms\tremaining: 1.91s\n",
      "32:\tlearn: 0.3917077\ttotal: 65ms\tremaining: 1.9s\n",
      "33:\tlearn: 0.3861927\ttotal: 66.7ms\tremaining: 1.89s\n",
      "34:\tlearn: 0.3811802\ttotal: 68.6ms\tremaining: 1.89s\n",
      "35:\tlearn: 0.3763022\ttotal: 70.5ms\tremaining: 1.89s\n",
      "36:\tlearn: 0.3716189\ttotal: 72.7ms\tremaining: 1.89s\n",
      "37:\tlearn: 0.3663994\ttotal: 74.7ms\tremaining: 1.89s\n",
      "38:\tlearn: 0.3617893\ttotal: 76.5ms\tremaining: 1.88s\n",
      "39:\tlearn: 0.3577751\ttotal: 78.4ms\tremaining: 1.88s\n",
      "40:\tlearn: 0.3529643\ttotal: 80.2ms\tremaining: 1.88s\n",
      "41:\tlearn: 0.3490382\ttotal: 82ms\tremaining: 1.87s\n",
      "42:\tlearn: 0.3449127\ttotal: 84.1ms\tremaining: 1.87s\n",
      "43:\tlearn: 0.3410627\ttotal: 86.4ms\tremaining: 1.88s\n",
      "44:\tlearn: 0.3377605\ttotal: 88.5ms\tremaining: 1.88s\n",
      "45:\tlearn: 0.3340926\ttotal: 90.6ms\tremaining: 1.88s\n",
      "46:\tlearn: 0.3301946\ttotal: 92.3ms\tremaining: 1.87s\n",
      "47:\tlearn: 0.3265915\ttotal: 93.8ms\tremaining: 1.86s\n",
      "48:\tlearn: 0.3223572\ttotal: 95.5ms\tremaining: 1.85s\n",
      "49:\tlearn: 0.3187214\ttotal: 97.4ms\tremaining: 1.85s\n",
      "50:\tlearn: 0.3159410\ttotal: 99.3ms\tremaining: 1.85s\n",
      "51:\tlearn: 0.3133867\ttotal: 100ms\tremaining: 1.83s\n",
      "52:\tlearn: 0.3105881\ttotal: 103ms\tremaining: 1.83s\n",
      "53:\tlearn: 0.3075963\ttotal: 105ms\tremaining: 1.84s\n",
      "54:\tlearn: 0.3046024\ttotal: 107ms\tremaining: 1.83s\n",
      "55:\tlearn: 0.3020742\ttotal: 108ms\tremaining: 1.81s\n",
      "56:\tlearn: 0.2994750\ttotal: 109ms\tremaining: 1.81s\n",
      "57:\tlearn: 0.2971085\ttotal: 111ms\tremaining: 1.8s\n",
      "58:\tlearn: 0.2944214\ttotal: 112ms\tremaining: 1.79s\n",
      "59:\tlearn: 0.2917223\ttotal: 114ms\tremaining: 1.79s\n",
      "60:\tlearn: 0.2899143\ttotal: 116ms\tremaining: 1.79s\n",
      "61:\tlearn: 0.2874593\ttotal: 118ms\tremaining: 1.78s\n",
      "62:\tlearn: 0.2844218\ttotal: 120ms\tremaining: 1.78s\n",
      "63:\tlearn: 0.2817246\ttotal: 121ms\tremaining: 1.77s\n",
      "64:\tlearn: 0.2790612\ttotal: 123ms\tremaining: 1.76s\n",
      "65:\tlearn: 0.2768042\ttotal: 124ms\tremaining: 1.76s\n",
      "66:\tlearn: 0.2749893\ttotal: 126ms\tremaining: 1.75s\n",
      "67:\tlearn: 0.2727064\ttotal: 128ms\tremaining: 1.75s\n",
      "68:\tlearn: 0.2700528\ttotal: 130ms\tremaining: 1.75s\n",
      "69:\tlearn: 0.2679411\ttotal: 132ms\tremaining: 1.75s\n",
      "70:\tlearn: 0.2657896\ttotal: 133ms\tremaining: 1.74s\n",
      "71:\tlearn: 0.2640954\ttotal: 135ms\tremaining: 1.74s\n",
      "72:\tlearn: 0.2622123\ttotal: 137ms\tremaining: 1.74s\n",
      "73:\tlearn: 0.2600157\ttotal: 139ms\tremaining: 1.74s\n",
      "74:\tlearn: 0.2582801\ttotal: 141ms\tremaining: 1.73s\n",
      "75:\tlearn: 0.2569990\ttotal: 142ms\tremaining: 1.73s\n",
      "76:\tlearn: 0.2550201\ttotal: 144ms\tremaining: 1.72s\n",
      "77:\tlearn: 0.2534571\ttotal: 146ms\tremaining: 1.72s\n",
      "78:\tlearn: 0.2519461\ttotal: 147ms\tremaining: 1.72s\n",
      "79:\tlearn: 0.2506195\ttotal: 149ms\tremaining: 1.72s\n",
      "80:\tlearn: 0.2492591\ttotal: 151ms\tremaining: 1.71s\n",
      "81:\tlearn: 0.2475825\ttotal: 153ms\tremaining: 1.71s\n",
      "82:\tlearn: 0.2458983\ttotal: 154ms\tremaining: 1.71s\n",
      "83:\tlearn: 0.2442422\ttotal: 156ms\tremaining: 1.7s\n",
      "84:\tlearn: 0.2426550\ttotal: 158ms\tremaining: 1.7s\n",
      "85:\tlearn: 0.2411934\ttotal: 160ms\tremaining: 1.7s\n",
      "86:\tlearn: 0.2398522\ttotal: 162ms\tremaining: 1.7s\n",
      "87:\tlearn: 0.2385516\ttotal: 164ms\tremaining: 1.7s\n",
      "88:\tlearn: 0.2374697\ttotal: 165ms\tremaining: 1.69s\n",
      "89:\tlearn: 0.2363014\ttotal: 167ms\tremaining: 1.69s\n",
      "90:\tlearn: 0.2350890\ttotal: 169ms\tremaining: 1.68s\n",
      "91:\tlearn: 0.2341887\ttotal: 171ms\tremaining: 1.69s\n",
      "92:\tlearn: 0.2331788\ttotal: 173ms\tremaining: 1.69s\n",
      "93:\tlearn: 0.2320446\ttotal: 175ms\tremaining: 1.69s\n",
      "94:\tlearn: 0.2309156\ttotal: 177ms\tremaining: 1.69s\n",
      "95:\tlearn: 0.2295876\ttotal: 179ms\tremaining: 1.69s\n",
      "96:\tlearn: 0.2283007\ttotal: 181ms\tremaining: 1.68s\n",
      "97:\tlearn: 0.2273610\ttotal: 183ms\tremaining: 1.68s\n",
      "98:\tlearn: 0.2262879\ttotal: 185ms\tremaining: 1.68s\n",
      "99:\tlearn: 0.2249351\ttotal: 187ms\tremaining: 1.68s\n",
      "100:\tlearn: 0.2241936\ttotal: 190ms\tremaining: 1.69s\n",
      "101:\tlearn: 0.2228509\ttotal: 193ms\tremaining: 1.7s\n",
      "102:\tlearn: 0.2217982\ttotal: 196ms\tremaining: 1.71s\n",
      "103:\tlearn: 0.2207656\ttotal: 198ms\tremaining: 1.71s\n",
      "104:\tlearn: 0.2199337\ttotal: 200ms\tremaining: 1.7s\n",
      "105:\tlearn: 0.2190550\ttotal: 202ms\tremaining: 1.7s\n",
      "106:\tlearn: 0.2181485\ttotal: 204ms\tremaining: 1.7s\n",
      "107:\tlearn: 0.2171415\ttotal: 205ms\tremaining: 1.7s\n",
      "108:\tlearn: 0.2161420\ttotal: 207ms\tremaining: 1.7s\n",
      "109:\tlearn: 0.2149824\ttotal: 209ms\tremaining: 1.69s\n",
      "110:\tlearn: 0.2137559\ttotal: 211ms\tremaining: 1.69s\n",
      "111:\tlearn: 0.2129363\ttotal: 213ms\tremaining: 1.69s\n",
      "112:\tlearn: 0.2121571\ttotal: 215ms\tremaining: 1.69s\n",
      "113:\tlearn: 0.2112895\ttotal: 217ms\tremaining: 1.68s\n",
      "114:\tlearn: 0.2105546\ttotal: 219ms\tremaining: 1.68s\n",
      "115:\tlearn: 0.2100974\ttotal: 221ms\tremaining: 1.68s\n",
      "116:\tlearn: 0.2090954\ttotal: 223ms\tremaining: 1.68s\n",
      "117:\tlearn: 0.2084693\ttotal: 225ms\tremaining: 1.68s\n",
      "118:\tlearn: 0.2073965\ttotal: 227ms\tremaining: 1.68s\n",
      "119:\tlearn: 0.2065982\ttotal: 229ms\tremaining: 1.68s\n",
      "120:\tlearn: 0.2055163\ttotal: 231ms\tremaining: 1.68s\n",
      "121:\tlearn: 0.2045322\ttotal: 233ms\tremaining: 1.67s\n",
      "122:\tlearn: 0.2036632\ttotal: 234ms\tremaining: 1.67s\n",
      "123:\tlearn: 0.2029600\ttotal: 236ms\tremaining: 1.67s\n",
      "124:\tlearn: 0.2020858\ttotal: 238ms\tremaining: 1.66s\n",
      "125:\tlearn: 0.2013621\ttotal: 239ms\tremaining: 1.66s\n",
      "126:\tlearn: 0.2005814\ttotal: 241ms\tremaining: 1.66s\n",
      "127:\tlearn: 0.2000764\ttotal: 243ms\tremaining: 1.66s\n",
      "128:\tlearn: 0.1990556\ttotal: 245ms\tremaining: 1.66s\n",
      "129:\tlearn: 0.1983000\ttotal: 247ms\tremaining: 1.65s\n",
      "130:\tlearn: 0.1975279\ttotal: 249ms\tremaining: 1.65s\n",
      "131:\tlearn: 0.1967873\ttotal: 250ms\tremaining: 1.65s\n",
      "132:\tlearn: 0.1959317\ttotal: 252ms\tremaining: 1.64s\n",
      "133:\tlearn: 0.1949771\ttotal: 254ms\tremaining: 1.64s\n",
      "134:\tlearn: 0.1944006\ttotal: 256ms\tremaining: 1.64s\n",
      "135:\tlearn: 0.1938012\ttotal: 257ms\tremaining: 1.63s\n",
      "136:\tlearn: 0.1933091\ttotal: 259ms\tremaining: 1.63s\n",
      "137:\tlearn: 0.1928462\ttotal: 261ms\tremaining: 1.63s\n",
      "138:\tlearn: 0.1921410\ttotal: 263ms\tremaining: 1.63s\n",
      "139:\tlearn: 0.1915508\ttotal: 264ms\tremaining: 1.62s\n",
      "140:\tlearn: 0.1908035\ttotal: 266ms\tremaining: 1.62s\n",
      "141:\tlearn: 0.1903597\ttotal: 268ms\tremaining: 1.62s\n",
      "142:\tlearn: 0.1897167\ttotal: 270ms\tremaining: 1.61s\n",
      "143:\tlearn: 0.1889854\ttotal: 271ms\tremaining: 1.61s\n",
      "144:\tlearn: 0.1885619\ttotal: 273ms\tremaining: 1.61s\n",
      "145:\tlearn: 0.1878648\ttotal: 275ms\tremaining: 1.61s\n",
      "146:\tlearn: 0.1873862\ttotal: 277ms\tremaining: 1.6s\n",
      "147:\tlearn: 0.1868592\ttotal: 278ms\tremaining: 1.6s\n",
      "148:\tlearn: 0.1863899\ttotal: 280ms\tremaining: 1.6s\n",
      "149:\tlearn: 0.1857165\ttotal: 282ms\tremaining: 1.6s\n",
      "150:\tlearn: 0.1850673\ttotal: 284ms\tremaining: 1.59s\n",
      "151:\tlearn: 0.1846499\ttotal: 285ms\tremaining: 1.59s\n",
      "152:\tlearn: 0.1841833\ttotal: 287ms\tremaining: 1.59s\n",
      "153:\tlearn: 0.1839373\ttotal: 288ms\tremaining: 1.58s\n",
      "154:\tlearn: 0.1836086\ttotal: 290ms\tremaining: 1.58s\n",
      "155:\tlearn: 0.1831573\ttotal: 292ms\tremaining: 1.58s\n",
      "156:\tlearn: 0.1826632\ttotal: 293ms\tremaining: 1.57s\n",
      "157:\tlearn: 0.1822770\ttotal: 295ms\tremaining: 1.57s\n",
      "158:\tlearn: 0.1819084\ttotal: 297ms\tremaining: 1.57s\n",
      "159:\tlearn: 0.1815590\ttotal: 299ms\tremaining: 1.57s\n",
      "160:\tlearn: 0.1811729\ttotal: 300ms\tremaining: 1.56s\n",
      "161:\tlearn: 0.1805088\ttotal: 302ms\tremaining: 1.56s\n",
      "162:\tlearn: 0.1801121\ttotal: 304ms\tremaining: 1.56s\n",
      "163:\tlearn: 0.1797758\ttotal: 305ms\tremaining: 1.56s\n",
      "164:\tlearn: 0.1790673\ttotal: 307ms\tremaining: 1.55s\n",
      "165:\tlearn: 0.1787862\ttotal: 309ms\tremaining: 1.55s\n",
      "166:\tlearn: 0.1783557\ttotal: 310ms\tremaining: 1.55s\n",
      "167:\tlearn: 0.1777170\ttotal: 312ms\tremaining: 1.55s\n",
      "168:\tlearn: 0.1772024\ttotal: 314ms\tremaining: 1.54s\n",
      "169:\tlearn: 0.1769800\ttotal: 316ms\tremaining: 1.54s\n",
      "170:\tlearn: 0.1765744\ttotal: 317ms\tremaining: 1.54s\n",
      "171:\tlearn: 0.1761431\ttotal: 319ms\tremaining: 1.54s\n",
      "172:\tlearn: 0.1757489\ttotal: 321ms\tremaining: 1.53s\n",
      "173:\tlearn: 0.1752638\ttotal: 322ms\tremaining: 1.53s\n",
      "174:\tlearn: 0.1748720\ttotal: 324ms\tremaining: 1.53s\n",
      "175:\tlearn: 0.1744458\ttotal: 326ms\tremaining: 1.53s\n",
      "176:\tlearn: 0.1741479\ttotal: 328ms\tremaining: 1.52s\n",
      "177:\tlearn: 0.1738207\ttotal: 330ms\tremaining: 1.52s\n",
      "178:\tlearn: 0.1737006\ttotal: 331ms\tremaining: 1.52s\n",
      "179:\tlearn: 0.1733968\ttotal: 332ms\tremaining: 1.51s\n",
      "180:\tlearn: 0.1730030\ttotal: 334ms\tremaining: 1.51s\n",
      "181:\tlearn: 0.1727032\ttotal: 336ms\tremaining: 1.51s\n",
      "182:\tlearn: 0.1723148\ttotal: 337ms\tremaining: 1.5s\n",
      "183:\tlearn: 0.1719499\ttotal: 339ms\tremaining: 1.5s\n",
      "184:\tlearn: 0.1716297\ttotal: 341ms\tremaining: 1.5s\n",
      "185:\tlearn: 0.1711813\ttotal: 342ms\tremaining: 1.5s\n",
      "186:\tlearn: 0.1707179\ttotal: 344ms\tremaining: 1.5s\n",
      "187:\tlearn: 0.1701426\ttotal: 346ms\tremaining: 1.49s\n"
     ]
    },
    {
     "name": "stdout",
     "output_type": "stream",
     "text": [
      "188:\tlearn: 0.1699700\ttotal: 348ms\tremaining: 1.49s\n",
      "189:\tlearn: 0.1694460\ttotal: 350ms\tremaining: 1.49s\n",
      "190:\tlearn: 0.1690711\ttotal: 351ms\tremaining: 1.49s\n",
      "191:\tlearn: 0.1686017\ttotal: 353ms\tremaining: 1.49s\n",
      "192:\tlearn: 0.1682645\ttotal: 355ms\tremaining: 1.48s\n",
      "193:\tlearn: 0.1678548\ttotal: 357ms\tremaining: 1.48s\n",
      "194:\tlearn: 0.1677496\ttotal: 359ms\tremaining: 1.48s\n",
      "195:\tlearn: 0.1674245\ttotal: 360ms\tremaining: 1.48s\n",
      "196:\tlearn: 0.1673205\ttotal: 361ms\tremaining: 1.47s\n",
      "197:\tlearn: 0.1668997\ttotal: 363ms\tremaining: 1.47s\n",
      "198:\tlearn: 0.1666421\ttotal: 365ms\tremaining: 1.47s\n",
      "199:\tlearn: 0.1663575\ttotal: 366ms\tremaining: 1.47s\n",
      "200:\tlearn: 0.1658868\ttotal: 368ms\tremaining: 1.46s\n",
      "201:\tlearn: 0.1654956\ttotal: 370ms\tremaining: 1.46s\n",
      "202:\tlearn: 0.1651501\ttotal: 372ms\tremaining: 1.46s\n",
      "203:\tlearn: 0.1648771\ttotal: 374ms\tremaining: 1.46s\n",
      "204:\tlearn: 0.1644888\ttotal: 376ms\tremaining: 1.46s\n",
      "205:\tlearn: 0.1642957\ttotal: 377ms\tremaining: 1.45s\n",
      "206:\tlearn: 0.1638304\ttotal: 379ms\tremaining: 1.45s\n",
      "207:\tlearn: 0.1635164\ttotal: 381ms\tremaining: 1.45s\n",
      "208:\tlearn: 0.1633693\ttotal: 383ms\tremaining: 1.45s\n",
      "209:\tlearn: 0.1629979\ttotal: 385ms\tremaining: 1.45s\n",
      "210:\tlearn: 0.1628778\ttotal: 386ms\tremaining: 1.44s\n",
      "211:\tlearn: 0.1625156\ttotal: 388ms\tremaining: 1.44s\n",
      "212:\tlearn: 0.1621016\ttotal: 390ms\tremaining: 1.44s\n",
      "213:\tlearn: 0.1618052\ttotal: 392ms\tremaining: 1.44s\n",
      "214:\tlearn: 0.1612607\ttotal: 394ms\tremaining: 1.44s\n",
      "215:\tlearn: 0.1608968\ttotal: 396ms\tremaining: 1.44s\n",
      "216:\tlearn: 0.1606235\ttotal: 398ms\tremaining: 1.44s\n",
      "217:\tlearn: 0.1602956\ttotal: 400ms\tremaining: 1.43s\n",
      "218:\tlearn: 0.1601327\ttotal: 401ms\tremaining: 1.43s\n",
      "219:\tlearn: 0.1596700\ttotal: 404ms\tremaining: 1.43s\n",
      "220:\tlearn: 0.1594300\ttotal: 406ms\tremaining: 1.43s\n",
      "221:\tlearn: 0.1592294\ttotal: 408ms\tremaining: 1.43s\n",
      "222:\tlearn: 0.1589543\ttotal: 409ms\tremaining: 1.43s\n",
      "223:\tlearn: 0.1586221\ttotal: 411ms\tremaining: 1.42s\n",
      "224:\tlearn: 0.1580679\ttotal: 413ms\tremaining: 1.42s\n",
      "225:\tlearn: 0.1576568\ttotal: 415ms\tremaining: 1.42s\n",
      "226:\tlearn: 0.1573995\ttotal: 416ms\tremaining: 1.42s\n",
      "227:\tlearn: 0.1569317\ttotal: 419ms\tremaining: 1.42s\n",
      "228:\tlearn: 0.1567841\ttotal: 420ms\tremaining: 1.41s\n",
      "229:\tlearn: 0.1565621\ttotal: 422ms\tremaining: 1.41s\n",
      "230:\tlearn: 0.1561646\ttotal: 424ms\tremaining: 1.41s\n",
      "231:\tlearn: 0.1558684\ttotal: 425ms\tremaining: 1.41s\n",
      "232:\tlearn: 0.1556735\ttotal: 427ms\tremaining: 1.41s\n",
      "233:\tlearn: 0.1555121\ttotal: 429ms\tremaining: 1.4s\n",
      "234:\tlearn: 0.1550819\ttotal: 431ms\tremaining: 1.4s\n",
      "235:\tlearn: 0.1549912\ttotal: 433ms\tremaining: 1.4s\n",
      "236:\tlearn: 0.1547514\ttotal: 436ms\tremaining: 1.4s\n",
      "237:\tlearn: 0.1544069\ttotal: 438ms\tremaining: 1.4s\n",
      "238:\tlearn: 0.1542723\ttotal: 440ms\tremaining: 1.4s\n",
      "239:\tlearn: 0.1537061\ttotal: 442ms\tremaining: 1.4s\n",
      "240:\tlearn: 0.1533173\ttotal: 444ms\tremaining: 1.4s\n",
      "241:\tlearn: 0.1529530\ttotal: 446ms\tremaining: 1.4s\n",
      "242:\tlearn: 0.1525344\ttotal: 448ms\tremaining: 1.4s\n",
      "243:\tlearn: 0.1523041\ttotal: 450ms\tremaining: 1.39s\n",
      "244:\tlearn: 0.1521596\ttotal: 452ms\tremaining: 1.39s\n",
      "245:\tlearn: 0.1517491\ttotal: 453ms\tremaining: 1.39s\n",
      "246:\tlearn: 0.1513763\ttotal: 455ms\tremaining: 1.39s\n",
      "247:\tlearn: 0.1511089\ttotal: 457ms\tremaining: 1.39s\n",
      "248:\tlearn: 0.1508591\ttotal: 459ms\tremaining: 1.39s\n",
      "249:\tlearn: 0.1506999\ttotal: 461ms\tremaining: 1.38s\n",
      "250:\tlearn: 0.1504671\ttotal: 463ms\tremaining: 1.38s\n",
      "251:\tlearn: 0.1502311\ttotal: 465ms\tremaining: 1.38s\n",
      "252:\tlearn: 0.1500601\ttotal: 467ms\tremaining: 1.38s\n",
      "253:\tlearn: 0.1497834\ttotal: 469ms\tremaining: 1.38s\n",
      "254:\tlearn: 0.1494249\ttotal: 471ms\tremaining: 1.38s\n",
      "255:\tlearn: 0.1492260\ttotal: 473ms\tremaining: 1.37s\n",
      "256:\tlearn: 0.1489066\ttotal: 475ms\tremaining: 1.37s\n",
      "257:\tlearn: 0.1485967\ttotal: 477ms\tremaining: 1.37s\n",
      "258:\tlearn: 0.1482806\ttotal: 479ms\tremaining: 1.37s\n",
      "259:\tlearn: 0.1479850\ttotal: 481ms\tremaining: 1.37s\n",
      "260:\tlearn: 0.1477691\ttotal: 483ms\tremaining: 1.37s\n",
      "261:\tlearn: 0.1475474\ttotal: 484ms\tremaining: 1.36s\n",
      "262:\tlearn: 0.1474148\ttotal: 487ms\tremaining: 1.36s\n",
      "263:\tlearn: 0.1470300\ttotal: 488ms\tremaining: 1.36s\n",
      "264:\tlearn: 0.1466028\ttotal: 490ms\tremaining: 1.36s\n",
      "265:\tlearn: 0.1464783\ttotal: 492ms\tremaining: 1.36s\n",
      "266:\tlearn: 0.1463171\ttotal: 494ms\tremaining: 1.35s\n",
      "267:\tlearn: 0.1461011\ttotal: 496ms\tremaining: 1.35s\n",
      "268:\tlearn: 0.1459577\ttotal: 497ms\tremaining: 1.35s\n",
      "269:\tlearn: 0.1457870\ttotal: 499ms\tremaining: 1.35s\n",
      "270:\tlearn: 0.1456593\ttotal: 501ms\tremaining: 1.35s\n",
      "271:\tlearn: 0.1454397\ttotal: 502ms\tremaining: 1.34s\n",
      "272:\tlearn: 0.1453508\ttotal: 503ms\tremaining: 1.34s\n",
      "273:\tlearn: 0.1450515\ttotal: 505ms\tremaining: 1.34s\n",
      "274:\tlearn: 0.1446820\ttotal: 507ms\tremaining: 1.34s\n",
      "275:\tlearn: 0.1446236\ttotal: 509ms\tremaining: 1.33s\n",
      "276:\tlearn: 0.1443476\ttotal: 511ms\tremaining: 1.33s\n",
      "277:\tlearn: 0.1440108\ttotal: 512ms\tremaining: 1.33s\n",
      "278:\tlearn: 0.1438048\ttotal: 514ms\tremaining: 1.33s\n",
      "279:\tlearn: 0.1437121\ttotal: 516ms\tremaining: 1.32s\n",
      "280:\tlearn: 0.1435142\ttotal: 517ms\tremaining: 1.32s\n",
      "281:\tlearn: 0.1432363\ttotal: 519ms\tremaining: 1.32s\n",
      "282:\tlearn: 0.1430659\ttotal: 521ms\tremaining: 1.32s\n",
      "283:\tlearn: 0.1428104\ttotal: 523ms\tremaining: 1.32s\n",
      "284:\tlearn: 0.1427723\ttotal: 525ms\tremaining: 1.32s\n",
      "285:\tlearn: 0.1425240\ttotal: 527ms\tremaining: 1.31s\n",
      "286:\tlearn: 0.1421088\ttotal: 529ms\tremaining: 1.31s\n",
      "287:\tlearn: 0.1418404\ttotal: 531ms\tremaining: 1.31s\n",
      "288:\tlearn: 0.1416297\ttotal: 533ms\tremaining: 1.31s\n",
      "289:\tlearn: 0.1414186\ttotal: 535ms\tremaining: 1.31s\n",
      "290:\tlearn: 0.1412145\ttotal: 537ms\tremaining: 1.31s\n",
      "291:\tlearn: 0.1410881\ttotal: 539ms\tremaining: 1.31s\n",
      "292:\tlearn: 0.1408030\ttotal: 541ms\tremaining: 1.3s\n",
      "293:\tlearn: 0.1406550\ttotal: 542ms\tremaining: 1.3s\n",
      "294:\tlearn: 0.1404647\ttotal: 544ms\tremaining: 1.3s\n",
      "295:\tlearn: 0.1402802\ttotal: 546ms\tremaining: 1.3s\n",
      "296:\tlearn: 0.1400859\ttotal: 548ms\tremaining: 1.3s\n",
      "297:\tlearn: 0.1396342\ttotal: 550ms\tremaining: 1.3s\n",
      "298:\tlearn: 0.1394618\ttotal: 552ms\tremaining: 1.29s\n",
      "299:\tlearn: 0.1392713\ttotal: 554ms\tremaining: 1.29s\n",
      "300:\tlearn: 0.1391660\ttotal: 556ms\tremaining: 1.29s\n",
      "301:\tlearn: 0.1388953\ttotal: 558ms\tremaining: 1.29s\n",
      "302:\tlearn: 0.1387344\ttotal: 559ms\tremaining: 1.29s\n",
      "303:\tlearn: 0.1385782\ttotal: 561ms\tremaining: 1.28s\n",
      "304:\tlearn: 0.1382361\ttotal: 563ms\tremaining: 1.28s\n",
      "305:\tlearn: 0.1380027\ttotal: 564ms\tremaining: 1.28s\n",
      "306:\tlearn: 0.1379111\ttotal: 566ms\tremaining: 1.28s\n",
      "307:\tlearn: 0.1375639\ttotal: 568ms\tremaining: 1.27s\n",
      "308:\tlearn: 0.1374420\ttotal: 570ms\tremaining: 1.27s\n",
      "309:\tlearn: 0.1373590\ttotal: 571ms\tremaining: 1.27s\n",
      "310:\tlearn: 0.1372182\ttotal: 573ms\tremaining: 1.27s\n",
      "311:\tlearn: 0.1370518\ttotal: 575ms\tremaining: 1.27s\n",
      "312:\tlearn: 0.1368851\ttotal: 577ms\tremaining: 1.26s\n",
      "313:\tlearn: 0.1366518\ttotal: 578ms\tremaining: 1.26s\n",
      "314:\tlearn: 0.1365086\ttotal: 580ms\tremaining: 1.26s\n",
      "315:\tlearn: 0.1363446\ttotal: 582ms\tremaining: 1.26s\n",
      "316:\tlearn: 0.1362517\ttotal: 583ms\tremaining: 1.26s\n",
      "317:\tlearn: 0.1361382\ttotal: 585ms\tremaining: 1.25s\n",
      "318:\tlearn: 0.1359413\ttotal: 587ms\tremaining: 1.25s\n",
      "319:\tlearn: 0.1357348\ttotal: 588ms\tremaining: 1.25s\n",
      "320:\tlearn: 0.1354340\ttotal: 590ms\tremaining: 1.25s\n",
      "321:\tlearn: 0.1352836\ttotal: 592ms\tremaining: 1.25s\n",
      "322:\tlearn: 0.1351194\ttotal: 594ms\tremaining: 1.24s\n",
      "323:\tlearn: 0.1349286\ttotal: 595ms\tremaining: 1.24s\n",
      "324:\tlearn: 0.1347556\ttotal: 597ms\tremaining: 1.24s\n",
      "325:\tlearn: 0.1345250\ttotal: 599ms\tremaining: 1.24s\n",
      "326:\tlearn: 0.1343774\ttotal: 601ms\tremaining: 1.24s\n",
      "327:\tlearn: 0.1342602\ttotal: 602ms\tremaining: 1.23s\n",
      "328:\tlearn: 0.1340011\ttotal: 604ms\tremaining: 1.23s\n",
      "329:\tlearn: 0.1338347\ttotal: 606ms\tremaining: 1.23s\n",
      "330:\tlearn: 0.1335771\ttotal: 608ms\tremaining: 1.23s\n",
      "331:\tlearn: 0.1334451\ttotal: 609ms\tremaining: 1.23s\n",
      "332:\tlearn: 0.1331701\ttotal: 611ms\tremaining: 1.22s\n",
      "333:\tlearn: 0.1329297\ttotal: 612ms\tremaining: 1.22s\n",
      "334:\tlearn: 0.1326386\ttotal: 614ms\tremaining: 1.22s\n",
      "335:\tlearn: 0.1324789\ttotal: 616ms\tremaining: 1.22s\n",
      "336:\tlearn: 0.1320939\ttotal: 618ms\tremaining: 1.22s\n",
      "337:\tlearn: 0.1318806\ttotal: 619ms\tremaining: 1.21s\n",
      "338:\tlearn: 0.1316292\ttotal: 621ms\tremaining: 1.21s\n",
      "339:\tlearn: 0.1314602\ttotal: 623ms\tremaining: 1.21s\n",
      "340:\tlearn: 0.1313142\ttotal: 625ms\tremaining: 1.21s\n",
      "341:\tlearn: 0.1310536\ttotal: 626ms\tremaining: 1.21s\n",
      "342:\tlearn: 0.1308032\ttotal: 628ms\tremaining: 1.2s\n",
      "343:\tlearn: 0.1305575\ttotal: 630ms\tremaining: 1.2s\n",
      "344:\tlearn: 0.1304243\ttotal: 631ms\tremaining: 1.2s\n",
      "345:\tlearn: 0.1302878\ttotal: 633ms\tremaining: 1.2s\n",
      "346:\tlearn: 0.1300445\ttotal: 635ms\tremaining: 1.19s\n",
      "347:\tlearn: 0.1298041\ttotal: 636ms\tremaining: 1.19s\n",
      "348:\tlearn: 0.1297244\ttotal: 638ms\tremaining: 1.19s\n",
      "349:\tlearn: 0.1295403\ttotal: 640ms\tremaining: 1.19s\n",
      "350:\tlearn: 0.1292995\ttotal: 642ms\tremaining: 1.19s\n",
      "351:\tlearn: 0.1290306\ttotal: 643ms\tremaining: 1.18s\n",
      "352:\tlearn: 0.1287943\ttotal: 645ms\tremaining: 1.18s\n",
      "353:\tlearn: 0.1287176\ttotal: 647ms\tremaining: 1.18s\n",
      "354:\tlearn: 0.1285199\ttotal: 648ms\tremaining: 1.18s\n",
      "355:\tlearn: 0.1282752\ttotal: 650ms\tremaining: 1.18s\n",
      "356:\tlearn: 0.1281302\ttotal: 652ms\tremaining: 1.17s\n",
      "357:\tlearn: 0.1279235\ttotal: 654ms\tremaining: 1.17s\n",
      "358:\tlearn: 0.1277988\ttotal: 655ms\tremaining: 1.17s\n",
      "359:\tlearn: 0.1275951\ttotal: 657ms\tremaining: 1.17s\n",
      "360:\tlearn: 0.1274639\ttotal: 658ms\tremaining: 1.17s\n",
      "361:\tlearn: 0.1271989\ttotal: 660ms\tremaining: 1.16s\n",
      "362:\tlearn: 0.1270038\ttotal: 662ms\tremaining: 1.16s\n",
      "363:\tlearn: 0.1268068\ttotal: 664ms\tremaining: 1.16s\n",
      "364:\tlearn: 0.1265539\ttotal: 665ms\tremaining: 1.16s\n",
      "365:\tlearn: 0.1263478\ttotal: 667ms\tremaining: 1.16s\n",
      "366:\tlearn: 0.1261286\ttotal: 669ms\tremaining: 1.15s\n",
      "367:\tlearn: 0.1260283\ttotal: 671ms\tremaining: 1.15s\n",
      "368:\tlearn: 0.1258614\ttotal: 672ms\tremaining: 1.15s\n",
      "369:\tlearn: 0.1257101\ttotal: 674ms\tremaining: 1.15s\n",
      "370:\tlearn: 0.1255168\ttotal: 676ms\tremaining: 1.15s\n",
      "371:\tlearn: 0.1253406\ttotal: 677ms\tremaining: 1.14s\n",
      "372:\tlearn: 0.1252126\ttotal: 679ms\tremaining: 1.14s\n",
      "373:\tlearn: 0.1251236\ttotal: 681ms\tremaining: 1.14s\n",
      "374:\tlearn: 0.1249719\ttotal: 682ms\tremaining: 1.14s\n",
      "375:\tlearn: 0.1248878\ttotal: 684ms\tremaining: 1.14s\n",
      "376:\tlearn: 0.1247174\ttotal: 686ms\tremaining: 1.13s\n",
      "377:\tlearn: 0.1244624\ttotal: 688ms\tremaining: 1.13s\n",
      "378:\tlearn: 0.1242217\ttotal: 689ms\tremaining: 1.13s\n",
      "379:\tlearn: 0.1240421\ttotal: 691ms\tremaining: 1.13s\n",
      "380:\tlearn: 0.1238790\ttotal: 693ms\tremaining: 1.13s\n",
      "381:\tlearn: 0.1235520\ttotal: 695ms\tremaining: 1.12s\n",
      "382:\tlearn: 0.1233755\ttotal: 697ms\tremaining: 1.12s\n"
     ]
    },
    {
     "name": "stdout",
     "output_type": "stream",
     "text": [
      "383:\tlearn: 0.1231959\ttotal: 699ms\tremaining: 1.12s\n",
      "384:\tlearn: 0.1230035\ttotal: 701ms\tremaining: 1.12s\n",
      "385:\tlearn: 0.1228602\ttotal: 703ms\tremaining: 1.12s\n",
      "386:\tlearn: 0.1226090\ttotal: 704ms\tremaining: 1.11s\n",
      "387:\tlearn: 0.1224386\ttotal: 706ms\tremaining: 1.11s\n",
      "388:\tlearn: 0.1224111\ttotal: 708ms\tremaining: 1.11s\n",
      "389:\tlearn: 0.1223560\ttotal: 711ms\tremaining: 1.11s\n",
      "390:\tlearn: 0.1223069\ttotal: 713ms\tremaining: 1.11s\n",
      "391:\tlearn: 0.1221584\ttotal: 715ms\tremaining: 1.11s\n",
      "392:\tlearn: 0.1219213\ttotal: 717ms\tremaining: 1.11s\n",
      "393:\tlearn: 0.1218053\ttotal: 719ms\tremaining: 1.1s\n",
      "394:\tlearn: 0.1216273\ttotal: 721ms\tremaining: 1.1s\n",
      "395:\tlearn: 0.1215628\ttotal: 723ms\tremaining: 1.1s\n",
      "396:\tlearn: 0.1214675\ttotal: 724ms\tremaining: 1.1s\n",
      "397:\tlearn: 0.1213575\ttotal: 726ms\tremaining: 1.1s\n",
      "398:\tlearn: 0.1212819\ttotal: 728ms\tremaining: 1.1s\n",
      "399:\tlearn: 0.1212079\ttotal: 730ms\tremaining: 1.09s\n",
      "400:\tlearn: 0.1211552\ttotal: 731ms\tremaining: 1.09s\n",
      "401:\tlearn: 0.1210130\ttotal: 733ms\tremaining: 1.09s\n",
      "402:\tlearn: 0.1208532\ttotal: 735ms\tremaining: 1.09s\n",
      "403:\tlearn: 0.1206186\ttotal: 737ms\tremaining: 1.09s\n",
      "404:\tlearn: 0.1205074\ttotal: 738ms\tremaining: 1.08s\n",
      "405:\tlearn: 0.1203304\ttotal: 740ms\tremaining: 1.08s\n",
      "406:\tlearn: 0.1200831\ttotal: 742ms\tremaining: 1.08s\n",
      "407:\tlearn: 0.1199730\ttotal: 744ms\tremaining: 1.08s\n",
      "408:\tlearn: 0.1198212\ttotal: 745ms\tremaining: 1.08s\n",
      "409:\tlearn: 0.1197598\ttotal: 747ms\tremaining: 1.07s\n",
      "410:\tlearn: 0.1196135\ttotal: 749ms\tremaining: 1.07s\n",
      "411:\tlearn: 0.1194615\ttotal: 751ms\tremaining: 1.07s\n",
      "412:\tlearn: 0.1192767\ttotal: 753ms\tremaining: 1.07s\n",
      "413:\tlearn: 0.1191311\ttotal: 754ms\tremaining: 1.07s\n",
      "414:\tlearn: 0.1190122\ttotal: 756ms\tremaining: 1.06s\n",
      "415:\tlearn: 0.1188735\ttotal: 758ms\tremaining: 1.06s\n",
      "416:\tlearn: 0.1187819\ttotal: 760ms\tremaining: 1.06s\n",
      "417:\tlearn: 0.1186887\ttotal: 762ms\tremaining: 1.06s\n",
      "418:\tlearn: 0.1184417\ttotal: 764ms\tremaining: 1.06s\n",
      "419:\tlearn: 0.1183020\ttotal: 765ms\tremaining: 1.06s\n",
      "420:\tlearn: 0.1180747\ttotal: 767ms\tremaining: 1.05s\n",
      "421:\tlearn: 0.1179943\ttotal: 769ms\tremaining: 1.05s\n",
      "422:\tlearn: 0.1177727\ttotal: 770ms\tremaining: 1.05s\n",
      "423:\tlearn: 0.1175233\ttotal: 772ms\tremaining: 1.05s\n",
      "424:\tlearn: 0.1172997\ttotal: 774ms\tremaining: 1.05s\n",
      "425:\tlearn: 0.1171807\ttotal: 776ms\tremaining: 1.05s\n",
      "426:\tlearn: 0.1170999\ttotal: 778ms\tremaining: 1.04s\n",
      "427:\tlearn: 0.1169135\ttotal: 780ms\tremaining: 1.04s\n",
      "428:\tlearn: 0.1168200\ttotal: 782ms\tremaining: 1.04s\n",
      "429:\tlearn: 0.1166904\ttotal: 784ms\tremaining: 1.04s\n",
      "430:\tlearn: 0.1165756\ttotal: 786ms\tremaining: 1.04s\n",
      "431:\tlearn: 0.1164784\ttotal: 788ms\tremaining: 1.03s\n",
      "432:\tlearn: 0.1163027\ttotal: 790ms\tremaining: 1.03s\n",
      "433:\tlearn: 0.1161845\ttotal: 792ms\tremaining: 1.03s\n",
      "434:\tlearn: 0.1160966\ttotal: 794ms\tremaining: 1.03s\n",
      "435:\tlearn: 0.1158851\ttotal: 796ms\tremaining: 1.03s\n",
      "436:\tlearn: 0.1156196\ttotal: 797ms\tremaining: 1.03s\n",
      "437:\tlearn: 0.1154459\ttotal: 799ms\tremaining: 1.02s\n",
      "438:\tlearn: 0.1152710\ttotal: 801ms\tremaining: 1.02s\n",
      "439:\tlearn: 0.1150678\ttotal: 803ms\tremaining: 1.02s\n",
      "440:\tlearn: 0.1149728\ttotal: 805ms\tremaining: 1.02s\n",
      "441:\tlearn: 0.1147705\ttotal: 807ms\tremaining: 1.02s\n",
      "442:\tlearn: 0.1147469\ttotal: 809ms\tremaining: 1.02s\n",
      "443:\tlearn: 0.1145338\ttotal: 811ms\tremaining: 1.01s\n",
      "444:\tlearn: 0.1142539\ttotal: 812ms\tremaining: 1.01s\n",
      "445:\tlearn: 0.1141673\ttotal: 814ms\tremaining: 1.01s\n",
      "446:\tlearn: 0.1140210\ttotal: 816ms\tremaining: 1.01s\n",
      "447:\tlearn: 0.1138956\ttotal: 818ms\tremaining: 1.01s\n",
      "448:\tlearn: 0.1137939\ttotal: 820ms\tremaining: 1.01s\n",
      "449:\tlearn: 0.1136718\ttotal: 822ms\tremaining: 1s\n",
      "450:\tlearn: 0.1135601\ttotal: 824ms\tremaining: 1s\n",
      "451:\tlearn: 0.1134142\ttotal: 826ms\tremaining: 1s\n",
      "452:\tlearn: 0.1131925\ttotal: 828ms\tremaining: 999ms\n",
      "453:\tlearn: 0.1131047\ttotal: 829ms\tremaining: 997ms\n",
      "454:\tlearn: 0.1130818\ttotal: 831ms\tremaining: 996ms\n",
      "455:\tlearn: 0.1129252\ttotal: 833ms\tremaining: 994ms\n",
      "456:\tlearn: 0.1128389\ttotal: 835ms\tremaining: 992ms\n",
      "457:\tlearn: 0.1127091\ttotal: 837ms\tremaining: 990ms\n",
      "458:\tlearn: 0.1125390\ttotal: 839ms\tremaining: 989ms\n",
      "459:\tlearn: 0.1122592\ttotal: 841ms\tremaining: 987ms\n",
      "460:\tlearn: 0.1121265\ttotal: 843ms\tremaining: 986ms\n",
      "461:\tlearn: 0.1120751\ttotal: 845ms\tremaining: 984ms\n",
      "462:\tlearn: 0.1119933\ttotal: 847ms\tremaining: 982ms\n",
      "463:\tlearn: 0.1118961\ttotal: 849ms\tremaining: 981ms\n",
      "464:\tlearn: 0.1118535\ttotal: 851ms\tremaining: 979ms\n",
      "465:\tlearn: 0.1117674\ttotal: 853ms\tremaining: 978ms\n",
      "466:\tlearn: 0.1116528\ttotal: 855ms\tremaining: 976ms\n",
      "467:\tlearn: 0.1114784\ttotal: 857ms\tremaining: 974ms\n",
      "468:\tlearn: 0.1113129\ttotal: 859ms\tremaining: 972ms\n",
      "469:\tlearn: 0.1110680\ttotal: 861ms\tremaining: 971ms\n",
      "470:\tlearn: 0.1109157\ttotal: 863ms\tremaining: 969ms\n",
      "471:\tlearn: 0.1107533\ttotal: 865ms\tremaining: 967ms\n",
      "472:\tlearn: 0.1106123\ttotal: 868ms\tremaining: 967ms\n",
      "473:\tlearn: 0.1103881\ttotal: 870ms\tremaining: 966ms\n",
      "474:\tlearn: 0.1101689\ttotal: 872ms\tremaining: 964ms\n",
      "475:\tlearn: 0.1099398\ttotal: 874ms\tremaining: 962ms\n",
      "476:\tlearn: 0.1097530\ttotal: 876ms\tremaining: 961ms\n",
      "477:\tlearn: 0.1096570\ttotal: 878ms\tremaining: 959ms\n",
      "478:\tlearn: 0.1094316\ttotal: 881ms\tremaining: 958ms\n",
      "479:\tlearn: 0.1093383\ttotal: 883ms\tremaining: 956ms\n",
      "480:\tlearn: 0.1092833\ttotal: 885ms\tremaining: 955ms\n",
      "481:\tlearn: 0.1090646\ttotal: 887ms\tremaining: 953ms\n",
      "482:\tlearn: 0.1088195\ttotal: 889ms\tremaining: 951ms\n",
      "483:\tlearn: 0.1086084\ttotal: 891ms\tremaining: 949ms\n",
      "484:\tlearn: 0.1084412\ttotal: 892ms\tremaining: 948ms\n",
      "485:\tlearn: 0.1083323\ttotal: 894ms\tremaining: 946ms\n",
      "486:\tlearn: 0.1081564\ttotal: 897ms\tremaining: 945ms\n",
      "487:\tlearn: 0.1080500\ttotal: 899ms\tremaining: 943ms\n",
      "488:\tlearn: 0.1078020\ttotal: 901ms\tremaining: 941ms\n",
      "489:\tlearn: 0.1075978\ttotal: 903ms\tremaining: 939ms\n",
      "490:\tlearn: 0.1074615\ttotal: 905ms\tremaining: 938ms\n",
      "491:\tlearn: 0.1072545\ttotal: 906ms\tremaining: 936ms\n",
      "492:\tlearn: 0.1071576\ttotal: 908ms\tremaining: 934ms\n",
      "493:\tlearn: 0.1069385\ttotal: 911ms\tremaining: 933ms\n",
      "494:\tlearn: 0.1067827\ttotal: 913ms\tremaining: 931ms\n",
      "495:\tlearn: 0.1065997\ttotal: 915ms\tremaining: 930ms\n",
      "496:\tlearn: 0.1063967\ttotal: 917ms\tremaining: 928ms\n",
      "497:\tlearn: 0.1063845\ttotal: 918ms\tremaining: 926ms\n",
      "498:\tlearn: 0.1062588\ttotal: 920ms\tremaining: 924ms\n",
      "499:\tlearn: 0.1062459\ttotal: 923ms\tremaining: 923ms\n",
      "500:\tlearn: 0.1061721\ttotal: 926ms\tremaining: 922ms\n",
      "501:\tlearn: 0.1060474\ttotal: 929ms\tremaining: 921ms\n",
      "502:\tlearn: 0.1059488\ttotal: 931ms\tremaining: 920ms\n",
      "503:\tlearn: 0.1057117\ttotal: 933ms\tremaining: 919ms\n",
      "504:\tlearn: 0.1055052\ttotal: 936ms\tremaining: 917ms\n",
      "505:\tlearn: 0.1053183\ttotal: 943ms\tremaining: 921ms\n",
      "506:\tlearn: 0.1051055\ttotal: 946ms\tremaining: 920ms\n",
      "507:\tlearn: 0.1048634\ttotal: 949ms\tremaining: 919ms\n",
      "508:\tlearn: 0.1047139\ttotal: 951ms\tremaining: 917ms\n",
      "509:\tlearn: 0.1046000\ttotal: 953ms\tremaining: 916ms\n",
      "510:\tlearn: 0.1044165\ttotal: 956ms\tremaining: 914ms\n",
      "511:\tlearn: 0.1043394\ttotal: 958ms\tremaining: 913ms\n",
      "512:\tlearn: 0.1041915\ttotal: 960ms\tremaining: 912ms\n",
      "513:\tlearn: 0.1040277\ttotal: 962ms\tremaining: 910ms\n",
      "514:\tlearn: 0.1037698\ttotal: 964ms\tremaining: 908ms\n",
      "515:\tlearn: 0.1036944\ttotal: 966ms\tremaining: 906ms\n",
      "516:\tlearn: 0.1035420\ttotal: 968ms\tremaining: 905ms\n",
      "517:\tlearn: 0.1034502\ttotal: 971ms\tremaining: 903ms\n",
      "518:\tlearn: 0.1032933\ttotal: 973ms\tremaining: 902ms\n",
      "519:\tlearn: 0.1031168\ttotal: 975ms\tremaining: 900ms\n",
      "520:\tlearn: 0.1029720\ttotal: 977ms\tremaining: 898ms\n",
      "521:\tlearn: 0.1028551\ttotal: 979ms\tremaining: 896ms\n",
      "522:\tlearn: 0.1026645\ttotal: 981ms\tremaining: 894ms\n",
      "523:\tlearn: 0.1025280\ttotal: 983ms\tremaining: 893ms\n",
      "524:\tlearn: 0.1024796\ttotal: 985ms\tremaining: 891ms\n",
      "525:\tlearn: 0.1023161\ttotal: 987ms\tremaining: 890ms\n",
      "526:\tlearn: 0.1021728\ttotal: 989ms\tremaining: 888ms\n",
      "527:\tlearn: 0.1020720\ttotal: 991ms\tremaining: 886ms\n",
      "528:\tlearn: 0.1019207\ttotal: 993ms\tremaining: 884ms\n",
      "529:\tlearn: 0.1017657\ttotal: 995ms\tremaining: 882ms\n",
      "530:\tlearn: 0.1017019\ttotal: 997ms\tremaining: 880ms\n",
      "531:\tlearn: 0.1015886\ttotal: 999ms\tremaining: 879ms\n",
      "532:\tlearn: 0.1013560\ttotal: 1s\tremaining: 877ms\n",
      "533:\tlearn: 0.1013106\ttotal: 1s\tremaining: 875ms\n",
      "534:\tlearn: 0.1011827\ttotal: 1s\tremaining: 874ms\n",
      "535:\tlearn: 0.1010911\ttotal: 1.01s\tremaining: 872ms\n",
      "536:\tlearn: 0.1008592\ttotal: 1.01s\tremaining: 870ms\n",
      "537:\tlearn: 0.1005687\ttotal: 1.01s\tremaining: 868ms\n",
      "538:\tlearn: 0.1004925\ttotal: 1.01s\tremaining: 866ms\n",
      "539:\tlearn: 0.1003313\ttotal: 1.01s\tremaining: 865ms\n",
      "540:\tlearn: 0.1002767\ttotal: 1.02s\tremaining: 863ms\n",
      "541:\tlearn: 0.1001312\ttotal: 1.02s\tremaining: 861ms\n",
      "542:\tlearn: 0.1000388\ttotal: 1.02s\tremaining: 859ms\n",
      "543:\tlearn: 0.0998674\ttotal: 1.02s\tremaining: 857ms\n",
      "544:\tlearn: 0.0997258\ttotal: 1.02s\tremaining: 856ms\n",
      "545:\tlearn: 0.0997138\ttotal: 1.03s\tremaining: 853ms\n",
      "546:\tlearn: 0.0996622\ttotal: 1.03s\tremaining: 852ms\n",
      "547:\tlearn: 0.0995394\ttotal: 1.03s\tremaining: 850ms\n",
      "548:\tlearn: 0.0993140\ttotal: 1.03s\tremaining: 849ms\n"
     ]
    },
    {
     "name": "stdout",
     "output_type": "stream",
     "text": [
      "549:\tlearn: 0.0992773\ttotal: 1.03s\tremaining: 847ms\n",
      "550:\tlearn: 0.0991722\ttotal: 1.04s\tremaining: 845ms\n",
      "551:\tlearn: 0.0990025\ttotal: 1.04s\tremaining: 843ms\n",
      "552:\tlearn: 0.0988029\ttotal: 1.04s\tremaining: 842ms\n",
      "553:\tlearn: 0.0987272\ttotal: 1.04s\tremaining: 840ms\n",
      "554:\tlearn: 0.0986456\ttotal: 1.04s\tremaining: 838ms\n",
      "555:\tlearn: 0.0984506\ttotal: 1.05s\tremaining: 836ms\n",
      "556:\tlearn: 0.0983344\ttotal: 1.05s\tremaining: 834ms\n",
      "557:\tlearn: 0.0981716\ttotal: 1.05s\tremaining: 833ms\n",
      "558:\tlearn: 0.0981084\ttotal: 1.05s\tremaining: 831ms\n",
      "559:\tlearn: 0.0979929\ttotal: 1.05s\tremaining: 829ms\n",
      "560:\tlearn: 0.0976841\ttotal: 1.06s\tremaining: 827ms\n",
      "561:\tlearn: 0.0975277\ttotal: 1.06s\tremaining: 825ms\n",
      "562:\tlearn: 0.0973438\ttotal: 1.06s\tremaining: 823ms\n",
      "563:\tlearn: 0.0972381\ttotal: 1.06s\tremaining: 822ms\n",
      "564:\tlearn: 0.0970421\ttotal: 1.06s\tremaining: 820ms\n",
      "565:\tlearn: 0.0968435\ttotal: 1.07s\tremaining: 818ms\n",
      "566:\tlearn: 0.0967265\ttotal: 1.07s\tremaining: 816ms\n",
      "567:\tlearn: 0.0966329\ttotal: 1.07s\tremaining: 814ms\n",
      "568:\tlearn: 0.0964491\ttotal: 1.07s\tremaining: 812ms\n",
      "569:\tlearn: 0.0962638\ttotal: 1.07s\tremaining: 811ms\n",
      "570:\tlearn: 0.0961671\ttotal: 1.08s\tremaining: 809ms\n",
      "571:\tlearn: 0.0959693\ttotal: 1.08s\tremaining: 807ms\n",
      "572:\tlearn: 0.0957117\ttotal: 1.08s\tremaining: 805ms\n",
      "573:\tlearn: 0.0956232\ttotal: 1.08s\tremaining: 803ms\n",
      "574:\tlearn: 0.0953325\ttotal: 1.08s\tremaining: 802ms\n",
      "575:\tlearn: 0.0952286\ttotal: 1.09s\tremaining: 800ms\n",
      "576:\tlearn: 0.0950526\ttotal: 1.09s\tremaining: 798ms\n",
      "577:\tlearn: 0.0950171\ttotal: 1.09s\tremaining: 796ms\n",
      "578:\tlearn: 0.0950061\ttotal: 1.09s\tremaining: 794ms\n",
      "579:\tlearn: 0.0949238\ttotal: 1.09s\tremaining: 792ms\n",
      "580:\tlearn: 0.0947800\ttotal: 1.09s\tremaining: 790ms\n",
      "581:\tlearn: 0.0946402\ttotal: 1.1s\tremaining: 788ms\n",
      "582:\tlearn: 0.0945561\ttotal: 1.1s\tremaining: 786ms\n",
      "583:\tlearn: 0.0944761\ttotal: 1.1s\tremaining: 784ms\n",
      "584:\tlearn: 0.0943725\ttotal: 1.1s\tremaining: 782ms\n",
      "585:\tlearn: 0.0942102\ttotal: 1.1s\tremaining: 781ms\n",
      "586:\tlearn: 0.0940104\ttotal: 1.11s\tremaining: 779ms\n",
      "587:\tlearn: 0.0938929\ttotal: 1.11s\tremaining: 777ms\n",
      "588:\tlearn: 0.0937122\ttotal: 1.11s\tremaining: 775ms\n",
      "589:\tlearn: 0.0937020\ttotal: 1.11s\tremaining: 773ms\n",
      "590:\tlearn: 0.0935428\ttotal: 1.11s\tremaining: 771ms\n",
      "591:\tlearn: 0.0934375\ttotal: 1.11s\tremaining: 769ms\n",
      "592:\tlearn: 0.0932794\ttotal: 1.12s\tremaining: 767ms\n",
      "593:\tlearn: 0.0932074\ttotal: 1.12s\tremaining: 765ms\n",
      "594:\tlearn: 0.0930605\ttotal: 1.12s\tremaining: 763ms\n",
      "595:\tlearn: 0.0929844\ttotal: 1.12s\tremaining: 761ms\n",
      "596:\tlearn: 0.0928592\ttotal: 1.12s\tremaining: 759ms\n",
      "597:\tlearn: 0.0928040\ttotal: 1.13s\tremaining: 757ms\n",
      "598:\tlearn: 0.0927690\ttotal: 1.13s\tremaining: 755ms\n",
      "599:\tlearn: 0.0926113\ttotal: 1.13s\tremaining: 753ms\n",
      "600:\tlearn: 0.0926003\ttotal: 1.13s\tremaining: 751ms\n",
      "601:\tlearn: 0.0924430\ttotal: 1.13s\tremaining: 749ms\n",
      "602:\tlearn: 0.0923703\ttotal: 1.13s\tremaining: 747ms\n",
      "603:\tlearn: 0.0922451\ttotal: 1.14s\tremaining: 745ms\n",
      "604:\tlearn: 0.0921064\ttotal: 1.14s\tremaining: 743ms\n",
      "605:\tlearn: 0.0920126\ttotal: 1.14s\tremaining: 741ms\n",
      "606:\tlearn: 0.0919116\ttotal: 1.14s\tremaining: 740ms\n",
      "607:\tlearn: 0.0918416\ttotal: 1.14s\tremaining: 738ms\n",
      "608:\tlearn: 0.0917842\ttotal: 1.15s\tremaining: 736ms\n",
      "609:\tlearn: 0.0917076\ttotal: 1.15s\tremaining: 734ms\n",
      "610:\tlearn: 0.0915255\ttotal: 1.15s\tremaining: 732ms\n",
      "611:\tlearn: 0.0914978\ttotal: 1.15s\tremaining: 730ms\n",
      "612:\tlearn: 0.0914180\ttotal: 1.15s\tremaining: 728ms\n",
      "613:\tlearn: 0.0912677\ttotal: 1.15s\tremaining: 726ms\n",
      "614:\tlearn: 0.0910827\ttotal: 1.16s\tremaining: 724ms\n",
      "615:\tlearn: 0.0910232\ttotal: 1.16s\tremaining: 722ms\n",
      "616:\tlearn: 0.0908837\ttotal: 1.16s\tremaining: 720ms\n",
      "617:\tlearn: 0.0907647\ttotal: 1.16s\tremaining: 718ms\n",
      "618:\tlearn: 0.0906862\ttotal: 1.16s\tremaining: 716ms\n",
      "619:\tlearn: 0.0906186\ttotal: 1.17s\tremaining: 714ms\n",
      "620:\tlearn: 0.0904742\ttotal: 1.17s\tremaining: 712ms\n",
      "621:\tlearn: 0.0903416\ttotal: 1.17s\tremaining: 710ms\n",
      "622:\tlearn: 0.0900068\ttotal: 1.17s\tremaining: 709ms\n",
      "623:\tlearn: 0.0898814\ttotal: 1.17s\tremaining: 707ms\n",
      "624:\tlearn: 0.0898751\ttotal: 1.17s\tremaining: 705ms\n",
      "625:\tlearn: 0.0898020\ttotal: 1.18s\tremaining: 703ms\n",
      "626:\tlearn: 0.0897098\ttotal: 1.18s\tremaining: 701ms\n",
      "627:\tlearn: 0.0895605\ttotal: 1.18s\tremaining: 699ms\n",
      "628:\tlearn: 0.0894924\ttotal: 1.18s\tremaining: 697ms\n",
      "629:\tlearn: 0.0894149\ttotal: 1.18s\tremaining: 695ms\n",
      "630:\tlearn: 0.0893002\ttotal: 1.19s\tremaining: 693ms\n",
      "631:\tlearn: 0.0891352\ttotal: 1.19s\tremaining: 691ms\n",
      "632:\tlearn: 0.0890366\ttotal: 1.19s\tremaining: 689ms\n",
      "633:\tlearn: 0.0889996\ttotal: 1.19s\tremaining: 687ms\n",
      "634:\tlearn: 0.0888259\ttotal: 1.19s\tremaining: 685ms\n",
      "635:\tlearn: 0.0887289\ttotal: 1.19s\tremaining: 683ms\n",
      "636:\tlearn: 0.0886165\ttotal: 1.2s\tremaining: 681ms\n",
      "637:\tlearn: 0.0885605\ttotal: 1.2s\tremaining: 679ms\n",
      "638:\tlearn: 0.0884458\ttotal: 1.2s\tremaining: 678ms\n",
      "639:\tlearn: 0.0883091\ttotal: 1.2s\tremaining: 676ms\n",
      "640:\tlearn: 0.0881628\ttotal: 1.2s\tremaining: 674ms\n",
      "641:\tlearn: 0.0881122\ttotal: 1.2s\tremaining: 672ms\n",
      "642:\tlearn: 0.0880227\ttotal: 1.21s\tremaining: 670ms\n",
      "643:\tlearn: 0.0878672\ttotal: 1.21s\tremaining: 668ms\n",
      "644:\tlearn: 0.0876503\ttotal: 1.21s\tremaining: 666ms\n",
      "645:\tlearn: 0.0876085\ttotal: 1.21s\tremaining: 665ms\n",
      "646:\tlearn: 0.0874480\ttotal: 1.21s\tremaining: 663ms\n",
      "647:\tlearn: 0.0873632\ttotal: 1.22s\tremaining: 661ms\n",
      "648:\tlearn: 0.0872506\ttotal: 1.22s\tremaining: 659ms\n",
      "649:\tlearn: 0.0871331\ttotal: 1.22s\tremaining: 657ms\n",
      "650:\tlearn: 0.0871016\ttotal: 1.22s\tremaining: 655ms\n",
      "651:\tlearn: 0.0869161\ttotal: 1.22s\tremaining: 653ms\n",
      "652:\tlearn: 0.0867433\ttotal: 1.23s\tremaining: 652ms\n",
      "653:\tlearn: 0.0866098\ttotal: 1.23s\tremaining: 650ms\n",
      "654:\tlearn: 0.0864804\ttotal: 1.23s\tremaining: 648ms\n",
      "655:\tlearn: 0.0863905\ttotal: 1.23s\tremaining: 646ms\n",
      "656:\tlearn: 0.0862572\ttotal: 1.23s\tremaining: 644ms\n",
      "657:\tlearn: 0.0860480\ttotal: 1.24s\tremaining: 643ms\n",
      "658:\tlearn: 0.0859292\ttotal: 1.24s\tremaining: 641ms\n",
      "659:\tlearn: 0.0857696\ttotal: 1.24s\tremaining: 639ms\n",
      "660:\tlearn: 0.0857092\ttotal: 1.24s\tremaining: 637ms\n",
      "661:\tlearn: 0.0856293\ttotal: 1.24s\tremaining: 635ms\n",
      "662:\tlearn: 0.0855565\ttotal: 1.25s\tremaining: 633ms\n",
      "663:\tlearn: 0.0854791\ttotal: 1.25s\tremaining: 631ms\n",
      "664:\tlearn: 0.0854648\ttotal: 1.25s\tremaining: 629ms\n",
      "665:\tlearn: 0.0853354\ttotal: 1.25s\tremaining: 627ms\n",
      "666:\tlearn: 0.0852890\ttotal: 1.25s\tremaining: 625ms\n",
      "667:\tlearn: 0.0851676\ttotal: 1.25s\tremaining: 623ms\n",
      "668:\tlearn: 0.0851189\ttotal: 1.25s\tremaining: 621ms\n",
      "669:\tlearn: 0.0849846\ttotal: 1.26s\tremaining: 619ms\n",
      "670:\tlearn: 0.0848039\ttotal: 1.26s\tremaining: 617ms\n",
      "671:\tlearn: 0.0846805\ttotal: 1.26s\tremaining: 615ms\n",
      "672:\tlearn: 0.0845270\ttotal: 1.26s\tremaining: 613ms\n",
      "673:\tlearn: 0.0843739\ttotal: 1.26s\tremaining: 612ms\n",
      "674:\tlearn: 0.0843362\ttotal: 1.27s\tremaining: 610ms\n",
      "675:\tlearn: 0.0841352\ttotal: 1.27s\tremaining: 608ms\n",
      "676:\tlearn: 0.0838233\ttotal: 1.27s\tremaining: 606ms\n",
      "677:\tlearn: 0.0837345\ttotal: 1.27s\tremaining: 604ms\n",
      "678:\tlearn: 0.0835872\ttotal: 1.27s\tremaining: 602ms\n",
      "679:\tlearn: 0.0835212\ttotal: 1.27s\tremaining: 600ms\n",
      "680:\tlearn: 0.0834844\ttotal: 1.28s\tremaining: 598ms\n",
      "681:\tlearn: 0.0833461\ttotal: 1.28s\tremaining: 596ms\n",
      "682:\tlearn: 0.0831103\ttotal: 1.28s\tremaining: 594ms\n",
      "683:\tlearn: 0.0829264\ttotal: 1.28s\tremaining: 592ms\n",
      "684:\tlearn: 0.0828262\ttotal: 1.28s\tremaining: 590ms\n",
      "685:\tlearn: 0.0827281\ttotal: 1.28s\tremaining: 588ms\n",
      "686:\tlearn: 0.0826301\ttotal: 1.29s\tremaining: 586ms\n",
      "687:\tlearn: 0.0824765\ttotal: 1.29s\tremaining: 584ms\n",
      "688:\tlearn: 0.0823216\ttotal: 1.29s\tremaining: 582ms\n",
      "689:\tlearn: 0.0822668\ttotal: 1.29s\tremaining: 580ms\n",
      "690:\tlearn: 0.0821494\ttotal: 1.29s\tremaining: 578ms\n",
      "691:\tlearn: 0.0820435\ttotal: 1.29s\tremaining: 576ms\n",
      "692:\tlearn: 0.0819844\ttotal: 1.3s\tremaining: 575ms\n",
      "693:\tlearn: 0.0819567\ttotal: 1.3s\tremaining: 573ms\n",
      "694:\tlearn: 0.0818062\ttotal: 1.3s\tremaining: 571ms\n",
      "695:\tlearn: 0.0817120\ttotal: 1.3s\tremaining: 569ms\n",
      "696:\tlearn: 0.0815882\ttotal: 1.3s\tremaining: 567ms\n",
      "697:\tlearn: 0.0813606\ttotal: 1.3s\tremaining: 565ms\n",
      "698:\tlearn: 0.0812776\ttotal: 1.31s\tremaining: 563ms\n",
      "699:\tlearn: 0.0811607\ttotal: 1.31s\tremaining: 561ms\n",
      "700:\tlearn: 0.0810500\ttotal: 1.31s\tremaining: 559ms\n",
      "701:\tlearn: 0.0809398\ttotal: 1.31s\tremaining: 557ms\n",
      "702:\tlearn: 0.0808252\ttotal: 1.31s\tremaining: 555ms\n",
      "703:\tlearn: 0.0807679\ttotal: 1.32s\tremaining: 553ms\n",
      "704:\tlearn: 0.0806551\ttotal: 1.32s\tremaining: 551ms\n",
      "705:\tlearn: 0.0805888\ttotal: 1.32s\tremaining: 549ms\n",
      "706:\tlearn: 0.0805405\ttotal: 1.32s\tremaining: 548ms\n",
      "707:\tlearn: 0.0805037\ttotal: 1.32s\tremaining: 546ms\n",
      "708:\tlearn: 0.0803372\ttotal: 1.32s\tremaining: 544ms\n",
      "709:\tlearn: 0.0801057\ttotal: 1.33s\tremaining: 542ms\n",
      "710:\tlearn: 0.0800099\ttotal: 1.33s\tremaining: 540ms\n",
      "711:\tlearn: 0.0798859\ttotal: 1.33s\tremaining: 538ms\n",
      "712:\tlearn: 0.0797324\ttotal: 1.33s\tremaining: 536ms\n",
      "713:\tlearn: 0.0796545\ttotal: 1.33s\tremaining: 534ms\n",
      "714:\tlearn: 0.0795217\ttotal: 1.33s\tremaining: 532ms\n",
      "715:\tlearn: 0.0794384\ttotal: 1.34s\tremaining: 530ms\n",
      "716:\tlearn: 0.0792996\ttotal: 1.34s\tremaining: 528ms\n",
      "717:\tlearn: 0.0791673\ttotal: 1.34s\tremaining: 526ms\n",
      "718:\tlearn: 0.0790656\ttotal: 1.34s\tremaining: 524ms\n",
      "719:\tlearn: 0.0789610\ttotal: 1.34s\tremaining: 522ms\n",
      "720:\tlearn: 0.0788446\ttotal: 1.34s\tremaining: 520ms\n",
      "721:\tlearn: 0.0787245\ttotal: 1.35s\tremaining: 518ms\n",
      "722:\tlearn: 0.0786981\ttotal: 1.35s\tremaining: 517ms\n",
      "723:\tlearn: 0.0786423\ttotal: 1.35s\tremaining: 515ms\n",
      "724:\tlearn: 0.0785960\ttotal: 1.35s\tremaining: 513ms\n",
      "725:\tlearn: 0.0784421\ttotal: 1.35s\tremaining: 511ms\n",
      "726:\tlearn: 0.0783593\ttotal: 1.35s\tremaining: 509ms\n",
      "727:\tlearn: 0.0781725\ttotal: 1.36s\tremaining: 507ms\n",
      "728:\tlearn: 0.0779432\ttotal: 1.36s\tremaining: 505ms\n",
      "729:\tlearn: 0.0779249\ttotal: 1.36s\tremaining: 503ms\n",
      "730:\tlearn: 0.0778524\ttotal: 1.36s\tremaining: 501ms\n",
      "731:\tlearn: 0.0777478\ttotal: 1.36s\tremaining: 499ms\n",
      "732:\tlearn: 0.0776944\ttotal: 1.36s\tremaining: 497ms\n",
      "733:\tlearn: 0.0776673\ttotal: 1.37s\tremaining: 495ms\n",
      "734:\tlearn: 0.0776174\ttotal: 1.37s\tremaining: 494ms\n",
      "735:\tlearn: 0.0776004\ttotal: 1.37s\tremaining: 492ms\n",
      "736:\tlearn: 0.0774890\ttotal: 1.37s\tremaining: 490ms\n",
      "737:\tlearn: 0.0774466\ttotal: 1.37s\tremaining: 488ms\n",
      "738:\tlearn: 0.0773519\ttotal: 1.38s\tremaining: 486ms\n",
      "739:\tlearn: 0.0772568\ttotal: 1.38s\tremaining: 484ms\n",
      "740:\tlearn: 0.0772206\ttotal: 1.38s\tremaining: 482ms\n",
      "741:\tlearn: 0.0771431\ttotal: 1.38s\tremaining: 481ms\n"
     ]
    },
    {
     "name": "stdout",
     "output_type": "stream",
     "text": [
      "742:\tlearn: 0.0770257\ttotal: 1.38s\tremaining: 479ms\n",
      "743:\tlearn: 0.0769450\ttotal: 1.39s\tremaining: 477ms\n",
      "744:\tlearn: 0.0768986\ttotal: 1.39s\tremaining: 475ms\n",
      "745:\tlearn: 0.0768021\ttotal: 1.39s\tremaining: 473ms\n",
      "746:\tlearn: 0.0767628\ttotal: 1.39s\tremaining: 471ms\n",
      "747:\tlearn: 0.0765848\ttotal: 1.39s\tremaining: 469ms\n",
      "748:\tlearn: 0.0765382\ttotal: 1.39s\tremaining: 467ms\n",
      "749:\tlearn: 0.0763646\ttotal: 1.4s\tremaining: 466ms\n",
      "750:\tlearn: 0.0762548\ttotal: 1.4s\tremaining: 464ms\n",
      "751:\tlearn: 0.0761875\ttotal: 1.4s\tremaining: 462ms\n",
      "752:\tlearn: 0.0761329\ttotal: 1.4s\tremaining: 460ms\n",
      "753:\tlearn: 0.0760608\ttotal: 1.4s\tremaining: 458ms\n",
      "754:\tlearn: 0.0760369\ttotal: 1.41s\tremaining: 456ms\n",
      "755:\tlearn: 0.0759381\ttotal: 1.41s\tremaining: 454ms\n",
      "756:\tlearn: 0.0759234\ttotal: 1.41s\tremaining: 453ms\n",
      "757:\tlearn: 0.0758778\ttotal: 1.41s\tremaining: 451ms\n",
      "758:\tlearn: 0.0758185\ttotal: 1.41s\tremaining: 449ms\n",
      "759:\tlearn: 0.0757807\ttotal: 1.42s\tremaining: 447ms\n",
      "760:\tlearn: 0.0757310\ttotal: 1.42s\tremaining: 445ms\n",
      "761:\tlearn: 0.0755874\ttotal: 1.42s\tremaining: 443ms\n",
      "762:\tlearn: 0.0755603\ttotal: 1.42s\tremaining: 441ms\n",
      "763:\tlearn: 0.0754705\ttotal: 1.42s\tremaining: 440ms\n",
      "764:\tlearn: 0.0753668\ttotal: 1.42s\tremaining: 438ms\n",
      "765:\tlearn: 0.0753043\ttotal: 1.43s\tremaining: 436ms\n",
      "766:\tlearn: 0.0752539\ttotal: 1.43s\tremaining: 434ms\n",
      "767:\tlearn: 0.0752246\ttotal: 1.43s\tremaining: 432ms\n",
      "768:\tlearn: 0.0751946\ttotal: 1.43s\tremaining: 430ms\n",
      "769:\tlearn: 0.0751881\ttotal: 1.43s\tremaining: 428ms\n",
      "770:\tlearn: 0.0750878\ttotal: 1.44s\tremaining: 427ms\n",
      "771:\tlearn: 0.0750583\ttotal: 1.44s\tremaining: 425ms\n",
      "772:\tlearn: 0.0749566\ttotal: 1.44s\tremaining: 423ms\n",
      "773:\tlearn: 0.0748629\ttotal: 1.44s\tremaining: 421ms\n",
      "774:\tlearn: 0.0747690\ttotal: 1.44s\tremaining: 419ms\n",
      "775:\tlearn: 0.0747433\ttotal: 1.45s\tremaining: 417ms\n",
      "776:\tlearn: 0.0747007\ttotal: 1.45s\tremaining: 415ms\n",
      "777:\tlearn: 0.0745378\ttotal: 1.45s\tremaining: 413ms\n",
      "778:\tlearn: 0.0744229\ttotal: 1.45s\tremaining: 411ms\n",
      "779:\tlearn: 0.0743511\ttotal: 1.45s\tremaining: 410ms\n",
      "780:\tlearn: 0.0742482\ttotal: 1.45s\tremaining: 408ms\n",
      "781:\tlearn: 0.0740707\ttotal: 1.46s\tremaining: 406ms\n",
      "782:\tlearn: 0.0740096\ttotal: 1.46s\tremaining: 404ms\n",
      "783:\tlearn: 0.0739940\ttotal: 1.46s\tremaining: 402ms\n",
      "784:\tlearn: 0.0739863\ttotal: 1.46s\tremaining: 400ms\n",
      "785:\tlearn: 0.0738966\ttotal: 1.46s\tremaining: 398ms\n",
      "786:\tlearn: 0.0738114\ttotal: 1.46s\tremaining: 396ms\n",
      "787:\tlearn: 0.0737400\ttotal: 1.47s\tremaining: 395ms\n",
      "788:\tlearn: 0.0736597\ttotal: 1.47s\tremaining: 393ms\n",
      "789:\tlearn: 0.0735756\ttotal: 1.47s\tremaining: 391ms\n",
      "790:\tlearn: 0.0735303\ttotal: 1.47s\tremaining: 389ms\n",
      "791:\tlearn: 0.0734088\ttotal: 1.47s\tremaining: 387ms\n",
      "792:\tlearn: 0.0733491\ttotal: 1.48s\tremaining: 385ms\n",
      "793:\tlearn: 0.0732610\ttotal: 1.48s\tremaining: 383ms\n",
      "794:\tlearn: 0.0731731\ttotal: 1.48s\tremaining: 381ms\n",
      "795:\tlearn: 0.0731251\ttotal: 1.48s\tremaining: 379ms\n",
      "796:\tlearn: 0.0730756\ttotal: 1.48s\tremaining: 378ms\n",
      "797:\tlearn: 0.0730228\ttotal: 1.48s\tremaining: 376ms\n",
      "798:\tlearn: 0.0729993\ttotal: 1.49s\tremaining: 374ms\n",
      "799:\tlearn: 0.0729744\ttotal: 1.49s\tremaining: 372ms\n",
      "800:\tlearn: 0.0729067\ttotal: 1.49s\tremaining: 370ms\n",
      "801:\tlearn: 0.0728291\ttotal: 1.49s\tremaining: 368ms\n",
      "802:\tlearn: 0.0726706\ttotal: 1.49s\tremaining: 366ms\n",
      "803:\tlearn: 0.0726133\ttotal: 1.49s\tremaining: 364ms\n",
      "804:\tlearn: 0.0725856\ttotal: 1.5s\tremaining: 363ms\n",
      "805:\tlearn: 0.0724712\ttotal: 1.5s\tremaining: 361ms\n",
      "806:\tlearn: 0.0724093\ttotal: 1.5s\tremaining: 359ms\n",
      "807:\tlearn: 0.0723848\ttotal: 1.5s\tremaining: 357ms\n",
      "808:\tlearn: 0.0723090\ttotal: 1.5s\tremaining: 355ms\n",
      "809:\tlearn: 0.0722294\ttotal: 1.5s\tremaining: 353ms\n",
      "810:\tlearn: 0.0721473\ttotal: 1.51s\tremaining: 351ms\n",
      "811:\tlearn: 0.0721338\ttotal: 1.51s\tremaining: 349ms\n",
      "812:\tlearn: 0.0720509\ttotal: 1.51s\tremaining: 347ms\n",
      "813:\tlearn: 0.0719113\ttotal: 1.51s\tremaining: 345ms\n",
      "814:\tlearn: 0.0717797\ttotal: 1.51s\tremaining: 344ms\n",
      "815:\tlearn: 0.0716084\ttotal: 1.51s\tremaining: 342ms\n",
      "816:\tlearn: 0.0715115\ttotal: 1.52s\tremaining: 340ms\n",
      "817:\tlearn: 0.0714587\ttotal: 1.52s\tremaining: 338ms\n",
      "818:\tlearn: 0.0714319\ttotal: 1.52s\tremaining: 336ms\n",
      "819:\tlearn: 0.0713061\ttotal: 1.52s\tremaining: 334ms\n",
      "820:\tlearn: 0.0712322\ttotal: 1.52s\tremaining: 332ms\n",
      "821:\tlearn: 0.0711290\ttotal: 1.53s\tremaining: 331ms\n",
      "822:\tlearn: 0.0711171\ttotal: 1.53s\tremaining: 329ms\n",
      "823:\tlearn: 0.0710987\ttotal: 1.53s\tremaining: 327ms\n",
      "824:\tlearn: 0.0710913\ttotal: 1.53s\tremaining: 325ms\n",
      "825:\tlearn: 0.0709611\ttotal: 1.53s\tremaining: 323ms\n",
      "826:\tlearn: 0.0708826\ttotal: 1.53s\tremaining: 321ms\n",
      "827:\tlearn: 0.0708108\ttotal: 1.54s\tremaining: 319ms\n",
      "828:\tlearn: 0.0706906\ttotal: 1.54s\tremaining: 317ms\n",
      "829:\tlearn: 0.0706195\ttotal: 1.54s\tremaining: 315ms\n",
      "830:\tlearn: 0.0705882\ttotal: 1.54s\tremaining: 314ms\n",
      "831:\tlearn: 0.0704946\ttotal: 1.54s\tremaining: 312ms\n",
      "832:\tlearn: 0.0704875\ttotal: 1.54s\tremaining: 310ms\n",
      "833:\tlearn: 0.0704446\ttotal: 1.55s\tremaining: 308ms\n",
      "834:\tlearn: 0.0703384\ttotal: 1.55s\tremaining: 306ms\n",
      "835:\tlearn: 0.0701698\ttotal: 1.55s\tremaining: 304ms\n",
      "836:\tlearn: 0.0700864\ttotal: 1.55s\tremaining: 302ms\n",
      "837:\tlearn: 0.0700181\ttotal: 1.55s\tremaining: 301ms\n",
      "838:\tlearn: 0.0699408\ttotal: 1.56s\tremaining: 299ms\n",
      "839:\tlearn: 0.0699111\ttotal: 1.56s\tremaining: 297ms\n",
      "840:\tlearn: 0.0698993\ttotal: 1.56s\tremaining: 295ms\n",
      "841:\tlearn: 0.0697955\ttotal: 1.56s\tremaining: 293ms\n",
      "842:\tlearn: 0.0697540\ttotal: 1.56s\tremaining: 291ms\n",
      "843:\tlearn: 0.0697160\ttotal: 1.57s\tremaining: 289ms\n",
      "844:\tlearn: 0.0697022\ttotal: 1.57s\tremaining: 288ms\n",
      "845:\tlearn: 0.0696104\ttotal: 1.57s\tremaining: 286ms\n",
      "846:\tlearn: 0.0695752\ttotal: 1.57s\tremaining: 284ms\n",
      "847:\tlearn: 0.0695239\ttotal: 1.57s\tremaining: 282ms\n",
      "848:\tlearn: 0.0694774\ttotal: 1.57s\tremaining: 280ms\n",
      "849:\tlearn: 0.0694119\ttotal: 1.58s\tremaining: 278ms\n",
      "850:\tlearn: 0.0693137\ttotal: 1.58s\tremaining: 277ms\n",
      "851:\tlearn: 0.0691915\ttotal: 1.58s\tremaining: 275ms\n",
      "852:\tlearn: 0.0691570\ttotal: 1.58s\tremaining: 273ms\n",
      "853:\tlearn: 0.0689618\ttotal: 1.58s\tremaining: 271ms\n",
      "854:\tlearn: 0.0688433\ttotal: 1.59s\tremaining: 269ms\n",
      "855:\tlearn: 0.0687670\ttotal: 1.59s\tremaining: 267ms\n",
      "856:\tlearn: 0.0687420\ttotal: 1.59s\tremaining: 265ms\n",
      "857:\tlearn: 0.0686355\ttotal: 1.59s\tremaining: 264ms\n",
      "858:\tlearn: 0.0684943\ttotal: 1.59s\tremaining: 262ms\n",
      "859:\tlearn: 0.0683855\ttotal: 1.6s\tremaining: 260ms\n",
      "860:\tlearn: 0.0683234\ttotal: 1.6s\tremaining: 258ms\n",
      "861:\tlearn: 0.0682572\ttotal: 1.6s\tremaining: 256ms\n",
      "862:\tlearn: 0.0682256\ttotal: 1.6s\tremaining: 254ms\n",
      "863:\tlearn: 0.0681548\ttotal: 1.6s\tremaining: 253ms\n",
      "864:\tlearn: 0.0680837\ttotal: 1.61s\tremaining: 251ms\n",
      "865:\tlearn: 0.0680059\ttotal: 1.61s\tremaining: 249ms\n",
      "866:\tlearn: 0.0678141\ttotal: 1.61s\tremaining: 247ms\n",
      "867:\tlearn: 0.0677276\ttotal: 1.61s\tremaining: 245ms\n",
      "868:\tlearn: 0.0675658\ttotal: 1.61s\tremaining: 243ms\n",
      "869:\tlearn: 0.0674785\ttotal: 1.62s\tremaining: 242ms\n",
      "870:\tlearn: 0.0673431\ttotal: 1.62s\tremaining: 240ms\n",
      "871:\tlearn: 0.0673109\ttotal: 1.62s\tremaining: 238ms\n",
      "872:\tlearn: 0.0672423\ttotal: 1.62s\tremaining: 236ms\n",
      "873:\tlearn: 0.0671935\ttotal: 1.62s\tremaining: 234ms\n",
      "874:\tlearn: 0.0671237\ttotal: 1.62s\tremaining: 232ms\n",
      "875:\tlearn: 0.0670584\ttotal: 1.63s\tremaining: 230ms\n",
      "876:\tlearn: 0.0669647\ttotal: 1.63s\tremaining: 228ms\n",
      "877:\tlearn: 0.0669374\ttotal: 1.63s\tremaining: 227ms\n",
      "878:\tlearn: 0.0668378\ttotal: 1.63s\tremaining: 225ms\n",
      "879:\tlearn: 0.0666807\ttotal: 1.63s\tremaining: 223ms\n",
      "880:\tlearn: 0.0666419\ttotal: 1.64s\tremaining: 221ms\n",
      "881:\tlearn: 0.0665543\ttotal: 1.64s\tremaining: 219ms\n",
      "882:\tlearn: 0.0664802\ttotal: 1.64s\tremaining: 217ms\n",
      "883:\tlearn: 0.0663754\ttotal: 1.64s\tremaining: 215ms\n",
      "884:\tlearn: 0.0662800\ttotal: 1.64s\tremaining: 213ms\n",
      "885:\tlearn: 0.0661746\ttotal: 1.64s\tremaining: 212ms\n",
      "886:\tlearn: 0.0660470\ttotal: 1.65s\tremaining: 210ms\n",
      "887:\tlearn: 0.0658779\ttotal: 1.65s\tremaining: 208ms\n",
      "888:\tlearn: 0.0657957\ttotal: 1.65s\tremaining: 206ms\n",
      "889:\tlearn: 0.0657431\ttotal: 1.65s\tremaining: 204ms\n",
      "890:\tlearn: 0.0656738\ttotal: 1.65s\tremaining: 202ms\n",
      "891:\tlearn: 0.0655562\ttotal: 1.66s\tremaining: 200ms\n",
      "892:\tlearn: 0.0654381\ttotal: 1.66s\tremaining: 199ms\n",
      "893:\tlearn: 0.0653056\ttotal: 1.66s\tremaining: 197ms\n",
      "894:\tlearn: 0.0651824\ttotal: 1.66s\tremaining: 195ms\n",
      "895:\tlearn: 0.0651725\ttotal: 1.66s\tremaining: 193ms\n",
      "896:\tlearn: 0.0650848\ttotal: 1.66s\tremaining: 191ms\n",
      "897:\tlearn: 0.0650262\ttotal: 1.67s\tremaining: 189ms\n",
      "898:\tlearn: 0.0649800\ttotal: 1.67s\tremaining: 187ms\n",
      "899:\tlearn: 0.0649479\ttotal: 1.67s\tremaining: 185ms\n",
      "900:\tlearn: 0.0648623\ttotal: 1.67s\tremaining: 184ms\n",
      "901:\tlearn: 0.0647876\ttotal: 1.67s\tremaining: 182ms\n",
      "902:\tlearn: 0.0646895\ttotal: 1.67s\tremaining: 180ms\n",
      "903:\tlearn: 0.0645804\ttotal: 1.68s\tremaining: 178ms\n",
      "904:\tlearn: 0.0645575\ttotal: 1.68s\tremaining: 176ms\n",
      "905:\tlearn: 0.0644153\ttotal: 1.68s\tremaining: 174ms\n",
      "906:\tlearn: 0.0643307\ttotal: 1.68s\tremaining: 172ms\n",
      "907:\tlearn: 0.0642448\ttotal: 1.68s\tremaining: 171ms\n",
      "908:\tlearn: 0.0641676\ttotal: 1.69s\tremaining: 169ms\n",
      "909:\tlearn: 0.0641401\ttotal: 1.69s\tremaining: 167ms\n",
      "910:\tlearn: 0.0640740\ttotal: 1.69s\tremaining: 165ms\n",
      "911:\tlearn: 0.0640168\ttotal: 1.69s\tremaining: 163ms\n",
      "912:\tlearn: 0.0639822\ttotal: 1.69s\tremaining: 161ms\n",
      "913:\tlearn: 0.0639657\ttotal: 1.69s\tremaining: 159ms\n",
      "914:\tlearn: 0.0638856\ttotal: 1.7s\tremaining: 158ms\n",
      "915:\tlearn: 0.0637784\ttotal: 1.7s\tremaining: 156ms\n",
      "916:\tlearn: 0.0637531\ttotal: 1.7s\tremaining: 154ms\n",
      "917:\tlearn: 0.0636563\ttotal: 1.7s\tremaining: 152ms\n",
      "918:\tlearn: 0.0635939\ttotal: 1.7s\tremaining: 150ms\n",
      "919:\tlearn: 0.0635257\ttotal: 1.7s\tremaining: 148ms\n",
      "920:\tlearn: 0.0634347\ttotal: 1.71s\tremaining: 146ms\n",
      "921:\tlearn: 0.0632965\ttotal: 1.71s\tremaining: 145ms\n",
      "922:\tlearn: 0.0632724\ttotal: 1.71s\tremaining: 143ms\n",
      "923:\tlearn: 0.0632555\ttotal: 1.71s\tremaining: 141ms\n",
      "924:\tlearn: 0.0632326\ttotal: 1.71s\tremaining: 139ms\n",
      "925:\tlearn: 0.0631491\ttotal: 1.72s\tremaining: 137ms\n",
      "926:\tlearn: 0.0630349\ttotal: 1.72s\tremaining: 135ms\n",
      "927:\tlearn: 0.0628979\ttotal: 1.72s\tremaining: 133ms\n",
      "928:\tlearn: 0.0628861\ttotal: 1.72s\tremaining: 131ms\n",
      "929:\tlearn: 0.0628776\ttotal: 1.72s\tremaining: 130ms\n",
      "930:\tlearn: 0.0628143\ttotal: 1.72s\tremaining: 128ms\n",
      "931:\tlearn: 0.0627412\ttotal: 1.73s\tremaining: 126ms\n",
      "932:\tlearn: 0.0627135\ttotal: 1.73s\tremaining: 124ms\n",
      "933:\tlearn: 0.0626882\ttotal: 1.73s\tremaining: 122ms\n",
      "934:\tlearn: 0.0626790\ttotal: 1.73s\tremaining: 120ms\n"
     ]
    },
    {
     "name": "stdout",
     "output_type": "stream",
     "text": [
      "935:\tlearn: 0.0626271\ttotal: 1.73s\tremaining: 118ms\n",
      "936:\tlearn: 0.0625996\ttotal: 1.73s\tremaining: 117ms\n",
      "937:\tlearn: 0.0625215\ttotal: 1.74s\tremaining: 115ms\n",
      "938:\tlearn: 0.0625067\ttotal: 1.74s\tremaining: 113ms\n",
      "939:\tlearn: 0.0624120\ttotal: 1.74s\tremaining: 111ms\n",
      "940:\tlearn: 0.0623489\ttotal: 1.74s\tremaining: 109ms\n",
      "941:\tlearn: 0.0623422\ttotal: 1.74s\tremaining: 107ms\n",
      "942:\tlearn: 0.0623335\ttotal: 1.75s\tremaining: 106ms\n",
      "943:\tlearn: 0.0622576\ttotal: 1.75s\tremaining: 104ms\n",
      "944:\tlearn: 0.0622404\ttotal: 1.75s\tremaining: 102ms\n",
      "945:\tlearn: 0.0621773\ttotal: 1.75s\tremaining: 99.9ms\n",
      "946:\tlearn: 0.0621586\ttotal: 1.75s\tremaining: 98.1ms\n",
      "947:\tlearn: 0.0620847\ttotal: 1.75s\tremaining: 96.3ms\n",
      "948:\tlearn: 0.0619601\ttotal: 1.76s\tremaining: 94.4ms\n",
      "949:\tlearn: 0.0619078\ttotal: 1.76s\tremaining: 92.6ms\n",
      "950:\tlearn: 0.0617949\ttotal: 1.76s\tremaining: 90.8ms\n",
      "951:\tlearn: 0.0617738\ttotal: 1.76s\tremaining: 88.9ms\n",
      "952:\tlearn: 0.0616966\ttotal: 1.76s\tremaining: 87ms\n",
      "953:\tlearn: 0.0616361\ttotal: 1.77s\tremaining: 85.2ms\n",
      "954:\tlearn: 0.0616188\ttotal: 1.77s\tremaining: 83.3ms\n",
      "955:\tlearn: 0.0615738\ttotal: 1.77s\tremaining: 81.5ms\n",
      "956:\tlearn: 0.0614449\ttotal: 1.77s\tremaining: 79.6ms\n",
      "957:\tlearn: 0.0614126\ttotal: 1.77s\tremaining: 77.8ms\n",
      "958:\tlearn: 0.0613492\ttotal: 1.77s\tremaining: 75.9ms\n",
      "959:\tlearn: 0.0612759\ttotal: 1.78s\tremaining: 74ms\n",
      "960:\tlearn: 0.0612498\ttotal: 1.78s\tremaining: 72.2ms\n",
      "961:\tlearn: 0.0611897\ttotal: 1.78s\tremaining: 70.3ms\n",
      "962:\tlearn: 0.0611815\ttotal: 1.78s\tremaining: 68.5ms\n",
      "963:\tlearn: 0.0611192\ttotal: 1.78s\tremaining: 66.6ms\n",
      "964:\tlearn: 0.0610099\ttotal: 1.79s\tremaining: 64.8ms\n",
      "965:\tlearn: 0.0609231\ttotal: 1.79s\tremaining: 62.9ms\n",
      "966:\tlearn: 0.0608456\ttotal: 1.79s\tremaining: 61.1ms\n",
      "967:\tlearn: 0.0607764\ttotal: 1.79s\tremaining: 59.2ms\n",
      "968:\tlearn: 0.0606610\ttotal: 1.79s\tremaining: 57.4ms\n",
      "969:\tlearn: 0.0605988\ttotal: 1.79s\tremaining: 55.5ms\n",
      "970:\tlearn: 0.0605556\ttotal: 1.8s\tremaining: 53.6ms\n",
      "971:\tlearn: 0.0604608\ttotal: 1.8s\tremaining: 51.8ms\n",
      "972:\tlearn: 0.0603979\ttotal: 1.8s\tremaining: 49.9ms\n",
      "973:\tlearn: 0.0603387\ttotal: 1.8s\tremaining: 48.1ms\n",
      "974:\tlearn: 0.0603099\ttotal: 1.8s\tremaining: 46.2ms\n",
      "975:\tlearn: 0.0602408\ttotal: 1.8s\tremaining: 44.4ms\n",
      "976:\tlearn: 0.0601570\ttotal: 1.81s\tremaining: 42.5ms\n",
      "977:\tlearn: 0.0600733\ttotal: 1.81s\tremaining: 40.7ms\n",
      "978:\tlearn: 0.0600211\ttotal: 1.81s\tremaining: 38.8ms\n",
      "979:\tlearn: 0.0600133\ttotal: 1.81s\tremaining: 37ms\n",
      "980:\tlearn: 0.0599739\ttotal: 1.81s\tremaining: 35.1ms\n",
      "981:\tlearn: 0.0599122\ttotal: 1.81s\tremaining: 33.3ms\n",
      "982:\tlearn: 0.0598712\ttotal: 1.82s\tremaining: 31.4ms\n",
      "983:\tlearn: 0.0597889\ttotal: 1.82s\tremaining: 29.6ms\n",
      "984:\tlearn: 0.0596941\ttotal: 1.82s\tremaining: 27.7ms\n",
      "985:\tlearn: 0.0596700\ttotal: 1.82s\tremaining: 25.9ms\n",
      "986:\tlearn: 0.0596623\ttotal: 1.82s\tremaining: 24ms\n",
      "987:\tlearn: 0.0596301\ttotal: 1.82s\tremaining: 22.2ms\n",
      "988:\tlearn: 0.0595413\ttotal: 1.83s\tremaining: 20.3ms\n",
      "989:\tlearn: 0.0595133\ttotal: 1.83s\tremaining: 18.5ms\n",
      "990:\tlearn: 0.0593932\ttotal: 1.83s\tremaining: 16.6ms\n",
      "991:\tlearn: 0.0593396\ttotal: 1.83s\tremaining: 14.8ms\n",
      "992:\tlearn: 0.0592522\ttotal: 1.83s\tremaining: 12.9ms\n",
      "993:\tlearn: 0.0592048\ttotal: 1.83s\tremaining: 11.1ms\n",
      "994:\tlearn: 0.0591283\ttotal: 1.84s\tremaining: 9.23ms\n",
      "995:\tlearn: 0.0590510\ttotal: 1.84s\tremaining: 7.39ms\n",
      "996:\tlearn: 0.0590285\ttotal: 1.84s\tremaining: 5.54ms\n",
      "997:\tlearn: 0.0589330\ttotal: 1.84s\tremaining: 3.69ms\n",
      "998:\tlearn: 0.0589258\ttotal: 1.84s\tremaining: 1.85ms\n",
      "999:\tlearn: 0.0589099\ttotal: 1.85s\tremaining: 0us\n"
     ]
    }
   ],
   "source": [
    "cb_model = CatBoostClassifier().fit(X_train, y_train)"
   ]
  },
  {
   "cell_type": "code",
   "execution_count": 159,
   "metadata": {},
   "outputs": [
    {
     "data": {
      "text/plain": [
       "0.9570957095709571"
      ]
     },
     "execution_count": 159,
     "metadata": {},
     "output_type": "execute_result"
    }
   ],
   "source": [
    "y_pred = cb_model.predict(X_test)\n",
    "accuracy_score(y_test, y_pred)"
   ]
  },
  {
   "cell_type": "markdown",
   "metadata": {},
   "source": [
    "# Tuning"
   ]
  },
  {
   "cell_type": "code",
   "execution_count": 163,
   "metadata": {},
   "outputs": [],
   "source": [
    "cb_params = {\"learning_rate\": [0.001,0.01,0.1,0.2,0.3],\n",
    "             \"n_estimators\": [100,500,1000],\n",
    "             \"depth\": [3,5,10]}\n",
    "cb = CatBoostClassifier()"
   ]
  },
  {
   "cell_type": "code",
   "execution_count": 164,
   "metadata": {},
   "outputs": [],
   "source": [
    "cb_cv = GridSearchCV(cb, cb_params, cv=10, n_jobs=-1, verbose=2)"
   ]
  },
  {
   "cell_type": "code",
   "execution_count": 165,
   "metadata": {
    "scrolled": true
   },
   "outputs": [
    {
     "name": "stdout",
     "output_type": "stream",
     "text": [
      "Fitting 10 folds for each of 45 candidates, totalling 450 fits\n"
     ]
    },
    {
     "name": "stderr",
     "output_type": "stream",
     "text": [
      "[Parallel(n_jobs=-1)]: Using backend LokyBackend with 8 concurrent workers.\n",
      "[Parallel(n_jobs=-1)]: Done  25 tasks      | elapsed:   13.3s\n",
      "[Parallel(n_jobs=-1)]: Done 146 tasks      | elapsed:  1.4min\n",
      "[Parallel(n_jobs=-1)]: Done 349 tasks      | elapsed:  9.6min\n",
      "[Parallel(n_jobs=-1)]: Done 450 out of 450 | elapsed: 24.3min finished\n"
     ]
    },
    {
     "name": "stdout",
     "output_type": "stream",
     "text": [
      "0:\tlearn: 0.4952386\ttotal: 2.89ms\tremaining: 1.44s\n",
      "1:\tlearn: 0.3916579\ttotal: 5.13ms\tremaining: 1.28s\n",
      "2:\tlearn: 0.3391376\ttotal: 6.7ms\tremaining: 1.11s\n",
      "3:\tlearn: 0.2918298\ttotal: 8.69ms\tremaining: 1.08s\n",
      "4:\tlearn: 0.2599923\ttotal: 10.5ms\tremaining: 1.04s\n",
      "5:\tlearn: 0.2393664\ttotal: 12.4ms\tremaining: 1.02s\n",
      "6:\tlearn: 0.2230976\ttotal: 14.6ms\tremaining: 1.03s\n",
      "7:\tlearn: 0.2126183\ttotal: 16.7ms\tremaining: 1.03s\n",
      "8:\tlearn: 0.2031437\ttotal: 18.7ms\tremaining: 1.02s\n",
      "9:\tlearn: 0.1967214\ttotal: 20.5ms\tremaining: 1s\n",
      "10:\tlearn: 0.1869060\ttotal: 22.4ms\tremaining: 995ms\n",
      "11:\tlearn: 0.1818780\ttotal: 24.3ms\tremaining: 987ms\n",
      "12:\tlearn: 0.1763484\ttotal: 26.4ms\tremaining: 988ms\n",
      "13:\tlearn: 0.1719076\ttotal: 28.3ms\tremaining: 982ms\n",
      "14:\tlearn: 0.1697714\ttotal: 30.3ms\tremaining: 979ms\n",
      "15:\tlearn: 0.1678984\ttotal: 32.4ms\tremaining: 979ms\n",
      "16:\tlearn: 0.1606738\ttotal: 34.3ms\tremaining: 974ms\n",
      "17:\tlearn: 0.1581706\ttotal: 36.3ms\tremaining: 971ms\n",
      "18:\tlearn: 0.1557186\ttotal: 38.2ms\tremaining: 966ms\n",
      "19:\tlearn: 0.1537084\ttotal: 40.2ms\tremaining: 966ms\n",
      "20:\tlearn: 0.1518605\ttotal: 42.2ms\tremaining: 963ms\n",
      "21:\tlearn: 0.1488825\ttotal: 44.2ms\tremaining: 960ms\n",
      "22:\tlearn: 0.1475153\ttotal: 46.2ms\tremaining: 958ms\n",
      "23:\tlearn: 0.1443545\ttotal: 48ms\tremaining: 953ms\n",
      "24:\tlearn: 0.1426969\ttotal: 49.8ms\tremaining: 947ms\n",
      "25:\tlearn: 0.1417908\ttotal: 51.6ms\tremaining: 941ms\n",
      "26:\tlearn: 0.1416137\ttotal: 53.1ms\tremaining: 931ms\n",
      "27:\tlearn: 0.1392754\ttotal: 55ms\tremaining: 927ms\n",
      "28:\tlearn: 0.1371702\ttotal: 56.8ms\tremaining: 923ms\n",
      "29:\tlearn: 0.1351449\ttotal: 58.6ms\tremaining: 918ms\n",
      "30:\tlearn: 0.1349764\ttotal: 60.4ms\tremaining: 913ms\n",
      "31:\tlearn: 0.1331823\ttotal: 62.2ms\tremaining: 909ms\n",
      "32:\tlearn: 0.1297301\ttotal: 64ms\tremaining: 906ms\n",
      "33:\tlearn: 0.1262300\ttotal: 65.8ms\tremaining: 902ms\n",
      "34:\tlearn: 0.1242098\ttotal: 67.6ms\tremaining: 898ms\n",
      "35:\tlearn: 0.1236234\ttotal: 69.3ms\tremaining: 894ms\n",
      "36:\tlearn: 0.1220062\ttotal: 71.1ms\tremaining: 890ms\n",
      "37:\tlearn: 0.1188340\ttotal: 73ms\tremaining: 887ms\n",
      "38:\tlearn: 0.1176738\ttotal: 74.9ms\tremaining: 885ms\n",
      "39:\tlearn: 0.1152558\ttotal: 77.1ms\tremaining: 886ms\n",
      "40:\tlearn: 0.1131110\ttotal: 79.1ms\tremaining: 885ms\n",
      "41:\tlearn: 0.1116619\ttotal: 81.1ms\tremaining: 884ms\n",
      "42:\tlearn: 0.1091196\ttotal: 83ms\tremaining: 882ms\n",
      "43:\tlearn: 0.1088503\ttotal: 84.9ms\tremaining: 880ms\n",
      "44:\tlearn: 0.1067578\ttotal: 86.9ms\tremaining: 879ms\n",
      "45:\tlearn: 0.1049079\ttotal: 88.9ms\tremaining: 878ms\n",
      "46:\tlearn: 0.1024260\ttotal: 91.3ms\tremaining: 880ms\n",
      "47:\tlearn: 0.1011009\ttotal: 93.3ms\tremaining: 879ms\n",
      "48:\tlearn: 0.1008725\ttotal: 95.5ms\tremaining: 879ms\n",
      "49:\tlearn: 0.0991847\ttotal: 97.5ms\tremaining: 877ms\n",
      "50:\tlearn: 0.0987251\ttotal: 99.4ms\tremaining: 876ms\n",
      "51:\tlearn: 0.0954208\ttotal: 101ms\tremaining: 874ms\n",
      "52:\tlearn: 0.0952460\ttotal: 103ms\tremaining: 872ms\n",
      "53:\tlearn: 0.0933045\ttotal: 105ms\tremaining: 871ms\n",
      "54:\tlearn: 0.0913770\ttotal: 107ms\tremaining: 869ms\n",
      "55:\tlearn: 0.0890411\ttotal: 109ms\tremaining: 868ms\n",
      "56:\tlearn: 0.0865809\ttotal: 111ms\tremaining: 866ms\n",
      "57:\tlearn: 0.0846003\ttotal: 113ms\tremaining: 865ms\n",
      "58:\tlearn: 0.0823347\ttotal: 116ms\tremaining: 866ms\n",
      "59:\tlearn: 0.0809312\ttotal: 118ms\tremaining: 865ms\n",
      "60:\tlearn: 0.0808622\ttotal: 120ms\tremaining: 865ms\n",
      "61:\tlearn: 0.0790439\ttotal: 122ms\tremaining: 863ms\n",
      "62:\tlearn: 0.0786155\ttotal: 124ms\tremaining: 862ms\n",
      "63:\tlearn: 0.0773350\ttotal: 127ms\tremaining: 862ms\n",
      "64:\tlearn: 0.0750185\ttotal: 129ms\tremaining: 863ms\n",
      "65:\tlearn: 0.0728112\ttotal: 131ms\tremaining: 861ms\n",
      "66:\tlearn: 0.0718331\ttotal: 133ms\tremaining: 860ms\n",
      "67:\tlearn: 0.0712254\ttotal: 135ms\tremaining: 858ms\n",
      "68:\tlearn: 0.0707802\ttotal: 137ms\tremaining: 856ms\n",
      "69:\tlearn: 0.0680037\ttotal: 139ms\tremaining: 856ms\n",
      "70:\tlearn: 0.0677289\ttotal: 141ms\tremaining: 854ms\n",
      "71:\tlearn: 0.0665620\ttotal: 144ms\tremaining: 855ms\n",
      "72:\tlearn: 0.0664253\ttotal: 146ms\tremaining: 853ms\n",
      "73:\tlearn: 0.0653675\ttotal: 148ms\tremaining: 851ms\n",
      "74:\tlearn: 0.0637589\ttotal: 150ms\tremaining: 852ms\n",
      "75:\tlearn: 0.0633056\ttotal: 152ms\tremaining: 851ms\n",
      "76:\tlearn: 0.0630369\ttotal: 154ms\tremaining: 848ms\n",
      "77:\tlearn: 0.0616345\ttotal: 156ms\tremaining: 845ms\n",
      "78:\tlearn: 0.0593535\ttotal: 158ms\tremaining: 843ms\n",
      "79:\tlearn: 0.0588507\ttotal: 160ms\tremaining: 840ms\n",
      "80:\tlearn: 0.0578095\ttotal: 162ms\tremaining: 837ms\n",
      "81:\tlearn: 0.0574055\ttotal: 164ms\tremaining: 835ms\n",
      "82:\tlearn: 0.0573654\ttotal: 166ms\tremaining: 832ms\n",
      "83:\tlearn: 0.0570872\ttotal: 167ms\tremaining: 829ms\n",
      "84:\tlearn: 0.0570584\ttotal: 169ms\tremaining: 826ms\n",
      "85:\tlearn: 0.0559247\ttotal: 171ms\tremaining: 824ms\n",
      "86:\tlearn: 0.0551595\ttotal: 173ms\tremaining: 822ms\n",
      "87:\tlearn: 0.0550223\ttotal: 175ms\tremaining: 819ms\n",
      "88:\tlearn: 0.0537476\ttotal: 177ms\tremaining: 817ms\n",
      "89:\tlearn: 0.0536496\ttotal: 179ms\tremaining: 814ms\n",
      "90:\tlearn: 0.0528368\ttotal: 181ms\tremaining: 812ms\n",
      "91:\tlearn: 0.0521094\ttotal: 184ms\tremaining: 816ms\n",
      "92:\tlearn: 0.0516701\ttotal: 187ms\tremaining: 817ms\n",
      "93:\tlearn: 0.0507153\ttotal: 189ms\tremaining: 816ms\n",
      "94:\tlearn: 0.0497144\ttotal: 191ms\tremaining: 815ms\n",
      "95:\tlearn: 0.0491758\ttotal: 193ms\tremaining: 813ms\n",
      "96:\tlearn: 0.0484452\ttotal: 195ms\tremaining: 811ms\n",
      "97:\tlearn: 0.0476059\ttotal: 198ms\tremaining: 811ms\n",
      "98:\tlearn: 0.0471312\ttotal: 200ms\tremaining: 810ms\n",
      "99:\tlearn: 0.0465030\ttotal: 203ms\tremaining: 811ms\n",
      "100:\tlearn: 0.0459828\ttotal: 205ms\tremaining: 809ms\n",
      "101:\tlearn: 0.0457152\ttotal: 207ms\tremaining: 808ms\n",
      "102:\tlearn: 0.0456922\ttotal: 209ms\tremaining: 806ms\n",
      "103:\tlearn: 0.0451340\ttotal: 211ms\tremaining: 803ms\n",
      "104:\tlearn: 0.0450609\ttotal: 213ms\tremaining: 801ms\n",
      "105:\tlearn: 0.0447945\ttotal: 215ms\tremaining: 799ms\n",
      "106:\tlearn: 0.0443339\ttotal: 217ms\tremaining: 798ms\n",
      "107:\tlearn: 0.0437625\ttotal: 220ms\tremaining: 798ms\n",
      "108:\tlearn: 0.0427174\ttotal: 222ms\tremaining: 796ms\n",
      "109:\tlearn: 0.0424645\ttotal: 224ms\tremaining: 795ms\n",
      "110:\tlearn: 0.0423276\ttotal: 226ms\tremaining: 793ms\n",
      "111:\tlearn: 0.0415250\ttotal: 228ms\tremaining: 791ms\n",
      "112:\tlearn: 0.0411353\ttotal: 231ms\tremaining: 790ms\n",
      "113:\tlearn: 0.0405482\ttotal: 233ms\tremaining: 787ms\n",
      "114:\tlearn: 0.0399149\ttotal: 235ms\tremaining: 785ms\n",
      "115:\tlearn: 0.0397117\ttotal: 237ms\tremaining: 783ms\n",
      "116:\tlearn: 0.0394634\ttotal: 239ms\tremaining: 782ms\n",
      "117:\tlearn: 0.0389592\ttotal: 241ms\tremaining: 779ms\n",
      "118:\tlearn: 0.0387426\ttotal: 243ms\tremaining: 778ms\n",
      "119:\tlearn: 0.0376667\ttotal: 246ms\tremaining: 779ms\n",
      "120:\tlearn: 0.0369864\ttotal: 248ms\tremaining: 777ms\n",
      "121:\tlearn: 0.0364118\ttotal: 250ms\tremaining: 775ms\n",
      "122:\tlearn: 0.0360336\ttotal: 252ms\tremaining: 773ms\n",
      "123:\tlearn: 0.0359683\ttotal: 254ms\tremaining: 770ms\n",
      "124:\tlearn: 0.0355088\ttotal: 256ms\tremaining: 768ms\n",
      "125:\tlearn: 0.0350138\ttotal: 258ms\tremaining: 766ms\n",
      "126:\tlearn: 0.0346786\ttotal: 260ms\tremaining: 764ms\n",
      "127:\tlearn: 0.0337983\ttotal: 262ms\tremaining: 762ms\n",
      "128:\tlearn: 0.0331378\ttotal: 264ms\tremaining: 759ms\n",
      "129:\tlearn: 0.0328908\ttotal: 266ms\tremaining: 757ms\n",
      "130:\tlearn: 0.0326698\ttotal: 268ms\tremaining: 755ms\n",
      "131:\tlearn: 0.0319828\ttotal: 270ms\tremaining: 752ms\n",
      "132:\tlearn: 0.0317707\ttotal: 272ms\tremaining: 750ms\n",
      "133:\tlearn: 0.0314212\ttotal: 274ms\tremaining: 748ms\n",
      "134:\tlearn: 0.0313266\ttotal: 276ms\tremaining: 746ms\n",
      "135:\tlearn: 0.0311338\ttotal: 278ms\tremaining: 744ms\n",
      "136:\tlearn: 0.0307035\ttotal: 280ms\tremaining: 742ms\n",
      "137:\tlearn: 0.0301277\ttotal: 282ms\tremaining: 740ms\n",
      "138:\tlearn: 0.0298444\ttotal: 284ms\tremaining: 737ms\n",
      "139:\tlearn: 0.0297681\ttotal: 286ms\tremaining: 735ms\n",
      "140:\tlearn: 0.0297174\ttotal: 288ms\tremaining: 733ms\n",
      "141:\tlearn: 0.0291617\ttotal: 290ms\tremaining: 731ms\n",
      "142:\tlearn: 0.0289383\ttotal: 292ms\tremaining: 729ms\n",
      "143:\tlearn: 0.0283904\ttotal: 294ms\tremaining: 726ms\n",
      "144:\tlearn: 0.0283425\ttotal: 296ms\tremaining: 724ms\n",
      "145:\tlearn: 0.0282984\ttotal: 298ms\tremaining: 722ms\n",
      "146:\tlearn: 0.0281249\ttotal: 300ms\tremaining: 720ms\n",
      "147:\tlearn: 0.0274796\ttotal: 302ms\tremaining: 718ms\n",
      "148:\tlearn: 0.0273017\ttotal: 304ms\tremaining: 716ms\n",
      "149:\tlearn: 0.0266077\ttotal: 306ms\tremaining: 715ms\n",
      "150:\tlearn: 0.0262970\ttotal: 308ms\tremaining: 713ms\n",
      "151:\tlearn: 0.0262629\ttotal: 311ms\tremaining: 711ms\n",
      "152:\tlearn: 0.0261066\ttotal: 313ms\tremaining: 709ms\n",
      "153:\tlearn: 0.0257991\ttotal: 314ms\tremaining: 707ms\n",
      "154:\tlearn: 0.0256776\ttotal: 316ms\tremaining: 704ms\n",
      "155:\tlearn: 0.0255060\ttotal: 319ms\tremaining: 703ms\n",
      "156:\tlearn: 0.0254143\ttotal: 321ms\tremaining: 701ms\n",
      "157:\tlearn: 0.0250548\ttotal: 323ms\tremaining: 698ms\n",
      "158:\tlearn: 0.0245692\ttotal: 325ms\tremaining: 696ms\n",
      "159:\tlearn: 0.0245558\ttotal: 327ms\tremaining: 694ms\n",
      "160:\tlearn: 0.0245359\ttotal: 328ms\tremaining: 692ms\n",
      "161:\tlearn: 0.0245258\ttotal: 331ms\tremaining: 690ms\n",
      "162:\tlearn: 0.0242767\ttotal: 333ms\tremaining: 688ms\n",
      "163:\tlearn: 0.0240688\ttotal: 335ms\tremaining: 686ms\n",
      "164:\tlearn: 0.0240371\ttotal: 337ms\tremaining: 684ms\n",
      "165:\tlearn: 0.0238882\ttotal: 339ms\tremaining: 682ms\n",
      "166:\tlearn: 0.0236421\ttotal: 341ms\tremaining: 680ms\n",
      "167:\tlearn: 0.0233872\ttotal: 343ms\tremaining: 678ms\n",
      "168:\tlearn: 0.0230790\ttotal: 345ms\tremaining: 676ms\n",
      "169:\tlearn: 0.0229489\ttotal: 348ms\tremaining: 676ms\n",
      "170:\tlearn: 0.0225142\ttotal: 351ms\tremaining: 675ms\n"
     ]
    },
    {
     "name": "stdout",
     "output_type": "stream",
     "text": [
      "171:\tlearn: 0.0222457\ttotal: 353ms\tremaining: 674ms\n",
      "172:\tlearn: 0.0219000\ttotal: 356ms\tremaining: 672ms\n",
      "173:\tlearn: 0.0216946\ttotal: 358ms\tremaining: 671ms\n",
      "174:\tlearn: 0.0215458\ttotal: 361ms\tremaining: 670ms\n",
      "175:\tlearn: 0.0214063\ttotal: 363ms\tremaining: 668ms\n",
      "176:\tlearn: 0.0211046\ttotal: 365ms\tremaining: 666ms\n",
      "177:\tlearn: 0.0209701\ttotal: 367ms\tremaining: 665ms\n",
      "178:\tlearn: 0.0207256\ttotal: 369ms\tremaining: 663ms\n",
      "179:\tlearn: 0.0205264\ttotal: 372ms\tremaining: 660ms\n",
      "180:\tlearn: 0.0204230\ttotal: 374ms\tremaining: 659ms\n",
      "181:\tlearn: 0.0203362\ttotal: 376ms\tremaining: 657ms\n",
      "182:\tlearn: 0.0201274\ttotal: 378ms\tremaining: 656ms\n",
      "183:\tlearn: 0.0201153\ttotal: 381ms\tremaining: 654ms\n",
      "184:\tlearn: 0.0201094\ttotal: 383ms\tremaining: 652ms\n",
      "185:\tlearn: 0.0195756\ttotal: 385ms\tremaining: 651ms\n",
      "186:\tlearn: 0.0193038\ttotal: 387ms\tremaining: 649ms\n",
      "187:\tlearn: 0.0192517\ttotal: 390ms\tremaining: 647ms\n",
      "188:\tlearn: 0.0192243\ttotal: 392ms\tremaining: 645ms\n",
      "189:\tlearn: 0.0191534\ttotal: 394ms\tremaining: 643ms\n",
      "190:\tlearn: 0.0189780\ttotal: 396ms\tremaining: 641ms\n",
      "191:\tlearn: 0.0187757\ttotal: 398ms\tremaining: 639ms\n",
      "192:\tlearn: 0.0186734\ttotal: 400ms\tremaining: 637ms\n",
      "193:\tlearn: 0.0185759\ttotal: 403ms\tremaining: 635ms\n",
      "194:\tlearn: 0.0185592\ttotal: 405ms\tremaining: 633ms\n",
      "195:\tlearn: 0.0184459\ttotal: 407ms\tremaining: 631ms\n",
      "196:\tlearn: 0.0182166\ttotal: 411ms\tremaining: 632ms\n",
      "197:\tlearn: 0.0181104\ttotal: 413ms\tremaining: 630ms\n",
      "198:\tlearn: 0.0180207\ttotal: 415ms\tremaining: 628ms\n",
      "199:\tlearn: 0.0178862\ttotal: 417ms\tremaining: 626ms\n",
      "200:\tlearn: 0.0178703\ttotal: 419ms\tremaining: 624ms\n",
      "201:\tlearn: 0.0177957\ttotal: 421ms\tremaining: 622ms\n",
      "202:\tlearn: 0.0175303\ttotal: 424ms\tremaining: 620ms\n",
      "203:\tlearn: 0.0174440\ttotal: 426ms\tremaining: 618ms\n",
      "204:\tlearn: 0.0174343\ttotal: 428ms\tremaining: 616ms\n",
      "205:\tlearn: 0.0170716\ttotal: 430ms\tremaining: 614ms\n",
      "206:\tlearn: 0.0169463\ttotal: 432ms\tremaining: 612ms\n",
      "207:\tlearn: 0.0169220\ttotal: 434ms\tremaining: 610ms\n",
      "208:\tlearn: 0.0168351\ttotal: 436ms\tremaining: 608ms\n",
      "209:\tlearn: 0.0167212\ttotal: 438ms\tremaining: 605ms\n",
      "210:\tlearn: 0.0167067\ttotal: 441ms\tremaining: 603ms\n",
      "211:\tlearn: 0.0166932\ttotal: 443ms\tremaining: 602ms\n",
      "212:\tlearn: 0.0165283\ttotal: 445ms\tremaining: 599ms\n",
      "213:\tlearn: 0.0165016\ttotal: 447ms\tremaining: 597ms\n",
      "214:\tlearn: 0.0163559\ttotal: 449ms\tremaining: 595ms\n",
      "215:\tlearn: 0.0162044\ttotal: 451ms\tremaining: 593ms\n",
      "216:\tlearn: 0.0160882\ttotal: 454ms\tremaining: 591ms\n",
      "217:\tlearn: 0.0158991\ttotal: 456ms\tremaining: 589ms\n",
      "218:\tlearn: 0.0156250\ttotal: 458ms\tremaining: 587ms\n",
      "219:\tlearn: 0.0155609\ttotal: 460ms\tremaining: 585ms\n",
      "220:\tlearn: 0.0153552\ttotal: 462ms\tremaining: 583ms\n",
      "221:\tlearn: 0.0153407\ttotal: 464ms\tremaining: 581ms\n",
      "222:\tlearn: 0.0152197\ttotal: 466ms\tremaining: 579ms\n",
      "223:\tlearn: 0.0150105\ttotal: 468ms\tremaining: 577ms\n",
      "224:\tlearn: 0.0149790\ttotal: 471ms\tremaining: 575ms\n",
      "225:\tlearn: 0.0148971\ttotal: 472ms\tremaining: 573ms\n",
      "226:\tlearn: 0.0147752\ttotal: 475ms\tremaining: 571ms\n",
      "227:\tlearn: 0.0147523\ttotal: 477ms\tremaining: 569ms\n",
      "228:\tlearn: 0.0146348\ttotal: 479ms\tremaining: 567ms\n",
      "229:\tlearn: 0.0144559\ttotal: 481ms\tremaining: 565ms\n",
      "230:\tlearn: 0.0143302\ttotal: 483ms\tremaining: 563ms\n",
      "231:\tlearn: 0.0142507\ttotal: 485ms\tremaining: 560ms\n",
      "232:\tlearn: 0.0141344\ttotal: 487ms\tremaining: 558ms\n",
      "233:\tlearn: 0.0139278\ttotal: 489ms\tremaining: 556ms\n",
      "234:\tlearn: 0.0138900\ttotal: 491ms\tremaining: 554ms\n",
      "235:\tlearn: 0.0137006\ttotal: 493ms\tremaining: 551ms\n",
      "236:\tlearn: 0.0136968\ttotal: 495ms\tremaining: 549ms\n",
      "237:\tlearn: 0.0136399\ttotal: 497ms\tremaining: 547ms\n",
      "238:\tlearn: 0.0136352\ttotal: 499ms\tremaining: 545ms\n",
      "239:\tlearn: 0.0135775\ttotal: 501ms\tremaining: 542ms\n",
      "240:\tlearn: 0.0135323\ttotal: 503ms\tremaining: 540ms\n",
      "241:\tlearn: 0.0135131\ttotal: 505ms\tremaining: 538ms\n",
      "242:\tlearn: 0.0133702\ttotal: 507ms\tremaining: 536ms\n",
      "243:\tlearn: 0.0132128\ttotal: 509ms\tremaining: 534ms\n",
      "244:\tlearn: 0.0131036\ttotal: 510ms\tremaining: 531ms\n",
      "245:\tlearn: 0.0130985\ttotal: 512ms\tremaining: 529ms\n",
      "246:\tlearn: 0.0130463\ttotal: 514ms\tremaining: 527ms\n",
      "247:\tlearn: 0.0129281\ttotal: 516ms\tremaining: 525ms\n",
      "248:\tlearn: 0.0129018\ttotal: 518ms\tremaining: 522ms\n",
      "249:\tlearn: 0.0127549\ttotal: 520ms\tremaining: 520ms\n",
      "250:\tlearn: 0.0125981\ttotal: 522ms\tremaining: 518ms\n",
      "251:\tlearn: 0.0125145\ttotal: 524ms\tremaining: 516ms\n",
      "252:\tlearn: 0.0124421\ttotal: 526ms\tremaining: 514ms\n",
      "253:\tlearn: 0.0123487\ttotal: 528ms\tremaining: 512ms\n",
      "254:\tlearn: 0.0122087\ttotal: 531ms\tremaining: 510ms\n",
      "255:\tlearn: 0.0121949\ttotal: 533ms\tremaining: 508ms\n",
      "256:\tlearn: 0.0120745\ttotal: 535ms\tremaining: 506ms\n",
      "257:\tlearn: 0.0119897\ttotal: 537ms\tremaining: 504ms\n",
      "258:\tlearn: 0.0119568\ttotal: 540ms\tremaining: 502ms\n",
      "259:\tlearn: 0.0118440\ttotal: 542ms\tremaining: 500ms\n",
      "260:\tlearn: 0.0118172\ttotal: 544ms\tremaining: 498ms\n",
      "261:\tlearn: 0.0117260\ttotal: 546ms\tremaining: 496ms\n",
      "262:\tlearn: 0.0116829\ttotal: 548ms\tremaining: 494ms\n",
      "263:\tlearn: 0.0116281\ttotal: 550ms\tremaining: 492ms\n",
      "264:\tlearn: 0.0115343\ttotal: 552ms\tremaining: 490ms\n",
      "265:\tlearn: 0.0114933\ttotal: 554ms\tremaining: 487ms\n",
      "266:\tlearn: 0.0114227\ttotal: 556ms\tremaining: 486ms\n",
      "267:\tlearn: 0.0113749\ttotal: 559ms\tremaining: 484ms\n",
      "268:\tlearn: 0.0112644\ttotal: 561ms\tremaining: 482ms\n",
      "269:\tlearn: 0.0111863\ttotal: 563ms\tremaining: 480ms\n",
      "270:\tlearn: 0.0110647\ttotal: 565ms\tremaining: 478ms\n",
      "271:\tlearn: 0.0110614\ttotal: 568ms\tremaining: 476ms\n",
      "272:\tlearn: 0.0110551\ttotal: 570ms\tremaining: 474ms\n",
      "273:\tlearn: 0.0110218\ttotal: 572ms\tremaining: 472ms\n",
      "274:\tlearn: 0.0109953\ttotal: 574ms\tremaining: 470ms\n",
      "275:\tlearn: 0.0109425\ttotal: 576ms\tremaining: 468ms\n",
      "276:\tlearn: 0.0108431\ttotal: 578ms\tremaining: 466ms\n",
      "277:\tlearn: 0.0108044\ttotal: 580ms\tremaining: 463ms\n",
      "278:\tlearn: 0.0107416\ttotal: 583ms\tremaining: 462ms\n",
      "279:\tlearn: 0.0107391\ttotal: 585ms\tremaining: 459ms\n",
      "280:\tlearn: 0.0107251\ttotal: 587ms\tremaining: 457ms\n",
      "281:\tlearn: 0.0106456\ttotal: 589ms\tremaining: 456ms\n",
      "282:\tlearn: 0.0105732\ttotal: 591ms\tremaining: 453ms\n",
      "283:\tlearn: 0.0105695\ttotal: 595ms\tremaining: 453ms\n",
      "284:\tlearn: 0.0105234\ttotal: 597ms\tremaining: 451ms\n",
      "285:\tlearn: 0.0104831\ttotal: 600ms\tremaining: 449ms\n",
      "286:\tlearn: 0.0104378\ttotal: 603ms\tremaining: 447ms\n",
      "287:\tlearn: 0.0104064\ttotal: 605ms\tremaining: 445ms\n",
      "288:\tlearn: 0.0103923\ttotal: 607ms\tremaining: 443ms\n",
      "289:\tlearn: 0.0103285\ttotal: 609ms\tremaining: 441ms\n",
      "290:\tlearn: 0.0102151\ttotal: 612ms\tremaining: 439ms\n",
      "291:\tlearn: 0.0101623\ttotal: 614ms\tremaining: 438ms\n",
      "292:\tlearn: 0.0100750\ttotal: 616ms\tremaining: 436ms\n",
      "293:\tlearn: 0.0100290\ttotal: 619ms\tremaining: 433ms\n",
      "294:\tlearn: 0.0098763\ttotal: 621ms\tremaining: 431ms\n",
      "295:\tlearn: 0.0098283\ttotal: 623ms\tremaining: 429ms\n",
      "296:\tlearn: 0.0097975\ttotal: 626ms\tremaining: 428ms\n",
      "297:\tlearn: 0.0097514\ttotal: 628ms\tremaining: 426ms\n",
      "298:\tlearn: 0.0096434\ttotal: 630ms\tremaining: 424ms\n",
      "299:\tlearn: 0.0096414\ttotal: 632ms\tremaining: 421ms\n",
      "300:\tlearn: 0.0095872\ttotal: 634ms\tremaining: 419ms\n",
      "301:\tlearn: 0.0095387\ttotal: 637ms\tremaining: 417ms\n",
      "302:\tlearn: 0.0095022\ttotal: 639ms\tremaining: 415ms\n",
      "303:\tlearn: 0.0094434\ttotal: 641ms\tremaining: 413ms\n",
      "304:\tlearn: 0.0093921\ttotal: 643ms\tremaining: 411ms\n",
      "305:\tlearn: 0.0093574\ttotal: 646ms\tremaining: 409ms\n",
      "306:\tlearn: 0.0093125\ttotal: 648ms\tremaining: 407ms\n",
      "307:\tlearn: 0.0093106\ttotal: 650ms\tremaining: 405ms\n",
      "308:\tlearn: 0.0091757\ttotal: 652ms\tremaining: 403ms\n",
      "309:\tlearn: 0.0091026\ttotal: 654ms\tremaining: 401ms\n",
      "310:\tlearn: 0.0090832\ttotal: 657ms\tremaining: 399ms\n",
      "311:\tlearn: 0.0090583\ttotal: 659ms\tremaining: 397ms\n",
      "312:\tlearn: 0.0090093\ttotal: 661ms\tremaining: 395ms\n",
      "313:\tlearn: 0.0089695\ttotal: 664ms\tremaining: 393ms\n",
      "314:\tlearn: 0.0089274\ttotal: 666ms\tremaining: 391ms\n",
      "315:\tlearn: 0.0088815\ttotal: 668ms\tremaining: 389ms\n",
      "316:\tlearn: 0.0087694\ttotal: 670ms\tremaining: 387ms\n",
      "317:\tlearn: 0.0087366\ttotal: 672ms\tremaining: 385ms\n",
      "318:\tlearn: 0.0087075\ttotal: 674ms\tremaining: 382ms\n",
      "319:\tlearn: 0.0086533\ttotal: 676ms\tremaining: 380ms\n",
      "320:\tlearn: 0.0085915\ttotal: 678ms\tremaining: 378ms\n",
      "321:\tlearn: 0.0084993\ttotal: 681ms\tremaining: 376ms\n",
      "322:\tlearn: 0.0084921\ttotal: 683ms\tremaining: 374ms\n",
      "323:\tlearn: 0.0084558\ttotal: 685ms\tremaining: 372ms\n",
      "324:\tlearn: 0.0084512\ttotal: 687ms\tremaining: 370ms\n",
      "325:\tlearn: 0.0084482\ttotal: 688ms\tremaining: 367ms\n",
      "326:\tlearn: 0.0084233\ttotal: 690ms\tremaining: 365ms\n",
      "327:\tlearn: 0.0084007\ttotal: 693ms\tremaining: 363ms\n",
      "328:\tlearn: 0.0083732\ttotal: 695ms\tremaining: 361ms\n",
      "329:\tlearn: 0.0083488\ttotal: 697ms\tremaining: 359ms\n"
     ]
    },
    {
     "name": "stdout",
     "output_type": "stream",
     "text": [
      "330:\tlearn: 0.0083459\ttotal: 699ms\tremaining: 357ms\n",
      "331:\tlearn: 0.0082667\ttotal: 702ms\tremaining: 355ms\n",
      "332:\tlearn: 0.0082645\ttotal: 704ms\tremaining: 353ms\n",
      "333:\tlearn: 0.0082272\ttotal: 706ms\tremaining: 351ms\n",
      "334:\tlearn: 0.0081661\ttotal: 709ms\tremaining: 349ms\n",
      "335:\tlearn: 0.0081552\ttotal: 711ms\tremaining: 347ms\n",
      "336:\tlearn: 0.0081537\ttotal: 713ms\tremaining: 345ms\n",
      "337:\tlearn: 0.0081498\ttotal: 716ms\tremaining: 343ms\n",
      "338:\tlearn: 0.0081236\ttotal: 719ms\tremaining: 341ms\n",
      "339:\tlearn: 0.0080838\ttotal: 721ms\tremaining: 339ms\n",
      "340:\tlearn: 0.0080827\ttotal: 724ms\tremaining: 338ms\n",
      "341:\tlearn: 0.0080663\ttotal: 726ms\tremaining: 336ms\n",
      "342:\tlearn: 0.0079849\ttotal: 729ms\tremaining: 334ms\n",
      "343:\tlearn: 0.0078190\ttotal: 731ms\tremaining: 332ms\n",
      "344:\tlearn: 0.0077509\ttotal: 734ms\tremaining: 330ms\n",
      "345:\tlearn: 0.0076809\ttotal: 736ms\tremaining: 328ms\n",
      "346:\tlearn: 0.0076793\ttotal: 738ms\tremaining: 326ms\n",
      "347:\tlearn: 0.0076153\ttotal: 741ms\tremaining: 323ms\n",
      "348:\tlearn: 0.0076138\ttotal: 743ms\tremaining: 321ms\n",
      "349:\tlearn: 0.0076097\ttotal: 745ms\tremaining: 319ms\n",
      "350:\tlearn: 0.0076066\ttotal: 747ms\tremaining: 317ms\n",
      "351:\tlearn: 0.0076009\ttotal: 750ms\tremaining: 315ms\n",
      "352:\tlearn: 0.0075984\ttotal: 752ms\tremaining: 313ms\n",
      "353:\tlearn: 0.0075958\ttotal: 754ms\tremaining: 311ms\n",
      "354:\tlearn: 0.0075936\ttotal: 757ms\tremaining: 309ms\n",
      "355:\tlearn: 0.0075901\ttotal: 759ms\tremaining: 307ms\n",
      "356:\tlearn: 0.0075868\ttotal: 761ms\tremaining: 305ms\n",
      "357:\tlearn: 0.0075298\ttotal: 763ms\tremaining: 303ms\n",
      "358:\tlearn: 0.0075007\ttotal: 766ms\tremaining: 301ms\n",
      "359:\tlearn: 0.0074641\ttotal: 768ms\tremaining: 299ms\n",
      "360:\tlearn: 0.0074311\ttotal: 771ms\tremaining: 297ms\n",
      "361:\tlearn: 0.0073728\ttotal: 773ms\tremaining: 295ms\n",
      "362:\tlearn: 0.0073247\ttotal: 776ms\tremaining: 293ms\n",
      "363:\tlearn: 0.0072981\ttotal: 778ms\tremaining: 291ms\n",
      "364:\tlearn: 0.0072121\ttotal: 781ms\tremaining: 289ms\n",
      "365:\tlearn: 0.0071069\ttotal: 783ms\tremaining: 287ms\n",
      "366:\tlearn: 0.0070780\ttotal: 786ms\tremaining: 285ms\n",
      "367:\tlearn: 0.0070550\ttotal: 788ms\tremaining: 283ms\n",
      "368:\tlearn: 0.0070412\ttotal: 790ms\tremaining: 281ms\n",
      "369:\tlearn: 0.0070229\ttotal: 793ms\tremaining: 278ms\n",
      "370:\tlearn: 0.0069588\ttotal: 795ms\tremaining: 276ms\n",
      "371:\tlearn: 0.0069341\ttotal: 797ms\tremaining: 274ms\n",
      "372:\tlearn: 0.0069082\ttotal: 799ms\tremaining: 272ms\n",
      "373:\tlearn: 0.0068362\ttotal: 801ms\tremaining: 270ms\n",
      "374:\tlearn: 0.0068196\ttotal: 803ms\tremaining: 268ms\n",
      "375:\tlearn: 0.0067887\ttotal: 806ms\tremaining: 266ms\n",
      "376:\tlearn: 0.0067878\ttotal: 808ms\tremaining: 263ms\n",
      "377:\tlearn: 0.0067570\ttotal: 810ms\tremaining: 261ms\n",
      "378:\tlearn: 0.0067072\ttotal: 812ms\tremaining: 259ms\n",
      "379:\tlearn: 0.0067027\ttotal: 814ms\tremaining: 257ms\n",
      "380:\tlearn: 0.0066905\ttotal: 816ms\tremaining: 255ms\n",
      "381:\tlearn: 0.0066102\ttotal: 819ms\tremaining: 253ms\n",
      "382:\tlearn: 0.0065345\ttotal: 821ms\tremaining: 251ms\n",
      "383:\tlearn: 0.0064955\ttotal: 823ms\tremaining: 249ms\n",
      "384:\tlearn: 0.0064730\ttotal: 825ms\tremaining: 247ms\n",
      "385:\tlearn: 0.0063971\ttotal: 828ms\tremaining: 244ms\n",
      "386:\tlearn: 0.0063638\ttotal: 830ms\tremaining: 242ms\n",
      "387:\tlearn: 0.0063598\ttotal: 832ms\tremaining: 240ms\n",
      "388:\tlearn: 0.0063330\ttotal: 835ms\tremaining: 238ms\n",
      "389:\tlearn: 0.0063110\ttotal: 837ms\tremaining: 236ms\n",
      "390:\tlearn: 0.0062828\ttotal: 839ms\tremaining: 234ms\n",
      "391:\tlearn: 0.0062245\ttotal: 841ms\tremaining: 232ms\n",
      "392:\tlearn: 0.0062236\ttotal: 843ms\tremaining: 230ms\n",
      "393:\tlearn: 0.0062228\ttotal: 845ms\tremaining: 227ms\n",
      "394:\tlearn: 0.0062228\ttotal: 847ms\tremaining: 225ms\n",
      "395:\tlearn: 0.0061927\ttotal: 850ms\tremaining: 223ms\n",
      "396:\tlearn: 0.0061743\ttotal: 852ms\tremaining: 221ms\n",
      "397:\tlearn: 0.0061625\ttotal: 854ms\tremaining: 219ms\n",
      "398:\tlearn: 0.0061410\ttotal: 856ms\tremaining: 217ms\n",
      "399:\tlearn: 0.0061230\ttotal: 859ms\tremaining: 215ms\n",
      "400:\tlearn: 0.0061211\ttotal: 861ms\tremaining: 213ms\n",
      "401:\tlearn: 0.0060952\ttotal: 864ms\tremaining: 211ms\n",
      "402:\tlearn: 0.0060429\ttotal: 867ms\tremaining: 209ms\n",
      "403:\tlearn: 0.0060074\ttotal: 869ms\tremaining: 207ms\n",
      "404:\tlearn: 0.0059849\ttotal: 871ms\tremaining: 204ms\n",
      "405:\tlearn: 0.0059679\ttotal: 874ms\tremaining: 202ms\n",
      "406:\tlearn: 0.0059451\ttotal: 876ms\tremaining: 200ms\n",
      "407:\tlearn: 0.0059197\ttotal: 878ms\tremaining: 198ms\n",
      "408:\tlearn: 0.0059169\ttotal: 880ms\tremaining: 196ms\n",
      "409:\tlearn: 0.0059003\ttotal: 883ms\tremaining: 194ms\n",
      "410:\tlearn: 0.0058764\ttotal: 885ms\tremaining: 192ms\n",
      "411:\tlearn: 0.0058653\ttotal: 887ms\tremaining: 189ms\n",
      "412:\tlearn: 0.0058353\ttotal: 889ms\tremaining: 187ms\n",
      "413:\tlearn: 0.0058168\ttotal: 891ms\tremaining: 185ms\n",
      "414:\tlearn: 0.0057971\ttotal: 893ms\tremaining: 183ms\n",
      "415:\tlearn: 0.0057711\ttotal: 896ms\tremaining: 181ms\n",
      "416:\tlearn: 0.0057489\ttotal: 898ms\tremaining: 179ms\n",
      "417:\tlearn: 0.0057249\ttotal: 900ms\tremaining: 177ms\n",
      "418:\tlearn: 0.0057085\ttotal: 902ms\tremaining: 174ms\n",
      "419:\tlearn: 0.0056888\ttotal: 904ms\tremaining: 172ms\n",
      "420:\tlearn: 0.0056517\ttotal: 907ms\tremaining: 170ms\n",
      "421:\tlearn: 0.0056208\ttotal: 909ms\tremaining: 168ms\n",
      "422:\tlearn: 0.0055894\ttotal: 912ms\tremaining: 166ms\n",
      "423:\tlearn: 0.0055799\ttotal: 914ms\tremaining: 164ms\n",
      "424:\tlearn: 0.0055553\ttotal: 916ms\tremaining: 162ms\n",
      "425:\tlearn: 0.0055531\ttotal: 919ms\tremaining: 160ms\n",
      "426:\tlearn: 0.0055321\ttotal: 921ms\tremaining: 157ms\n",
      "427:\tlearn: 0.0055317\ttotal: 923ms\tremaining: 155ms\n",
      "428:\tlearn: 0.0055170\ttotal: 926ms\tremaining: 153ms\n",
      "429:\tlearn: 0.0054939\ttotal: 928ms\tremaining: 151ms\n",
      "430:\tlearn: 0.0054727\ttotal: 930ms\tremaining: 149ms\n",
      "431:\tlearn: 0.0054645\ttotal: 933ms\tremaining: 147ms\n",
      "432:\tlearn: 0.0054521\ttotal: 935ms\tremaining: 145ms\n",
      "433:\tlearn: 0.0054385\ttotal: 938ms\tremaining: 143ms\n",
      "434:\tlearn: 0.0054385\ttotal: 940ms\tremaining: 140ms\n",
      "435:\tlearn: 0.0054372\ttotal: 942ms\tremaining: 138ms\n",
      "436:\tlearn: 0.0054372\ttotal: 944ms\tremaining: 136ms\n",
      "437:\tlearn: 0.0054244\ttotal: 946ms\tremaining: 134ms\n",
      "438:\tlearn: 0.0054104\ttotal: 948ms\tremaining: 132ms\n",
      "439:\tlearn: 0.0054097\ttotal: 950ms\tremaining: 130ms\n",
      "440:\tlearn: 0.0054044\ttotal: 952ms\tremaining: 127ms\n",
      "441:\tlearn: 0.0053685\ttotal: 954ms\tremaining: 125ms\n",
      "442:\tlearn: 0.0053673\ttotal: 956ms\tremaining: 123ms\n",
      "443:\tlearn: 0.0053673\ttotal: 958ms\tremaining: 121ms\n",
      "444:\tlearn: 0.0053495\ttotal: 960ms\tremaining: 119ms\n",
      "445:\tlearn: 0.0053487\ttotal: 962ms\tremaining: 117ms\n",
      "446:\tlearn: 0.0053394\ttotal: 965ms\tremaining: 114ms\n",
      "447:\tlearn: 0.0053012\ttotal: 967ms\tremaining: 112ms\n",
      "448:\tlearn: 0.0052685\ttotal: 969ms\tremaining: 110ms\n",
      "449:\tlearn: 0.0052616\ttotal: 971ms\tremaining: 108ms\n",
      "450:\tlearn: 0.0052616\ttotal: 973ms\tremaining: 106ms\n",
      "451:\tlearn: 0.0052475\ttotal: 976ms\tremaining: 104ms\n",
      "452:\tlearn: 0.0051986\ttotal: 978ms\tremaining: 101ms\n",
      "453:\tlearn: 0.0051711\ttotal: 980ms\tremaining: 99.3ms\n",
      "454:\tlearn: 0.0051554\ttotal: 982ms\tremaining: 97.1ms\n",
      "455:\tlearn: 0.0051550\ttotal: 984ms\tremaining: 95ms\n",
      "456:\tlearn: 0.0051178\ttotal: 986ms\tremaining: 92.8ms\n",
      "457:\tlearn: 0.0051176\ttotal: 988ms\tremaining: 90.6ms\n",
      "458:\tlearn: 0.0051060\ttotal: 991ms\tremaining: 88.5ms\n",
      "459:\tlearn: 0.0050911\ttotal: 993ms\tremaining: 86.3ms\n",
      "460:\tlearn: 0.0050627\ttotal: 995ms\tremaining: 84.2ms\n",
      "461:\tlearn: 0.0050531\ttotal: 997ms\tremaining: 82ms\n",
      "462:\tlearn: 0.0050380\ttotal: 999ms\tremaining: 79.9ms\n",
      "463:\tlearn: 0.0050172\ttotal: 1s\tremaining: 77.7ms\n",
      "464:\tlearn: 0.0050072\ttotal: 1s\tremaining: 75.5ms\n",
      "465:\tlearn: 0.0049723\ttotal: 1s\tremaining: 73.4ms\n",
      "466:\tlearn: 0.0049716\ttotal: 1.01s\tremaining: 71.2ms\n",
      "467:\tlearn: 0.0049621\ttotal: 1.01s\tremaining: 69.1ms\n",
      "468:\tlearn: 0.0049308\ttotal: 1.01s\tremaining: 66.9ms\n",
      "469:\tlearn: 0.0049096\ttotal: 1.01s\tremaining: 64.7ms\n",
      "470:\tlearn: 0.0048668\ttotal: 1.02s\tremaining: 62.6ms\n",
      "471:\tlearn: 0.0048653\ttotal: 1.02s\tremaining: 60.4ms\n",
      "472:\tlearn: 0.0048646\ttotal: 1.02s\tremaining: 58.2ms\n",
      "473:\tlearn: 0.0048576\ttotal: 1.02s\tremaining: 56.1ms\n",
      "474:\tlearn: 0.0048575\ttotal: 1.02s\tremaining: 53.9ms\n",
      "475:\tlearn: 0.0048461\ttotal: 1.02s\tremaining: 51.7ms\n",
      "476:\tlearn: 0.0048459\ttotal: 1.03s\tremaining: 49.6ms\n",
      "477:\tlearn: 0.0048379\ttotal: 1.03s\tremaining: 47.4ms\n",
      "478:\tlearn: 0.0048078\ttotal: 1.03s\tremaining: 45.3ms\n",
      "479:\tlearn: 0.0047933\ttotal: 1.03s\tremaining: 43.1ms\n",
      "480:\tlearn: 0.0047683\ttotal: 1.04s\tremaining: 41ms\n",
      "481:\tlearn: 0.0047176\ttotal: 1.04s\tremaining: 38.8ms\n",
      "482:\tlearn: 0.0047176\ttotal: 1.04s\tremaining: 36.6ms\n",
      "483:\tlearn: 0.0047064\ttotal: 1.04s\tremaining: 34.5ms\n",
      "484:\tlearn: 0.0047059\ttotal: 1.04s\tremaining: 32.3ms\n",
      "485:\tlearn: 0.0046989\ttotal: 1.05s\tremaining: 30.2ms\n",
      "486:\tlearn: 0.0046614\ttotal: 1.05s\tremaining: 28ms\n",
      "487:\tlearn: 0.0046428\ttotal: 1.05s\tremaining: 25.9ms\n",
      "488:\tlearn: 0.0046337\ttotal: 1.05s\tremaining: 23.7ms\n",
      "489:\tlearn: 0.0046330\ttotal: 1.05s\tremaining: 21.5ms\n",
      "490:\tlearn: 0.0046181\ttotal: 1.06s\tremaining: 19.4ms\n",
      "491:\tlearn: 0.0046083\ttotal: 1.06s\tremaining: 17.2ms\n",
      "492:\tlearn: 0.0045965\ttotal: 1.06s\tremaining: 15.1ms\n",
      "493:\tlearn: 0.0045899\ttotal: 1.07s\tremaining: 13ms\n",
      "494:\tlearn: 0.0045845\ttotal: 1.07s\tremaining: 10.8ms\n",
      "495:\tlearn: 0.0045845\ttotal: 1.07s\tremaining: 8.63ms\n",
      "496:\tlearn: 0.0045804\ttotal: 1.07s\tremaining: 6.47ms\n",
      "497:\tlearn: 0.0045754\ttotal: 1.07s\tremaining: 4.32ms\n",
      "498:\tlearn: 0.0045679\ttotal: 1.08s\tremaining: 2.16ms\n",
      "499:\tlearn: 0.0045551\ttotal: 1.08s\tremaining: 0us\n"
     ]
    },
    {
     "data": {
      "text/plain": [
       "GridSearchCV(cv=10, error_score=nan,\n",
       "             estimator=<catboost.core.CatBoostClassifier object at 0x000001821F160488>,\n",
       "             iid='deprecated', n_jobs=-1,\n",
       "             param_grid={'depth': [3, 5, 10],\n",
       "                         'learning_rate': [0.001, 0.01, 0.1, 0.2, 0.3],\n",
       "                         'n_estimators': [100, 500, 1000]},\n",
       "             pre_dispatch='2*n_jobs', refit=True, return_train_score=False,\n",
       "             scoring=None, verbose=2)"
      ]
     },
     "execution_count": 165,
     "metadata": {},
     "output_type": "execute_result"
    }
   ],
   "source": [
    "cb_cv.fit(X_train, y_train)"
   ]
  },
  {
   "cell_type": "code",
   "execution_count": 166,
   "metadata": {},
   "outputs": [
    {
     "name": "stdout",
     "output_type": "stream",
     "text": [
      "best params: {'depth': 5, 'learning_rate': 0.2, 'n_estimators': 500}\n"
     ]
    }
   ],
   "source": [
    "print(f\"best params: {cb_cv.best_params_}\")"
   ]
  },
  {
   "cell_type": "code",
   "execution_count": 167,
   "metadata": {},
   "outputs": [],
   "source": [
    "cb = CatBoostClassifier(learning_rate = 0.2,\n",
    "                                depth = 5,\n",
    "                                n_estimators = 500)"
   ]
  },
  {
   "cell_type": "code",
   "execution_count": 168,
   "metadata": {
    "collapsed": true
   },
   "outputs": [
    {
     "name": "stdout",
     "output_type": "stream",
     "text": [
      "0:\tlearn: 0.4952386\ttotal: 2.87ms\tremaining: 1.43s\n",
      "1:\tlearn: 0.3916579\ttotal: 4.34ms\tremaining: 1.08s\n",
      "2:\tlearn: 0.3391376\ttotal: 5.5ms\tremaining: 912ms\n",
      "3:\tlearn: 0.2918298\ttotal: 7.11ms\tremaining: 882ms\n",
      "4:\tlearn: 0.2599923\ttotal: 8.79ms\tremaining: 870ms\n",
      "5:\tlearn: 0.2393664\ttotal: 10.5ms\tremaining: 862ms\n",
      "6:\tlearn: 0.2230976\ttotal: 12ms\tremaining: 848ms\n",
      "7:\tlearn: 0.2126183\ttotal: 13.6ms\tremaining: 839ms\n",
      "8:\tlearn: 0.2031437\ttotal: 15.6ms\tremaining: 849ms\n",
      "9:\tlearn: 0.1967214\ttotal: 17.3ms\tremaining: 849ms\n",
      "10:\tlearn: 0.1869060\ttotal: 19ms\tremaining: 846ms\n",
      "11:\tlearn: 0.1818780\ttotal: 20.8ms\tremaining: 847ms\n",
      "12:\tlearn: 0.1763484\ttotal: 22.7ms\tremaining: 849ms\n",
      "13:\tlearn: 0.1719076\ttotal: 24.2ms\tremaining: 840ms\n",
      "14:\tlearn: 0.1697714\ttotal: 25.9ms\tremaining: 837ms\n",
      "15:\tlearn: 0.1678984\ttotal: 27.4ms\tremaining: 830ms\n",
      "16:\tlearn: 0.1606738\ttotal: 29.2ms\tremaining: 829ms\n",
      "17:\tlearn: 0.1581706\ttotal: 30.9ms\tremaining: 826ms\n",
      "18:\tlearn: 0.1557186\ttotal: 33ms\tremaining: 836ms\n",
      "19:\tlearn: 0.1537084\ttotal: 34.7ms\tremaining: 834ms\n",
      "20:\tlearn: 0.1518605\ttotal: 36.1ms\tremaining: 824ms\n",
      "21:\tlearn: 0.1488825\ttotal: 37.6ms\tremaining: 817ms\n",
      "22:\tlearn: 0.1475153\ttotal: 39.3ms\tremaining: 816ms\n",
      "23:\tlearn: 0.1443545\ttotal: 41.1ms\tremaining: 815ms\n",
      "24:\tlearn: 0.1426969\ttotal: 43.1ms\tremaining: 820ms\n",
      "25:\tlearn: 0.1417908\ttotal: 44.8ms\tremaining: 817ms\n",
      "26:\tlearn: 0.1416137\ttotal: 46.2ms\tremaining: 810ms\n",
      "27:\tlearn: 0.1392754\ttotal: 48ms\tremaining: 808ms\n",
      "28:\tlearn: 0.1371702\ttotal: 49.8ms\tremaining: 810ms\n",
      "29:\tlearn: 0.1351449\ttotal: 51.7ms\tremaining: 810ms\n",
      "30:\tlearn: 0.1349764\ttotal: 53.2ms\tremaining: 805ms\n",
      "31:\tlearn: 0.1331823\ttotal: 54.5ms\tremaining: 797ms\n",
      "32:\tlearn: 0.1297301\ttotal: 55.8ms\tremaining: 790ms\n",
      "33:\tlearn: 0.1262300\ttotal: 57.5ms\tremaining: 788ms\n",
      "34:\tlearn: 0.1242098\ttotal: 59.1ms\tremaining: 785ms\n",
      "35:\tlearn: 0.1236234\ttotal: 61ms\tremaining: 786ms\n",
      "36:\tlearn: 0.1220062\ttotal: 63.7ms\tremaining: 797ms\n",
      "37:\tlearn: 0.1188340\ttotal: 65.5ms\tremaining: 796ms\n",
      "38:\tlearn: 0.1176738\ttotal: 67.2ms\tremaining: 795ms\n",
      "39:\tlearn: 0.1152558\ttotal: 68.7ms\tremaining: 790ms\n",
      "40:\tlearn: 0.1131110\ttotal: 70ms\tremaining: 783ms\n",
      "41:\tlearn: 0.1116619\ttotal: 71.2ms\tremaining: 777ms\n",
      "42:\tlearn: 0.1091196\ttotal: 72.7ms\tremaining: 773ms\n",
      "43:\tlearn: 0.1088503\ttotal: 74.1ms\tremaining: 768ms\n",
      "44:\tlearn: 0.1067578\ttotal: 75.6ms\tremaining: 764ms\n",
      "45:\tlearn: 0.1049079\ttotal: 76.9ms\tremaining: 759ms\n",
      "46:\tlearn: 0.1024260\ttotal: 78.2ms\tremaining: 754ms\n",
      "47:\tlearn: 0.1011009\ttotal: 79.6ms\tremaining: 750ms\n",
      "48:\tlearn: 0.1008725\ttotal: 81ms\tremaining: 746ms\n",
      "49:\tlearn: 0.0991847\ttotal: 82.4ms\tremaining: 742ms\n",
      "50:\tlearn: 0.0987251\ttotal: 83.8ms\tremaining: 738ms\n",
      "51:\tlearn: 0.0954208\ttotal: 85.2ms\tremaining: 734ms\n",
      "52:\tlearn: 0.0952460\ttotal: 86.5ms\tremaining: 729ms\n",
      "53:\tlearn: 0.0933045\ttotal: 88ms\tremaining: 727ms\n",
      "54:\tlearn: 0.0913770\ttotal: 89.7ms\tremaining: 726ms\n",
      "55:\tlearn: 0.0890411\ttotal: 91.2ms\tremaining: 723ms\n",
      "56:\tlearn: 0.0865809\ttotal: 92.7ms\tremaining: 721ms\n",
      "57:\tlearn: 0.0846003\ttotal: 94.2ms\tremaining: 718ms\n",
      "58:\tlearn: 0.0823347\ttotal: 95.5ms\tremaining: 714ms\n",
      "59:\tlearn: 0.0809312\ttotal: 96.8ms\tremaining: 710ms\n",
      "60:\tlearn: 0.0808622\ttotal: 98.2ms\tremaining: 706ms\n",
      "61:\tlearn: 0.0790439\ttotal: 99.6ms\tremaining: 704ms\n",
      "62:\tlearn: 0.0786155\ttotal: 101ms\tremaining: 701ms\n",
      "63:\tlearn: 0.0773350\ttotal: 103ms\tremaining: 699ms\n",
      "64:\tlearn: 0.0750185\ttotal: 104ms\tremaining: 696ms\n",
      "65:\tlearn: 0.0728112\ttotal: 105ms\tremaining: 693ms\n",
      "66:\tlearn: 0.0718331\ttotal: 107ms\tremaining: 691ms\n",
      "67:\tlearn: 0.0712254\ttotal: 108ms\tremaining: 689ms\n",
      "68:\tlearn: 0.0707802\ttotal: 110ms\tremaining: 686ms\n",
      "69:\tlearn: 0.0680037\ttotal: 111ms\tremaining: 684ms\n",
      "70:\tlearn: 0.0677289\ttotal: 113ms\tremaining: 681ms\n",
      "71:\tlearn: 0.0665620\ttotal: 114ms\tremaining: 678ms\n",
      "72:\tlearn: 0.0664253\ttotal: 115ms\tremaining: 674ms\n",
      "73:\tlearn: 0.0653675\ttotal: 117ms\tremaining: 671ms\n",
      "74:\tlearn: 0.0637589\ttotal: 118ms\tremaining: 668ms\n",
      "75:\tlearn: 0.0633056\ttotal: 120ms\tremaining: 667ms\n",
      "76:\tlearn: 0.0630369\ttotal: 121ms\tremaining: 665ms\n",
      "77:\tlearn: 0.0616345\ttotal: 123ms\tremaining: 666ms\n",
      "78:\tlearn: 0.0593535\ttotal: 125ms\tremaining: 666ms\n",
      "79:\tlearn: 0.0588507\ttotal: 126ms\tremaining: 664ms\n",
      "80:\tlearn: 0.0578095\ttotal: 128ms\tremaining: 662ms\n",
      "81:\tlearn: 0.0574055\ttotal: 129ms\tremaining: 659ms\n",
      "82:\tlearn: 0.0573654\ttotal: 131ms\tremaining: 656ms\n",
      "83:\tlearn: 0.0570872\ttotal: 132ms\tremaining: 653ms\n",
      "84:\tlearn: 0.0570584\ttotal: 133ms\tremaining: 651ms\n",
      "85:\tlearn: 0.0559247\ttotal: 135ms\tremaining: 651ms\n",
      "86:\tlearn: 0.0551595\ttotal: 137ms\tremaining: 649ms\n",
      "87:\tlearn: 0.0550223\ttotal: 138ms\tremaining: 646ms\n",
      "88:\tlearn: 0.0537476\ttotal: 139ms\tremaining: 644ms\n",
      "89:\tlearn: 0.0536496\ttotal: 141ms\tremaining: 642ms\n",
      "90:\tlearn: 0.0528368\ttotal: 143ms\tremaining: 641ms\n",
      "91:\tlearn: 0.0521094\ttotal: 144ms\tremaining: 639ms\n",
      "92:\tlearn: 0.0516701\ttotal: 145ms\tremaining: 637ms\n",
      "93:\tlearn: 0.0507153\ttotal: 147ms\tremaining: 634ms\n",
      "94:\tlearn: 0.0497144\ttotal: 148ms\tremaining: 632ms\n",
      "95:\tlearn: 0.0491758\ttotal: 150ms\tremaining: 630ms\n",
      "96:\tlearn: 0.0484452\ttotal: 151ms\tremaining: 628ms\n",
      "97:\tlearn: 0.0476059\ttotal: 153ms\tremaining: 626ms\n",
      "98:\tlearn: 0.0471312\ttotal: 154ms\tremaining: 624ms\n",
      "99:\tlearn: 0.0465030\ttotal: 155ms\tremaining: 622ms\n",
      "100:\tlearn: 0.0459828\ttotal: 157ms\tremaining: 620ms\n",
      "101:\tlearn: 0.0457152\ttotal: 158ms\tremaining: 618ms\n",
      "102:\tlearn: 0.0456922\ttotal: 160ms\tremaining: 616ms\n",
      "103:\tlearn: 0.0451340\ttotal: 161ms\tremaining: 614ms\n",
      "104:\tlearn: 0.0450609\ttotal: 163ms\tremaining: 612ms\n",
      "105:\tlearn: 0.0447945\ttotal: 165ms\tremaining: 612ms\n",
      "106:\tlearn: 0.0443339\ttotal: 167ms\tremaining: 614ms\n",
      "107:\tlearn: 0.0437625\ttotal: 169ms\tremaining: 613ms\n",
      "108:\tlearn: 0.0427174\ttotal: 170ms\tremaining: 612ms\n",
      "109:\tlearn: 0.0424645\ttotal: 172ms\tremaining: 611ms\n",
      "110:\tlearn: 0.0423276\ttotal: 174ms\tremaining: 609ms\n",
      "111:\tlearn: 0.0415250\ttotal: 176ms\tremaining: 608ms\n",
      "112:\tlearn: 0.0411353\ttotal: 177ms\tremaining: 607ms\n",
      "113:\tlearn: 0.0405482\ttotal: 179ms\tremaining: 606ms\n",
      "114:\tlearn: 0.0399149\ttotal: 181ms\tremaining: 606ms\n",
      "115:\tlearn: 0.0397117\ttotal: 183ms\tremaining: 604ms\n",
      "116:\tlearn: 0.0394634\ttotal: 184ms\tremaining: 603ms\n",
      "117:\tlearn: 0.0389592\ttotal: 186ms\tremaining: 602ms\n",
      "118:\tlearn: 0.0387426\ttotal: 189ms\tremaining: 604ms\n",
      "119:\tlearn: 0.0376667\ttotal: 191ms\tremaining: 606ms\n",
      "120:\tlearn: 0.0369864\ttotal: 194ms\tremaining: 608ms\n",
      "121:\tlearn: 0.0364118\ttotal: 196ms\tremaining: 609ms\n",
      "122:\tlearn: 0.0360336\ttotal: 198ms\tremaining: 608ms\n",
      "123:\tlearn: 0.0359683\ttotal: 200ms\tremaining: 606ms\n",
      "124:\tlearn: 0.0355088\ttotal: 201ms\tremaining: 604ms\n",
      "125:\tlearn: 0.0350138\ttotal: 203ms\tremaining: 601ms\n",
      "126:\tlearn: 0.0346786\ttotal: 204ms\tremaining: 599ms\n",
      "127:\tlearn: 0.0337983\ttotal: 205ms\tremaining: 597ms\n",
      "128:\tlearn: 0.0331378\ttotal: 207ms\tremaining: 595ms\n",
      "129:\tlearn: 0.0328908\ttotal: 208ms\tremaining: 593ms\n",
      "130:\tlearn: 0.0326698\ttotal: 210ms\tremaining: 591ms\n",
      "131:\tlearn: 0.0319828\ttotal: 211ms\tremaining: 589ms\n",
      "132:\tlearn: 0.0317707\ttotal: 213ms\tremaining: 588ms\n",
      "133:\tlearn: 0.0314212\ttotal: 214ms\tremaining: 586ms\n",
      "134:\tlearn: 0.0313266\ttotal: 216ms\tremaining: 584ms\n",
      "135:\tlearn: 0.0311338\ttotal: 217ms\tremaining: 582ms\n",
      "136:\tlearn: 0.0307035\ttotal: 219ms\tremaining: 580ms\n",
      "137:\tlearn: 0.0301277\ttotal: 220ms\tremaining: 578ms\n",
      "138:\tlearn: 0.0298444\ttotal: 223ms\tremaining: 579ms\n",
      "139:\tlearn: 0.0297681\ttotal: 225ms\tremaining: 578ms\n",
      "140:\tlearn: 0.0297174\ttotal: 226ms\tremaining: 577ms\n",
      "141:\tlearn: 0.0291617\ttotal: 228ms\tremaining: 576ms\n",
      "142:\tlearn: 0.0289383\ttotal: 230ms\tremaining: 574ms\n",
      "143:\tlearn: 0.0283904\ttotal: 232ms\tremaining: 573ms\n",
      "144:\tlearn: 0.0283425\ttotal: 234ms\tremaining: 572ms\n",
      "145:\tlearn: 0.0282984\ttotal: 235ms\tremaining: 570ms\n",
      "146:\tlearn: 0.0281249\ttotal: 236ms\tremaining: 568ms\n",
      "147:\tlearn: 0.0274796\ttotal: 238ms\tremaining: 567ms\n",
      "148:\tlearn: 0.0273017\ttotal: 240ms\tremaining: 565ms\n",
      "149:\tlearn: 0.0266077\ttotal: 241ms\tremaining: 563ms\n",
      "150:\tlearn: 0.0262970\ttotal: 243ms\tremaining: 561ms\n",
      "151:\tlearn: 0.0262629\ttotal: 244ms\tremaining: 560ms\n",
      "152:\tlearn: 0.0261066\ttotal: 246ms\tremaining: 558ms\n",
      "153:\tlearn: 0.0257991\ttotal: 248ms\tremaining: 557ms\n",
      "154:\tlearn: 0.0256776\ttotal: 249ms\tremaining: 555ms\n",
      "155:\tlearn: 0.0255060\ttotal: 251ms\tremaining: 554ms\n",
      "156:\tlearn: 0.0254143\ttotal: 254ms\tremaining: 554ms\n",
      "157:\tlearn: 0.0250548\ttotal: 255ms\tremaining: 552ms\n",
      "158:\tlearn: 0.0245692\ttotal: 257ms\tremaining: 551ms\n",
      "159:\tlearn: 0.0245558\ttotal: 259ms\tremaining: 550ms\n",
      "160:\tlearn: 0.0245359\ttotal: 261ms\tremaining: 549ms\n",
      "161:\tlearn: 0.0245258\ttotal: 262ms\tremaining: 548ms\n",
      "162:\tlearn: 0.0242767\ttotal: 265ms\tremaining: 547ms\n",
      "163:\tlearn: 0.0240688\ttotal: 268ms\tremaining: 548ms\n",
      "164:\tlearn: 0.0240371\ttotal: 270ms\tremaining: 548ms\n",
      "165:\tlearn: 0.0238882\ttotal: 272ms\tremaining: 547ms\n",
      "166:\tlearn: 0.0236421\ttotal: 274ms\tremaining: 546ms\n",
      "167:\tlearn: 0.0233872\ttotal: 276ms\tremaining: 545ms\n",
      "168:\tlearn: 0.0230790\ttotal: 278ms\tremaining: 544ms\n",
      "169:\tlearn: 0.0229489\ttotal: 280ms\tremaining: 543ms\n",
      "170:\tlearn: 0.0225142\ttotal: 282ms\tremaining: 542ms\n",
      "171:\tlearn: 0.0222457\ttotal: 284ms\tremaining: 541ms\n",
      "172:\tlearn: 0.0219000\ttotal: 285ms\tremaining: 540ms\n",
      "173:\tlearn: 0.0216946\ttotal: 287ms\tremaining: 538ms\n",
      "174:\tlearn: 0.0215458\ttotal: 289ms\tremaining: 537ms\n",
      "175:\tlearn: 0.0214063\ttotal: 291ms\tremaining: 536ms\n",
      "176:\tlearn: 0.0211046\ttotal: 293ms\tremaining: 535ms\n",
      "177:\tlearn: 0.0209701\ttotal: 295ms\tremaining: 534ms\n",
      "178:\tlearn: 0.0207256\ttotal: 297ms\tremaining: 532ms\n",
      "179:\tlearn: 0.0205264\ttotal: 299ms\tremaining: 531ms\n",
      "180:\tlearn: 0.0204230\ttotal: 301ms\tremaining: 530ms\n",
      "181:\tlearn: 0.0203362\ttotal: 302ms\tremaining: 528ms\n",
      "182:\tlearn: 0.0201274\ttotal: 304ms\tremaining: 526ms\n",
      "183:\tlearn: 0.0201153\ttotal: 305ms\tremaining: 524ms\n",
      "184:\tlearn: 0.0201094\ttotal: 307ms\tremaining: 523ms\n",
      "185:\tlearn: 0.0195756\ttotal: 309ms\tremaining: 521ms\n",
      "186:\tlearn: 0.0193038\ttotal: 310ms\tremaining: 519ms\n",
      "187:\tlearn: 0.0192517\ttotal: 312ms\tremaining: 517ms\n",
      "188:\tlearn: 0.0192243\ttotal: 313ms\tremaining: 515ms\n",
      "189:\tlearn: 0.0191534\ttotal: 314ms\tremaining: 513ms\n",
      "190:\tlearn: 0.0189780\ttotal: 316ms\tremaining: 511ms\n",
      "191:\tlearn: 0.0187757\ttotal: 317ms\tremaining: 509ms\n",
      "192:\tlearn: 0.0186734\ttotal: 319ms\tremaining: 507ms\n",
      "193:\tlearn: 0.0185759\ttotal: 320ms\tremaining: 505ms\n",
      "194:\tlearn: 0.0185592\ttotal: 321ms\tremaining: 502ms\n",
      "195:\tlearn: 0.0184459\ttotal: 323ms\tremaining: 500ms\n",
      "196:\tlearn: 0.0182166\ttotal: 324ms\tremaining: 498ms\n",
      "197:\tlearn: 0.0181104\ttotal: 326ms\tremaining: 497ms\n",
      "198:\tlearn: 0.0180207\ttotal: 327ms\tremaining: 495ms\n",
      "199:\tlearn: 0.0178862\ttotal: 328ms\tremaining: 493ms\n",
      "200:\tlearn: 0.0178703\ttotal: 330ms\tremaining: 490ms\n",
      "201:\tlearn: 0.0177957\ttotal: 331ms\tremaining: 488ms\n",
      "202:\tlearn: 0.0175303\ttotal: 332ms\tremaining: 486ms\n",
      "203:\tlearn: 0.0174440\ttotal: 334ms\tremaining: 484ms\n",
      "204:\tlearn: 0.0174343\ttotal: 335ms\tremaining: 482ms\n",
      "205:\tlearn: 0.0170716\ttotal: 336ms\tremaining: 480ms\n",
      "206:\tlearn: 0.0169463\ttotal: 338ms\tremaining: 478ms\n",
      "207:\tlearn: 0.0169220\ttotal: 339ms\tremaining: 476ms\n",
      "208:\tlearn: 0.0168351\ttotal: 341ms\tremaining: 474ms\n",
      "209:\tlearn: 0.0167212\ttotal: 342ms\tremaining: 472ms\n",
      "210:\tlearn: 0.0167067\ttotal: 343ms\tremaining: 470ms\n",
      "211:\tlearn: 0.0166932\ttotal: 345ms\tremaining: 468ms\n",
      "212:\tlearn: 0.0165283\ttotal: 346ms\tremaining: 466ms\n",
      "213:\tlearn: 0.0165016\ttotal: 347ms\tremaining: 464ms\n"
     ]
    },
    {
     "name": "stdout",
     "output_type": "stream",
     "text": [
      "214:\tlearn: 0.0163559\ttotal: 350ms\tremaining: 464ms\n",
      "215:\tlearn: 0.0162044\ttotal: 353ms\tremaining: 464ms\n",
      "216:\tlearn: 0.0160882\ttotal: 355ms\tremaining: 463ms\n",
      "217:\tlearn: 0.0158991\ttotal: 357ms\tremaining: 462ms\n",
      "218:\tlearn: 0.0156250\ttotal: 359ms\tremaining: 460ms\n",
      "219:\tlearn: 0.0155609\ttotal: 360ms\tremaining: 458ms\n",
      "220:\tlearn: 0.0153552\ttotal: 362ms\tremaining: 457ms\n",
      "221:\tlearn: 0.0153407\ttotal: 363ms\tremaining: 455ms\n",
      "222:\tlearn: 0.0152197\ttotal: 365ms\tremaining: 453ms\n",
      "223:\tlearn: 0.0150105\ttotal: 366ms\tremaining: 452ms\n",
      "224:\tlearn: 0.0149790\ttotal: 368ms\tremaining: 450ms\n",
      "225:\tlearn: 0.0148971\ttotal: 370ms\tremaining: 448ms\n",
      "226:\tlearn: 0.0147752\ttotal: 371ms\tremaining: 447ms\n",
      "227:\tlearn: 0.0147523\ttotal: 373ms\tremaining: 445ms\n",
      "228:\tlearn: 0.0146348\ttotal: 375ms\tremaining: 443ms\n",
      "229:\tlearn: 0.0144559\ttotal: 376ms\tremaining: 441ms\n",
      "230:\tlearn: 0.0143302\ttotal: 378ms\tremaining: 440ms\n",
      "231:\tlearn: 0.0142507\ttotal: 379ms\tremaining: 438ms\n",
      "232:\tlearn: 0.0141344\ttotal: 381ms\tremaining: 436ms\n",
      "233:\tlearn: 0.0139278\ttotal: 382ms\tremaining: 434ms\n",
      "234:\tlearn: 0.0138900\ttotal: 384ms\tremaining: 433ms\n",
      "235:\tlearn: 0.0137006\ttotal: 385ms\tremaining: 431ms\n",
      "236:\tlearn: 0.0136968\ttotal: 387ms\tremaining: 429ms\n",
      "237:\tlearn: 0.0136399\ttotal: 388ms\tremaining: 427ms\n",
      "238:\tlearn: 0.0136352\ttotal: 390ms\tremaining: 425ms\n",
      "239:\tlearn: 0.0135775\ttotal: 391ms\tremaining: 424ms\n",
      "240:\tlearn: 0.0135323\ttotal: 393ms\tremaining: 422ms\n",
      "241:\tlearn: 0.0135131\ttotal: 394ms\tremaining: 420ms\n",
      "242:\tlearn: 0.0133702\ttotal: 395ms\tremaining: 418ms\n",
      "243:\tlearn: 0.0132128\ttotal: 397ms\tremaining: 416ms\n",
      "244:\tlearn: 0.0131036\ttotal: 398ms\tremaining: 414ms\n",
      "245:\tlearn: 0.0130985\ttotal: 400ms\tremaining: 413ms\n",
      "246:\tlearn: 0.0130463\ttotal: 401ms\tremaining: 411ms\n",
      "247:\tlearn: 0.0129281\ttotal: 402ms\tremaining: 409ms\n",
      "248:\tlearn: 0.0129018\ttotal: 404ms\tremaining: 407ms\n",
      "249:\tlearn: 0.0127549\ttotal: 405ms\tremaining: 405ms\n",
      "250:\tlearn: 0.0125981\ttotal: 407ms\tremaining: 403ms\n",
      "251:\tlearn: 0.0125145\ttotal: 408ms\tremaining: 402ms\n",
      "252:\tlearn: 0.0124421\ttotal: 409ms\tremaining: 400ms\n",
      "253:\tlearn: 0.0123487\ttotal: 411ms\tremaining: 398ms\n",
      "254:\tlearn: 0.0122087\ttotal: 412ms\tremaining: 396ms\n",
      "255:\tlearn: 0.0121949\ttotal: 414ms\tremaining: 395ms\n",
      "256:\tlearn: 0.0120745\ttotal: 415ms\tremaining: 393ms\n",
      "257:\tlearn: 0.0119897\ttotal: 417ms\tremaining: 391ms\n",
      "258:\tlearn: 0.0119568\ttotal: 418ms\tremaining: 389ms\n",
      "259:\tlearn: 0.0118440\ttotal: 419ms\tremaining: 387ms\n",
      "260:\tlearn: 0.0118172\ttotal: 421ms\tremaining: 385ms\n",
      "261:\tlearn: 0.0117260\ttotal: 422ms\tremaining: 384ms\n",
      "262:\tlearn: 0.0116829\ttotal: 424ms\tremaining: 382ms\n",
      "263:\tlearn: 0.0116281\ttotal: 425ms\tremaining: 380ms\n",
      "264:\tlearn: 0.0115343\ttotal: 426ms\tremaining: 378ms\n",
      "265:\tlearn: 0.0114933\ttotal: 428ms\tremaining: 376ms\n",
      "266:\tlearn: 0.0114227\ttotal: 429ms\tremaining: 375ms\n",
      "267:\tlearn: 0.0113749\ttotal: 431ms\tremaining: 373ms\n",
      "268:\tlearn: 0.0112644\ttotal: 432ms\tremaining: 371ms\n",
      "269:\tlearn: 0.0111863\ttotal: 433ms\tremaining: 369ms\n",
      "270:\tlearn: 0.0110647\ttotal: 435ms\tremaining: 368ms\n",
      "271:\tlearn: 0.0110614\ttotal: 436ms\tremaining: 366ms\n",
      "272:\tlearn: 0.0110551\ttotal: 438ms\tremaining: 364ms\n",
      "273:\tlearn: 0.0110218\ttotal: 439ms\tremaining: 362ms\n",
      "274:\tlearn: 0.0109953\ttotal: 440ms\tremaining: 360ms\n",
      "275:\tlearn: 0.0109425\ttotal: 442ms\tremaining: 358ms\n",
      "276:\tlearn: 0.0108431\ttotal: 443ms\tremaining: 357ms\n",
      "277:\tlearn: 0.0108044\ttotal: 445ms\tremaining: 355ms\n",
      "278:\tlearn: 0.0107416\ttotal: 446ms\tremaining: 353ms\n",
      "279:\tlearn: 0.0107391\ttotal: 448ms\tremaining: 352ms\n",
      "280:\tlearn: 0.0107251\ttotal: 449ms\tremaining: 350ms\n",
      "281:\tlearn: 0.0106456\ttotal: 451ms\tremaining: 348ms\n",
      "282:\tlearn: 0.0105732\ttotal: 452ms\tremaining: 347ms\n",
      "283:\tlearn: 0.0105695\ttotal: 453ms\tremaining: 345ms\n",
      "284:\tlearn: 0.0105234\ttotal: 455ms\tremaining: 343ms\n",
      "285:\tlearn: 0.0104831\ttotal: 456ms\tremaining: 341ms\n",
      "286:\tlearn: 0.0104378\ttotal: 457ms\tremaining: 339ms\n",
      "287:\tlearn: 0.0104064\ttotal: 459ms\tremaining: 338ms\n",
      "288:\tlearn: 0.0103923\ttotal: 460ms\tremaining: 336ms\n",
      "289:\tlearn: 0.0103285\ttotal: 462ms\tremaining: 334ms\n",
      "290:\tlearn: 0.0102151\ttotal: 463ms\tremaining: 332ms\n",
      "291:\tlearn: 0.0101623\ttotal: 464ms\tremaining: 331ms\n",
      "292:\tlearn: 0.0100750\ttotal: 466ms\tremaining: 329ms\n",
      "293:\tlearn: 0.0100290\ttotal: 467ms\tremaining: 327ms\n",
      "294:\tlearn: 0.0098763\ttotal: 468ms\tremaining: 326ms\n",
      "295:\tlearn: 0.0098283\ttotal: 470ms\tremaining: 324ms\n",
      "296:\tlearn: 0.0097975\ttotal: 471ms\tremaining: 322ms\n",
      "297:\tlearn: 0.0097514\ttotal: 472ms\tremaining: 320ms\n",
      "298:\tlearn: 0.0096434\ttotal: 474ms\tremaining: 319ms\n",
      "299:\tlearn: 0.0096414\ttotal: 475ms\tremaining: 317ms\n",
      "300:\tlearn: 0.0095872\ttotal: 477ms\tremaining: 315ms\n",
      "301:\tlearn: 0.0095387\ttotal: 478ms\tremaining: 313ms\n",
      "302:\tlearn: 0.0095022\ttotal: 479ms\tremaining: 312ms\n",
      "303:\tlearn: 0.0094434\ttotal: 481ms\tremaining: 310ms\n",
      "304:\tlearn: 0.0093921\ttotal: 482ms\tremaining: 308ms\n",
      "305:\tlearn: 0.0093574\ttotal: 484ms\tremaining: 307ms\n",
      "306:\tlearn: 0.0093125\ttotal: 485ms\tremaining: 305ms\n",
      "307:\tlearn: 0.0093106\ttotal: 486ms\tremaining: 303ms\n",
      "308:\tlearn: 0.0091757\ttotal: 487ms\tremaining: 301ms\n",
      "309:\tlearn: 0.0091026\ttotal: 489ms\tremaining: 300ms\n",
      "310:\tlearn: 0.0090832\ttotal: 490ms\tremaining: 298ms\n",
      "311:\tlearn: 0.0090583\ttotal: 492ms\tremaining: 296ms\n",
      "312:\tlearn: 0.0090093\ttotal: 493ms\tremaining: 295ms\n",
      "313:\tlearn: 0.0089695\ttotal: 494ms\tremaining: 293ms\n",
      "314:\tlearn: 0.0089274\ttotal: 496ms\tremaining: 291ms\n",
      "315:\tlearn: 0.0088815\ttotal: 497ms\tremaining: 290ms\n",
      "316:\tlearn: 0.0087694\ttotal: 499ms\tremaining: 288ms\n",
      "317:\tlearn: 0.0087366\ttotal: 500ms\tremaining: 286ms\n",
      "318:\tlearn: 0.0087075\ttotal: 501ms\tremaining: 284ms\n",
      "319:\tlearn: 0.0086533\ttotal: 503ms\tremaining: 283ms\n",
      "320:\tlearn: 0.0085915\ttotal: 504ms\tremaining: 281ms\n",
      "321:\tlearn: 0.0084993\ttotal: 506ms\tremaining: 280ms\n",
      "322:\tlearn: 0.0084921\ttotal: 507ms\tremaining: 278ms\n",
      "323:\tlearn: 0.0084558\ttotal: 509ms\tremaining: 276ms\n",
      "324:\tlearn: 0.0084512\ttotal: 510ms\tremaining: 275ms\n",
      "325:\tlearn: 0.0084482\ttotal: 511ms\tremaining: 273ms\n",
      "326:\tlearn: 0.0084233\ttotal: 512ms\tremaining: 271ms\n",
      "327:\tlearn: 0.0084007\ttotal: 514ms\tremaining: 269ms\n",
      "328:\tlearn: 0.0083732\ttotal: 515ms\tremaining: 268ms\n",
      "329:\tlearn: 0.0083488\ttotal: 517ms\tremaining: 266ms\n",
      "330:\tlearn: 0.0083459\ttotal: 518ms\tremaining: 264ms\n",
      "331:\tlearn: 0.0082667\ttotal: 519ms\tremaining: 263ms\n",
      "332:\tlearn: 0.0082645\ttotal: 521ms\tremaining: 261ms\n",
      "333:\tlearn: 0.0082272\ttotal: 522ms\tremaining: 259ms\n",
      "334:\tlearn: 0.0081661\ttotal: 523ms\tremaining: 258ms\n",
      "335:\tlearn: 0.0081552\ttotal: 525ms\tremaining: 256ms\n",
      "336:\tlearn: 0.0081537\ttotal: 526ms\tremaining: 254ms\n",
      "337:\tlearn: 0.0081498\ttotal: 527ms\tremaining: 253ms\n",
      "338:\tlearn: 0.0081236\ttotal: 529ms\tremaining: 251ms\n",
      "339:\tlearn: 0.0080838\ttotal: 530ms\tremaining: 250ms\n",
      "340:\tlearn: 0.0080827\ttotal: 532ms\tremaining: 248ms\n",
      "341:\tlearn: 0.0080663\ttotal: 533ms\tremaining: 246ms\n",
      "342:\tlearn: 0.0079849\ttotal: 535ms\tremaining: 245ms\n",
      "343:\tlearn: 0.0078190\ttotal: 536ms\tremaining: 243ms\n",
      "344:\tlearn: 0.0077509\ttotal: 538ms\tremaining: 242ms\n",
      "345:\tlearn: 0.0076809\ttotal: 540ms\tremaining: 240ms\n",
      "346:\tlearn: 0.0076793\ttotal: 542ms\tremaining: 239ms\n",
      "347:\tlearn: 0.0076153\ttotal: 543ms\tremaining: 237ms\n",
      "348:\tlearn: 0.0076138\ttotal: 544ms\tremaining: 236ms\n",
      "349:\tlearn: 0.0076097\ttotal: 546ms\tremaining: 234ms\n",
      "350:\tlearn: 0.0076066\ttotal: 547ms\tremaining: 232ms\n",
      "351:\tlearn: 0.0076009\ttotal: 549ms\tremaining: 231ms\n",
      "352:\tlearn: 0.0075984\ttotal: 550ms\tremaining: 229ms\n",
      "353:\tlearn: 0.0075958\ttotal: 552ms\tremaining: 228ms\n",
      "354:\tlearn: 0.0075936\ttotal: 554ms\tremaining: 226ms\n",
      "355:\tlearn: 0.0075901\ttotal: 555ms\tremaining: 225ms\n",
      "356:\tlearn: 0.0075868\ttotal: 557ms\tremaining: 223ms\n",
      "357:\tlearn: 0.0075298\ttotal: 558ms\tremaining: 221ms\n",
      "358:\tlearn: 0.0075007\ttotal: 560ms\tremaining: 220ms\n",
      "359:\tlearn: 0.0074641\ttotal: 561ms\tremaining: 218ms\n",
      "360:\tlearn: 0.0074311\ttotal: 562ms\tremaining: 217ms\n",
      "361:\tlearn: 0.0073728\ttotal: 564ms\tremaining: 215ms\n",
      "362:\tlearn: 0.0073247\ttotal: 566ms\tremaining: 213ms\n",
      "363:\tlearn: 0.0072981\ttotal: 567ms\tremaining: 212ms\n",
      "364:\tlearn: 0.0072121\ttotal: 569ms\tremaining: 210ms\n",
      "365:\tlearn: 0.0071069\ttotal: 570ms\tremaining: 209ms\n",
      "366:\tlearn: 0.0070780\ttotal: 571ms\tremaining: 207ms\n",
      "367:\tlearn: 0.0070550\ttotal: 573ms\tremaining: 205ms\n",
      "368:\tlearn: 0.0070412\ttotal: 574ms\tremaining: 204ms\n",
      "369:\tlearn: 0.0070229\ttotal: 576ms\tremaining: 202ms\n",
      "370:\tlearn: 0.0069588\ttotal: 577ms\tremaining: 201ms\n",
      "371:\tlearn: 0.0069341\ttotal: 579ms\tremaining: 199ms\n",
      "372:\tlearn: 0.0069082\ttotal: 580ms\tremaining: 197ms\n",
      "373:\tlearn: 0.0068362\ttotal: 582ms\tremaining: 196ms\n",
      "374:\tlearn: 0.0068196\ttotal: 583ms\tremaining: 194ms\n",
      "375:\tlearn: 0.0067887\ttotal: 584ms\tremaining: 193ms\n",
      "376:\tlearn: 0.0067878\ttotal: 586ms\tremaining: 191ms\n",
      "377:\tlearn: 0.0067570\ttotal: 587ms\tremaining: 189ms\n",
      "378:\tlearn: 0.0067072\ttotal: 588ms\tremaining: 188ms\n",
      "379:\tlearn: 0.0067027\ttotal: 590ms\tremaining: 186ms\n",
      "380:\tlearn: 0.0066905\ttotal: 591ms\tremaining: 185ms\n",
      "381:\tlearn: 0.0066102\ttotal: 593ms\tremaining: 183ms\n",
      "382:\tlearn: 0.0065345\ttotal: 594ms\tremaining: 181ms\n",
      "383:\tlearn: 0.0064955\ttotal: 595ms\tremaining: 180ms\n",
      "384:\tlearn: 0.0064730\ttotal: 597ms\tremaining: 178ms\n",
      "385:\tlearn: 0.0063971\ttotal: 598ms\tremaining: 177ms\n",
      "386:\tlearn: 0.0063638\ttotal: 600ms\tremaining: 175ms\n",
      "387:\tlearn: 0.0063598\ttotal: 601ms\tremaining: 174ms\n",
      "388:\tlearn: 0.0063330\ttotal: 603ms\tremaining: 172ms\n",
      "389:\tlearn: 0.0063110\ttotal: 604ms\tremaining: 170ms\n",
      "390:\tlearn: 0.0062828\ttotal: 605ms\tremaining: 169ms\n",
      "391:\tlearn: 0.0062245\ttotal: 607ms\tremaining: 167ms\n",
      "392:\tlearn: 0.0062236\ttotal: 608ms\tremaining: 166ms\n",
      "393:\tlearn: 0.0062228\ttotal: 609ms\tremaining: 164ms\n",
      "394:\tlearn: 0.0062228\ttotal: 611ms\tremaining: 162ms\n",
      "395:\tlearn: 0.0061927\ttotal: 612ms\tremaining: 161ms\n",
      "396:\tlearn: 0.0061743\ttotal: 613ms\tremaining: 159ms\n",
      "397:\tlearn: 0.0061625\ttotal: 615ms\tremaining: 158ms\n",
      "398:\tlearn: 0.0061410\ttotal: 616ms\tremaining: 156ms\n",
      "399:\tlearn: 0.0061230\ttotal: 618ms\tremaining: 154ms\n",
      "400:\tlearn: 0.0061211\ttotal: 619ms\tremaining: 153ms\n",
      "401:\tlearn: 0.0060952\ttotal: 621ms\tremaining: 151ms\n",
      "402:\tlearn: 0.0060429\ttotal: 622ms\tremaining: 150ms\n",
      "403:\tlearn: 0.0060074\ttotal: 623ms\tremaining: 148ms\n",
      "404:\tlearn: 0.0059849\ttotal: 625ms\tremaining: 147ms\n",
      "405:\tlearn: 0.0059679\ttotal: 626ms\tremaining: 145ms\n",
      "406:\tlearn: 0.0059451\ttotal: 627ms\tremaining: 143ms\n",
      "407:\tlearn: 0.0059197\ttotal: 629ms\tremaining: 142ms\n",
      "408:\tlearn: 0.0059169\ttotal: 630ms\tremaining: 140ms\n",
      "409:\tlearn: 0.0059003\ttotal: 632ms\tremaining: 139ms\n",
      "410:\tlearn: 0.0058764\ttotal: 633ms\tremaining: 137ms\n",
      "411:\tlearn: 0.0058653\ttotal: 635ms\tremaining: 136ms\n",
      "412:\tlearn: 0.0058353\ttotal: 636ms\tremaining: 134ms\n",
      "413:\tlearn: 0.0058168\ttotal: 637ms\tremaining: 132ms\n",
      "414:\tlearn: 0.0057971\ttotal: 639ms\tremaining: 131ms\n",
      "415:\tlearn: 0.0057711\ttotal: 640ms\tremaining: 129ms\n",
      "416:\tlearn: 0.0057489\ttotal: 642ms\tremaining: 128ms\n",
      "417:\tlearn: 0.0057249\ttotal: 643ms\tremaining: 126ms\n",
      "418:\tlearn: 0.0057085\ttotal: 644ms\tremaining: 125ms\n",
      "419:\tlearn: 0.0056888\ttotal: 646ms\tremaining: 123ms\n",
      "420:\tlearn: 0.0056517\ttotal: 647ms\tremaining: 121ms\n",
      "421:\tlearn: 0.0056208\ttotal: 648ms\tremaining: 120ms\n",
      "422:\tlearn: 0.0055894\ttotal: 650ms\tremaining: 118ms\n",
      "423:\tlearn: 0.0055799\ttotal: 651ms\tremaining: 117ms\n",
      "424:\tlearn: 0.0055553\ttotal: 653ms\tremaining: 115ms\n",
      "425:\tlearn: 0.0055531\ttotal: 654ms\tremaining: 114ms\n",
      "426:\tlearn: 0.0055321\ttotal: 655ms\tremaining: 112ms\n",
      "427:\tlearn: 0.0055317\ttotal: 657ms\tremaining: 110ms\n",
      "428:\tlearn: 0.0055170\ttotal: 658ms\tremaining: 109ms\n",
      "429:\tlearn: 0.0054939\ttotal: 660ms\tremaining: 107ms\n",
      "430:\tlearn: 0.0054727\ttotal: 661ms\tremaining: 106ms\n",
      "431:\tlearn: 0.0054645\ttotal: 662ms\tremaining: 104ms\n",
      "432:\tlearn: 0.0054521\ttotal: 663ms\tremaining: 103ms\n",
      "433:\tlearn: 0.0054385\ttotal: 665ms\tremaining: 101ms\n",
      "434:\tlearn: 0.0054385\ttotal: 666ms\tremaining: 99.5ms\n",
      "435:\tlearn: 0.0054372\ttotal: 667ms\tremaining: 98ms\n",
      "436:\tlearn: 0.0054372\ttotal: 669ms\tremaining: 96.4ms\n",
      "437:\tlearn: 0.0054244\ttotal: 670ms\tremaining: 94.8ms\n",
      "438:\tlearn: 0.0054104\ttotal: 671ms\tremaining: 93.3ms\n",
      "439:\tlearn: 0.0054097\ttotal: 673ms\tremaining: 91.7ms\n",
      "440:\tlearn: 0.0054044\ttotal: 674ms\tremaining: 90.2ms\n",
      "441:\tlearn: 0.0053685\ttotal: 675ms\tremaining: 88.6ms\n",
      "442:\tlearn: 0.0053673\ttotal: 677ms\tremaining: 87.1ms\n",
      "443:\tlearn: 0.0053673\ttotal: 678ms\tremaining: 85.5ms\n",
      "444:\tlearn: 0.0053495\ttotal: 679ms\tremaining: 83.9ms\n",
      "445:\tlearn: 0.0053487\ttotal: 680ms\tremaining: 82.4ms\n",
      "446:\tlearn: 0.0053394\ttotal: 682ms\tremaining: 80.8ms\n",
      "447:\tlearn: 0.0053012\ttotal: 683ms\tremaining: 79.3ms\n",
      "448:\tlearn: 0.0052685\ttotal: 685ms\tremaining: 77.8ms\n",
      "449:\tlearn: 0.0052616\ttotal: 686ms\tremaining: 76.3ms\n",
      "450:\tlearn: 0.0052616\ttotal: 687ms\tremaining: 74.7ms\n",
      "451:\tlearn: 0.0052475\ttotal: 689ms\tremaining: 73.1ms\n",
      "452:\tlearn: 0.0051986\ttotal: 691ms\tremaining: 71.7ms\n",
      "453:\tlearn: 0.0051711\ttotal: 692ms\tremaining: 70.1ms\n",
      "454:\tlearn: 0.0051554\ttotal: 694ms\tremaining: 68.6ms\n",
      "455:\tlearn: 0.0051550\ttotal: 695ms\tremaining: 67ms\n",
      "456:\tlearn: 0.0051178\ttotal: 696ms\tremaining: 65.5ms\n",
      "457:\tlearn: 0.0051176\ttotal: 697ms\tremaining: 64ms\n",
      "458:\tlearn: 0.0051060\ttotal: 699ms\tremaining: 62.4ms\n",
      "459:\tlearn: 0.0050911\ttotal: 700ms\tremaining: 60.9ms\n",
      "460:\tlearn: 0.0050627\ttotal: 702ms\tremaining: 59.4ms\n",
      "461:\tlearn: 0.0050531\ttotal: 703ms\tremaining: 57.8ms\n",
      "462:\tlearn: 0.0050380\ttotal: 704ms\tremaining: 56.3ms\n"
     ]
    },
    {
     "name": "stdout",
     "output_type": "stream",
     "text": [
      "463:\tlearn: 0.0050172\ttotal: 706ms\tremaining: 54.8ms\n",
      "464:\tlearn: 0.0050072\ttotal: 708ms\tremaining: 53.3ms\n",
      "465:\tlearn: 0.0049723\ttotal: 709ms\tremaining: 51.8ms\n",
      "466:\tlearn: 0.0049716\ttotal: 711ms\tremaining: 50.2ms\n",
      "467:\tlearn: 0.0049621\ttotal: 712ms\tremaining: 48.7ms\n",
      "468:\tlearn: 0.0049308\ttotal: 714ms\tremaining: 47.2ms\n",
      "469:\tlearn: 0.0049096\ttotal: 715ms\tremaining: 45.7ms\n",
      "470:\tlearn: 0.0048668\ttotal: 717ms\tremaining: 44.1ms\n",
      "471:\tlearn: 0.0048653\ttotal: 718ms\tremaining: 42.6ms\n",
      "472:\tlearn: 0.0048646\ttotal: 720ms\tremaining: 41.1ms\n",
      "473:\tlearn: 0.0048576\ttotal: 721ms\tremaining: 39.6ms\n",
      "474:\tlearn: 0.0048575\ttotal: 722ms\tremaining: 38ms\n",
      "475:\tlearn: 0.0048461\ttotal: 724ms\tremaining: 36.5ms\n",
      "476:\tlearn: 0.0048459\ttotal: 725ms\tremaining: 35ms\n",
      "477:\tlearn: 0.0048379\ttotal: 727ms\tremaining: 33.5ms\n",
      "478:\tlearn: 0.0048078\ttotal: 728ms\tremaining: 31.9ms\n",
      "479:\tlearn: 0.0047933\ttotal: 730ms\tremaining: 30.4ms\n",
      "480:\tlearn: 0.0047683\ttotal: 731ms\tremaining: 28.9ms\n",
      "481:\tlearn: 0.0047176\ttotal: 733ms\tremaining: 27.4ms\n",
      "482:\tlearn: 0.0047176\ttotal: 734ms\tremaining: 25.8ms\n",
      "483:\tlearn: 0.0047064\ttotal: 736ms\tremaining: 24.3ms\n",
      "484:\tlearn: 0.0047059\ttotal: 737ms\tremaining: 22.8ms\n",
      "485:\tlearn: 0.0046989\ttotal: 738ms\tremaining: 21.3ms\n",
      "486:\tlearn: 0.0046614\ttotal: 740ms\tremaining: 19.7ms\n",
      "487:\tlearn: 0.0046428\ttotal: 741ms\tremaining: 18.2ms\n",
      "488:\tlearn: 0.0046337\ttotal: 743ms\tremaining: 16.7ms\n",
      "489:\tlearn: 0.0046330\ttotal: 744ms\tremaining: 15.2ms\n",
      "490:\tlearn: 0.0046181\ttotal: 746ms\tremaining: 13.7ms\n",
      "491:\tlearn: 0.0046083\ttotal: 747ms\tremaining: 12.2ms\n",
      "492:\tlearn: 0.0045965\ttotal: 749ms\tremaining: 10.6ms\n",
      "493:\tlearn: 0.0045899\ttotal: 750ms\tremaining: 9.11ms\n",
      "494:\tlearn: 0.0045845\ttotal: 752ms\tremaining: 7.59ms\n",
      "495:\tlearn: 0.0045845\ttotal: 753ms\tremaining: 6.07ms\n",
      "496:\tlearn: 0.0045804\ttotal: 754ms\tremaining: 4.55ms\n",
      "497:\tlearn: 0.0045754\ttotal: 756ms\tremaining: 3.04ms\n",
      "498:\tlearn: 0.0045679\ttotal: 757ms\tremaining: 1.52ms\n",
      "499:\tlearn: 0.0045551\ttotal: 759ms\tremaining: 0us\n"
     ]
    }
   ],
   "source": [
    "cb_tuned = cb.fit(X_train, y_train)"
   ]
  },
  {
   "cell_type": "code",
   "execution_count": 169,
   "metadata": {},
   "outputs": [
    {
     "data": {
      "text/plain": [
       "0.9603960396039604"
      ]
     },
     "execution_count": 169,
     "metadata": {},
     "output_type": "execute_result"
    }
   ],
   "source": [
    "y_pred = cb_tuned.predict(X_test)\n",
    "accuracy_score(y_test, y_pred)"
   ]
  },
  {
   "cell_type": "code",
   "execution_count": null,
   "metadata": {},
   "outputs": [],
   "source": []
  },
  {
   "cell_type": "markdown",
   "metadata": {},
   "source": [
    "### Model & Tahmin"
   ]
  },
  {
   "cell_type": "code",
   "execution_count": 18,
   "metadata": {
    "collapsed": true
   },
   "outputs": [
    {
     "ename": "KeyboardInterrupt",
     "evalue": "",
     "output_type": "error",
     "traceback": [
      "\u001b[1;31m---------------------------------------------------------------------------\u001b[0m",
      "\u001b[1;31mKeyboardInterrupt\u001b[0m                         Traceback (most recent call last)",
      "\u001b[1;32m<ipython-input-18-29ecf8d95198>\u001b[0m in \u001b[0;36m<module>\u001b[1;34m\u001b[0m\n\u001b[1;32m----> 1\u001b[1;33m \u001b[0msvm_model\u001b[0m \u001b[1;33m=\u001b[0m \u001b[0mSVC\u001b[0m\u001b[1;33m(\u001b[0m\u001b[0mkernel\u001b[0m\u001b[1;33m=\u001b[0m\u001b[1;34m\"linear\"\u001b[0m\u001b[1;33m)\u001b[0m\u001b[1;33m.\u001b[0m\u001b[0mfit\u001b[0m\u001b[1;33m(\u001b[0m\u001b[0mX_train\u001b[0m\u001b[1;33m,\u001b[0m \u001b[0my_train\u001b[0m\u001b[1;33m)\u001b[0m\u001b[1;33m\u001b[0m\u001b[1;33m\u001b[0m\u001b[0m\n\u001b[0m",
      "\u001b[1;32mC:\\ProgramData\\Anaconda3\\lib\\site-packages\\sklearn\\svm\\_base.py\u001b[0m in \u001b[0;36mfit\u001b[1;34m(self, X, y, sample_weight)\u001b[0m\n\u001b[0;32m    197\u001b[0m \u001b[1;33m\u001b[0m\u001b[0m\n\u001b[0;32m    198\u001b[0m         \u001b[0mseed\u001b[0m \u001b[1;33m=\u001b[0m \u001b[0mrnd\u001b[0m\u001b[1;33m.\u001b[0m\u001b[0mrandint\u001b[0m\u001b[1;33m(\u001b[0m\u001b[0mnp\u001b[0m\u001b[1;33m.\u001b[0m\u001b[0miinfo\u001b[0m\u001b[1;33m(\u001b[0m\u001b[1;34m'i'\u001b[0m\u001b[1;33m)\u001b[0m\u001b[1;33m.\u001b[0m\u001b[0mmax\u001b[0m\u001b[1;33m)\u001b[0m\u001b[1;33m\u001b[0m\u001b[1;33m\u001b[0m\u001b[0m\n\u001b[1;32m--> 199\u001b[1;33m         \u001b[0mfit\u001b[0m\u001b[1;33m(\u001b[0m\u001b[0mX\u001b[0m\u001b[1;33m,\u001b[0m \u001b[0my\u001b[0m\u001b[1;33m,\u001b[0m \u001b[0msample_weight\u001b[0m\u001b[1;33m,\u001b[0m \u001b[0msolver_type\u001b[0m\u001b[1;33m,\u001b[0m \u001b[0mkernel\u001b[0m\u001b[1;33m,\u001b[0m \u001b[0mrandom_seed\u001b[0m\u001b[1;33m=\u001b[0m\u001b[0mseed\u001b[0m\u001b[1;33m)\u001b[0m\u001b[1;33m\u001b[0m\u001b[1;33m\u001b[0m\u001b[0m\n\u001b[0m\u001b[0;32m    200\u001b[0m         \u001b[1;31m# see comment on the other call to np.iinfo in this file\u001b[0m\u001b[1;33m\u001b[0m\u001b[1;33m\u001b[0m\u001b[1;33m\u001b[0m\u001b[0m\n\u001b[0;32m    201\u001b[0m \u001b[1;33m\u001b[0m\u001b[0m\n",
      "\u001b[1;32mC:\\ProgramData\\Anaconda3\\lib\\site-packages\\sklearn\\svm\\_base.py\u001b[0m in \u001b[0;36m_dense_fit\u001b[1;34m(self, X, y, sample_weight, solver_type, kernel, random_seed)\u001b[0m\n\u001b[0;32m    256\u001b[0m                 \u001b[0mcache_size\u001b[0m\u001b[1;33m=\u001b[0m\u001b[0mself\u001b[0m\u001b[1;33m.\u001b[0m\u001b[0mcache_size\u001b[0m\u001b[1;33m,\u001b[0m \u001b[0mcoef0\u001b[0m\u001b[1;33m=\u001b[0m\u001b[0mself\u001b[0m\u001b[1;33m.\u001b[0m\u001b[0mcoef0\u001b[0m\u001b[1;33m,\u001b[0m\u001b[1;33m\u001b[0m\u001b[1;33m\u001b[0m\u001b[0m\n\u001b[0;32m    257\u001b[0m                 \u001b[0mgamma\u001b[0m\u001b[1;33m=\u001b[0m\u001b[0mself\u001b[0m\u001b[1;33m.\u001b[0m\u001b[0m_gamma\u001b[0m\u001b[1;33m,\u001b[0m \u001b[0mepsilon\u001b[0m\u001b[1;33m=\u001b[0m\u001b[0mself\u001b[0m\u001b[1;33m.\u001b[0m\u001b[0mepsilon\u001b[0m\u001b[1;33m,\u001b[0m\u001b[1;33m\u001b[0m\u001b[1;33m\u001b[0m\u001b[0m\n\u001b[1;32m--> 258\u001b[1;33m                 max_iter=self.max_iter, random_seed=random_seed)\n\u001b[0m\u001b[0;32m    259\u001b[0m \u001b[1;33m\u001b[0m\u001b[0m\n\u001b[0;32m    260\u001b[0m         \u001b[0mself\u001b[0m\u001b[1;33m.\u001b[0m\u001b[0m_warn_from_fit_status\u001b[0m\u001b[1;33m(\u001b[0m\u001b[1;33m)\u001b[0m\u001b[1;33m\u001b[0m\u001b[1;33m\u001b[0m\u001b[0m\n",
      "\u001b[1;31mKeyboardInterrupt\u001b[0m: "
     ]
    }
   ],
   "source": [
    "svm_model = SVC(kernel=\"linear\").fit(X_train, y_train)"
   ]
  },
  {
   "cell_type": "code",
   "execution_count": null,
   "metadata": {
    "scrolled": true
   },
   "outputs": [],
   "source": [
    "svm_model"
   ]
  },
  {
   "cell_type": "code",
   "execution_count": null,
   "metadata": {},
   "outputs": [],
   "source": [
    "y_pred = svm_model.predict(X_test)"
   ]
  },
  {
   "cell_type": "code",
   "execution_count": null,
   "metadata": {},
   "outputs": [],
   "source": [
    "accuracy_score(y_test, y_pred)"
   ]
  },
  {
   "cell_type": "code",
   "execution_count": 19,
   "metadata": {},
   "outputs": [],
   "source": [
    "svm_model = LinearSVC(class_weight={1:2}).fit(X_train, y_train)"
   ]
  },
  {
   "cell_type": "code",
   "execution_count": 20,
   "metadata": {
    "scrolled": true
   },
   "outputs": [
    {
     "data": {
      "text/plain": [
       "LinearSVC(C=1.0, class_weight={1: 2}, dual=True, fit_intercept=True,\n",
       "          intercept_scaling=1, loss='squared_hinge', max_iter=1000,\n",
       "          multi_class='ovr', penalty='l2', random_state=None, tol=0.0001,\n",
       "          verbose=0)"
      ]
     },
     "execution_count": 20,
     "metadata": {},
     "output_type": "execute_result"
    }
   ],
   "source": [
    "svm_model"
   ]
  },
  {
   "cell_type": "code",
   "execution_count": 21,
   "metadata": {},
   "outputs": [],
   "source": [
    "y_pred = svm_model.predict(X_test)"
   ]
  },
  {
   "cell_type": "code",
   "execution_count": 22,
   "metadata": {},
   "outputs": [
    {
     "data": {
      "text/plain": [
       "0.9141914191419142"
      ]
     },
     "execution_count": 22,
     "metadata": {},
     "output_type": "execute_result"
    }
   ],
   "source": [
    "accuracy_score(y_test, y_pred)"
   ]
  },
  {
   "cell_type": "code",
   "execution_count": null,
   "metadata": {},
   "outputs": [],
   "source": []
  },
  {
   "cell_type": "markdown",
   "metadata": {},
   "source": [
    "# Model Tuning"
   ]
  },
  {
   "cell_type": "code",
   "execution_count": 24,
   "metadata": {},
   "outputs": [
    {
     "name": "stdout",
     "output_type": "stream",
     "text": [
      "Fitting 10 folds for each of 9 candidates, totalling 90 fits\n"
     ]
    },
    {
     "name": "stderr",
     "output_type": "stream",
     "text": [
      "[Parallel(n_jobs=-1)]: Using backend LokyBackend with 8 concurrent workers.\n",
      "[Parallel(n_jobs=-1)]: Done  25 tasks      | elapsed:    1.8s\n",
      "[Parallel(n_jobs=-1)]: Done  90 out of  90 | elapsed:    2.6s finished\n"
     ]
    },
    {
     "data": {
      "text/plain": [
       "GridSearchCV(cv=10, error_score=nan,\n",
       "             estimator=LinearSVC(C=1.0, class_weight={1: 2}, dual=True,\n",
       "                                 fit_intercept=True, intercept_scaling=1,\n",
       "                                 loss='squared_hinge', max_iter=1000,\n",
       "                                 multi_class='ovr', penalty='l2',\n",
       "                                 random_state=None, tol=0.0001, verbose=0),\n",
       "             iid='deprecated', n_jobs=-1,\n",
       "             param_grid={'C': array([1, 2, 3, 4, 5, 6, 7, 8, 9])},\n",
       "             pre_dispatch='2*n_jobs', refit=True, return_train_score=False,\n",
       "             scoring=None, verbose=2)"
      ]
     },
     "execution_count": 24,
     "metadata": {},
     "output_type": "execute_result"
    }
   ],
   "source": [
    "svc_params = {\"C\": np.arange(1,10)}\n",
    "\n",
    "svc = LinearSVC(class_weight={1:2})\n",
    "\n",
    "svc_cv_model = GridSearchCV(svc, svc_params,\n",
    "                           cv = 10,\n",
    "                           n_jobs = -1,\n",
    "                           verbose = 2)\n",
    "\n",
    "svc_cv_model.fit(X_train, y_train)"
   ]
  },
  {
   "cell_type": "code",
   "execution_count": 25,
   "metadata": {
    "scrolled": true
   },
   "outputs": [
    {
     "name": "stdout",
     "output_type": "stream",
     "text": [
      "En iyi parametreler: {'C': 2}\n"
     ]
    }
   ],
   "source": [
    "print(\"En iyi parametreler: \" + str(svc_cv_model.best_params_))"
   ]
  },
  {
   "cell_type": "code",
   "execution_count": 26,
   "metadata": {},
   "outputs": [],
   "source": [
    "svc_tuned = LinearSVC(C = 2).fit(X_train, y_train)"
   ]
  },
  {
   "cell_type": "code",
   "execution_count": 27,
   "metadata": {},
   "outputs": [],
   "source": [
    "y_pred = svc_tuned.predict(X_test)"
   ]
  },
  {
   "cell_type": "code",
   "execution_count": 28,
   "metadata": {},
   "outputs": [
    {
     "data": {
      "text/plain": [
       "0.9141914191419142"
      ]
     },
     "execution_count": 28,
     "metadata": {},
     "output_type": "execute_result"
    }
   ],
   "source": [
    "accuracy_score(y_test, y_pred)"
   ]
  },
  {
   "cell_type": "code",
   "execution_count": 29,
   "metadata": {},
   "outputs": [],
   "source": [
    "svc_tuned = SVC(C = 1, kernel=\"rbf\").fit(X_train, y_train)"
   ]
  },
  {
   "cell_type": "code",
   "execution_count": 30,
   "metadata": {},
   "outputs": [],
   "source": [
    "y_pred = svc_tuned.predict(X_test)"
   ]
  },
  {
   "cell_type": "code",
   "execution_count": 31,
   "metadata": {},
   "outputs": [
    {
     "data": {
      "text/plain": [
       "0.9141914191419142"
      ]
     },
     "execution_count": 31,
     "metadata": {},
     "output_type": "execute_result"
    }
   ],
   "source": [
    "accuracy_score(y_test, y_pred)"
   ]
  },
  {
   "cell_type": "code",
   "execution_count": 32,
   "metadata": {},
   "outputs": [],
   "source": [
    "svc_params = {\"C\": [0.0001,0.001,0.1,1,5,10,50,10],\n",
    "             \"gamma\": [0.0001,0.001,0.1,1,5,10,50,10]}"
   ]
  },
  {
   "cell_type": "code",
   "execution_count": 33,
   "metadata": {
    "scrolled": true
   },
   "outputs": [
    {
     "name": "stdout",
     "output_type": "stream",
     "text": [
      "Fitting 10 folds for each of 64 candidates, totalling 640 fits\n"
     ]
    },
    {
     "name": "stderr",
     "output_type": "stream",
     "text": [
      "[Parallel(n_jobs=-1)]: Using backend LokyBackend with 8 concurrent workers.\n",
      "[Parallel(n_jobs=-1)]: Done  34 tasks      | elapsed:    0.1s\n",
      "[Parallel(n_jobs=-1)]: Done 504 tasks      | elapsed:   10.3s\n",
      "[Parallel(n_jobs=-1)]: Done 625 out of 640 | elapsed:   13.6s remaining:    0.2s\n",
      "[Parallel(n_jobs=-1)]: Done 640 out of 640 | elapsed:   13.9s finished\n"
     ]
    },
    {
     "data": {
      "text/plain": [
       "GridSearchCV(cv=10, error_score=nan,\n",
       "             estimator=SVC(C=1.0, break_ties=False, cache_size=200,\n",
       "                           class_weight=None, coef0=0.0,\n",
       "                           decision_function_shape='ovr', degree=3,\n",
       "                           gamma='scale', kernel='rbf', max_iter=-1,\n",
       "                           probability=False, random_state=None, shrinking=True,\n",
       "                           tol=0.001, verbose=False),\n",
       "             iid='deprecated', n_jobs=-1,\n",
       "             param_grid={'C': [0.0001, 0.001, 0.1, 1, 5, 10, 50, 10],\n",
       "                         'gamma': [0.0001, 0.001, 0.1, 1, 5, 10, 50, 10]},\n",
       "             pre_dispatch='2*n_jobs', refit=True, return_train_score=False,\n",
       "             scoring=None, verbose=2)"
      ]
     },
     "execution_count": 33,
     "metadata": {},
     "output_type": "execute_result"
    }
   ],
   "source": [
    "svc = SVC()\n",
    "svc_cv_model = GridSearchCV(svc, svc_params,\n",
    "                           cv = 10,\n",
    "                           n_jobs = -1,\n",
    "                           verbose=2)\n",
    "svc_cv_model.fit(X_train, y_train)"
   ]
  },
  {
   "cell_type": "code",
   "execution_count": 34,
   "metadata": {},
   "outputs": [
    {
     "data": {
      "text/plain": [
       "{'C': 0.0001, 'gamma': 0.0001}"
      ]
     },
     "execution_count": 34,
     "metadata": {},
     "output_type": "execute_result"
    }
   ],
   "source": [
    "svc_cv_model.best_params_"
   ]
  },
  {
   "cell_type": "code",
   "execution_count": 35,
   "metadata": {},
   "outputs": [],
   "source": [
    "svc_tuned = SVC(C = 0.0001, gamma=0.0001, kernel = \"rbf\").fit(X_train, y_train)"
   ]
  },
  {
   "cell_type": "code",
   "execution_count": 36,
   "metadata": {},
   "outputs": [],
   "source": [
    "y_pred = svc_tuned.predict(X_test)"
   ]
  },
  {
   "cell_type": "code",
   "execution_count": 37,
   "metadata": {},
   "outputs": [
    {
     "data": {
      "text/plain": [
       "0.9141914191419142"
      ]
     },
     "execution_count": 37,
     "metadata": {},
     "output_type": "execute_result"
    }
   ],
   "source": [
    "accuracy_score(y_test, y_pred)"
   ]
  },
  {
   "cell_type": "markdown",
   "metadata": {},
   "source": [
    "# Gaussian NB"
   ]
  },
  {
   "cell_type": "code",
   "execution_count": 137,
   "metadata": {},
   "outputs": [
    {
     "data": {
      "text/plain": [
       "GaussianNB(priors=None, var_smoothing=1e-09)"
      ]
     },
     "execution_count": 137,
     "metadata": {},
     "output_type": "execute_result"
    }
   ],
   "source": [
    "#normality gerekli\n",
    "nb = GaussianNB()\n",
    "nb_model = nb.fit(X_train, y_train)\n",
    "nb_model"
   ]
  },
  {
   "cell_type": "code",
   "execution_count": 138,
   "metadata": {},
   "outputs": [
    {
     "data": {
      "text/plain": [
       "array([0, 0, 0, 0, 0, 0, 0, 0, 1, 0], dtype=int64)"
      ]
     },
     "execution_count": 138,
     "metadata": {},
     "output_type": "execute_result"
    }
   ],
   "source": [
    "nb_model.predict(X_test)[0:10]"
   ]
  },
  {
   "cell_type": "code",
   "execution_count": 139,
   "metadata": {},
   "outputs": [
    {
     "data": {
      "text/plain": [
       "array([[0.99022428, 0.00977572],\n",
       "       [0.96035143, 0.03964857],\n",
       "       [0.98796915, 0.01203085],\n",
       "       [0.98444727, 0.01555273],\n",
       "       [0.99660551, 0.00339449],\n",
       "       [0.97694591, 0.02305409],\n",
       "       [0.9877874 , 0.0122126 ],\n",
       "       [0.97588318, 0.02411682],\n",
       "       [0.29837894, 0.70162106],\n",
       "       [0.99520392, 0.00479608]])"
      ]
     },
     "execution_count": 139,
     "metadata": {},
     "output_type": "execute_result"
    }
   ],
   "source": [
    "nb_model.predict_proba(X_test)[0:10]\n"
   ]
  },
  {
   "cell_type": "code",
   "execution_count": 140,
   "metadata": {},
   "outputs": [],
   "source": [
    "y_pred = nb_model.predict(X_test)"
   ]
  },
  {
   "cell_type": "code",
   "execution_count": 141,
   "metadata": {},
   "outputs": [
    {
     "data": {
      "text/plain": [
       "0.8993399339933993"
      ]
     },
     "execution_count": 141,
     "metadata": {},
     "output_type": "execute_result"
    }
   ],
   "source": [
    "accuracy_score(y_test,y_pred)"
   ]
  },
  {
   "cell_type": "code",
   "execution_count": 142,
   "metadata": {},
   "outputs": [
    {
     "data": {
      "text/plain": [
       "0.9191256830601093"
      ]
     },
     "execution_count": 142,
     "metadata": {},
     "output_type": "execute_result"
    }
   ],
   "source": [
    "cross_val_score(nb_model, X_test, y_test, cv=10).mean()"
   ]
  },
  {
   "cell_type": "code",
   "execution_count": null,
   "metadata": {},
   "outputs": [],
   "source": []
  },
  {
   "cell_type": "markdown",
   "metadata": {},
   "source": [
    "# KNN Classifier"
   ]
  },
  {
   "cell_type": "code",
   "execution_count": 38,
   "metadata": {
    "scrolled": true
   },
   "outputs": [
    {
     "data": {
      "text/plain": [
       "KNeighborsClassifier(algorithm='auto', leaf_size=30, metric='minkowski',\n",
       "                     metric_params=None, n_jobs=None, n_neighbors=5, p=2,\n",
       "                     weights='uniform')"
      ]
     },
     "execution_count": 38,
     "metadata": {},
     "output_type": "execute_result"
    }
   ],
   "source": [
    "knn = KNeighborsClassifier()\n",
    "knn_model = knn.fit(X_train, y_train)\n",
    "knn_model"
   ]
  },
  {
   "cell_type": "code",
   "execution_count": 39,
   "metadata": {},
   "outputs": [],
   "source": [
    "y_pred = knn_model.predict(X_test)"
   ]
  },
  {
   "cell_type": "code",
   "execution_count": 40,
   "metadata": {},
   "outputs": [
    {
     "data": {
      "text/plain": [
       "0.9141914191419142"
      ]
     },
     "execution_count": 40,
     "metadata": {},
     "output_type": "execute_result"
    }
   ],
   "source": [
    "accuracy_score(y_test, y_pred)"
   ]
  },
  {
   "cell_type": "code",
   "execution_count": 41,
   "metadata": {
    "scrolled": true
   },
   "outputs": [
    {
     "name": "stdout",
     "output_type": "stream",
     "text": [
      "              precision    recall  f1-score   support\n",
      "\n",
      "           0       0.92      0.99      0.95       554\n",
      "           1       0.50      0.10      0.16        52\n",
      "\n",
      "    accuracy                           0.91       606\n",
      "   macro avg       0.71      0.54      0.56       606\n",
      "weighted avg       0.89      0.91      0.89       606\n",
      "\n"
     ]
    }
   ],
   "source": [
    "print(classification_report(y_test, y_pred))"
   ]
  },
  {
   "cell_type": "code",
   "execution_count": 42,
   "metadata": {},
   "outputs": [],
   "source": [
    "knn_params = {\"n_neighbors\": np.arange(1,50),\n",
    "             \"metric\": [\"minkowski\", \"euclidean\", \"manhattan\", \"hamming\"]}"
   ]
  },
  {
   "cell_type": "code",
   "execution_count": 43,
   "metadata": {},
   "outputs": [
    {
     "name": "stdout",
     "output_type": "stream",
     "text": [
      "Fitting 10 folds for each of 196 candidates, totalling 1960 fits\n"
     ]
    },
    {
     "name": "stderr",
     "output_type": "stream",
     "text": [
      "[Parallel(n_jobs=-1)]: Using backend LokyBackend with 8 concurrent workers.\n",
      "[Parallel(n_jobs=-1)]: Done  25 tasks      | elapsed:    1.5s\n",
      "[Parallel(n_jobs=-1)]: Done 1072 tasks      | elapsed:    3.8s\n",
      "[Parallel(n_jobs=-1)]: Done 1960 out of 1960 | elapsed:    5.8s finished\n"
     ]
    },
    {
     "data": {
      "text/plain": [
       "GridSearchCV(cv=10, error_score=nan,\n",
       "             estimator=KNeighborsClassifier(algorithm='auto', leaf_size=30,\n",
       "                                            metric='minkowski',\n",
       "                                            metric_params=None, n_jobs=None,\n",
       "                                            n_neighbors=5, p=2,\n",
       "                                            weights='uniform'),\n",
       "             iid='deprecated', n_jobs=-1,\n",
       "             param_grid={'metric': ['minkowski', 'euclidean', 'manhattan',\n",
       "                                    'hamming'],\n",
       "                         'n_neighbors': array([ 1,  2,  3,  4,  5,  6,  7,  8,  9, 10, 11, 12, 13, 14, 15, 16, 17,\n",
       "       18, 19, 20, 21, 22, 23, 24, 25, 26, 27, 28, 29, 30, 31, 32, 33, 34,\n",
       "       35, 36, 37, 38, 39, 40, 41, 42, 43, 44, 45, 46, 47, 48, 49])},\n",
       "             pre_dispatch='2*n_jobs', refit=True, return_train_score=False,\n",
       "             scoring=None, verbose=2)"
      ]
     },
     "execution_count": 43,
     "metadata": {},
     "output_type": "execute_result"
    }
   ],
   "source": [
    "knn = KNeighborsClassifier()\n",
    "knn_cv = GridSearchCV(knn,knn_params, cv=10, n_jobs=-1, verbose=2)\n",
    "knn_cv.fit(X_train, y_train)"
   ]
  },
  {
   "cell_type": "code",
   "execution_count": 44,
   "metadata": {},
   "outputs": [
    {
     "data": {
      "text/plain": [
       "0.9128908200978924"
      ]
     },
     "execution_count": 44,
     "metadata": {},
     "output_type": "execute_result"
    }
   ],
   "source": [
    "knn_cv.best_score_"
   ]
  },
  {
   "cell_type": "code",
   "execution_count": 45,
   "metadata": {},
   "outputs": [
    {
     "data": {
      "text/plain": [
       "{'metric': 'minkowski', 'n_neighbors': 14}"
      ]
     },
     "execution_count": 45,
     "metadata": {},
     "output_type": "execute_result"
    }
   ],
   "source": [
    "knn_cv.best_params_\n"
   ]
  },
  {
   "cell_type": "code",
   "execution_count": 46,
   "metadata": {},
   "outputs": [],
   "source": [
    "knn = KNeighborsClassifier(n_neighbors=14, metric = \"minkowski\")\n",
    "knn_tuned = knn.fit(X_train, y_train)"
   ]
  },
  {
   "cell_type": "code",
   "execution_count": 47,
   "metadata": {},
   "outputs": [
    {
     "data": {
      "text/plain": [
       "0.9174917491749175"
      ]
     },
     "execution_count": 47,
     "metadata": {},
     "output_type": "execute_result"
    }
   ],
   "source": [
    "knn_tuned.score(X_test, y_test)"
   ]
  },
  {
   "cell_type": "code",
   "execution_count": null,
   "metadata": {},
   "outputs": [],
   "source": []
  },
  {
   "cell_type": "markdown",
   "metadata": {},
   "source": [
    "# SVR"
   ]
  },
  {
   "cell_type": "code",
   "execution_count": 79,
   "metadata": {},
   "outputs": [],
   "source": [
    "regressdf = pd.read_excel(\"HW_Data_Set.xlsx\")\n",
    "dfr = regressdf.copy()\n",
    "dfr = dfr.dropna()\n",
    "dms = pd.get_dummies(dfr[\"ind_109\"])\n",
    "dms.head()\n",
    "#dfr['90_target'] = np.where(dfr['90_target'] > 20, 0, dfr['90_target'])\n",
    "#dfr['90_target'] = np.where(((dfr['90_target'] < 20) & (dfr['90_target'] > -20)), 1, dfr['90_target'])\n",
    "#dfr['90_target'] = np.where(dfr['90_target'] < -20, 2, dfr['90_target'])\n",
    "\n",
    "#dfr['90_target']=dfr['90_target'].astype(\"int\")\n",
    "\n"
   ]
  },
  {
   "cell_type": "code",
   "execution_count": 80,
   "metadata": {},
   "outputs": [
    {
     "data": {
      "text/plain": [
       "(4625, 135)"
      ]
     },
     "execution_count": 80,
     "metadata": {},
     "output_type": "execute_result"
    }
   ],
   "source": [
    "y = dfr[\"90_target\"]\n",
    "X_ = dfr.drop(['ind_109', 'ind_420', 'ind_422'], axis=1).astype('float64')\n",
    "X = pd.concat([X_,dms[[\"GREEN\",\"RED\"]]],axis=1)\n",
    "X.head()\n",
    "X_train,X_test,y_train,y_test=train_test_split(X,y,test_size=0.25,random_state=42)\n",
    "X_train.shape"
   ]
  },
  {
   "cell_type": "markdown",
   "metadata": {},
   "source": [
    "hit = pd.read_csv(\"Hitters.csv\")\n",
    "df = hit.copy()\n",
    "df = df.dropna()\n",
    "dms=pd.get_dummies(df[[\"League\",\"Division\",\"NewLeague\"]])\n",
    "dms.head()\n",
    "y = df[\"Salary\"]\n",
    "X_ = df.drop(['Salary', 'League', 'Division', 'NewLeague'], axis=1).astype('float64')\n",
    "X=pd.concat([X_,dms[[\"League_N\",\"Division_W\",\"NewLeague_N\"]]],axis=1)\n",
    "X.head()\n",
    "X_train,X_test,y_train,y_test=train_test_split(X,y,test_size=0.25,random_state=42)\n",
    "X_train.shape"
   ]
  },
  {
   "cell_type": "code",
   "execution_count": 81,
   "metadata": {},
   "outputs": [
    {
     "data": {
      "text/plain": [
       "GaussianNB(priors=None, var_smoothing=1e-09)"
      ]
     },
     "execution_count": 81,
     "metadata": {},
     "output_type": "execute_result"
    }
   ],
   "source": [
    "#normality gerekli\n",
    "nb = GaussianNB()\n",
    "nb_model = nb.fit(X_train, y_train)\n",
    "nb_model"
   ]
  },
  {
   "cell_type": "code",
   "execution_count": 82,
   "metadata": {},
   "outputs": [
    {
     "data": {
      "text/plain": [
       "array([2, 1, 2, 2, 1, 2, 2, 1, 2, 2])"
      ]
     },
     "execution_count": 82,
     "metadata": {},
     "output_type": "execute_result"
    }
   ],
   "source": [
    "nb_model.predict(X_test)[0:10]"
   ]
  },
  {
   "cell_type": "code",
   "execution_count": 83,
   "metadata": {},
   "outputs": [
    {
     "data": {
      "text/plain": [
       "array([[0., 1.],\n",
       "       [1., 0.],\n",
       "       [0., 1.],\n",
       "       [0., 1.],\n",
       "       [1., 0.],\n",
       "       [0., 1.],\n",
       "       [0., 1.],\n",
       "       [1., 0.],\n",
       "       [0., 1.],\n",
       "       [0., 1.]])"
      ]
     },
     "execution_count": 83,
     "metadata": {},
     "output_type": "execute_result"
    }
   ],
   "source": [
    "nb_model.predict_proba(X_test)[0:10]\n"
   ]
  },
  {
   "cell_type": "code",
   "execution_count": 84,
   "metadata": {},
   "outputs": [],
   "source": [
    "y_pred = nb_model.predict(X_test)"
   ]
  },
  {
   "cell_type": "code",
   "execution_count": 85,
   "metadata": {},
   "outputs": [
    {
     "data": {
      "text/plain": [
       "1.0"
      ]
     },
     "execution_count": 85,
     "metadata": {},
     "output_type": "execute_result"
    }
   ],
   "source": [
    "accuracy_score(y_test,y_pred)"
   ]
  },
  {
   "cell_type": "code",
   "execution_count": 86,
   "metadata": {},
   "outputs": [
    {
     "data": {
      "text/plain": [
       "1.0"
      ]
     },
     "execution_count": 86,
     "metadata": {},
     "output_type": "execute_result"
    }
   ],
   "source": [
    "cross_val_score(nb_model, X_test, y_test, cv=10).mean()"
   ]
  },
  {
   "cell_type": "code",
   "execution_count": 87,
   "metadata": {
    "collapsed": true
   },
   "outputs": [
    {
     "ename": "ValueError",
     "evalue": "Negative values in data passed to MultinomialNB (input X)",
     "output_type": "error",
     "traceback": [
      "\u001b[1;31m---------------------------------------------------------------------------\u001b[0m",
      "\u001b[1;31mValueError\u001b[0m                                Traceback (most recent call last)",
      "\u001b[1;32m<ipython-input-87-97f544d5442b>\u001b[0m in \u001b[0;36m<module>\u001b[1;34m\u001b[0m\n\u001b[0;32m      1\u001b[0m \u001b[1;31m#normality kontrolü yapmadan\u001b[0m\u001b[1;33m\u001b[0m\u001b[1;33m\u001b[0m\u001b[1;33m\u001b[0m\u001b[0m\n\u001b[0;32m      2\u001b[0m \u001b[0mmnb\u001b[0m \u001b[1;33m=\u001b[0m \u001b[0mMultinomialNB\u001b[0m\u001b[1;33m(\u001b[0m\u001b[1;33m)\u001b[0m\u001b[1;33m\u001b[0m\u001b[1;33m\u001b[0m\u001b[0m\n\u001b[1;32m----> 3\u001b[1;33m \u001b[0mmnb_model\u001b[0m \u001b[1;33m=\u001b[0m \u001b[0mmnb\u001b[0m\u001b[1;33m.\u001b[0m\u001b[0mfit\u001b[0m\u001b[1;33m(\u001b[0m\u001b[0mX_train\u001b[0m\u001b[1;33m,\u001b[0m \u001b[0my_train\u001b[0m\u001b[1;33m)\u001b[0m\u001b[1;33m\u001b[0m\u001b[1;33m\u001b[0m\u001b[0m\n\u001b[0m\u001b[0;32m      4\u001b[0m \u001b[0mmnb_model\u001b[0m\u001b[1;33m\u001b[0m\u001b[1;33m\u001b[0m\u001b[0m\n",
      "\u001b[1;32mC:\\ProgramData\\Anaconda3\\lib\\site-packages\\sklearn\\naive_bayes.py\u001b[0m in \u001b[0;36mfit\u001b[1;34m(self, X, y, sample_weight)\u001b[0m\n\u001b[0;32m    633\u001b[0m \u001b[1;33m\u001b[0m\u001b[0m\n\u001b[0;32m    634\u001b[0m         \u001b[0mself\u001b[0m\u001b[1;33m.\u001b[0m\u001b[0m_init_counters\u001b[0m\u001b[1;33m(\u001b[0m\u001b[0mn_effective_classes\u001b[0m\u001b[1;33m,\u001b[0m \u001b[0mn_features\u001b[0m\u001b[1;33m)\u001b[0m\u001b[1;33m\u001b[0m\u001b[1;33m\u001b[0m\u001b[0m\n\u001b[1;32m--> 635\u001b[1;33m         \u001b[0mself\u001b[0m\u001b[1;33m.\u001b[0m\u001b[0m_count\u001b[0m\u001b[1;33m(\u001b[0m\u001b[0mX\u001b[0m\u001b[1;33m,\u001b[0m \u001b[0mY\u001b[0m\u001b[1;33m)\u001b[0m\u001b[1;33m\u001b[0m\u001b[1;33m\u001b[0m\u001b[0m\n\u001b[0m\u001b[0;32m    636\u001b[0m         \u001b[0malpha\u001b[0m \u001b[1;33m=\u001b[0m \u001b[0mself\u001b[0m\u001b[1;33m.\u001b[0m\u001b[0m_check_alpha\u001b[0m\u001b[1;33m(\u001b[0m\u001b[1;33m)\u001b[0m\u001b[1;33m\u001b[0m\u001b[1;33m\u001b[0m\u001b[0m\n\u001b[0;32m    637\u001b[0m         \u001b[0mself\u001b[0m\u001b[1;33m.\u001b[0m\u001b[0m_update_feature_log_prob\u001b[0m\u001b[1;33m(\u001b[0m\u001b[0malpha\u001b[0m\u001b[1;33m)\u001b[0m\u001b[1;33m\u001b[0m\u001b[1;33m\u001b[0m\u001b[0m\n",
      "\u001b[1;32mC:\\ProgramData\\Anaconda3\\lib\\site-packages\\sklearn\\naive_bayes.py\u001b[0m in \u001b[0;36m_count\u001b[1;34m(self, X, Y)\u001b[0m\n\u001b[0;32m    754\u001b[0m     \u001b[1;32mdef\u001b[0m \u001b[0m_count\u001b[0m\u001b[1;33m(\u001b[0m\u001b[0mself\u001b[0m\u001b[1;33m,\u001b[0m \u001b[0mX\u001b[0m\u001b[1;33m,\u001b[0m \u001b[0mY\u001b[0m\u001b[1;33m)\u001b[0m\u001b[1;33m:\u001b[0m\u001b[1;33m\u001b[0m\u001b[1;33m\u001b[0m\u001b[0m\n\u001b[0;32m    755\u001b[0m         \u001b[1;34m\"\"\"Count and smooth feature occurrences.\"\"\"\u001b[0m\u001b[1;33m\u001b[0m\u001b[1;33m\u001b[0m\u001b[0m\n\u001b[1;32m--> 756\u001b[1;33m         \u001b[0mcheck_non_negative\u001b[0m\u001b[1;33m(\u001b[0m\u001b[0mX\u001b[0m\u001b[1;33m,\u001b[0m \u001b[1;34m\"MultinomialNB (input X)\"\u001b[0m\u001b[1;33m)\u001b[0m\u001b[1;33m\u001b[0m\u001b[1;33m\u001b[0m\u001b[0m\n\u001b[0m\u001b[0;32m    757\u001b[0m         \u001b[0mself\u001b[0m\u001b[1;33m.\u001b[0m\u001b[0mfeature_count_\u001b[0m \u001b[1;33m+=\u001b[0m \u001b[0msafe_sparse_dot\u001b[0m\u001b[1;33m(\u001b[0m\u001b[0mY\u001b[0m\u001b[1;33m.\u001b[0m\u001b[0mT\u001b[0m\u001b[1;33m,\u001b[0m \u001b[0mX\u001b[0m\u001b[1;33m)\u001b[0m\u001b[1;33m\u001b[0m\u001b[1;33m\u001b[0m\u001b[0m\n\u001b[0;32m    758\u001b[0m         \u001b[0mself\u001b[0m\u001b[1;33m.\u001b[0m\u001b[0mclass_count_\u001b[0m \u001b[1;33m+=\u001b[0m \u001b[0mY\u001b[0m\u001b[1;33m.\u001b[0m\u001b[0msum\u001b[0m\u001b[1;33m(\u001b[0m\u001b[0maxis\u001b[0m\u001b[1;33m=\u001b[0m\u001b[1;36m0\u001b[0m\u001b[1;33m)\u001b[0m\u001b[1;33m\u001b[0m\u001b[1;33m\u001b[0m\u001b[0m\n",
      "\u001b[1;32mC:\\ProgramData\\Anaconda3\\lib\\site-packages\\sklearn\\utils\\validation.py\u001b[0m in \u001b[0;36mcheck_non_negative\u001b[1;34m(X, whom)\u001b[0m\n\u001b[0;32m    992\u001b[0m \u001b[1;33m\u001b[0m\u001b[0m\n\u001b[0;32m    993\u001b[0m     \u001b[1;32mif\u001b[0m \u001b[0mX_min\u001b[0m \u001b[1;33m<\u001b[0m \u001b[1;36m0\u001b[0m\u001b[1;33m:\u001b[0m\u001b[1;33m\u001b[0m\u001b[1;33m\u001b[0m\u001b[0m\n\u001b[1;32m--> 994\u001b[1;33m         \u001b[1;32mraise\u001b[0m \u001b[0mValueError\u001b[0m\u001b[1;33m(\u001b[0m\u001b[1;34m\"Negative values in data passed to %s\"\u001b[0m \u001b[1;33m%\u001b[0m \u001b[0mwhom\u001b[0m\u001b[1;33m)\u001b[0m\u001b[1;33m\u001b[0m\u001b[1;33m\u001b[0m\u001b[0m\n\u001b[0m\u001b[0;32m    995\u001b[0m \u001b[1;33m\u001b[0m\u001b[0m\n\u001b[0;32m    996\u001b[0m \u001b[1;33m\u001b[0m\u001b[0m\n",
      "\u001b[1;31mValueError\u001b[0m: Negative values in data passed to MultinomialNB (input X)"
     ]
    }
   ],
   "source": [
    "#normality kontrolü yapmadan\n",
    "mnb = MultinomialNB()\n",
    "mnb_model = mnb.fit(X_train, y_train)\n",
    "mnb_model"
   ]
  },
  {
   "cell_type": "code",
   "execution_count": 76,
   "metadata": {},
   "outputs": [
    {
     "ename": "NameError",
     "evalue": "name 'mnb_model' is not defined",
     "output_type": "error",
     "traceback": [
      "\u001b[1;31m---------------------------------------------------------------------------\u001b[0m",
      "\u001b[1;31mNameError\u001b[0m                                 Traceback (most recent call last)",
      "\u001b[1;32m<ipython-input-76-2a3e211dda1e>\u001b[0m in \u001b[0;36m<module>\u001b[1;34m\u001b[0m\n\u001b[1;32m----> 1\u001b[1;33m \u001b[0mmnb_model\u001b[0m\u001b[1;33m.\u001b[0m\u001b[0mpredict\u001b[0m\u001b[1;33m(\u001b[0m\u001b[0mX_test\u001b[0m\u001b[1;33m)\u001b[0m\u001b[1;33m[\u001b[0m\u001b[1;36m0\u001b[0m\u001b[1;33m:\u001b[0m\u001b[1;36m10\u001b[0m\u001b[1;33m]\u001b[0m\u001b[1;33m\u001b[0m\u001b[1;33m\u001b[0m\u001b[0m\n\u001b[0m",
      "\u001b[1;31mNameError\u001b[0m: name 'mnb_model' is not defined"
     ]
    }
   ],
   "source": [
    "mnb_model.predict(X_test)[0:10]"
   ]
  },
  {
   "cell_type": "code",
   "execution_count": null,
   "metadata": {},
   "outputs": [],
   "source": [
    "mnb_model.predict_proba(X_test)[0:10]\n"
   ]
  },
  {
   "cell_type": "code",
   "execution_count": null,
   "metadata": {},
   "outputs": [],
   "source": [
    "y_pred = mnb_model.predict(X_test)"
   ]
  },
  {
   "cell_type": "code",
   "execution_count": null,
   "metadata": {},
   "outputs": [],
   "source": [
    "accuracy_score(y_test,y_pred)"
   ]
  },
  {
   "cell_type": "code",
   "execution_count": null,
   "metadata": {},
   "outputs": [],
   "source": [
    "cross_val_score(mnb_model, X_test, y_test, cv=10).mean()"
   ]
  },
  {
   "cell_type": "code",
   "execution_count": null,
   "metadata": {},
   "outputs": [],
   "source": []
  },
  {
   "cell_type": "markdown",
   "metadata": {},
   "source": [
    "# SVR"
   ]
  },
  {
   "cell_type": "code",
   "execution_count": 181,
   "metadata": {},
   "outputs": [
    {
     "data": {
      "text/plain": [
       "(4625, 135)"
      ]
     },
     "execution_count": 181,
     "metadata": {},
     "output_type": "execute_result"
    }
   ],
   "source": [
    "regressdf = pd.read_excel(\"HW_Data_Set.xlsx\")\n",
    "dfr = regressdf.copy()\n",
    "dfr = dfr.dropna()\n",
    "dms = pd.get_dummies(dfr[\"ind_109\"])\n",
    "dms.head()\n",
    "y = dfr[\"90_target\"]\n",
    "X_ = dfr.drop(['ind_109', 'ind_420', 'ind_422'], axis=1).astype('float64')\n",
    "X = pd.concat([X_,dms[[\"GREEN\",\"RED\"]]],axis=1)\n",
    "X.head()\n",
    "X_train,X_test,y_train,y_test=train_test_split(X,y,test_size=0.25,random_state=42)\n",
    "X_train.shape"
   ]
  },
  {
   "cell_type": "code",
   "execution_count": 94,
   "metadata": {},
   "outputs": [
    {
     "data": {
      "text/plain": [
       "(1542, 135)"
      ]
     },
     "execution_count": 94,
     "metadata": {},
     "output_type": "execute_result"
    }
   ],
   "source": [
    "X_test.shape"
   ]
  },
  {
   "cell_type": "code",
   "execution_count": 89,
   "metadata": {},
   "outputs": [],
   "source": [
    "svr_model = SVR(\"linear\").fit(X_train, y_train)"
   ]
  },
  {
   "cell_type": "code",
   "execution_count": 90,
   "metadata": {},
   "outputs": [
    {
     "data": {
      "text/plain": [
       "array([ 35.37042379,  37.75848855,  36.77309279, ...,  35.82042861,\n",
       "       -36.20253357,  38.10992382])"
      ]
     },
     "execution_count": 90,
     "metadata": {},
     "output_type": "execute_result"
    }
   ],
   "source": [
    "svr_model.predict(X_train)"
   ]
  },
  {
   "cell_type": "code",
   "execution_count": 91,
   "metadata": {},
   "outputs": [
    {
     "name": "stdout",
     "output_type": "stream",
     "text": [
      "y = 0.0005404559884272692 + -4.677524738128686e-05\n"
     ]
    }
   ],
   "source": [
    "print (f\"y = {svr_model.intercept_[0]} + {svr_model.coef_[0][0]}\")"
   ]
  },
  {
   "cell_type": "code",
   "execution_count": 92,
   "metadata": {},
   "outputs": [],
   "source": [
    "y_pred = svr_model.predict(X_train)"
   ]
  },
  {
   "cell_type": "code",
   "execution_count": 96,
   "metadata": {},
   "outputs": [
    {
     "data": {
      "text/plain": [
       "(4625, 135)"
      ]
     },
     "execution_count": 96,
     "metadata": {},
     "output_type": "execute_result"
    }
   ],
   "source": [
    "X_train.shape"
   ]
  },
  {
   "cell_type": "code",
   "execution_count": 93,
   "metadata": {
    "collapsed": true
   },
   "outputs": [
    {
     "ename": "ValueError",
     "evalue": "x and y must be the same size",
     "output_type": "error",
     "traceback": [
      "\u001b[1;31m---------------------------------------------------------------------------\u001b[0m",
      "\u001b[1;31mValueError\u001b[0m                                Traceback (most recent call last)",
      "\u001b[1;32m<ipython-input-93-8eaea492bb78>\u001b[0m in \u001b[0;36m<module>\u001b[1;34m\u001b[0m\n\u001b[1;32m----> 1\u001b[1;33m \u001b[0mplt\u001b[0m\u001b[1;33m.\u001b[0m\u001b[0mscatter\u001b[0m\u001b[1;33m(\u001b[0m\u001b[0mX_train\u001b[0m\u001b[1;33m,\u001b[0m \u001b[0my_train\u001b[0m\u001b[1;33m)\u001b[0m\u001b[1;33m\u001b[0m\u001b[1;33m\u001b[0m\u001b[0m\n\u001b[0m\u001b[0;32m      2\u001b[0m \u001b[0mplt\u001b[0m\u001b[1;33m.\u001b[0m\u001b[0mplot\u001b[0m\u001b[1;33m(\u001b[0m\u001b[0mX_train\u001b[0m\u001b[1;33m,\u001b[0m \u001b[0my_pred\u001b[0m\u001b[1;33m,\u001b[0m \u001b[0mcolor\u001b[0m\u001b[1;33m=\u001b[0m\u001b[1;34m\"r\"\u001b[0m\u001b[1;33m)\u001b[0m\u001b[1;33m\u001b[0m\u001b[1;33m\u001b[0m\u001b[0m\n",
      "\u001b[1;32m~\\AppData\\Roaming\\Python\\Python37\\site-packages\\matplotlib\\pyplot.py\u001b[0m in \u001b[0;36mscatter\u001b[1;34m(x, y, s, c, marker, cmap, norm, vmin, vmax, alpha, linewidths, verts, edgecolors, plotnonfinite, data, **kwargs)\u001b[0m\n\u001b[0;32m   2814\u001b[0m         \u001b[0mverts\u001b[0m\u001b[1;33m=\u001b[0m\u001b[0mverts\u001b[0m\u001b[1;33m,\u001b[0m \u001b[0medgecolors\u001b[0m\u001b[1;33m=\u001b[0m\u001b[0medgecolors\u001b[0m\u001b[1;33m,\u001b[0m\u001b[1;33m\u001b[0m\u001b[1;33m\u001b[0m\u001b[0m\n\u001b[0;32m   2815\u001b[0m         plotnonfinite=plotnonfinite, **({\"data\": data} if data is not\n\u001b[1;32m-> 2816\u001b[1;33m         None else {}), **kwargs)\n\u001b[0m\u001b[0;32m   2817\u001b[0m     \u001b[0msci\u001b[0m\u001b[1;33m(\u001b[0m\u001b[0m__ret\u001b[0m\u001b[1;33m)\u001b[0m\u001b[1;33m\u001b[0m\u001b[1;33m\u001b[0m\u001b[0m\n\u001b[0;32m   2818\u001b[0m     \u001b[1;32mreturn\u001b[0m \u001b[0m__ret\u001b[0m\u001b[1;33m\u001b[0m\u001b[1;33m\u001b[0m\u001b[0m\n",
      "\u001b[1;32m~\\AppData\\Roaming\\Python\\Python37\\site-packages\\matplotlib\\__init__.py\u001b[0m in \u001b[0;36minner\u001b[1;34m(ax, data, *args, **kwargs)\u001b[0m\n\u001b[0;32m   1563\u001b[0m     \u001b[1;32mdef\u001b[0m \u001b[0minner\u001b[0m\u001b[1;33m(\u001b[0m\u001b[0max\u001b[0m\u001b[1;33m,\u001b[0m \u001b[1;33m*\u001b[0m\u001b[0margs\u001b[0m\u001b[1;33m,\u001b[0m \u001b[0mdata\u001b[0m\u001b[1;33m=\u001b[0m\u001b[1;32mNone\u001b[0m\u001b[1;33m,\u001b[0m \u001b[1;33m**\u001b[0m\u001b[0mkwargs\u001b[0m\u001b[1;33m)\u001b[0m\u001b[1;33m:\u001b[0m\u001b[1;33m\u001b[0m\u001b[1;33m\u001b[0m\u001b[0m\n\u001b[0;32m   1564\u001b[0m         \u001b[1;32mif\u001b[0m \u001b[0mdata\u001b[0m \u001b[1;32mis\u001b[0m \u001b[1;32mNone\u001b[0m\u001b[1;33m:\u001b[0m\u001b[1;33m\u001b[0m\u001b[1;33m\u001b[0m\u001b[0m\n\u001b[1;32m-> 1565\u001b[1;33m             \u001b[1;32mreturn\u001b[0m \u001b[0mfunc\u001b[0m\u001b[1;33m(\u001b[0m\u001b[0max\u001b[0m\u001b[1;33m,\u001b[0m \u001b[1;33m*\u001b[0m\u001b[0mmap\u001b[0m\u001b[1;33m(\u001b[0m\u001b[0msanitize_sequence\u001b[0m\u001b[1;33m,\u001b[0m \u001b[0margs\u001b[0m\u001b[1;33m)\u001b[0m\u001b[1;33m,\u001b[0m \u001b[1;33m**\u001b[0m\u001b[0mkwargs\u001b[0m\u001b[1;33m)\u001b[0m\u001b[1;33m\u001b[0m\u001b[1;33m\u001b[0m\u001b[0m\n\u001b[0m\u001b[0;32m   1566\u001b[0m \u001b[1;33m\u001b[0m\u001b[0m\n\u001b[0;32m   1567\u001b[0m         \u001b[0mbound\u001b[0m \u001b[1;33m=\u001b[0m \u001b[0mnew_sig\u001b[0m\u001b[1;33m.\u001b[0m\u001b[0mbind\u001b[0m\u001b[1;33m(\u001b[0m\u001b[0max\u001b[0m\u001b[1;33m,\u001b[0m \u001b[1;33m*\u001b[0m\u001b[0margs\u001b[0m\u001b[1;33m,\u001b[0m \u001b[1;33m**\u001b[0m\u001b[0mkwargs\u001b[0m\u001b[1;33m)\u001b[0m\u001b[1;33m\u001b[0m\u001b[1;33m\u001b[0m\u001b[0m\n",
      "\u001b[1;32m~\\AppData\\Roaming\\Python\\Python37\\site-packages\\matplotlib\\cbook\\deprecation.py\u001b[0m in \u001b[0;36mwrapper\u001b[1;34m(*args, **kwargs)\u001b[0m\n\u001b[0;32m    356\u001b[0m                 \u001b[1;34mf\"%(removal)s.  If any parameter follows {name!r}, they \"\u001b[0m\u001b[1;33m\u001b[0m\u001b[1;33m\u001b[0m\u001b[0m\n\u001b[0;32m    357\u001b[0m                 f\"should be pass as keyword, not positionally.\")\n\u001b[1;32m--> 358\u001b[1;33m         \u001b[1;32mreturn\u001b[0m \u001b[0mfunc\u001b[0m\u001b[1;33m(\u001b[0m\u001b[1;33m*\u001b[0m\u001b[0margs\u001b[0m\u001b[1;33m,\u001b[0m \u001b[1;33m**\u001b[0m\u001b[0mkwargs\u001b[0m\u001b[1;33m)\u001b[0m\u001b[1;33m\u001b[0m\u001b[1;33m\u001b[0m\u001b[0m\n\u001b[0m\u001b[0;32m    359\u001b[0m \u001b[1;33m\u001b[0m\u001b[0m\n\u001b[0;32m    360\u001b[0m     \u001b[1;32mreturn\u001b[0m \u001b[0mwrapper\u001b[0m\u001b[1;33m\u001b[0m\u001b[1;33m\u001b[0m\u001b[0m\n",
      "\u001b[1;32m~\\AppData\\Roaming\\Python\\Python37\\site-packages\\matplotlib\\axes\\_axes.py\u001b[0m in \u001b[0;36mscatter\u001b[1;34m(self, x, y, s, c, marker, cmap, norm, vmin, vmax, alpha, linewidths, verts, edgecolors, plotnonfinite, **kwargs)\u001b[0m\n\u001b[0;32m   4389\u001b[0m         \u001b[0my\u001b[0m \u001b[1;33m=\u001b[0m \u001b[0mnp\u001b[0m\u001b[1;33m.\u001b[0m\u001b[0mma\u001b[0m\u001b[1;33m.\u001b[0m\u001b[0mravel\u001b[0m\u001b[1;33m(\u001b[0m\u001b[0my\u001b[0m\u001b[1;33m)\u001b[0m\u001b[1;33m\u001b[0m\u001b[1;33m\u001b[0m\u001b[0m\n\u001b[0;32m   4390\u001b[0m         \u001b[1;32mif\u001b[0m \u001b[0mx\u001b[0m\u001b[1;33m.\u001b[0m\u001b[0msize\u001b[0m \u001b[1;33m!=\u001b[0m \u001b[0my\u001b[0m\u001b[1;33m.\u001b[0m\u001b[0msize\u001b[0m\u001b[1;33m:\u001b[0m\u001b[1;33m\u001b[0m\u001b[1;33m\u001b[0m\u001b[0m\n\u001b[1;32m-> 4391\u001b[1;33m             \u001b[1;32mraise\u001b[0m \u001b[0mValueError\u001b[0m\u001b[1;33m(\u001b[0m\u001b[1;34m\"x and y must be the same size\"\u001b[0m\u001b[1;33m)\u001b[0m\u001b[1;33m\u001b[0m\u001b[1;33m\u001b[0m\u001b[0m\n\u001b[0m\u001b[0;32m   4392\u001b[0m \u001b[1;33m\u001b[0m\u001b[0m\n\u001b[0;32m   4393\u001b[0m         \u001b[1;32mif\u001b[0m \u001b[0ms\u001b[0m \u001b[1;32mis\u001b[0m \u001b[1;32mNone\u001b[0m\u001b[1;33m:\u001b[0m\u001b[1;33m\u001b[0m\u001b[1;33m\u001b[0m\u001b[0m\n",
      "\u001b[1;31mValueError\u001b[0m: x and y must be the same size"
     ]
    },
    {
     "data": {
      "image/png": "[encoded data removed]",
      "text/plain": [
       "<Figure size 432x288 with 1 Axes>"
      ]
     },
     "metadata": {
      "needs_background": "light"
     },
     "output_type": "display_data"
    }
   ],
   "source": [
    "plt.scatter(X_train, y_train)\n",
    "plt.plot(X_train, y_pred, color=\"r\")"
   ]
  },
  {
   "cell_type": "code",
   "execution_count": 97,
   "metadata": {},
   "outputs": [
    {
     "name": "stdout",
     "output_type": "stream",
     "text": [
      "y = 6.088463067044358e-13 + -2.71340410630247e-15\n"
     ]
    }
   ],
   "source": [
    "from sklearn.linear_model import LinearRegression\n",
    "lm_model = LinearRegression().fit(X_train, y_train)\n",
    "lm_pred = lm_model.predict(X_train)\n",
    "print (f\"y = {lm_model.intercept_} + {lm_model.coef_[0]}\")"
   ]
  },
  {
   "cell_type": "code",
   "execution_count": 98,
   "metadata": {
    "collapsed": true
   },
   "outputs": [
    {
     "ename": "ValueError",
     "evalue": "x and y must be the same size",
     "output_type": "error",
     "traceback": [
      "\u001b[1;31m---------------------------------------------------------------------------\u001b[0m",
      "\u001b[1;31mValueError\u001b[0m                                Traceback (most recent call last)",
      "\u001b[1;32m<ipython-input-98-df6758d7b812>\u001b[0m in \u001b[0;36m<module>\u001b[1;34m\u001b[0m\n\u001b[1;32m----> 1\u001b[1;33m \u001b[0mplt\u001b[0m\u001b[1;33m.\u001b[0m\u001b[0mscatter\u001b[0m\u001b[1;33m(\u001b[0m\u001b[0mX_train\u001b[0m\u001b[1;33m,\u001b[0m \u001b[0my_train\u001b[0m\u001b[1;33m,\u001b[0m \u001b[0malpha\u001b[0m\u001b[1;33m=\u001b[0m\u001b[1;36m0.5\u001b[0m\u001b[1;33m,\u001b[0m \u001b[0ms\u001b[0m\u001b[1;33m=\u001b[0m\u001b[1;36m23\u001b[0m\u001b[1;33m)\u001b[0m\u001b[1;33m\u001b[0m\u001b[1;33m\u001b[0m\u001b[0m\n\u001b[0m\u001b[0;32m      2\u001b[0m \u001b[0mplt\u001b[0m\u001b[1;33m.\u001b[0m\u001b[0mplot\u001b[0m\u001b[1;33m(\u001b[0m\u001b[0mX_train\u001b[0m\u001b[1;33m,\u001b[0m \u001b[0mlm_pred\u001b[0m\u001b[1;33m,\u001b[0m \u001b[1;34m\"g\"\u001b[0m\u001b[1;33m)\u001b[0m\u001b[1;33m\u001b[0m\u001b[1;33m\u001b[0m\u001b[0m\n\u001b[0;32m      3\u001b[0m \u001b[0mplt\u001b[0m\u001b[1;33m.\u001b[0m\u001b[0mplot\u001b[0m\u001b[1;33m(\u001b[0m\u001b[0mX_train\u001b[0m\u001b[1;33m,\u001b[0m \u001b[0my_pred\u001b[0m\u001b[1;33m,\u001b[0m \u001b[1;34m\"r\"\u001b[0m\u001b[1;33m)\u001b[0m\u001b[1;33m\u001b[0m\u001b[1;33m\u001b[0m\u001b[0m\n\u001b[0;32m      4\u001b[0m \u001b[1;33m\u001b[0m\u001b[0m\n\u001b[0;32m      5\u001b[0m \u001b[0mplt\u001b[0m\u001b[1;33m.\u001b[0m\u001b[0mxlabel\u001b[0m\u001b[1;33m(\u001b[0m\u001b[1;34m\"Atış sayısı\"\u001b[0m\u001b[1;33m)\u001b[0m\u001b[1;33m\u001b[0m\u001b[1;33m\u001b[0m\u001b[0m\n",
      "\u001b[1;32m~\\AppData\\Roaming\\Python\\Python37\\site-packages\\matplotlib\\pyplot.py\u001b[0m in \u001b[0;36mscatter\u001b[1;34m(x, y, s, c, marker, cmap, norm, vmin, vmax, alpha, linewidths, verts, edgecolors, plotnonfinite, data, **kwargs)\u001b[0m\n\u001b[0;32m   2814\u001b[0m         \u001b[0mverts\u001b[0m\u001b[1;33m=\u001b[0m\u001b[0mverts\u001b[0m\u001b[1;33m,\u001b[0m \u001b[0medgecolors\u001b[0m\u001b[1;33m=\u001b[0m\u001b[0medgecolors\u001b[0m\u001b[1;33m,\u001b[0m\u001b[1;33m\u001b[0m\u001b[1;33m\u001b[0m\u001b[0m\n\u001b[0;32m   2815\u001b[0m         plotnonfinite=plotnonfinite, **({\"data\": data} if data is not\n\u001b[1;32m-> 2816\u001b[1;33m         None else {}), **kwargs)\n\u001b[0m\u001b[0;32m   2817\u001b[0m     \u001b[0msci\u001b[0m\u001b[1;33m(\u001b[0m\u001b[0m__ret\u001b[0m\u001b[1;33m)\u001b[0m\u001b[1;33m\u001b[0m\u001b[1;33m\u001b[0m\u001b[0m\n\u001b[0;32m   2818\u001b[0m     \u001b[1;32mreturn\u001b[0m \u001b[0m__ret\u001b[0m\u001b[1;33m\u001b[0m\u001b[1;33m\u001b[0m\u001b[0m\n",
      "\u001b[1;32m~\\AppData\\Roaming\\Python\\Python37\\site-packages\\matplotlib\\__init__.py\u001b[0m in \u001b[0;36minner\u001b[1;34m(ax, data, *args, **kwargs)\u001b[0m\n\u001b[0;32m   1563\u001b[0m     \u001b[1;32mdef\u001b[0m \u001b[0minner\u001b[0m\u001b[1;33m(\u001b[0m\u001b[0max\u001b[0m\u001b[1;33m,\u001b[0m \u001b[1;33m*\u001b[0m\u001b[0margs\u001b[0m\u001b[1;33m,\u001b[0m \u001b[0mdata\u001b[0m\u001b[1;33m=\u001b[0m\u001b[1;32mNone\u001b[0m\u001b[1;33m,\u001b[0m \u001b[1;33m**\u001b[0m\u001b[0mkwargs\u001b[0m\u001b[1;33m)\u001b[0m\u001b[1;33m:\u001b[0m\u001b[1;33m\u001b[0m\u001b[1;33m\u001b[0m\u001b[0m\n\u001b[0;32m   1564\u001b[0m         \u001b[1;32mif\u001b[0m \u001b[0mdata\u001b[0m \u001b[1;32mis\u001b[0m \u001b[1;32mNone\u001b[0m\u001b[1;33m:\u001b[0m\u001b[1;33m\u001b[0m\u001b[1;33m\u001b[0m\u001b[0m\n\u001b[1;32m-> 1565\u001b[1;33m             \u001b[1;32mreturn\u001b[0m \u001b[0mfunc\u001b[0m\u001b[1;33m(\u001b[0m\u001b[0max\u001b[0m\u001b[1;33m,\u001b[0m \u001b[1;33m*\u001b[0m\u001b[0mmap\u001b[0m\u001b[1;33m(\u001b[0m\u001b[0msanitize_sequence\u001b[0m\u001b[1;33m,\u001b[0m \u001b[0margs\u001b[0m\u001b[1;33m)\u001b[0m\u001b[1;33m,\u001b[0m \u001b[1;33m**\u001b[0m\u001b[0mkwargs\u001b[0m\u001b[1;33m)\u001b[0m\u001b[1;33m\u001b[0m\u001b[1;33m\u001b[0m\u001b[0m\n\u001b[0m\u001b[0;32m   1566\u001b[0m \u001b[1;33m\u001b[0m\u001b[0m\n\u001b[0;32m   1567\u001b[0m         \u001b[0mbound\u001b[0m \u001b[1;33m=\u001b[0m \u001b[0mnew_sig\u001b[0m\u001b[1;33m.\u001b[0m\u001b[0mbind\u001b[0m\u001b[1;33m(\u001b[0m\u001b[0max\u001b[0m\u001b[1;33m,\u001b[0m \u001b[1;33m*\u001b[0m\u001b[0margs\u001b[0m\u001b[1;33m,\u001b[0m \u001b[1;33m**\u001b[0m\u001b[0mkwargs\u001b[0m\u001b[1;33m)\u001b[0m\u001b[1;33m\u001b[0m\u001b[1;33m\u001b[0m\u001b[0m\n",
      "\u001b[1;32m~\\AppData\\Roaming\\Python\\Python37\\site-packages\\matplotlib\\cbook\\deprecation.py\u001b[0m in \u001b[0;36mwrapper\u001b[1;34m(*args, **kwargs)\u001b[0m\n\u001b[0;32m    356\u001b[0m                 \u001b[1;34mf\"%(removal)s.  If any parameter follows {name!r}, they \"\u001b[0m\u001b[1;33m\u001b[0m\u001b[1;33m\u001b[0m\u001b[0m\n\u001b[0;32m    357\u001b[0m                 f\"should be pass as keyword, not positionally.\")\n\u001b[1;32m--> 358\u001b[1;33m         \u001b[1;32mreturn\u001b[0m \u001b[0mfunc\u001b[0m\u001b[1;33m(\u001b[0m\u001b[1;33m*\u001b[0m\u001b[0margs\u001b[0m\u001b[1;33m,\u001b[0m \u001b[1;33m**\u001b[0m\u001b[0mkwargs\u001b[0m\u001b[1;33m)\u001b[0m\u001b[1;33m\u001b[0m\u001b[1;33m\u001b[0m\u001b[0m\n\u001b[0m\u001b[0;32m    359\u001b[0m \u001b[1;33m\u001b[0m\u001b[0m\n\u001b[0;32m    360\u001b[0m     \u001b[1;32mreturn\u001b[0m \u001b[0mwrapper\u001b[0m\u001b[1;33m\u001b[0m\u001b[1;33m\u001b[0m\u001b[0m\n",
      "\u001b[1;32m~\\AppData\\Roaming\\Python\\Python37\\site-packages\\matplotlib\\axes\\_axes.py\u001b[0m in \u001b[0;36mscatter\u001b[1;34m(self, x, y, s, c, marker, cmap, norm, vmin, vmax, alpha, linewidths, verts, edgecolors, plotnonfinite, **kwargs)\u001b[0m\n\u001b[0;32m   4389\u001b[0m         \u001b[0my\u001b[0m \u001b[1;33m=\u001b[0m \u001b[0mnp\u001b[0m\u001b[1;33m.\u001b[0m\u001b[0mma\u001b[0m\u001b[1;33m.\u001b[0m\u001b[0mravel\u001b[0m\u001b[1;33m(\u001b[0m\u001b[0my\u001b[0m\u001b[1;33m)\u001b[0m\u001b[1;33m\u001b[0m\u001b[1;33m\u001b[0m\u001b[0m\n\u001b[0;32m   4390\u001b[0m         \u001b[1;32mif\u001b[0m \u001b[0mx\u001b[0m\u001b[1;33m.\u001b[0m\u001b[0msize\u001b[0m \u001b[1;33m!=\u001b[0m \u001b[0my\u001b[0m\u001b[1;33m.\u001b[0m\u001b[0msize\u001b[0m\u001b[1;33m:\u001b[0m\u001b[1;33m\u001b[0m\u001b[1;33m\u001b[0m\u001b[0m\n\u001b[1;32m-> 4391\u001b[1;33m             \u001b[1;32mraise\u001b[0m \u001b[0mValueError\u001b[0m\u001b[1;33m(\u001b[0m\u001b[1;34m\"x and y must be the same size\"\u001b[0m\u001b[1;33m)\u001b[0m\u001b[1;33m\u001b[0m\u001b[1;33m\u001b[0m\u001b[0m\n\u001b[0m\u001b[0;32m   4392\u001b[0m \u001b[1;33m\u001b[0m\u001b[0m\n\u001b[0;32m   4393\u001b[0m         \u001b[1;32mif\u001b[0m \u001b[0ms\u001b[0m \u001b[1;32mis\u001b[0m \u001b[1;32mNone\u001b[0m\u001b[1;33m:\u001b[0m\u001b[1;33m\u001b[0m\u001b[1;33m\u001b[0m\u001b[0m\n",
      "\u001b[1;31mValueError\u001b[0m: x and y must be the same size"
     ]
    },
    {
     "data": {
      "image/png": "[encoded data removed]",
      "text/plain": [
       "<Figure size 432x288 with 1 Axes>"
      ]
     },
     "metadata": {
      "needs_background": "light"
     },
     "output_type": "display_data"
    }
   ],
   "source": [
    "plt.scatter(X_train, y_train, alpha=0.5, s=23)\n",
    "plt.plot(X_train, lm_pred, \"g\")\n",
    "plt.plot(X_train, y_pred, \"r\")\n",
    "\n",
    "plt.xlabel(\"Atış sayısı\")\n",
    "plt.ylabel(\"Maaş\")"
   ]
  },
  {
   "cell_type": "code",
   "execution_count": 99,
   "metadata": {},
   "outputs": [
    {
     "data": {
      "text/plain": [
       "0.09628288988208554"
      ]
     },
     "execution_count": 99,
     "metadata": {},
     "output_type": "execute_result"
    }
   ],
   "source": [
    "y_pred = svr_model.predict(X_test)\n",
    "np.sqrt(mean_squared_error(y_test, y_pred))"
   ]
  },
  {
   "cell_type": "code",
   "execution_count": 74,
   "metadata": {},
   "outputs": [
    {
     "data": {
      "text/plain": [
       "SVR(C=1.0, cache_size=200, coef0=0.0, degree=3, epsilon=0.1, gamma='scale',\n",
       "    kernel='linear', max_iter=-1, shrinking=True, tol=0.001, verbose=False)"
      ]
     },
     "execution_count": 74,
     "metadata": {},
     "output_type": "execute_result"
    }
   ],
   "source": [
    "svr_model"
   ]
  },
  {
   "cell_type": "code",
   "execution_count": 100,
   "metadata": {
    "scrolled": true
   },
   "outputs": [
    {
     "name": "stdout",
     "output_type": "stream",
     "text": [
      "Fitting 10 folds for each of 19 candidates, totalling 190 fits\n"
     ]
    },
    {
     "name": "stderr",
     "output_type": "stream",
     "text": [
      "[Parallel(n_jobs=-1)]: Using backend LokyBackend with 8 concurrent workers.\n",
      "[Parallel(n_jobs=-1)]: Done  25 tasks      | elapsed:  2.4min\n",
      "[Parallel(n_jobs=-1)]: Done 146 tasks      | elapsed: 12.8min\n",
      "[Parallel(n_jobs=-1)]: Done 190 out of 190 | elapsed: 16.6min finished\n"
     ]
    }
   ],
   "source": [
    "svr_params = {\"C\": np.arange(0.1, 2,0.1)}\n",
    "svr_cv_model = GridSearchCV(svr_model, svr_params, cv=10,\n",
    "                           n_jobs=-1,\n",
    "                           verbose=2).fit(X_train,y_train)"
   ]
  },
  {
   "cell_type": "code",
   "execution_count": 101,
   "metadata": {},
   "outputs": [],
   "source": [
    "svr_tuned=SVR(\"linear\", C = pd.Series(svr_cv_model.best_params_)[0]).fit(X_train, y_train)"
   ]
  },
  {
   "cell_type": "code",
   "execution_count": 102,
   "metadata": {},
   "outputs": [],
   "source": [
    "y_pred = svr_tuned.predict(X_test)"
   ]
  },
  {
   "cell_type": "code",
   "execution_count": 103,
   "metadata": {},
   "outputs": [
    {
     "data": {
      "text/plain": [
       "0.09628288988208554"
      ]
     },
     "execution_count": 103,
     "metadata": {},
     "output_type": "execute_result"
    }
   ],
   "source": [
    "np.sqrt(mean_squared_error(y_test,y_pred))"
   ]
  },
  {
   "cell_type": "markdown",
   "metadata": {},
   "source": [
    "hit = pd.read_csv(\"Hitters.csv\")\n",
    "df = hit.copy()\n",
    "df = df.dropna()\n",
    "dms=pd.get_dummies(df[[\"League\",\"Division\",\"NewLeague\"]])\n",
    "dms.head()\n",
    "y = df[\"Salary\"]\n",
    "X_ = df.drop(['Salary', 'League', 'Division', 'NewLeague'], axis=1).astype('float64')\n",
    "X=pd.concat([X_,dms[[\"League_N\",\"Division_W\",\"NewLeague_N\"]]],axis=1)\n",
    "X.head()\n",
    "X_train,X_test,y_train,y_test=train_test_split(X,y,test_size=0.25,random_state=42)\n",
    "X_train.shape"
   ]
  },
  {
   "cell_type": "code",
   "execution_count": 104,
   "metadata": {},
   "outputs": [],
   "source": [
    "svr_rbf=SVR(\"rbf\").fit(X_train, y_train)"
   ]
  },
  {
   "cell_type": "code",
   "execution_count": 105,
   "metadata": {},
   "outputs": [],
   "source": [
    "svr_params = {\"C\": [0.01,0.1, 0.4,5,10,20,30,40,50]}"
   ]
  },
  {
   "cell_type": "code",
   "execution_count": 106,
   "metadata": {},
   "outputs": [
    {
     "name": "stdout",
     "output_type": "stream",
     "text": [
      "Fitting 10 folds for each of 9 candidates, totalling 90 fits\n"
     ]
    },
    {
     "name": "stderr",
     "output_type": "stream",
     "text": [
      "[Parallel(n_jobs=-1)]: Using backend LokyBackend with 8 concurrent workers.\n",
      "[Parallel(n_jobs=-1)]: Done  25 tasks      | elapsed:   26.9s\n",
      "[Parallel(n_jobs=-1)]: Done  90 out of  90 | elapsed:  1.8min finished\n"
     ]
    }
   ],
   "source": [
    "svr_rbf_cv_model = GridSearchCV(svr_rbf, svr_params, cv=10,\n",
    "                           n_jobs=-1,\n",
    "                           verbose=2).fit(X_train,y_train)"
   ]
  },
  {
   "cell_type": "code",
   "execution_count": 107,
   "metadata": {},
   "outputs": [
    {
     "data": {
      "text/plain": [
       "{'C': 50}"
      ]
     },
     "execution_count": 107,
     "metadata": {},
     "output_type": "execute_result"
    }
   ],
   "source": [
    "svr_rbf_cv_model.best_params_"
   ]
  },
  {
   "cell_type": "code",
   "execution_count": 108,
   "metadata": {},
   "outputs": [],
   "source": [
    "svr_tuned=SVR(\"rbf\", C = pd.Series(svr_cv_model.best_params_)[0]).fit(X_train, y_train)"
   ]
  },
  {
   "cell_type": "code",
   "execution_count": 109,
   "metadata": {},
   "outputs": [],
   "source": [
    "y_pred = svr_tuned.predict(X_test)"
   ]
  },
  {
   "cell_type": "code",
   "execution_count": 110,
   "metadata": {
    "scrolled": true
   },
   "outputs": [
    {
     "data": {
      "text/plain": [
       "44.3681952795128"
      ]
     },
     "execution_count": 110,
     "metadata": {},
     "output_type": "execute_result"
    }
   ],
   "source": [
    "np.sqrt(mean_squared_error(y_test,y_pred))"
   ]
  },
  {
   "cell_type": "markdown",
   "metadata": {},
   "source": [
    "# KNN Regressor"
   ]
  },
  {
   "cell_type": "code",
   "execution_count": 182,
   "metadata": {},
   "outputs": [
    {
     "data": {
      "text/plain": [
       "KNeighborsRegressor(algorithm='auto', leaf_size=30, metric='minkowski',\n",
       "                    metric_params=None, n_jobs=None, n_neighbors=5, p=2,\n",
       "                    weights='uniform')"
      ]
     },
     "execution_count": 182,
     "metadata": {},
     "output_type": "execute_result"
    }
   ],
   "source": [
    "knn_reg = KNeighborsRegressor()\n",
    "knn_reg.fit(X_train, y_train)"
   ]
  },
  {
   "cell_type": "code",
   "execution_count": 183,
   "metadata": {},
   "outputs": [],
   "source": [
    "y_pred = knn_reg.predict(X_test)"
   ]
  },
  {
   "cell_type": "code",
   "execution_count": 184,
   "metadata": {},
   "outputs": [
    {
     "data": {
      "text/plain": [
       "15.27627625772447"
      ]
     },
     "execution_count": 184,
     "metadata": {},
     "output_type": "execute_result"
    }
   ],
   "source": [
    "np.sqrt(mean_squared_error(y_test,y_pred))"
   ]
  },
  {
   "cell_type": "code",
   "execution_count": 185,
   "metadata": {},
   "outputs": [],
   "source": [
    "knn_reg_params = {\"n_neighbors\": np.arange(1,50),\n",
    "             \"metric\": [\"minkowski\", \"euclidean\", \"manhattan\", \"hamming\"]}"
   ]
  },
  {
   "cell_type": "code",
   "execution_count": 186,
   "metadata": {},
   "outputs": [
    {
     "name": "stdout",
     "output_type": "stream",
     "text": [
      "Fitting 10 folds for each of 196 candidates, totalling 1960 fits\n"
     ]
    },
    {
     "name": "stderr",
     "output_type": "stream",
     "text": [
      "[Parallel(n_jobs=-1)]: Using backend LokyBackend with 8 concurrent workers.\n",
      "[Parallel(n_jobs=-1)]: Done  25 tasks      | elapsed:    6.2s\n",
      "[Parallel(n_jobs=-1)]: Done 146 tasks      | elapsed:   18.8s\n",
      "[Parallel(n_jobs=-1)]: Done 349 tasks      | elapsed:   42.8s\n",
      "[Parallel(n_jobs=-1)]: Done 632 tasks      | elapsed:  1.3min\n",
      "[Parallel(n_jobs=-1)]: Done 997 tasks      | elapsed:  2.1min\n",
      "[Parallel(n_jobs=-1)]: Done 1442 tasks      | elapsed:  3.1min\n",
      "[Parallel(n_jobs=-1)]: Done 1960 out of 1960 | elapsed:  5.0min finished\n"
     ]
    }
   ],
   "source": [
    "knn_reg_cv_model = GridSearchCV(knn_reg, knn_reg_params, cv=10,\n",
    "                           n_jobs=-1,\n",
    "                           verbose=2).fit(X_train,y_train)"
   ]
  },
  {
   "cell_type": "code",
   "execution_count": 187,
   "metadata": {},
   "outputs": [
    {
     "data": {
      "text/plain": [
       "{'metric': 'manhattan', 'n_neighbors': 3}"
      ]
     },
     "execution_count": 187,
     "metadata": {},
     "output_type": "execute_result"
    }
   ],
   "source": [
    "knn_reg_cv_model.best_params_"
   ]
  },
  {
   "cell_type": "code",
   "execution_count": 188,
   "metadata": {},
   "outputs": [],
   "source": [
    "knn_reg_tuned=KNeighborsRegressor(metric= 'manhattan', n_neighbors= 3).fit(X_train, y_train)"
   ]
  },
  {
   "cell_type": "code",
   "execution_count": 189,
   "metadata": {},
   "outputs": [],
   "source": [
    "y_pred = knn_reg_tuned.predict(X_test)"
   ]
  },
  {
   "cell_type": "code",
   "execution_count": 190,
   "metadata": {
    "scrolled": true
   },
   "outputs": [
    {
     "data": {
      "text/plain": [
       "14.950797805821825"
      ]
     },
     "execution_count": 190,
     "metadata": {},
     "output_type": "execute_result"
    }
   ],
   "source": [
    "np.sqrt(mean_squared_error(y_test,y_pred))"
   ]
  },
  {
   "cell_type": "markdown",
   "metadata": {},
   "source": [
    "# Boosting Regressor"
   ]
  },
  {
   "cell_type": "code",
   "execution_count": 191,
   "metadata": {},
   "outputs": [
    {
     "name": "stdout",
     "output_type": "stream",
     "text": [
      "Learning rate set to 0.051261\n",
      "0:\tlearn: 35.0439911\ttotal: 20ms\tremaining: 19.9s\n",
      "1:\tlearn: 33.3917797\ttotal: 37.6ms\tremaining: 18.8s\n",
      "2:\tlearn: 31.7294645\ttotal: 54.1ms\tremaining: 18s\n",
      "3:\tlearn: 30.1652304\ttotal: 73.6ms\tremaining: 18.3s\n",
      "4:\tlearn: 28.6951367\ttotal: 99.7ms\tremaining: 19.8s\n",
      "5:\tlearn: 27.2601896\ttotal: 124ms\tremaining: 20.5s\n",
      "6:\tlearn: 25.9013787\ttotal: 144ms\tremaining: 20.4s\n",
      "7:\tlearn: 24.6585672\ttotal: 163ms\tremaining: 20.2s\n",
      "8:\tlearn: 23.4315147\ttotal: 179ms\tremaining: 19.7s\n",
      "9:\tlearn: 22.3093457\ttotal: 194ms\tremaining: 19.2s\n",
      "10:\tlearn: 21.2273527\ttotal: 207ms\tremaining: 18.6s\n",
      "11:\tlearn: 20.1686503\ttotal: 221ms\tremaining: 18.2s\n",
      "12:\tlearn: 19.1827673\ttotal: 236ms\tremaining: 17.9s\n",
      "13:\tlearn: 18.2187041\ttotal: 250ms\tremaining: 17.6s\n",
      "14:\tlearn: 17.3117085\ttotal: 265ms\tremaining: 17.4s\n",
      "15:\tlearn: 16.4644945\ttotal: 278ms\tremaining: 17.1s\n",
      "16:\tlearn: 15.6612260\ttotal: 291ms\tremaining: 16.9s\n",
      "17:\tlearn: 14.8984799\ttotal: 306ms\tremaining: 16.7s\n",
      "18:\tlearn: 14.1758820\ttotal: 327ms\tremaining: 16.9s\n",
      "19:\tlearn: 13.4732825\ttotal: 344ms\tremaining: 16.8s\n",
      "20:\tlearn: 12.8050733\ttotal: 359ms\tremaining: 16.8s\n",
      "21:\tlearn: 12.1704854\ttotal: 377ms\tremaining: 16.8s\n",
      "22:\tlearn: 11.5853182\ttotal: 403ms\tremaining: 17.1s\n",
      "23:\tlearn: 11.0125100\ttotal: 420ms\tremaining: 17.1s\n",
      "24:\tlearn: 10.4650295\ttotal: 435ms\tremaining: 17s\n",
      "25:\tlearn: 9.9563248\ttotal: 452ms\tremaining: 16.9s\n",
      "26:\tlearn: 9.4665218\ttotal: 468ms\tremaining: 16.9s\n",
      "27:\tlearn: 9.0022366\ttotal: 486ms\tremaining: 16.9s\n",
      "28:\tlearn: 8.5623289\ttotal: 500ms\tremaining: 16.8s\n",
      "29:\tlearn: 8.1454503\ttotal: 515ms\tremaining: 16.6s\n",
      "30:\tlearn: 7.7456086\ttotal: 528ms\tremaining: 16.5s\n",
      "31:\tlearn: 7.3713518\ttotal: 542ms\tremaining: 16.4s\n",
      "32:\tlearn: 7.0131394\ttotal: 557ms\tremaining: 16.3s\n",
      "33:\tlearn: 6.6708932\ttotal: 574ms\tremaining: 16.3s\n",
      "34:\tlearn: 6.3485387\ttotal: 589ms\tremaining: 16.2s\n",
      "35:\tlearn: 6.0471550\ttotal: 603ms\tremaining: 16.2s\n",
      "36:\tlearn: 5.7678056\ttotal: 618ms\tremaining: 16.1s\n",
      "37:\tlearn: 5.5068345\ttotal: 633ms\tremaining: 16s\n",
      "38:\tlearn: 5.2462991\ttotal: 649ms\tremaining: 16s\n",
      "39:\tlearn: 4.9967631\ttotal: 670ms\tremaining: 16.1s\n",
      "40:\tlearn: 4.7599858\ttotal: 685ms\tremaining: 16s\n",
      "41:\tlearn: 4.5369366\ttotal: 700ms\tremaining: 16s\n",
      "42:\tlearn: 4.3288561\ttotal: 714ms\tremaining: 15.9s\n",
      "43:\tlearn: 4.1291819\ttotal: 729ms\tremaining: 15.8s\n",
      "44:\tlearn: 3.9401375\ttotal: 746ms\tremaining: 15.8s\n",
      "45:\tlearn: 3.7619491\ttotal: 760ms\tremaining: 15.8s\n",
      "46:\tlearn: 3.5924444\ttotal: 775ms\tremaining: 15.7s\n",
      "47:\tlearn: 3.4416938\ttotal: 789ms\tremaining: 15.7s\n",
      "48:\tlearn: 3.2911430\ttotal: 804ms\tremaining: 15.6s\n",
      "49:\tlearn: 3.1488905\ttotal: 819ms\tremaining: 15.6s\n",
      "50:\tlearn: 3.0144617\ttotal: 834ms\tremaining: 15.5s\n",
      "51:\tlearn: 2.8872233\ttotal: 848ms\tremaining: 15.5s\n",
      "52:\tlearn: 2.7671334\ttotal: 864ms\tremaining: 15.4s\n",
      "53:\tlearn: 2.6538255\ttotal: 878ms\tremaining: 15.4s\n",
      "54:\tlearn: 2.5395470\ttotal: 892ms\tremaining: 15.3s\n",
      "55:\tlearn: 2.4352747\ttotal: 905ms\tremaining: 15.3s\n",
      "56:\tlearn: 2.3304691\ttotal: 921ms\tremaining: 15.2s\n",
      "57:\tlearn: 2.2335373\ttotal: 946ms\tremaining: 15.4s\n",
      "58:\tlearn: 2.1488205\ttotal: 971ms\tremaining: 15.5s\n",
      "59:\tlearn: 2.0696011\ttotal: 991ms\tremaining: 15.5s\n",
      "60:\tlearn: 1.9898268\ttotal: 1s\tremaining: 15.5s\n",
      "61:\tlearn: 1.9022689\ttotal: 1.02s\tremaining: 15.4s\n",
      "62:\tlearn: 1.8333602\ttotal: 1.03s\tremaining: 15.4s\n",
      "63:\tlearn: 1.7624197\ttotal: 1.05s\tremaining: 15.3s\n",
      "64:\tlearn: 1.6884436\ttotal: 1.06s\tremaining: 15.3s\n",
      "65:\tlearn: 1.6225192\ttotal: 1.08s\tremaining: 15.3s\n",
      "66:\tlearn: 1.5624544\ttotal: 1.09s\tremaining: 15.2s\n",
      "67:\tlearn: 1.4997865\ttotal: 1.11s\tremaining: 15.2s\n",
      "68:\tlearn: 1.4501960\ttotal: 1.13s\tremaining: 15.2s\n",
      "69:\tlearn: 1.3934967\ttotal: 1.15s\tremaining: 15.2s\n",
      "70:\tlearn: 1.3470265\ttotal: 1.16s\tremaining: 15.2s\n",
      "71:\tlearn: 1.3018696\ttotal: 1.18s\tremaining: 15.2s\n",
      "72:\tlearn: 1.2509645\ttotal: 1.2s\tremaining: 15.2s\n",
      "73:\tlearn: 1.2111383\ttotal: 1.21s\tremaining: 15.2s\n",
      "74:\tlearn: 1.1652129\ttotal: 1.23s\tremaining: 15.1s\n",
      "75:\tlearn: 1.1238491\ttotal: 1.24s\tremaining: 15.1s\n",
      "76:\tlearn: 1.0824019\ttotal: 1.26s\tremaining: 15.1s\n",
      "77:\tlearn: 1.0471550\ttotal: 1.27s\tremaining: 15s\n",
      "78:\tlearn: 1.0110312\ttotal: 1.29s\tremaining: 15s\n",
      "79:\tlearn: 0.9756644\ttotal: 1.3s\tremaining: 15s\n",
      "80:\tlearn: 0.9493893\ttotal: 1.32s\tremaining: 14.9s\n",
      "81:\tlearn: 0.9230364\ttotal: 1.33s\tremaining: 14.9s\n",
      "82:\tlearn: 0.8922032\ttotal: 1.35s\tremaining: 14.9s\n",
      "83:\tlearn: 0.8636490\ttotal: 1.37s\tremaining: 14.9s\n",
      "84:\tlearn: 0.8355503\ttotal: 1.39s\tremaining: 14.9s\n",
      "85:\tlearn: 0.8091983\ttotal: 1.4s\tremaining: 14.9s\n",
      "86:\tlearn: 0.7860425\ttotal: 1.42s\tremaining: 14.9s\n",
      "87:\tlearn: 0.7632970\ttotal: 1.43s\tremaining: 14.8s\n",
      "88:\tlearn: 0.7428542\ttotal: 1.45s\tremaining: 14.8s\n",
      "89:\tlearn: 0.7288842\ttotal: 1.46s\tremaining: 14.8s\n",
      "90:\tlearn: 0.7083748\ttotal: 1.47s\tremaining: 14.7s\n",
      "91:\tlearn: 0.6972739\ttotal: 1.49s\tremaining: 14.7s\n",
      "92:\tlearn: 0.6829391\ttotal: 1.51s\tremaining: 14.7s\n",
      "93:\tlearn: 0.6727265\ttotal: 1.52s\tremaining: 14.7s\n",
      "94:\tlearn: 0.6588430\ttotal: 1.54s\tremaining: 14.7s\n",
      "95:\tlearn: 0.6488402\ttotal: 1.56s\tremaining: 14.7s\n",
      "96:\tlearn: 0.6402792\ttotal: 1.58s\tremaining: 14.7s\n",
      "97:\tlearn: 0.6279840\ttotal: 1.6s\tremaining: 14.7s\n",
      "98:\tlearn: 0.6126945\ttotal: 1.61s\tremaining: 14.7s\n",
      "99:\tlearn: 0.6065528\ttotal: 1.63s\tremaining: 14.6s\n",
      "100:\tlearn: 0.5942150\ttotal: 1.64s\tremaining: 14.6s\n",
      "101:\tlearn: 0.5881196\ttotal: 1.65s\tremaining: 14.6s\n",
      "102:\tlearn: 0.5777251\ttotal: 1.67s\tremaining: 14.6s\n",
      "103:\tlearn: 0.5671216\ttotal: 1.69s\tremaining: 14.6s\n",
      "104:\tlearn: 0.5622174\ttotal: 1.71s\tremaining: 14.6s\n",
      "105:\tlearn: 0.5566448\ttotal: 1.72s\tremaining: 14.5s\n",
      "106:\tlearn: 0.5499411\ttotal: 1.74s\tremaining: 14.5s\n",
      "107:\tlearn: 0.5387896\ttotal: 1.75s\tremaining: 14.5s\n",
      "108:\tlearn: 0.5335762\ttotal: 1.76s\tremaining: 14.4s\n",
      "109:\tlearn: 0.5269845\ttotal: 1.78s\tremaining: 14.4s\n",
      "110:\tlearn: 0.5235146\ttotal: 1.8s\tremaining: 14.4s\n",
      "111:\tlearn: 0.5202870\ttotal: 1.82s\tremaining: 14.4s\n",
      "112:\tlearn: 0.5166017\ttotal: 1.83s\tremaining: 14.4s\n",
      "113:\tlearn: 0.5130165\ttotal: 1.85s\tremaining: 14.4s\n",
      "114:\tlearn: 0.5044522\ttotal: 1.86s\tremaining: 14.3s\n",
      "115:\tlearn: 0.4953127\ttotal: 1.88s\tremaining: 14.3s\n",
      "116:\tlearn: 0.4884287\ttotal: 1.89s\tremaining: 14.3s\n",
      "117:\tlearn: 0.4852405\ttotal: 1.9s\tremaining: 14.2s\n",
      "118:\tlearn: 0.4825627\ttotal: 1.92s\tremaining: 14.2s\n",
      "119:\tlearn: 0.4803140\ttotal: 1.93s\tremaining: 14.2s\n",
      "120:\tlearn: 0.4759605\ttotal: 1.95s\tremaining: 14.1s\n",
      "121:\tlearn: 0.4694336\ttotal: 1.96s\tremaining: 14.1s\n",
      "122:\tlearn: 0.4664504\ttotal: 1.98s\tremaining: 14.1s\n",
      "123:\tlearn: 0.4615000\ttotal: 1.99s\tremaining: 14.1s\n",
      "124:\tlearn: 0.4585505\ttotal: 2.02s\tremaining: 14.1s\n",
      "125:\tlearn: 0.4565645\ttotal: 2.03s\tremaining: 14.1s\n",
      "126:\tlearn: 0.4548073\ttotal: 2.05s\tremaining: 14.1s\n",
      "127:\tlearn: 0.4530862\ttotal: 2.06s\tremaining: 14s\n",
      "128:\tlearn: 0.4518420\ttotal: 2.08s\tremaining: 14s\n",
      "129:\tlearn: 0.4495193\ttotal: 2.09s\tremaining: 14s\n",
      "130:\tlearn: 0.4477428\ttotal: 2.11s\tremaining: 14s\n",
      "131:\tlearn: 0.4460685\ttotal: 2.12s\tremaining: 14s\n",
      "132:\tlearn: 0.4403374\ttotal: 2.14s\tremaining: 14s\n",
      "133:\tlearn: 0.4387279\ttotal: 2.16s\tremaining: 13.9s\n",
      "134:\tlearn: 0.4364579\ttotal: 2.17s\tremaining: 13.9s\n",
      "135:\tlearn: 0.4333123\ttotal: 2.19s\tremaining: 13.9s\n",
      "136:\tlearn: 0.4281374\ttotal: 2.21s\tremaining: 13.9s\n",
      "137:\tlearn: 0.4231602\ttotal: 2.22s\tremaining: 13.9s\n",
      "138:\tlearn: 0.4217757\ttotal: 2.24s\tremaining: 13.9s\n",
      "139:\tlearn: 0.4174788\ttotal: 2.25s\tremaining: 13.8s\n",
      "140:\tlearn: 0.4152428\ttotal: 2.27s\tremaining: 13.8s\n",
      "141:\tlearn: 0.4121791\ttotal: 2.28s\tremaining: 13.8s\n",
      "142:\tlearn: 0.4092640\ttotal: 2.29s\tremaining: 13.7s\n",
      "143:\tlearn: 0.4062601\ttotal: 2.31s\tremaining: 13.7s\n",
      "144:\tlearn: 0.4044202\ttotal: 2.32s\tremaining: 13.7s\n",
      "145:\tlearn: 0.4026402\ttotal: 2.34s\tremaining: 13.7s\n",
      "146:\tlearn: 0.3989634\ttotal: 2.36s\tremaining: 13.7s\n",
      "147:\tlearn: 0.3964211\ttotal: 2.38s\tremaining: 13.7s\n",
      "148:\tlearn: 0.3950885\ttotal: 2.39s\tremaining: 13.7s\n",
      "149:\tlearn: 0.3936243\ttotal: 2.4s\tremaining: 13.6s\n",
      "150:\tlearn: 0.3927879\ttotal: 2.42s\tremaining: 13.6s\n",
      "151:\tlearn: 0.3885604\ttotal: 2.43s\tremaining: 13.6s\n",
      "152:\tlearn: 0.3851809\ttotal: 2.45s\tremaining: 13.6s\n",
      "153:\tlearn: 0.3835387\ttotal: 2.47s\tremaining: 13.6s\n",
      "154:\tlearn: 0.3822348\ttotal: 2.48s\tremaining: 13.5s\n",
      "155:\tlearn: 0.3782496\ttotal: 2.5s\tremaining: 13.5s\n",
      "156:\tlearn: 0.3754462\ttotal: 2.52s\tremaining: 13.5s\n",
      "157:\tlearn: 0.3735676\ttotal: 2.54s\tremaining: 13.5s\n",
      "158:\tlearn: 0.3710498\ttotal: 2.55s\tremaining: 13.5s\n",
      "159:\tlearn: 0.3695299\ttotal: 2.56s\tremaining: 13.5s\n",
      "160:\tlearn: 0.3685762\ttotal: 2.57s\tremaining: 13.4s\n",
      "161:\tlearn: 0.3663442\ttotal: 2.59s\tremaining: 13.4s\n"
     ]
    },
    {
     "name": "stdout",
     "output_type": "stream",
     "text": [
      "162:\tlearn: 0.3654048\ttotal: 2.6s\tremaining: 13.4s\n",
      "163:\tlearn: 0.3649600\ttotal: 2.61s\tremaining: 13.3s\n",
      "164:\tlearn: 0.3631144\ttotal: 2.62s\tremaining: 13.3s\n",
      "165:\tlearn: 0.3625425\ttotal: 2.63s\tremaining: 13.2s\n",
      "166:\tlearn: 0.3610326\ttotal: 2.65s\tremaining: 13.2s\n",
      "167:\tlearn: 0.3591488\ttotal: 2.66s\tremaining: 13.2s\n",
      "168:\tlearn: 0.3547198\ttotal: 2.68s\tremaining: 13.2s\n",
      "169:\tlearn: 0.3519790\ttotal: 2.69s\tremaining: 13.2s\n",
      "170:\tlearn: 0.3508974\ttotal: 2.71s\tremaining: 13.1s\n",
      "171:\tlearn: 0.3483912\ttotal: 2.72s\tremaining: 13.1s\n",
      "172:\tlearn: 0.3460153\ttotal: 2.74s\tremaining: 13.1s\n",
      "173:\tlearn: 0.3451389\ttotal: 2.75s\tremaining: 13.1s\n",
      "174:\tlearn: 0.3443321\ttotal: 2.77s\tremaining: 13.1s\n",
      "175:\tlearn: 0.3436383\ttotal: 2.79s\tremaining: 13s\n",
      "176:\tlearn: 0.3418224\ttotal: 2.8s\tremaining: 13s\n",
      "177:\tlearn: 0.3414267\ttotal: 2.82s\tremaining: 13s\n",
      "178:\tlearn: 0.3407364\ttotal: 2.83s\tremaining: 13s\n",
      "179:\tlearn: 0.3398730\ttotal: 2.85s\tremaining: 13s\n",
      "180:\tlearn: 0.3396145\ttotal: 2.87s\tremaining: 13s\n",
      "181:\tlearn: 0.3378019\ttotal: 2.88s\tremaining: 13s\n",
      "182:\tlearn: 0.3376318\ttotal: 2.9s\tremaining: 12.9s\n",
      "183:\tlearn: 0.3368011\ttotal: 2.91s\tremaining: 12.9s\n",
      "184:\tlearn: 0.3336905\ttotal: 2.92s\tremaining: 12.9s\n",
      "185:\tlearn: 0.3318551\ttotal: 2.94s\tremaining: 12.9s\n",
      "186:\tlearn: 0.3291745\ttotal: 2.95s\tremaining: 12.8s\n",
      "187:\tlearn: 0.3283857\ttotal: 2.97s\tremaining: 12.8s\n",
      "188:\tlearn: 0.3278908\ttotal: 2.98s\tremaining: 12.8s\n",
      "189:\tlearn: 0.3271656\ttotal: 3s\tremaining: 12.8s\n",
      "190:\tlearn: 0.3268048\ttotal: 3.01s\tremaining: 12.8s\n",
      "191:\tlearn: 0.3261487\ttotal: 3.03s\tremaining: 12.8s\n",
      "192:\tlearn: 0.3253790\ttotal: 3.05s\tremaining: 12.8s\n",
      "193:\tlearn: 0.3236585\ttotal: 3.07s\tremaining: 12.8s\n",
      "194:\tlearn: 0.3217141\ttotal: 3.1s\tremaining: 12.8s\n",
      "195:\tlearn: 0.3205259\ttotal: 3.12s\tremaining: 12.8s\n",
      "196:\tlearn: 0.3196340\ttotal: 3.14s\tremaining: 12.8s\n",
      "197:\tlearn: 0.3178760\ttotal: 3.15s\tremaining: 12.8s\n",
      "198:\tlearn: 0.3175068\ttotal: 3.17s\tremaining: 12.8s\n",
      "199:\tlearn: 0.3170109\ttotal: 3.18s\tremaining: 12.7s\n",
      "200:\tlearn: 0.3153536\ttotal: 3.2s\tremaining: 12.7s\n",
      "201:\tlearn: 0.3144303\ttotal: 3.21s\tremaining: 12.7s\n",
      "202:\tlearn: 0.3139335\ttotal: 3.23s\tremaining: 12.7s\n",
      "203:\tlearn: 0.3125880\ttotal: 3.24s\tremaining: 12.6s\n",
      "204:\tlearn: 0.3108461\ttotal: 3.25s\tremaining: 12.6s\n",
      "205:\tlearn: 0.3099092\ttotal: 3.26s\tremaining: 12.6s\n",
      "206:\tlearn: 0.3086454\ttotal: 3.29s\tremaining: 12.6s\n",
      "207:\tlearn: 0.3081163\ttotal: 3.3s\tremaining: 12.6s\n",
      "208:\tlearn: 0.3063033\ttotal: 3.32s\tremaining: 12.6s\n",
      "209:\tlearn: 0.3058870\ttotal: 3.33s\tremaining: 12.5s\n",
      "210:\tlearn: 0.3049459\ttotal: 3.34s\tremaining: 12.5s\n",
      "211:\tlearn: 0.3048573\ttotal: 3.35s\tremaining: 12.5s\n",
      "212:\tlearn: 0.3047891\ttotal: 3.37s\tremaining: 12.5s\n",
      "213:\tlearn: 0.3030001\ttotal: 3.39s\tremaining: 12.5s\n",
      "214:\tlearn: 0.3019118\ttotal: 3.41s\tremaining: 12.4s\n",
      "215:\tlearn: 0.3003705\ttotal: 3.42s\tremaining: 12.4s\n",
      "216:\tlearn: 0.2992550\ttotal: 3.44s\tremaining: 12.4s\n",
      "217:\tlearn: 0.2989335\ttotal: 3.45s\tremaining: 12.4s\n",
      "218:\tlearn: 0.2985279\ttotal: 3.48s\tremaining: 12.4s\n",
      "219:\tlearn: 0.2983354\ttotal: 3.5s\tremaining: 12.4s\n",
      "220:\tlearn: 0.2968037\ttotal: 3.51s\tremaining: 12.4s\n",
      "221:\tlearn: 0.2953576\ttotal: 3.52s\tremaining: 12.4s\n",
      "222:\tlearn: 0.2943738\ttotal: 3.54s\tremaining: 12.3s\n",
      "223:\tlearn: 0.2936826\ttotal: 3.56s\tremaining: 12.3s\n",
      "224:\tlearn: 0.2923689\ttotal: 3.57s\tremaining: 12.3s\n",
      "225:\tlearn: 0.2916305\ttotal: 3.58s\tremaining: 12.3s\n",
      "226:\tlearn: 0.2905658\ttotal: 3.6s\tremaining: 12.2s\n",
      "227:\tlearn: 0.2897211\ttotal: 3.61s\tremaining: 12.2s\n",
      "228:\tlearn: 0.2890556\ttotal: 3.63s\tremaining: 12.2s\n",
      "229:\tlearn: 0.2883961\ttotal: 3.64s\tremaining: 12.2s\n",
      "230:\tlearn: 0.2873259\ttotal: 3.66s\tremaining: 12.2s\n",
      "231:\tlearn: 0.2857747\ttotal: 3.67s\tremaining: 12.2s\n",
      "232:\tlearn: 0.2854717\ttotal: 3.69s\tremaining: 12.1s\n",
      "233:\tlearn: 0.2850000\ttotal: 3.7s\tremaining: 12.1s\n",
      "234:\tlearn: 0.2843194\ttotal: 3.71s\tremaining: 12.1s\n",
      "235:\tlearn: 0.2837761\ttotal: 3.73s\tremaining: 12.1s\n",
      "236:\tlearn: 0.2833058\ttotal: 3.75s\tremaining: 12.1s\n",
      "237:\tlearn: 0.2826288\ttotal: 3.77s\tremaining: 12.1s\n",
      "238:\tlearn: 0.2821618\ttotal: 3.78s\tremaining: 12.1s\n",
      "239:\tlearn: 0.2817152\ttotal: 3.8s\tremaining: 12s\n",
      "240:\tlearn: 0.2811564\ttotal: 3.81s\tremaining: 12s\n",
      "241:\tlearn: 0.2797348\ttotal: 3.83s\tremaining: 12s\n",
      "242:\tlearn: 0.2787015\ttotal: 3.84s\tremaining: 12s\n",
      "243:\tlearn: 0.2784573\ttotal: 3.85s\tremaining: 11.9s\n",
      "244:\tlearn: 0.2782782\ttotal: 3.87s\tremaining: 11.9s\n",
      "245:\tlearn: 0.2773600\ttotal: 3.88s\tremaining: 11.9s\n",
      "246:\tlearn: 0.2768190\ttotal: 3.9s\tremaining: 11.9s\n",
      "247:\tlearn: 0.2766122\ttotal: 3.92s\tremaining: 11.9s\n",
      "248:\tlearn: 0.2764526\ttotal: 3.93s\tremaining: 11.9s\n",
      "249:\tlearn: 0.2756860\ttotal: 3.95s\tremaining: 11.9s\n",
      "250:\tlearn: 0.2751219\ttotal: 3.97s\tremaining: 11.8s\n",
      "251:\tlearn: 0.2746003\ttotal: 3.98s\tremaining: 11.8s\n",
      "252:\tlearn: 0.2738716\ttotal: 4s\tremaining: 11.8s\n",
      "253:\tlearn: 0.2733823\ttotal: 4.01s\tremaining: 11.8s\n",
      "254:\tlearn: 0.2730180\ttotal: 4.03s\tremaining: 11.8s\n",
      "255:\tlearn: 0.2719571\ttotal: 4.05s\tremaining: 11.8s\n",
      "256:\tlearn: 0.2712851\ttotal: 4.06s\tremaining: 11.7s\n",
      "257:\tlearn: 0.2704139\ttotal: 4.08s\tremaining: 11.7s\n",
      "258:\tlearn: 0.2702316\ttotal: 4.09s\tremaining: 11.7s\n",
      "259:\tlearn: 0.2700618\ttotal: 4.11s\tremaining: 11.7s\n",
      "260:\tlearn: 0.2693379\ttotal: 4.13s\tremaining: 11.7s\n",
      "261:\tlearn: 0.2689662\ttotal: 4.14s\tremaining: 11.7s\n",
      "262:\tlearn: 0.2685517\ttotal: 4.17s\tremaining: 11.7s\n",
      "263:\tlearn: 0.2682768\ttotal: 4.18s\tremaining: 11.7s\n",
      "264:\tlearn: 0.2674772\ttotal: 4.2s\tremaining: 11.7s\n",
      "265:\tlearn: 0.2673178\ttotal: 4.21s\tremaining: 11.6s\n",
      "266:\tlearn: 0.2664234\ttotal: 4.23s\tremaining: 11.6s\n",
      "267:\tlearn: 0.2659009\ttotal: 4.25s\tremaining: 11.6s\n",
      "268:\tlearn: 0.2655981\ttotal: 4.26s\tremaining: 11.6s\n",
      "269:\tlearn: 0.2654310\ttotal: 4.28s\tremaining: 11.6s\n",
      "270:\tlearn: 0.2645114\ttotal: 4.29s\tremaining: 11.5s\n",
      "271:\tlearn: 0.2641128\ttotal: 4.3s\tremaining: 11.5s\n",
      "272:\tlearn: 0.2632251\ttotal: 4.32s\tremaining: 11.5s\n",
      "273:\tlearn: 0.2627930\ttotal: 4.33s\tremaining: 11.5s\n",
      "274:\tlearn: 0.2622633\ttotal: 4.35s\tremaining: 11.5s\n",
      "275:\tlearn: 0.2617102\ttotal: 4.37s\tremaining: 11.5s\n",
      "276:\tlearn: 0.2608725\ttotal: 4.38s\tremaining: 11.4s\n",
      "277:\tlearn: 0.2606092\ttotal: 4.4s\tremaining: 11.4s\n",
      "278:\tlearn: 0.2597670\ttotal: 4.42s\tremaining: 11.4s\n",
      "279:\tlearn: 0.2592550\ttotal: 4.43s\tremaining: 11.4s\n",
      "280:\tlearn: 0.2583966\ttotal: 4.45s\tremaining: 11.4s\n",
      "281:\tlearn: 0.2580327\ttotal: 4.46s\tremaining: 11.4s\n",
      "282:\tlearn: 0.2575250\ttotal: 4.48s\tremaining: 11.3s\n",
      "283:\tlearn: 0.2569763\ttotal: 4.5s\tremaining: 11.3s\n",
      "284:\tlearn: 0.2565679\ttotal: 4.51s\tremaining: 11.3s\n",
      "285:\tlearn: 0.2562148\ttotal: 4.53s\tremaining: 11.3s\n",
      "286:\tlearn: 0.2552942\ttotal: 4.54s\tremaining: 11.3s\n",
      "287:\tlearn: 0.2550028\ttotal: 4.56s\tremaining: 11.3s\n",
      "288:\tlearn: 0.2543984\ttotal: 4.58s\tremaining: 11.3s\n",
      "289:\tlearn: 0.2537339\ttotal: 4.59s\tremaining: 11.2s\n",
      "290:\tlearn: 0.2533767\ttotal: 4.61s\tremaining: 11.2s\n",
      "291:\tlearn: 0.2525578\ttotal: 4.62s\tremaining: 11.2s\n",
      "292:\tlearn: 0.2521020\ttotal: 4.64s\tremaining: 11.2s\n",
      "293:\tlearn: 0.2507849\ttotal: 4.65s\tremaining: 11.2s\n",
      "294:\tlearn: 0.2500110\ttotal: 4.67s\tremaining: 11.2s\n",
      "295:\tlearn: 0.2495223\ttotal: 4.68s\tremaining: 11.1s\n",
      "296:\tlearn: 0.2494744\ttotal: 4.7s\tremaining: 11.1s\n",
      "297:\tlearn: 0.2489370\ttotal: 4.71s\tremaining: 11.1s\n",
      "298:\tlearn: 0.2481841\ttotal: 4.72s\tremaining: 11.1s\n",
      "299:\tlearn: 0.2478376\ttotal: 4.74s\tremaining: 11.1s\n",
      "300:\tlearn: 0.2475515\ttotal: 4.75s\tremaining: 11s\n",
      "301:\tlearn: 0.2472372\ttotal: 4.77s\tremaining: 11s\n",
      "302:\tlearn: 0.2465249\ttotal: 4.79s\tremaining: 11s\n",
      "303:\tlearn: 0.2464804\ttotal: 4.8s\tremaining: 11s\n",
      "304:\tlearn: 0.2462771\ttotal: 4.82s\tremaining: 11s\n",
      "305:\tlearn: 0.2456027\ttotal: 4.83s\tremaining: 11s\n",
      "306:\tlearn: 0.2452960\ttotal: 4.85s\tremaining: 10.9s\n",
      "307:\tlearn: 0.2447962\ttotal: 4.87s\tremaining: 10.9s\n",
      "308:\tlearn: 0.2443327\ttotal: 4.88s\tremaining: 10.9s\n",
      "309:\tlearn: 0.2440126\ttotal: 4.9s\tremaining: 10.9s\n",
      "310:\tlearn: 0.2439717\ttotal: 4.91s\tremaining: 10.9s\n",
      "311:\tlearn: 0.2432874\ttotal: 4.93s\tremaining: 10.9s\n",
      "312:\tlearn: 0.2429774\ttotal: 4.94s\tremaining: 10.8s\n",
      "313:\tlearn: 0.2429372\ttotal: 4.96s\tremaining: 10.8s\n",
      "314:\tlearn: 0.2427365\ttotal: 4.98s\tremaining: 10.8s\n",
      "315:\tlearn: 0.2422805\ttotal: 5s\tremaining: 10.8s\n",
      "316:\tlearn: 0.2416365\ttotal: 5.01s\tremaining: 10.8s\n",
      "317:\tlearn: 0.2412358\ttotal: 5.02s\tremaining: 10.8s\n",
      "318:\tlearn: 0.2408494\ttotal: 5.04s\tremaining: 10.8s\n",
      "319:\tlearn: 0.2403397\ttotal: 5.05s\tremaining: 10.7s\n",
      "320:\tlearn: 0.2395875\ttotal: 5.07s\tremaining: 10.7s\n",
      "321:\tlearn: 0.2394814\ttotal: 5.08s\tremaining: 10.7s\n",
      "322:\tlearn: 0.2390860\ttotal: 5.1s\tremaining: 10.7s\n",
      "323:\tlearn: 0.2382961\ttotal: 5.12s\tremaining: 10.7s\n",
      "324:\tlearn: 0.2381973\ttotal: 5.13s\tremaining: 10.7s\n",
      "325:\tlearn: 0.2378356\ttotal: 5.15s\tremaining: 10.7s\n",
      "326:\tlearn: 0.2372156\ttotal: 5.17s\tremaining: 10.6s\n"
     ]
    },
    {
     "name": "stdout",
     "output_type": "stream",
     "text": [
      "327:\tlearn: 0.2370171\ttotal: 5.18s\tremaining: 10.6s\n",
      "328:\tlearn: 0.2365731\ttotal: 5.2s\tremaining: 10.6s\n",
      "329:\tlearn: 0.2360456\ttotal: 5.22s\tremaining: 10.6s\n",
      "330:\tlearn: 0.2357675\ttotal: 5.23s\tremaining: 10.6s\n",
      "331:\tlearn: 0.2354362\ttotal: 5.25s\tremaining: 10.6s\n",
      "332:\tlearn: 0.2354026\ttotal: 5.27s\tremaining: 10.6s\n",
      "333:\tlearn: 0.2350452\ttotal: 5.28s\tremaining: 10.5s\n",
      "334:\tlearn: 0.2347113\ttotal: 5.3s\tremaining: 10.5s\n",
      "335:\tlearn: 0.2346791\ttotal: 5.32s\tremaining: 10.5s\n",
      "336:\tlearn: 0.2346558\ttotal: 5.33s\tremaining: 10.5s\n",
      "337:\tlearn: 0.2342487\ttotal: 5.35s\tremaining: 10.5s\n",
      "338:\tlearn: 0.2338520\ttotal: 5.36s\tremaining: 10.5s\n",
      "339:\tlearn: 0.2338214\ttotal: 5.38s\tremaining: 10.4s\n",
      "340:\tlearn: 0.2335653\ttotal: 5.39s\tremaining: 10.4s\n",
      "341:\tlearn: 0.2335323\ttotal: 5.41s\tremaining: 10.4s\n",
      "342:\tlearn: 0.2330063\ttotal: 5.42s\tremaining: 10.4s\n",
      "343:\tlearn: 0.2326005\ttotal: 5.44s\tremaining: 10.4s\n",
      "344:\tlearn: 0.2320810\ttotal: 5.45s\tremaining: 10.3s\n",
      "345:\tlearn: 0.2318125\ttotal: 5.47s\tremaining: 10.3s\n",
      "346:\tlearn: 0.2312535\ttotal: 5.49s\tremaining: 10.3s\n",
      "347:\tlearn: 0.2309016\ttotal: 5.5s\tremaining: 10.3s\n",
      "348:\tlearn: 0.2304916\ttotal: 5.53s\tremaining: 10.3s\n",
      "349:\tlearn: 0.2301191\ttotal: 5.54s\tremaining: 10.3s\n",
      "350:\tlearn: 0.2299242\ttotal: 5.56s\tremaining: 10.3s\n",
      "351:\tlearn: 0.2293847\ttotal: 5.58s\tremaining: 10.3s\n",
      "352:\tlearn: 0.2293591\ttotal: 5.59s\tremaining: 10.3s\n",
      "353:\tlearn: 0.2291300\ttotal: 5.61s\tremaining: 10.2s\n",
      "354:\tlearn: 0.2288765\ttotal: 5.62s\tremaining: 10.2s\n",
      "355:\tlearn: 0.2284311\ttotal: 5.64s\tremaining: 10.2s\n",
      "356:\tlearn: 0.2281769\ttotal: 5.65s\tremaining: 10.2s\n",
      "357:\tlearn: 0.2279803\ttotal: 5.67s\tremaining: 10.2s\n",
      "358:\tlearn: 0.2276632\ttotal: 5.68s\tremaining: 10.1s\n",
      "359:\tlearn: 0.2272024\ttotal: 5.7s\tremaining: 10.1s\n",
      "360:\tlearn: 0.2269251\ttotal: 5.71s\tremaining: 10.1s\n",
      "361:\tlearn: 0.2264740\ttotal: 5.73s\tremaining: 10.1s\n",
      "362:\tlearn: 0.2260519\ttotal: 5.74s\tremaining: 10.1s\n",
      "363:\tlearn: 0.2257529\ttotal: 5.76s\tremaining: 10.1s\n",
      "364:\tlearn: 0.2251112\ttotal: 5.77s\tremaining: 10s\n",
      "365:\tlearn: 0.2248351\ttotal: 5.79s\tremaining: 10s\n",
      "366:\tlearn: 0.2240937\ttotal: 5.81s\tremaining: 10s\n",
      "367:\tlearn: 0.2240247\ttotal: 5.83s\tremaining: 10s\n",
      "368:\tlearn: 0.2235123\ttotal: 5.85s\tremaining: 10s\n",
      "369:\tlearn: 0.2232803\ttotal: 5.86s\tremaining: 9.98s\n",
      "370:\tlearn: 0.2229514\ttotal: 5.88s\tremaining: 9.96s\n",
      "371:\tlearn: 0.2226859\ttotal: 5.89s\tremaining: 9.94s\n",
      "372:\tlearn: 0.2221637\ttotal: 5.91s\tremaining: 9.94s\n",
      "373:\tlearn: 0.2217856\ttotal: 5.93s\tremaining: 9.92s\n",
      "374:\tlearn: 0.2215129\ttotal: 5.94s\tremaining: 9.91s\n",
      "375:\tlearn: 0.2206937\ttotal: 5.96s\tremaining: 9.89s\n",
      "376:\tlearn: 0.2202473\ttotal: 5.97s\tremaining: 9.87s\n",
      "377:\tlearn: 0.2199320\ttotal: 5.99s\tremaining: 9.85s\n",
      "378:\tlearn: 0.2195630\ttotal: 6s\tremaining: 9.83s\n",
      "379:\tlearn: 0.2193515\ttotal: 6.02s\tremaining: 9.82s\n",
      "380:\tlearn: 0.2188275\ttotal: 6.04s\tremaining: 9.81s\n",
      "381:\tlearn: 0.2187435\ttotal: 6.05s\tremaining: 9.79s\n",
      "382:\tlearn: 0.2184660\ttotal: 6.07s\tremaining: 9.78s\n",
      "383:\tlearn: 0.2182536\ttotal: 6.08s\tremaining: 9.76s\n",
      "384:\tlearn: 0.2178237\ttotal: 6.1s\tremaining: 9.74s\n",
      "385:\tlearn: 0.2175968\ttotal: 6.12s\tremaining: 9.73s\n",
      "386:\tlearn: 0.2171808\ttotal: 6.13s\tremaining: 9.71s\n",
      "387:\tlearn: 0.2171459\ttotal: 6.14s\tremaining: 9.69s\n",
      "388:\tlearn: 0.2168044\ttotal: 6.16s\tremaining: 9.67s\n",
      "389:\tlearn: 0.2164777\ttotal: 6.18s\tremaining: 9.66s\n",
      "390:\tlearn: 0.2162272\ttotal: 6.2s\tremaining: 9.65s\n",
      "391:\tlearn: 0.2162033\ttotal: 6.21s\tremaining: 9.63s\n",
      "392:\tlearn: 0.2157228\ttotal: 6.23s\tremaining: 9.62s\n",
      "393:\tlearn: 0.2156745\ttotal: 6.24s\tremaining: 9.6s\n",
      "394:\tlearn: 0.2150821\ttotal: 6.26s\tremaining: 9.59s\n",
      "395:\tlearn: 0.2148057\ttotal: 6.28s\tremaining: 9.58s\n",
      "396:\tlearn: 0.2145281\ttotal: 6.3s\tremaining: 9.57s\n",
      "397:\tlearn: 0.2142755\ttotal: 6.32s\tremaining: 9.56s\n",
      "398:\tlearn: 0.2136837\ttotal: 6.34s\tremaining: 9.55s\n",
      "399:\tlearn: 0.2135143\ttotal: 6.35s\tremaining: 9.53s\n",
      "400:\tlearn: 0.2130294\ttotal: 6.37s\tremaining: 9.52s\n",
      "401:\tlearn: 0.2125907\ttotal: 6.39s\tremaining: 9.5s\n",
      "402:\tlearn: 0.2123506\ttotal: 6.4s\tremaining: 9.48s\n",
      "403:\tlearn: 0.2120613\ttotal: 6.41s\tremaining: 9.46s\n",
      "404:\tlearn: 0.2114192\ttotal: 6.43s\tremaining: 9.45s\n",
      "405:\tlearn: 0.2109843\ttotal: 6.45s\tremaining: 9.44s\n",
      "406:\tlearn: 0.2106476\ttotal: 6.47s\tremaining: 9.42s\n",
      "407:\tlearn: 0.2103422\ttotal: 6.48s\tremaining: 9.4s\n",
      "408:\tlearn: 0.2100139\ttotal: 6.49s\tremaining: 9.38s\n",
      "409:\tlearn: 0.2096826\ttotal: 6.51s\tremaining: 9.36s\n",
      "410:\tlearn: 0.2095429\ttotal: 6.52s\tremaining: 9.35s\n",
      "411:\tlearn: 0.2090586\ttotal: 6.54s\tremaining: 9.33s\n",
      "412:\tlearn: 0.2084735\ttotal: 6.55s\tremaining: 9.31s\n",
      "413:\tlearn: 0.2084280\ttotal: 6.57s\tremaining: 9.29s\n",
      "414:\tlearn: 0.2080852\ttotal: 6.58s\tremaining: 9.27s\n",
      "415:\tlearn: 0.2078940\ttotal: 6.59s\tremaining: 9.26s\n",
      "416:\tlearn: 0.2078078\ttotal: 6.61s\tremaining: 9.25s\n",
      "417:\tlearn: 0.2073383\ttotal: 6.63s\tremaining: 9.23s\n",
      "418:\tlearn: 0.2069741\ttotal: 6.65s\tremaining: 9.22s\n",
      "419:\tlearn: 0.2069302\ttotal: 6.66s\tremaining: 9.2s\n",
      "420:\tlearn: 0.2064326\ttotal: 6.68s\tremaining: 9.19s\n",
      "421:\tlearn: 0.2063839\ttotal: 6.69s\tremaining: 9.17s\n",
      "422:\tlearn: 0.2060908\ttotal: 6.71s\tremaining: 9.15s\n",
      "423:\tlearn: 0.2057586\ttotal: 6.73s\tremaining: 9.14s\n",
      "424:\tlearn: 0.2055351\ttotal: 6.74s\tremaining: 9.12s\n",
      "425:\tlearn: 0.2054967\ttotal: 6.76s\tremaining: 9.1s\n",
      "426:\tlearn: 0.2053462\ttotal: 6.77s\tremaining: 9.08s\n",
      "427:\tlearn: 0.2049713\ttotal: 6.79s\tremaining: 9.07s\n",
      "428:\tlearn: 0.2047091\ttotal: 6.8s\tremaining: 9.06s\n",
      "429:\tlearn: 0.2045396\ttotal: 6.82s\tremaining: 9.04s\n",
      "430:\tlearn: 0.2041508\ttotal: 6.83s\tremaining: 9.02s\n",
      "431:\tlearn: 0.2039440\ttotal: 6.85s\tremaining: 9.01s\n",
      "432:\tlearn: 0.2037672\ttotal: 6.87s\tremaining: 8.99s\n",
      "433:\tlearn: 0.2034990\ttotal: 6.88s\tremaining: 8.97s\n",
      "434:\tlearn: 0.2031786\ttotal: 6.9s\tremaining: 8.96s\n",
      "435:\tlearn: 0.2029258\ttotal: 6.91s\tremaining: 8.94s\n",
      "436:\tlearn: 0.2025447\ttotal: 6.93s\tremaining: 8.92s\n",
      "437:\tlearn: 0.2025155\ttotal: 6.94s\tremaining: 8.91s\n",
      "438:\tlearn: 0.2022247\ttotal: 6.96s\tremaining: 8.89s\n",
      "439:\tlearn: 0.2021847\ttotal: 6.98s\tremaining: 8.88s\n",
      "440:\tlearn: 0.2021332\ttotal: 6.99s\tremaining: 8.86s\n",
      "441:\tlearn: 0.2018865\ttotal: 7.01s\tremaining: 8.85s\n",
      "442:\tlearn: 0.2016762\ttotal: 7.02s\tremaining: 8.83s\n",
      "443:\tlearn: 0.2015978\ttotal: 7.03s\tremaining: 8.81s\n",
      "444:\tlearn: 0.2014374\ttotal: 7.05s\tremaining: 8.8s\n",
      "445:\tlearn: 0.2012097\ttotal: 7.07s\tremaining: 8.78s\n",
      "446:\tlearn: 0.2011829\ttotal: 7.08s\tremaining: 8.76s\n",
      "447:\tlearn: 0.2008255\ttotal: 7.09s\tremaining: 8.74s\n",
      "448:\tlearn: 0.2007859\ttotal: 7.11s\tremaining: 8.72s\n",
      "449:\tlearn: 0.2007242\ttotal: 7.12s\tremaining: 8.7s\n",
      "450:\tlearn: 0.2004789\ttotal: 7.14s\tremaining: 8.69s\n",
      "451:\tlearn: 0.2000372\ttotal: 7.16s\tremaining: 8.68s\n",
      "452:\tlearn: 0.1997403\ttotal: 7.17s\tremaining: 8.66s\n",
      "453:\tlearn: 0.1994409\ttotal: 7.19s\tremaining: 8.64s\n",
      "454:\tlearn: 0.1994074\ttotal: 7.2s\tremaining: 8.62s\n",
      "455:\tlearn: 0.1988956\ttotal: 7.21s\tremaining: 8.61s\n",
      "456:\tlearn: 0.1985113\ttotal: 7.23s\tremaining: 8.59s\n",
      "457:\tlearn: 0.1984791\ttotal: 7.24s\tremaining: 8.57s\n",
      "458:\tlearn: 0.1983164\ttotal: 7.26s\tremaining: 8.55s\n",
      "459:\tlearn: 0.1979416\ttotal: 7.27s\tremaining: 8.53s\n",
      "460:\tlearn: 0.1976888\ttotal: 7.28s\tremaining: 8.52s\n",
      "461:\tlearn: 0.1974513\ttotal: 7.3s\tremaining: 8.5s\n",
      "462:\tlearn: 0.1974208\ttotal: 7.31s\tremaining: 8.48s\n",
      "463:\tlearn: 0.1969860\ttotal: 7.33s\tremaining: 8.47s\n",
      "464:\tlearn: 0.1967778\ttotal: 7.35s\tremaining: 8.45s\n",
      "465:\tlearn: 0.1967228\ttotal: 7.36s\tremaining: 8.44s\n",
      "466:\tlearn: 0.1963947\ttotal: 7.38s\tremaining: 8.42s\n",
      "467:\tlearn: 0.1962469\ttotal: 7.39s\tremaining: 8.41s\n",
      "468:\tlearn: 0.1960693\ttotal: 7.42s\tremaining: 8.4s\n",
      "469:\tlearn: 0.1960406\ttotal: 7.43s\tremaining: 8.38s\n",
      "470:\tlearn: 0.1957074\ttotal: 7.45s\tremaining: 8.36s\n",
      "471:\tlearn: 0.1955199\ttotal: 7.47s\tremaining: 8.35s\n",
      "472:\tlearn: 0.1952401\ttotal: 7.48s\tremaining: 8.34s\n",
      "473:\tlearn: 0.1949769\ttotal: 7.5s\tremaining: 8.32s\n",
      "474:\tlearn: 0.1947469\ttotal: 7.52s\tremaining: 8.31s\n",
      "475:\tlearn: 0.1944566\ttotal: 7.53s\tremaining: 8.29s\n",
      "476:\tlearn: 0.1944163\ttotal: 7.55s\tremaining: 8.28s\n",
      "477:\tlearn: 0.1941366\ttotal: 7.57s\tremaining: 8.27s\n",
      "478:\tlearn: 0.1937536\ttotal: 7.58s\tremaining: 8.25s\n",
      "479:\tlearn: 0.1934567\ttotal: 7.6s\tremaining: 8.23s\n",
      "480:\tlearn: 0.1931367\ttotal: 7.61s\tremaining: 8.21s\n",
      "481:\tlearn: 0.1930924\ttotal: 7.63s\tremaining: 8.2s\n",
      "482:\tlearn: 0.1929394\ttotal: 7.65s\tremaining: 8.18s\n",
      "483:\tlearn: 0.1927524\ttotal: 7.66s\tremaining: 8.16s\n",
      "484:\tlearn: 0.1923287\ttotal: 7.67s\tremaining: 8.15s\n",
      "485:\tlearn: 0.1920409\ttotal: 7.69s\tremaining: 8.13s\n",
      "486:\tlearn: 0.1918392\ttotal: 7.7s\tremaining: 8.11s\n",
      "487:\tlearn: 0.1915564\ttotal: 7.71s\tremaining: 8.1s\n",
      "488:\tlearn: 0.1912441\ttotal: 7.73s\tremaining: 8.08s\n"
     ]
    },
    {
     "name": "stdout",
     "output_type": "stream",
     "text": [
      "489:\tlearn: 0.1908074\ttotal: 7.74s\tremaining: 8.06s\n",
      "490:\tlearn: 0.1906312\ttotal: 7.76s\tremaining: 8.04s\n",
      "491:\tlearn: 0.1903525\ttotal: 7.77s\tremaining: 8.02s\n",
      "492:\tlearn: 0.1902516\ttotal: 7.79s\tremaining: 8.01s\n",
      "493:\tlearn: 0.1901037\ttotal: 7.8s\tremaining: 7.99s\n",
      "494:\tlearn: 0.1900698\ttotal: 7.82s\tremaining: 7.97s\n",
      "495:\tlearn: 0.1900535\ttotal: 7.83s\tremaining: 7.95s\n",
      "496:\tlearn: 0.1898995\ttotal: 7.84s\tremaining: 7.94s\n",
      "497:\tlearn: 0.1897079\ttotal: 7.87s\tremaining: 7.93s\n",
      "498:\tlearn: 0.1895551\ttotal: 7.88s\tremaining: 7.92s\n",
      "499:\tlearn: 0.1893541\ttotal: 7.9s\tremaining: 7.9s\n",
      "500:\tlearn: 0.1892861\ttotal: 7.92s\tremaining: 7.88s\n",
      "501:\tlearn: 0.1892509\ttotal: 7.93s\tremaining: 7.87s\n",
      "502:\tlearn: 0.1892349\ttotal: 7.94s\tremaining: 7.85s\n",
      "503:\tlearn: 0.1888348\ttotal: 7.96s\tremaining: 7.83s\n",
      "504:\tlearn: 0.1886556\ttotal: 7.97s\tremaining: 7.82s\n",
      "505:\tlearn: 0.1884003\ttotal: 7.99s\tremaining: 7.8s\n",
      "506:\tlearn: 0.1881592\ttotal: 8s\tremaining: 7.78s\n",
      "507:\tlearn: 0.1880116\ttotal: 8.01s\tremaining: 7.76s\n",
      "508:\tlearn: 0.1878136\ttotal: 8.03s\tremaining: 7.75s\n",
      "509:\tlearn: 0.1875018\ttotal: 8.05s\tremaining: 7.74s\n",
      "510:\tlearn: 0.1873173\ttotal: 8.07s\tremaining: 7.72s\n",
      "511:\tlearn: 0.1870823\ttotal: 8.09s\tremaining: 7.71s\n",
      "512:\tlearn: 0.1870246\ttotal: 8.11s\tremaining: 7.7s\n",
      "513:\tlearn: 0.1870073\ttotal: 8.13s\tremaining: 7.68s\n",
      "514:\tlearn: 0.1867449\ttotal: 8.14s\tremaining: 7.67s\n",
      "515:\tlearn: 0.1863761\ttotal: 8.16s\tremaining: 7.65s\n",
      "516:\tlearn: 0.1863590\ttotal: 8.18s\tremaining: 7.64s\n",
      "517:\tlearn: 0.1860929\ttotal: 8.19s\tremaining: 7.62s\n",
      "518:\tlearn: 0.1860167\ttotal: 8.21s\tremaining: 7.61s\n",
      "519:\tlearn: 0.1856941\ttotal: 8.22s\tremaining: 7.59s\n",
      "520:\tlearn: 0.1854475\ttotal: 8.24s\tremaining: 7.58s\n",
      "521:\tlearn: 0.1851200\ttotal: 8.26s\tremaining: 7.56s\n",
      "522:\tlearn: 0.1850804\ttotal: 8.27s\tremaining: 7.55s\n",
      "523:\tlearn: 0.1848938\ttotal: 8.29s\tremaining: 7.53s\n",
      "524:\tlearn: 0.1848813\ttotal: 8.3s\tremaining: 7.51s\n",
      "525:\tlearn: 0.1847800\ttotal: 8.32s\tremaining: 7.5s\n",
      "526:\tlearn: 0.1844976\ttotal: 8.33s\tremaining: 7.48s\n",
      "527:\tlearn: 0.1843066\ttotal: 8.35s\tremaining: 7.46s\n",
      "528:\tlearn: 0.1841035\ttotal: 8.36s\tremaining: 7.44s\n",
      "529:\tlearn: 0.1840907\ttotal: 8.38s\tremaining: 7.43s\n",
      "530:\tlearn: 0.1839549\ttotal: 8.39s\tremaining: 7.41s\n",
      "531:\tlearn: 0.1837616\ttotal: 8.41s\tremaining: 7.39s\n",
      "532:\tlearn: 0.1836057\ttotal: 8.42s\tremaining: 7.38s\n",
      "533:\tlearn: 0.1834942\ttotal: 8.43s\tremaining: 7.36s\n",
      "534:\tlearn: 0.1833731\ttotal: 8.45s\tremaining: 7.34s\n",
      "535:\tlearn: 0.1831586\ttotal: 8.47s\tremaining: 7.33s\n",
      "536:\tlearn: 0.1830389\ttotal: 8.48s\tremaining: 7.32s\n",
      "537:\tlearn: 0.1826396\ttotal: 8.5s\tremaining: 7.3s\n",
      "538:\tlearn: 0.1825344\ttotal: 8.52s\tremaining: 7.28s\n",
      "539:\tlearn: 0.1822620\ttotal: 8.53s\tremaining: 7.27s\n",
      "540:\tlearn: 0.1820212\ttotal: 8.55s\tremaining: 7.25s\n",
      "541:\tlearn: 0.1818285\ttotal: 8.56s\tremaining: 7.24s\n",
      "542:\tlearn: 0.1816605\ttotal: 8.58s\tremaining: 7.22s\n",
      "543:\tlearn: 0.1815274\ttotal: 8.59s\tremaining: 7.2s\n",
      "544:\tlearn: 0.1812804\ttotal: 8.61s\tremaining: 7.19s\n",
      "545:\tlearn: 0.1812684\ttotal: 8.62s\tremaining: 7.17s\n",
      "546:\tlearn: 0.1810996\ttotal: 8.63s\tremaining: 7.15s\n",
      "547:\tlearn: 0.1808936\ttotal: 8.65s\tremaining: 7.13s\n",
      "548:\tlearn: 0.1806434\ttotal: 8.66s\tremaining: 7.12s\n",
      "549:\tlearn: 0.1805380\ttotal: 8.68s\tremaining: 7.1s\n",
      "550:\tlearn: 0.1803813\ttotal: 8.69s\tremaining: 7.08s\n",
      "551:\tlearn: 0.1803692\ttotal: 8.7s\tremaining: 7.06s\n",
      "552:\tlearn: 0.1802144\ttotal: 8.72s\tremaining: 7.05s\n",
      "553:\tlearn: 0.1799221\ttotal: 8.73s\tremaining: 7.03s\n",
      "554:\tlearn: 0.1797243\ttotal: 8.74s\tremaining: 7.01s\n",
      "555:\tlearn: 0.1795756\ttotal: 8.76s\tremaining: 6.99s\n",
      "556:\tlearn: 0.1793961\ttotal: 8.77s\tremaining: 6.98s\n",
      "557:\tlearn: 0.1792166\ttotal: 8.79s\tremaining: 6.96s\n",
      "558:\tlearn: 0.1788943\ttotal: 8.81s\tremaining: 6.95s\n",
      "559:\tlearn: 0.1788786\ttotal: 8.82s\tremaining: 6.93s\n",
      "560:\tlearn: 0.1787229\ttotal: 8.83s\tremaining: 6.91s\n",
      "561:\tlearn: 0.1787123\ttotal: 8.85s\tremaining: 6.89s\n",
      "562:\tlearn: 0.1786361\ttotal: 8.86s\tremaining: 6.88s\n",
      "563:\tlearn: 0.1784241\ttotal: 8.87s\tremaining: 6.86s\n",
      "564:\tlearn: 0.1782317\ttotal: 8.89s\tremaining: 6.84s\n",
      "565:\tlearn: 0.1780276\ttotal: 8.9s\tremaining: 6.82s\n",
      "566:\tlearn: 0.1776640\ttotal: 8.91s\tremaining: 6.81s\n",
      "567:\tlearn: 0.1775479\ttotal: 8.93s\tremaining: 6.79s\n",
      "568:\tlearn: 0.1773864\ttotal: 8.94s\tremaining: 6.77s\n",
      "569:\tlearn: 0.1772421\ttotal: 8.95s\tremaining: 6.75s\n",
      "570:\tlearn: 0.1770269\ttotal: 8.97s\tremaining: 6.74s\n",
      "571:\tlearn: 0.1766690\ttotal: 8.98s\tremaining: 6.72s\n",
      "572:\tlearn: 0.1765367\ttotal: 9s\tremaining: 6.71s\n",
      "573:\tlearn: 0.1763140\ttotal: 9.02s\tremaining: 6.69s\n",
      "574:\tlearn: 0.1761439\ttotal: 9.03s\tremaining: 6.67s\n",
      "575:\tlearn: 0.1758891\ttotal: 9.04s\tremaining: 6.66s\n",
      "576:\tlearn: 0.1754976\ttotal: 9.06s\tremaining: 6.64s\n",
      "577:\tlearn: 0.1752541\ttotal: 9.07s\tremaining: 6.62s\n",
      "578:\tlearn: 0.1752405\ttotal: 9.09s\tremaining: 6.61s\n",
      "579:\tlearn: 0.1751060\ttotal: 9.1s\tremaining: 6.59s\n",
      "580:\tlearn: 0.1749135\ttotal: 9.12s\tremaining: 6.58s\n",
      "581:\tlearn: 0.1748606\ttotal: 9.13s\tremaining: 6.56s\n",
      "582:\tlearn: 0.1745043\ttotal: 9.14s\tremaining: 6.54s\n",
      "583:\tlearn: 0.1741990\ttotal: 9.16s\tremaining: 6.53s\n",
      "584:\tlearn: 0.1740671\ttotal: 9.18s\tremaining: 6.51s\n",
      "585:\tlearn: 0.1738769\ttotal: 9.19s\tremaining: 6.49s\n",
      "586:\tlearn: 0.1736951\ttotal: 9.2s\tremaining: 6.47s\n",
      "587:\tlearn: 0.1735599\ttotal: 9.22s\tremaining: 6.46s\n",
      "588:\tlearn: 0.1734861\ttotal: 9.23s\tremaining: 6.44s\n",
      "589:\tlearn: 0.1732913\ttotal: 9.25s\tremaining: 6.43s\n",
      "590:\tlearn: 0.1731361\ttotal: 9.26s\tremaining: 6.41s\n",
      "591:\tlearn: 0.1730440\ttotal: 9.28s\tremaining: 6.39s\n",
      "592:\tlearn: 0.1728307\ttotal: 9.29s\tremaining: 6.38s\n",
      "593:\tlearn: 0.1727783\ttotal: 9.3s\tremaining: 6.36s\n",
      "594:\tlearn: 0.1726729\ttotal: 9.32s\tremaining: 6.34s\n",
      "595:\tlearn: 0.1726178\ttotal: 9.34s\tremaining: 6.33s\n",
      "596:\tlearn: 0.1724653\ttotal: 9.35s\tremaining: 6.31s\n",
      "597:\tlearn: 0.1723022\ttotal: 9.38s\tremaining: 6.3s\n",
      "598:\tlearn: 0.1721776\ttotal: 9.39s\tremaining: 6.29s\n",
      "599:\tlearn: 0.1721102\ttotal: 9.41s\tremaining: 6.27s\n",
      "600:\tlearn: 0.1718710\ttotal: 9.43s\tremaining: 6.26s\n",
      "601:\tlearn: 0.1717473\ttotal: 9.45s\tremaining: 6.25s\n",
      "602:\tlearn: 0.1714294\ttotal: 9.47s\tremaining: 6.23s\n",
      "603:\tlearn: 0.1711595\ttotal: 9.48s\tremaining: 6.22s\n",
      "604:\tlearn: 0.1709822\ttotal: 9.5s\tremaining: 6.2s\n",
      "605:\tlearn: 0.1708352\ttotal: 9.51s\tremaining: 6.18s\n",
      "606:\tlearn: 0.1707075\ttotal: 9.54s\tremaining: 6.17s\n",
      "607:\tlearn: 0.1704702\ttotal: 9.55s\tremaining: 6.16s\n",
      "608:\tlearn: 0.1703316\ttotal: 9.56s\tremaining: 6.14s\n",
      "609:\tlearn: 0.1701718\ttotal: 9.58s\tremaining: 6.13s\n",
      "610:\tlearn: 0.1700630\ttotal: 9.6s\tremaining: 6.11s\n",
      "611:\tlearn: 0.1699045\ttotal: 9.61s\tremaining: 6.09s\n",
      "612:\tlearn: 0.1697738\ttotal: 9.63s\tremaining: 6.08s\n",
      "613:\tlearn: 0.1695803\ttotal: 9.64s\tremaining: 6.06s\n",
      "614:\tlearn: 0.1694210\ttotal: 9.65s\tremaining: 6.04s\n",
      "615:\tlearn: 0.1693597\ttotal: 9.67s\tremaining: 6.03s\n",
      "616:\tlearn: 0.1691679\ttotal: 9.68s\tremaining: 6.01s\n",
      "617:\tlearn: 0.1689748\ttotal: 9.7s\tremaining: 5.99s\n",
      "618:\tlearn: 0.1687258\ttotal: 9.71s\tremaining: 5.98s\n",
      "619:\tlearn: 0.1686010\ttotal: 9.72s\tremaining: 5.96s\n",
      "620:\tlearn: 0.1684131\ttotal: 9.73s\tremaining: 5.94s\n",
      "621:\tlearn: 0.1682623\ttotal: 9.75s\tremaining: 5.92s\n",
      "622:\tlearn: 0.1680833\ttotal: 9.77s\tremaining: 5.91s\n",
      "623:\tlearn: 0.1679404\ttotal: 9.78s\tremaining: 5.89s\n",
      "624:\tlearn: 0.1677197\ttotal: 9.79s\tremaining: 5.88s\n",
      "625:\tlearn: 0.1676100\ttotal: 9.81s\tremaining: 5.86s\n",
      "626:\tlearn: 0.1673416\ttotal: 9.82s\tremaining: 5.84s\n",
      "627:\tlearn: 0.1671342\ttotal: 9.84s\tremaining: 5.83s\n",
      "628:\tlearn: 0.1668179\ttotal: 9.86s\tremaining: 5.81s\n",
      "629:\tlearn: 0.1667147\ttotal: 9.87s\tremaining: 5.8s\n",
      "630:\tlearn: 0.1666712\ttotal: 9.88s\tremaining: 5.78s\n",
      "631:\tlearn: 0.1665109\ttotal: 9.9s\tremaining: 5.76s\n",
      "632:\tlearn: 0.1663224\ttotal: 9.91s\tremaining: 5.75s\n",
      "633:\tlearn: 0.1661263\ttotal: 9.92s\tremaining: 5.73s\n",
      "634:\tlearn: 0.1659314\ttotal: 9.94s\tremaining: 5.71s\n",
      "635:\tlearn: 0.1657399\ttotal: 9.95s\tremaining: 5.7s\n",
      "636:\tlearn: 0.1654852\ttotal: 9.97s\tremaining: 5.68s\n",
      "637:\tlearn: 0.1653180\ttotal: 9.99s\tremaining: 5.67s\n",
      "638:\tlearn: 0.1652410\ttotal: 10s\tremaining: 5.65s\n",
      "639:\tlearn: 0.1650781\ttotal: 10s\tremaining: 5.64s\n",
      "640:\tlearn: 0.1649035\ttotal: 10s\tremaining: 5.62s\n",
      "641:\tlearn: 0.1647498\ttotal: 10.1s\tremaining: 5.61s\n",
      "642:\tlearn: 0.1646137\ttotal: 10.1s\tremaining: 5.59s\n",
      "643:\tlearn: 0.1644495\ttotal: 10.1s\tremaining: 5.57s\n",
      "644:\tlearn: 0.1642758\ttotal: 10.1s\tremaining: 5.56s\n",
      "645:\tlearn: 0.1640171\ttotal: 10.1s\tremaining: 5.54s\n",
      "646:\tlearn: 0.1638542\ttotal: 10.1s\tremaining: 5.53s\n",
      "647:\tlearn: 0.1636464\ttotal: 10.2s\tremaining: 5.51s\n",
      "648:\tlearn: 0.1635104\ttotal: 10.2s\tremaining: 5.5s\n",
      "649:\tlearn: 0.1632092\ttotal: 10.2s\tremaining: 5.48s\n",
      "650:\tlearn: 0.1630365\ttotal: 10.2s\tremaining: 5.47s\n",
      "651:\tlearn: 0.1629170\ttotal: 10.2s\tremaining: 5.45s\n",
      "652:\tlearn: 0.1627977\ttotal: 10.2s\tremaining: 5.44s\n",
      "653:\tlearn: 0.1624742\ttotal: 10.2s\tremaining: 5.42s\n",
      "654:\tlearn: 0.1624599\ttotal: 10.3s\tremaining: 5.4s\n",
      "655:\tlearn: 0.1621420\ttotal: 10.3s\tremaining: 5.39s\n",
      "656:\tlearn: 0.1619419\ttotal: 10.3s\tremaining: 5.37s\n",
      "657:\tlearn: 0.1617351\ttotal: 10.3s\tremaining: 5.35s\n",
      "658:\tlearn: 0.1615529\ttotal: 10.3s\tremaining: 5.34s\n"
     ]
    },
    {
     "name": "stdout",
     "output_type": "stream",
     "text": [
      "659:\tlearn: 0.1614176\ttotal: 10.3s\tremaining: 5.32s\n",
      "660:\tlearn: 0.1612998\ttotal: 10.3s\tremaining: 5.31s\n",
      "661:\tlearn: 0.1611835\ttotal: 10.4s\tremaining: 5.29s\n",
      "662:\tlearn: 0.1611679\ttotal: 10.4s\tremaining: 5.28s\n",
      "663:\tlearn: 0.1610612\ttotal: 10.4s\tremaining: 5.26s\n",
      "664:\tlearn: 0.1609194\ttotal: 10.4s\tremaining: 5.25s\n",
      "665:\tlearn: 0.1607004\ttotal: 10.4s\tremaining: 5.23s\n",
      "666:\tlearn: 0.1604991\ttotal: 10.4s\tremaining: 5.22s\n",
      "667:\tlearn: 0.1603472\ttotal: 10.5s\tremaining: 5.2s\n",
      "668:\tlearn: 0.1601257\ttotal: 10.5s\tremaining: 5.19s\n",
      "669:\tlearn: 0.1601072\ttotal: 10.5s\tremaining: 5.17s\n",
      "670:\tlearn: 0.1599500\ttotal: 10.5s\tremaining: 5.16s\n",
      "671:\tlearn: 0.1597588\ttotal: 10.5s\tremaining: 5.14s\n",
      "672:\tlearn: 0.1597255\ttotal: 10.6s\tremaining: 5.13s\n",
      "673:\tlearn: 0.1596287\ttotal: 10.6s\tremaining: 5.12s\n",
      "674:\tlearn: 0.1595004\ttotal: 10.6s\tremaining: 5.1s\n",
      "675:\tlearn: 0.1592589\ttotal: 10.6s\tremaining: 5.09s\n",
      "676:\tlearn: 0.1590352\ttotal: 10.6s\tremaining: 5.07s\n",
      "677:\tlearn: 0.1589354\ttotal: 10.6s\tremaining: 5.05s\n",
      "678:\tlearn: 0.1588347\ttotal: 10.7s\tremaining: 5.04s\n",
      "679:\tlearn: 0.1586806\ttotal: 10.7s\tremaining: 5.02s\n",
      "680:\tlearn: 0.1584743\ttotal: 10.7s\tremaining: 5.01s\n",
      "681:\tlearn: 0.1583559\ttotal: 10.7s\tremaining: 4.99s\n",
      "682:\tlearn: 0.1581849\ttotal: 10.7s\tremaining: 4.97s\n",
      "683:\tlearn: 0.1580312\ttotal: 10.7s\tremaining: 4.96s\n",
      "684:\tlearn: 0.1578734\ttotal: 10.8s\tremaining: 4.95s\n",
      "685:\tlearn: 0.1577567\ttotal: 10.8s\tremaining: 4.93s\n",
      "686:\tlearn: 0.1574943\ttotal: 10.8s\tremaining: 4.92s\n",
      "687:\tlearn: 0.1573041\ttotal: 10.8s\tremaining: 4.91s\n",
      "688:\tlearn: 0.1571077\ttotal: 10.8s\tremaining: 4.89s\n",
      "689:\tlearn: 0.1569491\ttotal: 10.8s\tremaining: 4.87s\n",
      "690:\tlearn: 0.1568245\ttotal: 10.9s\tremaining: 4.86s\n",
      "691:\tlearn: 0.1566652\ttotal: 10.9s\tremaining: 4.84s\n",
      "692:\tlearn: 0.1564969\ttotal: 10.9s\tremaining: 4.83s\n",
      "693:\tlearn: 0.1564644\ttotal: 10.9s\tremaining: 4.81s\n",
      "694:\tlearn: 0.1563465\ttotal: 10.9s\tremaining: 4.79s\n",
      "695:\tlearn: 0.1561967\ttotal: 10.9s\tremaining: 4.78s\n",
      "696:\tlearn: 0.1560589\ttotal: 11s\tremaining: 4.76s\n",
      "697:\tlearn: 0.1560074\ttotal: 11s\tremaining: 4.74s\n",
      "698:\tlearn: 0.1559928\ttotal: 11s\tremaining: 4.73s\n",
      "699:\tlearn: 0.1557607\ttotal: 11s\tremaining: 4.71s\n",
      "700:\tlearn: 0.1556522\ttotal: 11s\tremaining: 4.7s\n",
      "701:\tlearn: 0.1553953\ttotal: 11s\tremaining: 4.68s\n",
      "702:\tlearn: 0.1552014\ttotal: 11s\tremaining: 4.67s\n",
      "703:\tlearn: 0.1551766\ttotal: 11.1s\tremaining: 4.65s\n",
      "704:\tlearn: 0.1550719\ttotal: 11.1s\tremaining: 4.63s\n",
      "705:\tlearn: 0.1550147\ttotal: 11.1s\tremaining: 4.62s\n",
      "706:\tlearn: 0.1548432\ttotal: 11.1s\tremaining: 4.6s\n",
      "707:\tlearn: 0.1547622\ttotal: 11.1s\tremaining: 4.59s\n",
      "708:\tlearn: 0.1546169\ttotal: 11.1s\tremaining: 4.57s\n",
      "709:\tlearn: 0.1545057\ttotal: 11.2s\tremaining: 4.55s\n",
      "710:\tlearn: 0.1544066\ttotal: 11.2s\tremaining: 4.54s\n",
      "711:\tlearn: 0.1543675\ttotal: 11.2s\tremaining: 4.52s\n",
      "712:\tlearn: 0.1542567\ttotal: 11.2s\tremaining: 4.51s\n",
      "713:\tlearn: 0.1541662\ttotal: 11.2s\tremaining: 4.49s\n",
      "714:\tlearn: 0.1540135\ttotal: 11.2s\tremaining: 4.48s\n",
      "715:\tlearn: 0.1538930\ttotal: 11.3s\tremaining: 4.46s\n",
      "716:\tlearn: 0.1538055\ttotal: 11.3s\tremaining: 4.45s\n",
      "717:\tlearn: 0.1536893\ttotal: 11.3s\tremaining: 4.43s\n",
      "718:\tlearn: 0.1535962\ttotal: 11.3s\tremaining: 4.41s\n",
      "719:\tlearn: 0.1535024\ttotal: 11.3s\tremaining: 4.4s\n",
      "720:\tlearn: 0.1533273\ttotal: 11.3s\tremaining: 4.38s\n",
      "721:\tlearn: 0.1532956\ttotal: 11.3s\tremaining: 4.37s\n",
      "722:\tlearn: 0.1532815\ttotal: 11.4s\tremaining: 4.35s\n",
      "723:\tlearn: 0.1532514\ttotal: 11.4s\tremaining: 4.34s\n",
      "724:\tlearn: 0.1531174\ttotal: 11.4s\tremaining: 4.32s\n",
      "725:\tlearn: 0.1528334\ttotal: 11.4s\tremaining: 4.3s\n",
      "726:\tlearn: 0.1528197\ttotal: 11.4s\tremaining: 4.29s\n",
      "727:\tlearn: 0.1526157\ttotal: 11.4s\tremaining: 4.27s\n",
      "728:\tlearn: 0.1523784\ttotal: 11.4s\tremaining: 4.26s\n",
      "729:\tlearn: 0.1522666\ttotal: 11.5s\tremaining: 4.24s\n",
      "730:\tlearn: 0.1521293\ttotal: 11.5s\tremaining: 4.22s\n",
      "731:\tlearn: 0.1520894\ttotal: 11.5s\tremaining: 4.21s\n",
      "732:\tlearn: 0.1519111\ttotal: 11.5s\tremaining: 4.19s\n",
      "733:\tlearn: 0.1517776\ttotal: 11.5s\tremaining: 4.18s\n",
      "734:\tlearn: 0.1517543\ttotal: 11.5s\tremaining: 4.16s\n",
      "735:\tlearn: 0.1516858\ttotal: 11.6s\tremaining: 4.14s\n",
      "736:\tlearn: 0.1515606\ttotal: 11.6s\tremaining: 4.13s\n",
      "737:\tlearn: 0.1514328\ttotal: 11.6s\tremaining: 4.11s\n",
      "738:\tlearn: 0.1513052\ttotal: 11.6s\tremaining: 4.1s\n",
      "739:\tlearn: 0.1511477\ttotal: 11.6s\tremaining: 4.08s\n",
      "740:\tlearn: 0.1509984\ttotal: 11.6s\tremaining: 4.07s\n",
      "741:\tlearn: 0.1507992\ttotal: 11.7s\tremaining: 4.05s\n",
      "742:\tlearn: 0.1506634\ttotal: 11.7s\tremaining: 4.04s\n",
      "743:\tlearn: 0.1505095\ttotal: 11.7s\tremaining: 4.02s\n",
      "744:\tlearn: 0.1502207\ttotal: 11.7s\tremaining: 4.01s\n",
      "745:\tlearn: 0.1500363\ttotal: 11.7s\tremaining: 3.99s\n",
      "746:\tlearn: 0.1499249\ttotal: 11.7s\tremaining: 3.98s\n",
      "747:\tlearn: 0.1497480\ttotal: 11.8s\tremaining: 3.96s\n",
      "748:\tlearn: 0.1496347\ttotal: 11.8s\tremaining: 3.94s\n",
      "749:\tlearn: 0.1494384\ttotal: 11.8s\tremaining: 3.93s\n",
      "750:\tlearn: 0.1492859\ttotal: 11.8s\tremaining: 3.91s\n",
      "751:\tlearn: 0.1491515\ttotal: 11.8s\tremaining: 3.9s\n",
      "752:\tlearn: 0.1489063\ttotal: 11.8s\tremaining: 3.88s\n",
      "753:\tlearn: 0.1487383\ttotal: 11.8s\tremaining: 3.86s\n",
      "754:\tlearn: 0.1485202\ttotal: 11.9s\tremaining: 3.85s\n",
      "755:\tlearn: 0.1485088\ttotal: 11.9s\tremaining: 3.83s\n",
      "756:\tlearn: 0.1484988\ttotal: 11.9s\tremaining: 3.82s\n",
      "757:\tlearn: 0.1484143\ttotal: 11.9s\tremaining: 3.8s\n",
      "758:\tlearn: 0.1483247\ttotal: 11.9s\tremaining: 3.79s\n",
      "759:\tlearn: 0.1482153\ttotal: 11.9s\tremaining: 3.77s\n",
      "760:\tlearn: 0.1481246\ttotal: 12s\tremaining: 3.76s\n",
      "761:\tlearn: 0.1481149\ttotal: 12s\tremaining: 3.74s\n",
      "762:\tlearn: 0.1480215\ttotal: 12s\tremaining: 3.72s\n",
      "763:\tlearn: 0.1477763\ttotal: 12s\tremaining: 3.71s\n",
      "764:\tlearn: 0.1477205\ttotal: 12s\tremaining: 3.69s\n",
      "765:\tlearn: 0.1475507\ttotal: 12s\tremaining: 3.68s\n",
      "766:\tlearn: 0.1472768\ttotal: 12.1s\tremaining: 3.66s\n",
      "767:\tlearn: 0.1470220\ttotal: 12.1s\tremaining: 3.65s\n",
      "768:\tlearn: 0.1468431\ttotal: 12.1s\tremaining: 3.63s\n",
      "769:\tlearn: 0.1467442\ttotal: 12.1s\tremaining: 3.62s\n",
      "770:\tlearn: 0.1466357\ttotal: 12.1s\tremaining: 3.6s\n",
      "771:\tlearn: 0.1465243\ttotal: 12.1s\tremaining: 3.58s\n",
      "772:\tlearn: 0.1464178\ttotal: 12.2s\tremaining: 3.57s\n",
      "773:\tlearn: 0.1462511\ttotal: 12.2s\tremaining: 3.55s\n",
      "774:\tlearn: 0.1461229\ttotal: 12.2s\tremaining: 3.54s\n",
      "775:\tlearn: 0.1459992\ttotal: 12.2s\tremaining: 3.52s\n",
      "776:\tlearn: 0.1458557\ttotal: 12.2s\tremaining: 3.5s\n",
      "777:\tlearn: 0.1457555\ttotal: 12.2s\tremaining: 3.49s\n",
      "778:\tlearn: 0.1455595\ttotal: 12.2s\tremaining: 3.47s\n",
      "779:\tlearn: 0.1454139\ttotal: 12.3s\tremaining: 3.46s\n",
      "780:\tlearn: 0.1452341\ttotal: 12.3s\tremaining: 3.44s\n",
      "781:\tlearn: 0.1449931\ttotal: 12.3s\tremaining: 3.42s\n",
      "782:\tlearn: 0.1448330\ttotal: 12.3s\tremaining: 3.41s\n",
      "783:\tlearn: 0.1446697\ttotal: 12.3s\tremaining: 3.39s\n",
      "784:\tlearn: 0.1445110\ttotal: 12.3s\tremaining: 3.38s\n",
      "785:\tlearn: 0.1443603\ttotal: 12.3s\tremaining: 3.36s\n",
      "786:\tlearn: 0.1442488\ttotal: 12.4s\tremaining: 3.34s\n",
      "787:\tlearn: 0.1441801\ttotal: 12.4s\tremaining: 3.33s\n",
      "788:\tlearn: 0.1439818\ttotal: 12.4s\tremaining: 3.31s\n",
      "789:\tlearn: 0.1438864\ttotal: 12.4s\tremaining: 3.29s\n",
      "790:\tlearn: 0.1437927\ttotal: 12.4s\tremaining: 3.28s\n",
      "791:\tlearn: 0.1436517\ttotal: 12.4s\tremaining: 3.26s\n",
      "792:\tlearn: 0.1435525\ttotal: 12.4s\tremaining: 3.25s\n",
      "793:\tlearn: 0.1434441\ttotal: 12.5s\tremaining: 3.23s\n",
      "794:\tlearn: 0.1431958\ttotal: 12.5s\tremaining: 3.21s\n",
      "795:\tlearn: 0.1430845\ttotal: 12.5s\tremaining: 3.2s\n",
      "796:\tlearn: 0.1429982\ttotal: 12.5s\tremaining: 3.18s\n",
      "797:\tlearn: 0.1429015\ttotal: 12.5s\tremaining: 3.17s\n",
      "798:\tlearn: 0.1426461\ttotal: 12.5s\tremaining: 3.15s\n",
      "799:\tlearn: 0.1425946\ttotal: 12.5s\tremaining: 3.13s\n",
      "800:\tlearn: 0.1424700\ttotal: 12.6s\tremaining: 3.12s\n",
      "801:\tlearn: 0.1423893\ttotal: 12.6s\tremaining: 3.1s\n",
      "802:\tlearn: 0.1422956\ttotal: 12.6s\tremaining: 3.09s\n",
      "803:\tlearn: 0.1421257\ttotal: 12.6s\tremaining: 3.07s\n",
      "804:\tlearn: 0.1420287\ttotal: 12.6s\tremaining: 3.06s\n",
      "805:\tlearn: 0.1419480\ttotal: 12.6s\tremaining: 3.04s\n",
      "806:\tlearn: 0.1419398\ttotal: 12.6s\tremaining: 3.02s\n",
      "807:\tlearn: 0.1417869\ttotal: 12.7s\tremaining: 3.01s\n",
      "808:\tlearn: 0.1416068\ttotal: 12.7s\tremaining: 2.99s\n",
      "809:\tlearn: 0.1415812\ttotal: 12.7s\tremaining: 2.98s\n",
      "810:\tlearn: 0.1414902\ttotal: 12.7s\tremaining: 2.96s\n",
      "811:\tlearn: 0.1414469\ttotal: 12.7s\tremaining: 2.94s\n",
      "812:\tlearn: 0.1412613\ttotal: 12.7s\tremaining: 2.93s\n",
      "813:\tlearn: 0.1411683\ttotal: 12.8s\tremaining: 2.91s\n",
      "814:\tlearn: 0.1410349\ttotal: 12.8s\tremaining: 2.9s\n",
      "815:\tlearn: 0.1410271\ttotal: 12.8s\tremaining: 2.88s\n",
      "816:\tlearn: 0.1408878\ttotal: 12.8s\tremaining: 2.87s\n",
      "817:\tlearn: 0.1408180\ttotal: 12.8s\tremaining: 2.85s\n",
      "818:\tlearn: 0.1407505\ttotal: 12.8s\tremaining: 2.83s\n",
      "819:\tlearn: 0.1406201\ttotal: 12.8s\tremaining: 2.82s\n",
      "820:\tlearn: 0.1404520\ttotal: 12.8s\tremaining: 2.8s\n",
      "821:\tlearn: 0.1402086\ttotal: 12.9s\tremaining: 2.79s\n",
      "822:\tlearn: 0.1401126\ttotal: 12.9s\tremaining: 2.77s\n",
      "823:\tlearn: 0.1400101\ttotal: 12.9s\tremaining: 2.75s\n",
      "824:\tlearn: 0.1400024\ttotal: 12.9s\tremaining: 2.74s\n",
      "825:\tlearn: 0.1398445\ttotal: 12.9s\tremaining: 2.72s\n"
     ]
    },
    {
     "name": "stdout",
     "output_type": "stream",
     "text": [
      "826:\tlearn: 0.1397467\ttotal: 12.9s\tremaining: 2.71s\n",
      "827:\tlearn: 0.1396269\ttotal: 13s\tremaining: 2.69s\n",
      "828:\tlearn: 0.1395733\ttotal: 13s\tremaining: 2.67s\n",
      "829:\tlearn: 0.1394902\ttotal: 13s\tremaining: 2.66s\n",
      "830:\tlearn: 0.1393766\ttotal: 13s\tremaining: 2.64s\n",
      "831:\tlearn: 0.1392205\ttotal: 13s\tremaining: 2.63s\n",
      "832:\tlearn: 0.1391425\ttotal: 13s\tremaining: 2.61s\n",
      "833:\tlearn: 0.1389104\ttotal: 13s\tremaining: 2.6s\n",
      "834:\tlearn: 0.1388129\ttotal: 13.1s\tremaining: 2.58s\n",
      "835:\tlearn: 0.1388054\ttotal: 13.1s\tremaining: 2.56s\n",
      "836:\tlearn: 0.1387040\ttotal: 13.1s\tremaining: 2.55s\n",
      "837:\tlearn: 0.1386269\ttotal: 13.1s\tremaining: 2.53s\n",
      "838:\tlearn: 0.1384790\ttotal: 13.1s\tremaining: 2.52s\n",
      "839:\tlearn: 0.1384689\ttotal: 13.1s\tremaining: 2.5s\n",
      "840:\tlearn: 0.1383147\ttotal: 13.2s\tremaining: 2.49s\n",
      "841:\tlearn: 0.1382306\ttotal: 13.2s\tremaining: 2.47s\n",
      "842:\tlearn: 0.1381055\ttotal: 13.2s\tremaining: 2.46s\n",
      "843:\tlearn: 0.1379797\ttotal: 13.2s\tremaining: 2.44s\n",
      "844:\tlearn: 0.1378658\ttotal: 13.2s\tremaining: 2.42s\n",
      "845:\tlearn: 0.1377391\ttotal: 13.2s\tremaining: 2.41s\n",
      "846:\tlearn: 0.1376288\ttotal: 13.2s\tremaining: 2.39s\n",
      "847:\tlearn: 0.1374693\ttotal: 13.3s\tremaining: 2.38s\n",
      "848:\tlearn: 0.1373826\ttotal: 13.3s\tremaining: 2.36s\n",
      "849:\tlearn: 0.1372311\ttotal: 13.3s\tremaining: 2.35s\n",
      "850:\tlearn: 0.1370319\ttotal: 13.3s\tremaining: 2.33s\n",
      "851:\tlearn: 0.1370254\ttotal: 13.3s\tremaining: 2.31s\n",
      "852:\tlearn: 0.1370191\ttotal: 13.3s\tremaining: 2.3s\n",
      "853:\tlearn: 0.1368437\ttotal: 13.3s\tremaining: 2.28s\n",
      "854:\tlearn: 0.1367793\ttotal: 13.4s\tremaining: 2.27s\n",
      "855:\tlearn: 0.1366381\ttotal: 13.4s\tremaining: 2.25s\n",
      "856:\tlearn: 0.1365080\ttotal: 13.4s\tremaining: 2.23s\n",
      "857:\tlearn: 0.1364534\ttotal: 13.4s\tremaining: 2.22s\n",
      "858:\tlearn: 0.1363385\ttotal: 13.4s\tremaining: 2.2s\n",
      "859:\tlearn: 0.1362306\ttotal: 13.4s\tremaining: 2.19s\n",
      "860:\tlearn: 0.1361189\ttotal: 13.5s\tremaining: 2.17s\n",
      "861:\tlearn: 0.1360087\ttotal: 13.5s\tremaining: 2.16s\n",
      "862:\tlearn: 0.1359390\ttotal: 13.5s\tremaining: 2.14s\n",
      "863:\tlearn: 0.1358490\ttotal: 13.5s\tremaining: 2.13s\n",
      "864:\tlearn: 0.1356699\ttotal: 13.5s\tremaining: 2.11s\n",
      "865:\tlearn: 0.1355366\ttotal: 13.5s\tremaining: 2.1s\n",
      "866:\tlearn: 0.1353944\ttotal: 13.6s\tremaining: 2.08s\n",
      "867:\tlearn: 0.1352460\ttotal: 13.6s\tremaining: 2.06s\n",
      "868:\tlearn: 0.1351480\ttotal: 13.6s\tremaining: 2.05s\n",
      "869:\tlearn: 0.1350584\ttotal: 13.6s\tremaining: 2.03s\n",
      "870:\tlearn: 0.1349913\ttotal: 13.6s\tremaining: 2.02s\n",
      "871:\tlearn: 0.1349386\ttotal: 13.6s\tremaining: 2s\n",
      "872:\tlearn: 0.1347474\ttotal: 13.7s\tremaining: 1.99s\n",
      "873:\tlearn: 0.1346955\ttotal: 13.7s\tremaining: 1.97s\n",
      "874:\tlearn: 0.1345502\ttotal: 13.7s\tremaining: 1.96s\n",
      "875:\tlearn: 0.1344792\ttotal: 13.7s\tremaining: 1.94s\n",
      "876:\tlearn: 0.1343220\ttotal: 13.7s\tremaining: 1.93s\n",
      "877:\tlearn: 0.1342365\ttotal: 13.7s\tremaining: 1.91s\n",
      "878:\tlearn: 0.1341264\ttotal: 13.8s\tremaining: 1.9s\n",
      "879:\tlearn: 0.1341203\ttotal: 13.8s\tremaining: 1.88s\n",
      "880:\tlearn: 0.1340318\ttotal: 13.8s\tremaining: 1.86s\n",
      "881:\tlearn: 0.1338996\ttotal: 13.8s\tremaining: 1.85s\n",
      "882:\tlearn: 0.1338125\ttotal: 13.8s\tremaining: 1.83s\n",
      "883:\tlearn: 0.1337077\ttotal: 13.8s\tremaining: 1.81s\n",
      "884:\tlearn: 0.1335740\ttotal: 13.9s\tremaining: 1.8s\n",
      "885:\tlearn: 0.1334522\ttotal: 13.9s\tremaining: 1.78s\n",
      "886:\tlearn: 0.1332950\ttotal: 13.9s\tremaining: 1.77s\n",
      "887:\tlearn: 0.1332297\ttotal: 13.9s\tremaining: 1.75s\n",
      "888:\tlearn: 0.1330929\ttotal: 13.9s\tremaining: 1.74s\n",
      "889:\tlearn: 0.1330004\ttotal: 13.9s\tremaining: 1.72s\n",
      "890:\tlearn: 0.1328148\ttotal: 13.9s\tremaining: 1.71s\n",
      "891:\tlearn: 0.1326986\ttotal: 14s\tremaining: 1.69s\n",
      "892:\tlearn: 0.1326118\ttotal: 14s\tremaining: 1.68s\n",
      "893:\tlearn: 0.1326058\ttotal: 14s\tremaining: 1.66s\n",
      "894:\tlearn: 0.1324816\ttotal: 14s\tremaining: 1.64s\n",
      "895:\tlearn: 0.1323424\ttotal: 14s\tremaining: 1.63s\n",
      "896:\tlearn: 0.1322392\ttotal: 14s\tremaining: 1.61s\n",
      "897:\tlearn: 0.1322316\ttotal: 14.1s\tremaining: 1.6s\n",
      "898:\tlearn: 0.1321226\ttotal: 14.1s\tremaining: 1.58s\n",
      "899:\tlearn: 0.1319955\ttotal: 14.1s\tremaining: 1.56s\n",
      "900:\tlearn: 0.1319256\ttotal: 14.1s\tremaining: 1.55s\n",
      "901:\tlearn: 0.1319179\ttotal: 14.1s\tremaining: 1.53s\n",
      "902:\tlearn: 0.1318158\ttotal: 14.1s\tremaining: 1.52s\n",
      "903:\tlearn: 0.1316860\ttotal: 14.1s\tremaining: 1.5s\n",
      "904:\tlearn: 0.1314748\ttotal: 14.2s\tremaining: 1.49s\n",
      "905:\tlearn: 0.1313872\ttotal: 14.2s\tremaining: 1.47s\n",
      "906:\tlearn: 0.1312885\ttotal: 14.2s\tremaining: 1.45s\n",
      "907:\tlearn: 0.1311903\ttotal: 14.2s\tremaining: 1.44s\n",
      "908:\tlearn: 0.1310717\ttotal: 14.2s\tremaining: 1.42s\n",
      "909:\tlearn: 0.1310015\ttotal: 14.2s\tremaining: 1.41s\n",
      "910:\tlearn: 0.1309269\ttotal: 14.3s\tremaining: 1.39s\n",
      "911:\tlearn: 0.1307645\ttotal: 14.3s\tremaining: 1.38s\n",
      "912:\tlearn: 0.1306374\ttotal: 14.3s\tremaining: 1.36s\n",
      "913:\tlearn: 0.1305073\ttotal: 14.3s\tremaining: 1.35s\n",
      "914:\tlearn: 0.1304053\ttotal: 14.3s\tremaining: 1.33s\n",
      "915:\tlearn: 0.1302368\ttotal: 14.3s\tremaining: 1.31s\n",
      "916:\tlearn: 0.1301598\ttotal: 14.3s\tremaining: 1.3s\n",
      "917:\tlearn: 0.1300617\ttotal: 14.4s\tremaining: 1.28s\n",
      "918:\tlearn: 0.1299992\ttotal: 14.4s\tremaining: 1.27s\n",
      "919:\tlearn: 0.1298485\ttotal: 14.4s\tremaining: 1.25s\n",
      "920:\tlearn: 0.1297573\ttotal: 14.4s\tremaining: 1.24s\n",
      "921:\tlearn: 0.1297002\ttotal: 14.4s\tremaining: 1.22s\n",
      "922:\tlearn: 0.1296403\ttotal: 14.4s\tremaining: 1.21s\n",
      "923:\tlearn: 0.1295361\ttotal: 14.5s\tremaining: 1.19s\n",
      "924:\tlearn: 0.1294539\ttotal: 14.5s\tremaining: 1.17s\n",
      "925:\tlearn: 0.1293895\ttotal: 14.5s\tremaining: 1.16s\n",
      "926:\tlearn: 0.1292798\ttotal: 14.5s\tremaining: 1.14s\n",
      "927:\tlearn: 0.1291668\ttotal: 14.5s\tremaining: 1.13s\n",
      "928:\tlearn: 0.1290739\ttotal: 14.5s\tremaining: 1.11s\n",
      "929:\tlearn: 0.1289771\ttotal: 14.6s\tremaining: 1.09s\n",
      "930:\tlearn: 0.1289031\ttotal: 14.6s\tremaining: 1.08s\n",
      "931:\tlearn: 0.1288091\ttotal: 14.6s\tremaining: 1.06s\n",
      "932:\tlearn: 0.1287416\ttotal: 14.6s\tremaining: 1.05s\n",
      "933:\tlearn: 0.1285777\ttotal: 14.6s\tremaining: 1.03s\n",
      "934:\tlearn: 0.1284647\ttotal: 14.6s\tremaining: 1.02s\n",
      "935:\tlearn: 0.1283051\ttotal: 14.7s\tremaining: 1s\n",
      "936:\tlearn: 0.1282228\ttotal: 14.7s\tremaining: 987ms\n",
      "937:\tlearn: 0.1281176\ttotal: 14.7s\tremaining: 973ms\n",
      "938:\tlearn: 0.1279204\ttotal: 14.7s\tremaining: 958ms\n",
      "939:\tlearn: 0.1278601\ttotal: 14.8s\tremaining: 943ms\n",
      "940:\tlearn: 0.1277658\ttotal: 14.8s\tremaining: 927ms\n",
      "941:\tlearn: 0.1276743\ttotal: 14.8s\tremaining: 912ms\n",
      "942:\tlearn: 0.1275720\ttotal: 14.8s\tremaining: 896ms\n",
      "943:\tlearn: 0.1274803\ttotal: 14.8s\tremaining: 881ms\n",
      "944:\tlearn: 0.1274335\ttotal: 14.9s\tremaining: 865ms\n",
      "945:\tlearn: 0.1272885\ttotal: 14.9s\tremaining: 849ms\n",
      "946:\tlearn: 0.1270967\ttotal: 14.9s\tremaining: 834ms\n",
      "947:\tlearn: 0.1269758\ttotal: 14.9s\tremaining: 818ms\n",
      "948:\tlearn: 0.1268716\ttotal: 14.9s\tremaining: 802ms\n",
      "949:\tlearn: 0.1267981\ttotal: 14.9s\tremaining: 786ms\n",
      "950:\tlearn: 0.1267325\ttotal: 15s\tremaining: 771ms\n",
      "951:\tlearn: 0.1265915\ttotal: 15s\tremaining: 755ms\n",
      "952:\tlearn: 0.1264756\ttotal: 15s\tremaining: 739ms\n",
      "953:\tlearn: 0.1263745\ttotal: 15s\tremaining: 723ms\n",
      "954:\tlearn: 0.1262710\ttotal: 15s\tremaining: 708ms\n",
      "955:\tlearn: 0.1261565\ttotal: 15s\tremaining: 692ms\n",
      "956:\tlearn: 0.1260697\ttotal: 15s\tremaining: 676ms\n",
      "957:\tlearn: 0.1259655\ttotal: 15.1s\tremaining: 660ms\n",
      "958:\tlearn: 0.1258456\ttotal: 15.1s\tremaining: 644ms\n",
      "959:\tlearn: 0.1257646\ttotal: 15.1s\tremaining: 629ms\n",
      "960:\tlearn: 0.1257081\ttotal: 15.1s\tremaining: 613ms\n",
      "961:\tlearn: 0.1256798\ttotal: 15.1s\tremaining: 597ms\n",
      "962:\tlearn: 0.1256053\ttotal: 15.1s\tremaining: 582ms\n",
      "963:\tlearn: 0.1254921\ttotal: 15.2s\tremaining: 566ms\n",
      "964:\tlearn: 0.1253704\ttotal: 15.2s\tremaining: 550ms\n",
      "965:\tlearn: 0.1253581\ttotal: 15.2s\tremaining: 535ms\n",
      "966:\tlearn: 0.1252799\ttotal: 15.2s\tremaining: 519ms\n",
      "967:\tlearn: 0.1252692\ttotal: 15.2s\tremaining: 503ms\n",
      "968:\tlearn: 0.1252033\ttotal: 15.2s\tremaining: 487ms\n",
      "969:\tlearn: 0.1251072\ttotal: 15.3s\tremaining: 472ms\n",
      "970:\tlearn: 0.1249568\ttotal: 15.3s\tremaining: 456ms\n",
      "971:\tlearn: 0.1247181\ttotal: 15.3s\tremaining: 440ms\n",
      "972:\tlearn: 0.1246465\ttotal: 15.3s\tremaining: 425ms\n",
      "973:\tlearn: 0.1245138\ttotal: 15.3s\tremaining: 409ms\n",
      "974:\tlearn: 0.1245031\ttotal: 15.3s\tremaining: 393ms\n",
      "975:\tlearn: 0.1243986\ttotal: 15.4s\tremaining: 378ms\n",
      "976:\tlearn: 0.1243220\ttotal: 15.4s\tremaining: 362ms\n",
      "977:\tlearn: 0.1242847\ttotal: 15.4s\tremaining: 346ms\n",
      "978:\tlearn: 0.1242290\ttotal: 15.4s\tremaining: 330ms\n",
      "979:\tlearn: 0.1241116\ttotal: 15.4s\tremaining: 315ms\n",
      "980:\tlearn: 0.1239408\ttotal: 15.4s\tremaining: 299ms\n",
      "981:\tlearn: 0.1238361\ttotal: 15.4s\tremaining: 283ms\n",
      "982:\tlearn: 0.1237002\ttotal: 15.5s\tremaining: 267ms\n",
      "983:\tlearn: 0.1235570\ttotal: 15.5s\tremaining: 252ms\n",
      "984:\tlearn: 0.1235222\ttotal: 15.5s\tremaining: 236ms\n"
     ]
    },
    {
     "name": "stdout",
     "output_type": "stream",
     "text": [
      "985:\tlearn: 0.1234803\ttotal: 15.5s\tremaining: 220ms\n",
      "986:\tlearn: 0.1233970\ttotal: 15.5s\tremaining: 205ms\n",
      "987:\tlearn: 0.1233307\ttotal: 15.5s\tremaining: 189ms\n",
      "988:\tlearn: 0.1231666\ttotal: 15.6s\tremaining: 173ms\n",
      "989:\tlearn: 0.1230905\ttotal: 15.6s\tremaining: 157ms\n",
      "990:\tlearn: 0.1229291\ttotal: 15.6s\tremaining: 142ms\n",
      "991:\tlearn: 0.1228585\ttotal: 15.6s\tremaining: 126ms\n",
      "992:\tlearn: 0.1227983\ttotal: 15.6s\tremaining: 110ms\n",
      "993:\tlearn: 0.1226464\ttotal: 15.6s\tremaining: 94.4ms\n",
      "994:\tlearn: 0.1225531\ttotal: 15.7s\tremaining: 78.7ms\n",
      "995:\tlearn: 0.1224746\ttotal: 15.7s\tremaining: 62.9ms\n",
      "996:\tlearn: 0.1224052\ttotal: 15.7s\tremaining: 47.2ms\n",
      "997:\tlearn: 0.1223191\ttotal: 15.7s\tremaining: 31.5ms\n",
      "998:\tlearn: 0.1220745\ttotal: 15.7s\tremaining: 15.7ms\n",
      "999:\tlearn: 0.1219186\ttotal: 15.7s\tremaining: 0us\n"
     ]
    },
    {
     "data": {
      "text/plain": [
       "<catboost.core.CatBoostRegressor at 0x182244b8288>"
      ]
     },
     "execution_count": 191,
     "metadata": {},
     "output_type": "execute_result"
    }
   ],
   "source": [
    "cb_reg = CatBoostRegressor()\n",
    "cb_reg.fit(X_train, y_train)"
   ]
  },
  {
   "cell_type": "code",
   "execution_count": 194,
   "metadata": {},
   "outputs": [],
   "source": [
    "y_pred = cb_reg.predict(X_test)"
   ]
  },
  {
   "cell_type": "code",
   "execution_count": 195,
   "metadata": {},
   "outputs": [
    {
     "data": {
      "text/plain": [
       "0.32723266772542975"
      ]
     },
     "execution_count": 195,
     "metadata": {},
     "output_type": "execute_result"
    }
   ],
   "source": [
    "np.sqrt(mean_squared_error(y_test,y_pred))"
   ]
  },
  {
   "cell_type": "code",
   "execution_count": 199,
   "metadata": {},
   "outputs": [],
   "source": [
    "cb_reg_params = {'learning_rate':[0.1,0.2,0.3],\n",
    "    'depth':[3,5,10]}"
   ]
  },
  {
   "cell_type": "code",
   "execution_count": null,
   "metadata": {},
   "outputs": [
    {
     "name": "stdout",
     "output_type": "stream",
     "text": [
      "Fitting 10 folds for each of 9 candidates, totalling 90 fits\n"
     ]
    },
    {
     "name": "stderr",
     "output_type": "stream",
     "text": [
      "[Parallel(n_jobs=-1)]: Using backend LokyBackend with 8 concurrent workers.\n",
      "[Parallel(n_jobs=-1)]: Done  25 tasks      | elapsed:  3.2min\n"
     ]
    }
   ],
   "source": [
    "cb_reg_cv_model = GridSearchCV(cb_reg, cb_reg_params, cv=10,\n",
    "                           n_jobs=-1,\n",
    "                           verbose=2).fit(X_train,y_train)"
   ]
  },
  {
   "cell_type": "code",
   "execution_count": 187,
   "metadata": {},
   "outputs": [
    {
     "data": {
      "text/plain": [
       "{'metric': 'manhattan', 'n_neighbors': 3}"
      ]
     },
     "execution_count": 187,
     "metadata": {},
     "output_type": "execute_result"
    }
   ],
   "source": [
    "cb_reg_cv_model.best_params_"
   ]
  },
  {
   "cell_type": "code",
   "execution_count": 188,
   "metadata": {},
   "outputs": [],
   "source": [
    "cb_reg_tuned=CatBoostRegressor(metric= 'manhattan', n_neighbors= 3).fit(X_train, y_train)"
   ]
  },
  {
   "cell_type": "code",
   "execution_count": null,
   "metadata": {},
   "outputs": [],
   "source": [
    "y_pred = cb_reg_tuned.predict(X_test)"
   ]
  },
  {
   "cell_type": "code",
   "execution_count": null,
   "metadata": {},
   "outputs": [],
   "source": [
    "np.sqrt(mean_squared_error(y_test,y_pred))"
   ]
  },
  {
   "cell_type": "markdown",
   "metadata": {},
   "source": [
    "# K-Means"
   ]
  },
  {
   "cell_type": "code",
   "execution_count": 112,
   "metadata": {},
   "outputs": [],
   "source": [
    "kmeans = KMeans(n_clusters=4)\n",
    "kmeans\n",
    "k_fit = kmeans.fit(X)"
   ]
  },
  {
   "cell_type": "code",
   "execution_count": 122,
   "metadata": {},
   "outputs": [
    {
     "data": {
      "text/plain": [
       "<matplotlib.collections.PathCollection at 0x182220f0c88>"
      ]
     },
     "execution_count": 122,
     "metadata": {},
     "output_type": "execute_result"
    },
    {
     "data": {
      "image/png": "[encoded data removed]",
      "text/plain": [
       "<Figure size 432x288 with 1 Axes>"
      ]
     },
     "metadata": {
      "needs_background": "light"
     },
     "output_type": "display_data"
    }
   ],
   "source": [
    "kumeler = k_fit.labels_\n",
    "plt.scatter(X.iloc[:,0], X.iloc[:,1], c = kumeler, s = 50, cmap = \"viridis\")\n",
    "merkezler = k_fit.cluster_centers_\n",
    "plt.scatter(merkezler[:,0], merkezler[:,1], c = \"black\", s = 200, alpha = 0.5)"
   ]
  },
  {
   "cell_type": "code",
   "execution_count": 119,
   "metadata": {},
   "outputs": [
    {
     "data": {
      "text/plain": [
       "array([[-2.41409063e+01, -2.23798883e+01,  2.45677042e+01,\n",
       "         8.09701162e+01, -5.64024120e+01,  3.46460211e+01,\n",
       "        -1.02706435e+02,  1.33113284e+01,  1.31099690e+01,\n",
       "         1.28017132e+01,  1.24974053e+01,  1.13474472e+01,\n",
       "        -7.97268777e+00, -1.64382371e+01, -8.44692737e+00,\n",
       "        -5.37467412e+01,  7.77653631e+00,  2.81822008e-03,\n",
       "        -2.49048102e-03,  1.63868948e-04, -2.56155597e+01,\n",
       "        -6.75764511e+01, -1.03691258e+02, -1.20835289e+02,\n",
       "        -1.32465437e+02, -1.47294338e+02, -1.51698670e+02,\n",
       "        -1.48482185e+02, -1.36207965e+02, -1.27864839e+02,\n",
       "        -3.58027586e+01,  3.93109870e+00, -2.51278804e+01,\n",
       "         2.45996276e+00,  5.86095593e+00,  1.08212291e+01,\n",
       "         1.51887027e+01,  1.87330850e+01,  2.39478585e+01,\n",
       "         2.81049038e+01,  3.19130975e+01,  4.51564246e+01,\n",
       "         5.18926133e+01,  6.61390441e+00, -1.21489758e+01,\n",
       "        -1.25257604e+01,  5.01489758e+00,  3.92923650e+00,\n",
       "        -1.22036002e+01, -1.18665425e+01,  2.83736809e+00,\n",
       "         2.24705152e+00, -1.13103662e+01, -1.07858473e+01,\n",
       "        -1.03538175e+01,  7.15083799e-01, -6.82805711e+00,\n",
       "         9.88224904e-05, -5.37712605e+00, -2.81073772e+01,\n",
       "         8.22780881e+00, -2.22223417e-03,  1.50465549e+00,\n",
       "         1.33525760e+01,  3.39515829e+01,  4.95723153e+01,\n",
       "         5.83358163e+01, -3.59962756e+00, -3.02607076e+00,\n",
       "         3.26296253e+01,  3.80083836e+01, -2.70582262e-01,\n",
       "         2.95558299e+01,  3.68459726e+01,  4.21428186e+01,\n",
       "         4.71958972e+01, -3.09080706e+00, -3.90778492e+00,\n",
       "        -4.33689866e+00, -3.28824853e+00, -2.91053383e+00,\n",
       "        -3.27169460e+00,  3.01884418e+01,  1.92498871e+01,\n",
       "         2.94957211e+01,  1.32091868e+00,  6.00501292e-03,\n",
       "         1.23087527e+00,  2.43263004e-05,  5.31183493e+01,\n",
       "         9.63504519e-05,  9.76967305e+01,  1.17844617e+00,\n",
       "        -2.68440613e-05, -4.29187024e-01,  9.03440122e+01,\n",
       "         1.09201049e+00, -6.12907298e-01,  6.44343857e+01,\n",
       "         7.84138578e-01,  4.77356741e+01, -2.08804469e-05,\n",
       "         1.26870651e+01, -9.12153419e-02,  6.58776487e+00,\n",
       "        -6.23426443e-06,  4.19220153e-02, -1.95635019e-03,\n",
       "         3.13402190e-20, -1.01481323e-16, -2.22044605e-15,\n",
       "         3.95987903e-20, -1.22124533e-15,  4.24660307e-15,\n",
       "        -8.02316094e+01,  2.46736948e+01,  1.83410560e+00,\n",
       "        -1.43989932e-03, -2.19314923e-03,  2.17121438e-03,\n",
       "         3.38839230e+01,  6.27250155e+00,  1.40571074e+01,\n",
       "        -2.96493954e-03,  5.42775916e+01, -1.01346989e+00,\n",
       "        -1.05853507e+01,  2.63733367e-01,  2.67944509e-01,\n",
       "         3.42864368e-01, -5.77783967e-01, -2.38420837e+00,\n",
       "        -2.68289967e+00,  2.04220981e-01,  7.95779019e-01],\n",
       "       [ 2.16664817e+01,  2.03679245e+01,  7.72633582e+01,\n",
       "         2.27842080e+01,  5.44791502e+01,  6.35009276e+01,\n",
       "         4.02539549e+01,  1.24688402e+01,  1.24504661e+01,\n",
       "         1.23440011e+01,  1.22364595e+01,  1.20977816e+01,\n",
       "         7.22918979e+00,  1.54117647e+01,  8.19533851e+00,\n",
       "        -8.51109878e+00,  4.82663707e+01,  2.30458704e-03,\n",
       "        -2.59071784e-03, -1.43065310e-04,  2.45283019e+01,\n",
       "         6.11993691e+01,  9.52552296e+01,  1.11738869e+02,\n",
       "         1.20856677e+02,  1.30830593e+02,  1.32236631e+02,\n",
       "         1.29552672e+02,  1.18594102e+02,  1.04952100e+02,\n",
       "         3.22908947e+01,  3.15538291e+00,  2.16909682e+01,\n",
       "        -2.01664817e+00, -4.85682575e+00, -8.96670366e+00,\n",
       "        -1.29328524e+01, -1.63618202e+01, -2.21687014e+01,\n",
       "        -2.66659267e+01, -3.07075472e+01, -4.32502775e+01,\n",
       "        -4.81143174e+01, -5.59322974e+00,  1.05538291e+01,\n",
       "         1.11831299e+01, -4.28967814e+00, -3.45283019e+00,\n",
       "         1.19167592e+01,  1.18296337e+01, -2.57602664e+00,\n",
       "        -2.06936737e+00,  1.12219756e+01,  1.05527192e+01,\n",
       "         9.80410655e+00, -5.82130966e-01,  6.49500555e+00,\n",
       "         4.48625411e-05,  4.56982767e+00,  2.51586330e+01,\n",
       "        -6.51276360e+00,  2.01185655e-03, -1.27691454e+00,\n",
       "        -1.12702553e+01, -3.04433962e+01, -4.59883463e+01,\n",
       "        -5.15027747e+01,  2.89289678e+00,  2.52441731e+00,\n",
       "         6.54692774e+01,  6.03809116e+01,  2.33696545e-01,\n",
       "         6.82209429e+01,  6.15492909e+01,  5.67502710e+01,\n",
       "         5.20127804e+01,  2.64054725e+00,  3.56095416e+00,\n",
       "         2.96431779e+00,  2.46040947e+00,  2.59466149e+00,\n",
       "         2.83047725e+00,  6.75171805e+01,  7.87797757e+01,\n",
       "         6.90017779e+01,  6.35405105e-01,  5.42024064e-03,\n",
       "         1.15293256e+00,  2.20243274e-05,  5.65833191e+01,\n",
       "         4.13046171e-05,  7.72309651e+01,  9.34838637e-01,\n",
       "        -3.50891784e-05, -4.42294691e-01,  9.81506938e+01,\n",
       "         1.19192479e+00, -7.61070071e-01,  9.41612123e+01,\n",
       "         1.14507520e+00,  8.80420085e+01, -1.36184030e-04,\n",
       "         3.44716693e+01, -2.41325345e-01,  2.63122162e+01,\n",
       "        -4.72273030e-05,  2.43205838e-01, -3.44998815e-02,\n",
       "        -1.31165372e-05, -1.16871619e-02,  2.17790693e+00,\n",
       "        -3.84739179e-06,  8.87898799e-01,  4.98595806e-01,\n",
       "        -2.18889975e+01, -2.18244153e+01, -2.14067365e+00,\n",
       "         1.26708803e-03,  2.01259346e-03, -1.99246910e-03,\n",
       "        -2.99594895e+01, -5.28024417e+00, -1.18651498e+01,\n",
       "         3.76771777e-03,  1.08751942e+01, -1.65596004e+01,\n",
       "        -5.02130966e+01,  6.94401913e-01,  7.14421912e-01,\n",
       "         6.36918696e-01,  1.15797360e+00,  2.44367723e+00,\n",
       "         1.33997633e+00,  7.69700333e-01,  2.30299667e-01],\n",
       "       [ 4.54598177e+00,  6.45898923e+00,  4.05906024e+01,\n",
       "         5.09468576e+01, -1.03562552e+01,  4.86416978e+01,\n",
       "        -9.37756908e+00,  1.09557581e+01,  1.09218724e+01,\n",
       "         1.10112510e+01,  1.11428335e+01,  1.17513753e+01,\n",
       "         2.11019056e+00,  7.61723281e+00,  5.51284176e+00,\n",
       "        -2.60207125e+01,  1.46735708e+01,  2.07374920e-03,\n",
       "        -1.70930186e-03,  1.82218881e-04, -2.83347142e+01,\n",
       "        -6.75052805e+01, -7.70179000e+01, -6.49316405e+01,\n",
       "        -4.91940685e+01, -2.01969501e+01, -9.35490557e-01,\n",
       "         1.13094197e+01,  3.65948642e+01,  3.76976602e+01,\n",
       "        -8.03867621e+00,  3.81772991e+00, -5.08139714e+00,\n",
       "         1.92212096e+00,  4.40596520e+00,  6.43993372e+00,\n",
       "         6.97845899e+00,  6.21292461e+00,  2.98342999e+00,\n",
       "        -6.37945319e-01, -3.42170671e+00, -1.48351284e+01,\n",
       "        -2.04067937e+01,  4.06793703e+00, -8.83264292e+00,\n",
       "        -7.80033140e+00,  1.32477216e+00,  1.73985087e-01,\n",
       "        -6.57829329e-01,  1.16570008e+00, -4.85501243e-01,\n",
       "        -6.52858326e-01,  4.48632974e+00,  5.19304060e+00,\n",
       "         5.34548467e+00, -3.41342171e-01,  4.43413422e+00,\n",
       "        -6.08541185e-05, -3.48295619e+00,  1.30078670e+00,\n",
       "         1.01342171e+01,  3.32063523e-04,  1.10273405e+00,\n",
       "         6.56752278e+00, -1.54598177e+00, -1.58500414e+01,\n",
       "        -2.43819387e+01, -2.44821872e+00, -2.19304060e+00,\n",
       "         4.58437093e+01,  5.38559038e+01, -4.75463711e-02,\n",
       "         3.88519052e+01,  5.04839730e+01,  5.20134721e+01,\n",
       "         5.09948643e+01, -4.87596985e-01, -3.40567679e+00,\n",
       "        -3.38224594e+00, -1.49502025e+00, -1.30810273e+00,\n",
       "        -1.76792046e+00,  3.09731291e+01,  3.39214673e+01,\n",
       "         1.96295992e+01,  8.27671914e-01,  7.39749750e-03,\n",
       "         1.20793406e+00,  3.01182477e-05,  5.74402339e+01,\n",
       "         6.39965203e-05,  8.66426293e+01,  1.04953775e+00,\n",
       "        -3.12308906e-05, -4.44913949e-01,  9.84023718e+01,\n",
       "         1.19395109e+00, -7.31120012e-01,  9.27614231e+01,\n",
       "         1.12765526e+00,  8.78975802e+01, -9.77555095e-05,\n",
       "         3.43015549e+01, -2.61906087e-01,  2.24118627e+01,\n",
       "        -2.78329743e-05,  1.78969674e-01, -2.09195463e-02,\n",
       "        -1.13040597e-05, -1.51491204e-02,  2.87591647e+00,\n",
       "         2.03287907e-20,  3.16413562e-15,  3.63598041e-15,\n",
       "        -6.70766931e+01,  3.22825084e+00,  2.09770560e+00,\n",
       "         6.81958898e-05, -4.00460410e-03,  3.96456418e-03,\n",
       "         7.19138360e-01,  4.27257664e+00,  7.51118476e+00,\n",
       "         1.67687448e-03,  2.87771334e+01, -6.25691798e+00,\n",
       "        -1.93678542e+01,  2.67218597e-01,  4.14336642e-01,\n",
       "         5.37204449e-01, -2.96607825e-01, -4.01449280e+00,\n",
       "        -3.76952656e+00,  2.00497100e-01,  7.99502900e-01],\n",
       "       [-6.84680026e+00, -8.66192631e+00,  4.56459507e+01,\n",
       "         4.18921415e+01,  3.75380922e+00,  4.92850049e+01,\n",
       "        -6.35619037e+00,  9.99208145e+00,  1.02578410e+01,\n",
       "         1.06325016e+01,  1.09671062e+01,  1.17873610e+01,\n",
       "        -2.83322560e+00, -9.66127990e+00, -6.82223659e+00,\n",
       "        -1.73451842e+01,  2.36729153e+01,  1.59465644e-03,\n",
       "        -2.08063804e-03, -2.42990599e-04,  2.43912950e+01,\n",
       "         5.53946503e+01,  6.34777016e+01,  5.07316868e+01,\n",
       "         3.44459235e+01,  4.44346624e+00, -1.60690995e+01,\n",
       "        -2.97879523e+01, -5.82455549e+01, -6.75381446e+01,\n",
       "         5.37412123e+00,  3.17776341e+00,  5.95386239e-01,\n",
       "        -1.54751131e+00, -3.48610213e+00, -5.05559147e+00,\n",
       "        -5.01486749e+00, -3.93018746e+00,  6.14091791e-02,\n",
       "         4.12669683e+00,  7.91855204e+00,  2.30071105e+01,\n",
       "         3.18151261e+01, -3.14027149e+00,  6.61603103e+00,\n",
       "         6.16936005e+00, -8.26761474e-01,  2.26244344e-01,\n",
       "        -8.79767292e-01, -4.30639948e+00,  8.75242405e-01,\n",
       "         1.02068520e+00, -8.20814480e+00, -8.95087266e+00,\n",
       "        -8.97866839e+00,  5.49450549e-01, -5.63671622e+00,\n",
       "        -1.07052364e-04,  2.64000816e+00, -4.57831828e+00,\n",
       "        -8.90885585e+00, -6.18611237e-04, -8.50678733e-01,\n",
       "        -4.91144150e+00,  5.53910795e+00,  2.54298643e+01,\n",
       "         3.90439560e+01,  2.08338720e+00,  1.67614738e+00,\n",
       "         5.25222655e+01,  4.46440771e+01,  1.95536856e-02,\n",
       "         5.82680075e+01,  4.75348610e+01,  4.62829250e+01,\n",
       "         4.80547261e+01,  3.10914787e-01,  2.39978999e+00,\n",
       "         3.46844984e+00,  1.39132192e+00,  8.19786684e-01,\n",
       "         1.28549451e+00,  6.64564913e+01,  6.38930457e+01,\n",
       "         7.85904711e+01,  1.18034906e+00,  5.87586643e-03,\n",
       "         1.23131865e+00,  2.38567550e-05,  5.43201288e+01,\n",
       "         8.29272786e-05,  9.96738136e+01,  1.20344381e+00,\n",
       "        -3.62179162e-05, -3.75757318e-01,  9.40701438e+01,\n",
       "         1.13706708e+00, -5.93654983e-01,  7.22488317e+01,\n",
       "         8.77221481e-01,  5.17930725e+01, -3.84632838e-05,\n",
       "         1.83548514e+01, -8.59615452e-02,  7.81933742e+00,\n",
       "        -5.83122172e-06,  4.04065802e-02, -3.80427230e-04,\n",
       "        -1.04072398e-07, -7.63035863e-05,  4.47516285e-02,\n",
       "         3.72694497e-20, -6.66133815e-16,  4.16333634e-15,\n",
       "        -3.50736890e+01, -7.65939977e-01, -1.10087274e+00,\n",
       "        -1.83151394e-04,  3.07958671e-03, -3.04879539e-03,\n",
       "         2.97996122e+00, -3.31932773e+00, -5.72139625e+00,\n",
       "        -1.71718509e-03,  2.20861668e+01, -8.87666451e+00,\n",
       "        -2.76599871e+01,  6.62533347e-01,  5.51503195e-01,\n",
       "         4.35950440e-01, -7.43373729e-01, -8.81743080e+00,\n",
       "        -9.04118853e+00,  7.58888171e-01,  2.41111829e-01]])"
      ]
     },
     "execution_count": 119,
     "metadata": {},
     "output_type": "execute_result"
    }
   ],
   "source": [
    "k_fit.cluster_centers_"
   ]
  },
  {
   "cell_type": "code",
   "execution_count": 125,
   "metadata": {},
   "outputs": [
    {
     "data": {
      "text/plain": [
       "array([36.05, 48.28, 54.26, 58.58, 61.65, 64.57, 67.2 , 69.17, 70.96,\n",
       "       72.63, 74.18, 75.62, 76.99, 78.31, 79.52, 80.66, 81.75, 82.82,\n",
       "       83.73, 84.56, 85.38, 86.15, 86.83, 87.51, 88.15, 88.76, 89.33,\n",
       "       89.89, 90.43, 90.92, 91.39, 91.83, 92.25, 92.64, 93.02, 93.38,\n",
       "       93.73, 94.05, 94.36, 94.66, 94.95, 95.22, 95.48, 95.72, 95.94,\n",
       "       96.16, 96.37, 96.57, 96.76, 96.93, 97.09, 97.25, 97.39, 97.53,\n",
       "       97.66, 97.79, 97.91, 98.03, 98.13, 98.23, 98.32, 98.41, 98.49,\n",
       "       98.57, 98.65, 98.73, 98.8 , 98.87, 98.94, 99.  , 99.06, 99.12,\n",
       "       99.17, 99.22, 99.27, 99.31, 99.35, 99.39, 99.43, 99.47, 99.5 ,\n",
       "       99.53, 99.56, 99.59, 99.62, 99.65, 99.68, 99.71, 99.73, 99.75,\n",
       "       99.77, 99.79, 99.81, 99.83, 99.85, 99.86, 99.87, 99.88, 99.89,\n",
       "       99.9 , 99.91, 99.92, 99.93, 99.94, 99.95, 99.96, 99.97, 99.97,\n",
       "       99.97, 99.97, 99.97, 99.97, 99.97, 99.97, 99.97, 99.97, 99.97,\n",
       "       99.97, 99.97, 99.97, 99.97, 99.97, 99.97, 99.97, 99.97, 99.97,\n",
       "       99.97, 99.97, 99.97, 99.97, 99.97, 99.97, 99.97, 99.97, 99.97])"
      ]
     },
     "execution_count": 125,
     "metadata": {},
     "output_type": "execute_result"
    }
   ],
   "source": [
    "pca = PCA()\n",
    "X_reduced_train = pca.fit_transform(scale(X_train))\n",
    "np.cumsum(np.round(pca.explained_variance_ratio_, decimals=4)*100)"
   ]
  },
  {
   "cell_type": "code",
   "execution_count": 126,
   "metadata": {},
   "outputs": [
    {
     "data": {
      "text/plain": [
       "([<matplotlib.axis.XTick at 0x1822043f108>,\n",
       "  <matplotlib.axis.XTick at 0x182220e8a88>,\n",
       "  <matplotlib.axis.XTick at 0x1822041be08>,\n",
       "  <matplotlib.axis.XTick at 0x18222b49c48>,\n",
       "  <matplotlib.axis.XTick at 0x182228e32c8>,\n",
       "  <matplotlib.axis.XTick at 0x182228e3908>,\n",
       "  <matplotlib.axis.XTick at 0x182228e3f88>,\n",
       "  <matplotlib.axis.XTick at 0x182228d3608>,\n",
       "  <matplotlib.axis.XTick at 0x182228d3c48>,\n",
       "  <matplotlib.axis.XTick at 0x1822290c2c8>,\n",
       "  <matplotlib.axis.XTick at 0x1822290c8c8>,\n",
       "  <matplotlib.axis.XTick at 0x1822290cf08>,\n",
       "  <matplotlib.axis.XTick at 0x182228d3508>,\n",
       "  <matplotlib.axis.XTick at 0x18222b49cc8>,\n",
       "  <matplotlib.axis.XTick at 0x18222907a48>,\n",
       "  <matplotlib.axis.XTick at 0x18222902308>,\n",
       "  <matplotlib.axis.XTick at 0x18222902b08>,\n",
       "  <matplotlib.axis.XTick at 0x182228fc508>,\n",
       "  <matplotlib.axis.XTick at 0x182228fcec8>,\n",
       "  <matplotlib.axis.XTick at 0x182228f58c8>,\n",
       "  <matplotlib.axis.XTick at 0x182228ee2c8>,\n",
       "  <matplotlib.axis.XTick at 0x182228fc408>,\n",
       "  <matplotlib.axis.XTick at 0x182228e31c8>,\n",
       "  <matplotlib.axis.XTick at 0x182228ee448>,\n",
       "  <matplotlib.axis.XTick at 0x182228de908>,\n",
       "  <matplotlib.axis.XTick at 0x182228defc8>,\n",
       "  <matplotlib.axis.XTick at 0x182228e2988>,\n",
       "  <matplotlib.axis.XTick at 0x182228f6388>,\n",
       "  <matplotlib.axis.XTick at 0x182228f6d48>,\n",
       "  <matplotlib.axis.XTick at 0x182228e0748>,\n",
       "  <matplotlib.axis.XTick at 0x182228fe208>,\n",
       "  <matplotlib.axis.XTick at 0x182228f6208>,\n",
       "  <matplotlib.axis.XTick at 0x182228ee308>,\n",
       "  <matplotlib.axis.XTick at 0x182228fef08>,\n",
       "  <matplotlib.axis.XTick at 0x182228ec788>,\n",
       "  <matplotlib.axis.XTick at 0x182228ecd48>,\n",
       "  <matplotlib.axis.XTick at 0x18222377808>,\n",
       "  <matplotlib.axis.XTick at 0x1822236b288>,\n",
       "  <matplotlib.axis.XTick at 0x1822236bbc8>,\n",
       "  <matplotlib.axis.XTick at 0x182223685c8>,\n",
       "  <matplotlib.axis.XTick at 0x18222368b48>,\n",
       "  <matplotlib.axis.XTick at 0x1822236b308>,\n",
       "  <matplotlib.axis.XTick at 0x182228fe1c8>,\n",
       "  <matplotlib.axis.XTick at 0x18222362d88>,\n",
       "  <matplotlib.axis.XTick at 0x1822235f608>,\n",
       "  <matplotlib.axis.XTick at 0x1822235fe48>,\n",
       "  <matplotlib.axis.XTick at 0x18222359688>,\n",
       "  <matplotlib.axis.XTick at 0x18222352148>,\n",
       "  <matplotlib.axis.XTick at 0x18222352a48>,\n",
       "  <matplotlib.axis.XTick at 0x1822234c448>,\n",
       "  <matplotlib.axis.XTick at 0x1822234ce08>,\n",
       "  <matplotlib.axis.XTick at 0x18222352948>,\n",
       "  <matplotlib.axis.XTick at 0x1822235f248>,\n",
       "  <matplotlib.axis.XTick at 0x18222346c08>,\n",
       "  <matplotlib.axis.XTick at 0x18222353488>,\n",
       "  <matplotlib.axis.XTick at 0x18222353cc8>,\n",
       "  <matplotlib.axis.XTick at 0x1822237d508>,\n",
       "  <matplotlib.axis.XTick at 0x1822237dec8>,\n",
       "  <matplotlib.axis.XTick at 0x1822234d8c8>,\n",
       "  <matplotlib.axis.XTick at 0x182223632c8>,\n",
       "  <matplotlib.axis.XTick at 0x18222363c88>,\n",
       "  <matplotlib.axis.XTick at 0x1822234d748>,\n",
       "  <matplotlib.axis.XTick at 0x182223532c8>,\n",
       "  <matplotlib.axis.XTick at 0x18222356a88>,\n",
       "  <matplotlib.axis.XTick at 0x18222349308>,\n",
       "  <matplotlib.axis.XTick at 0x18222349b48>,\n",
       "  <matplotlib.axis.XTick at 0x182225be388>,\n",
       "  <matplotlib.axis.XTick at 0x182225bed48>,\n",
       "  <matplotlib.axis.XTick at 0x182225b5748>,\n",
       "  <matplotlib.axis.XTick at 0x182225b2208>,\n",
       "  <matplotlib.axis.XTick at 0x182225b2b08>,\n",
       "  <matplotlib.axis.XTick at 0x182225b5d08>,\n",
       "  <matplotlib.axis.XTick at 0x18222349408>,\n",
       "  <matplotlib.axis.XTick at 0x18222362888>,\n",
       "  <matplotlib.axis.XTick at 0x182225ac848>,\n",
       "  <matplotlib.axis.XTick at 0x182225acf08>,\n",
       "  <matplotlib.axis.XTick at 0x182225a8908>,\n",
       "  <matplotlib.axis.XTick at 0x182225a8fc8>,\n",
       "  <matplotlib.axis.XTick at 0x1822259b9c8>,\n",
       "  <matplotlib.axis.XTick at 0x18222596288>,\n",
       "  <matplotlib.axis.XTick at 0x18222596bc8>,\n",
       "  <matplotlib.axis.XTick at 0x1822041fe48>,\n",
       "  <matplotlib.axis.XTick at 0x1822041f7c8>,\n",
       "  <matplotlib.axis.XTick at 0x182220db508>,\n",
       "  <matplotlib.axis.XTick at 0x1821e5dc9c8>,\n",
       "  <matplotlib.axis.XTick at 0x1821e5e1448>,\n",
       "  <matplotlib.axis.XTick at 0x1821f77b188>,\n",
       "  <matplotlib.axis.XTick at 0x182227f9488>,\n",
       "  <matplotlib.axis.XTick at 0x182227f9ec8>,\n",
       "  <matplotlib.axis.XTick at 0x1821ee9d688>,\n",
       "  <matplotlib.axis.XTick at 0x182220db408>,\n",
       "  <matplotlib.axis.XTick at 0x1821d151608>,\n",
       "  <matplotlib.axis.XTick at 0x1821f7eec08>,\n",
       "  <matplotlib.axis.XTick at 0x1821d10b848>,\n",
       "  <matplotlib.axis.XTick at 0x1821ea26588>,\n",
       "  <matplotlib.axis.XTick at 0x1821ee405c8>,\n",
       "  <matplotlib.axis.XTick at 0x1822035b908>,\n",
       "  <matplotlib.axis.XTick at 0x1821d1681c8>,\n",
       "  <matplotlib.axis.XTick at 0x18221db4108>,\n",
       "  <matplotlib.axis.XTick at 0x1822035b7c8>,\n",
       "  <matplotlib.axis.XTick at 0x18221b50f88>,\n",
       "  <matplotlib.axis.XTick at 0x182203578c8>,\n",
       "  <matplotlib.axis.XTick at 0x18221da3748>,\n",
       "  <matplotlib.axis.XTick at 0x18221b53108>,\n",
       "  <matplotlib.axis.XTick at 0x182220e6488>,\n",
       "  <matplotlib.axis.XTick at 0x18221d9b288>,\n",
       "  <matplotlib.axis.XTick at 0x182225a8d88>,\n",
       "  <matplotlib.axis.XTick at 0x182225ac408>,\n",
       "  <matplotlib.axis.XTick at 0x1821effca48>,\n",
       "  <matplotlib.axis.XTick at 0x18221d94e88>,\n",
       "  <matplotlib.axis.XTick at 0x1821f9c9408>,\n",
       "  <matplotlib.axis.XTick at 0x1821f3c1688>,\n",
       "  <matplotlib.axis.XTick at 0x1821efdddc8>,\n",
       "  <matplotlib.axis.XTick at 0x1821e789fc8>,\n",
       "  <matplotlib.axis.XTick at 0x1821e5def08>,\n",
       "  <matplotlib.axis.XTick at 0x1821d147148>,\n",
       "  <matplotlib.axis.XTick at 0x1821d183488>,\n",
       "  <matplotlib.axis.XTick at 0x1821e947ac8>,\n",
       "  <matplotlib.axis.XTick at 0x18215fc0888>,\n",
       "  <matplotlib.axis.XTick at 0x18221d9b608>,\n",
       "  <matplotlib.axis.XTick at 0x1821f87bc48>,\n",
       "  <matplotlib.axis.XTick at 0x1821eecf488>,\n",
       "  <matplotlib.axis.XTick at 0x1821f5f5ec8>,\n",
       "  <matplotlib.axis.XTick at 0x1821eb6b308>,\n",
       "  <matplotlib.axis.XTick at 0x1821d1047c8>,\n",
       "  <matplotlib.axis.XTick at 0x1821e9695c8>,\n",
       "  <matplotlib.axis.XTick at 0x1821ee63e48>,\n",
       "  <matplotlib.axis.XTick at 0x1821f134d08>,\n",
       "  <matplotlib.axis.XTick at 0x1821f87bcc8>,\n",
       "  <matplotlib.axis.XTick at 0x1821ecf77c8>,\n",
       "  <matplotlib.axis.XTick at 0x1821f171c08>,\n",
       "  <matplotlib.axis.XTick at 0x1821fd38ec8>,\n",
       "  <matplotlib.axis.XTick at 0x18221c72b08>,\n",
       "  <matplotlib.axis.XTick at 0x1821f840388>,\n",
       "  <matplotlib.axis.XTick at 0x1821f789f48>],\n",
       " <a list of 135 Text major ticklabel objects>)"
      ]
     },
     "execution_count": 126,
     "metadata": {},
     "output_type": "execute_result"
    },
    {
     "data": {
      "image/png": "[encoded data removed]",
      "text/plain": [
       "<Figure size 432x288 with 1 Axes>"
      ]
     },
     "metadata": {
      "needs_background": "light"
     },
     "output_type": "display_data"
    }
   ],
   "source": [
    "features = range(pca.n_components_)\n",
    "plt.bar(features, pca.explained_variance_ratio_, color='black')\n",
    "plt.xlabel('PCA features')\n",
    "plt.ylabel('variance %')\n",
    "plt.xticks(features)"
   ]
  },
  {
   "cell_type": "code",
   "execution_count": 130,
   "metadata": {},
   "outputs": [],
   "source": [
    "pca = PCA(n_components=9)\n",
    "X_reduced_train = pca.fit_transform(scale(X_train))\n",
    "kmeans = KMeans(n_clusters=4)\n",
    "k_fit = kmeans.fit(X_reduced_train)"
   ]
  },
  {
   "cell_type": "code",
   "execution_count": 135,
   "metadata": {},
   "outputs": [
    {
     "data": {
      "text/plain": [
       "(4625, 9)"
      ]
     },
     "execution_count": 135,
     "metadata": {},
     "output_type": "execute_result"
    }
   ],
   "source": [
    "X_reduced_train.shape"
   ]
  },
  {
   "cell_type": "code",
   "execution_count": 192,
   "metadata": {},
   "outputs": [
    {
     "data": {
      "text/plain": [
       "array([0, 0, 2, ..., 3, 3, 1])"
      ]
     },
     "execution_count": 192,
     "metadata": {},
     "output_type": "execute_result"
    }
   ],
   "source": [
    "kumeler = k_fit.labels_\n",
    "kumeler"
   ]
  },
  {
   "cell_type": "code",
   "execution_count": 193,
   "metadata": {},
   "outputs": [
    {
     "ename": "ValueError",
     "evalue": "'c' argument has 4625 elements, which is inconsistent with 'x' and 'y' with size 41625.",
     "output_type": "error",
     "traceback": [
      "\u001b[1;31m---------------------------------------------------------------------------\u001b[0m",
      "\u001b[1;31mValueError\u001b[0m                                Traceback (most recent call last)",
      "\u001b[1;32m~\\AppData\\Roaming\\Python\\Python37\\site-packages\\matplotlib\\axes\\_axes.py\u001b[0m in \u001b[0;36m_parse_scatter_color_args\u001b[1;34m(c, edgecolors, kwargs, xsize, get_next_color_func)\u001b[0m\n\u001b[0;32m   4238\u001b[0m             \u001b[1;32mtry\u001b[0m\u001b[1;33m:\u001b[0m  \u001b[1;31m# Is 'c' acceptable as PathCollection facecolors?\u001b[0m\u001b[1;33m\u001b[0m\u001b[1;33m\u001b[0m\u001b[0m\n\u001b[1;32m-> 4239\u001b[1;33m                 \u001b[0mcolors\u001b[0m \u001b[1;33m=\u001b[0m \u001b[0mmcolors\u001b[0m\u001b[1;33m.\u001b[0m\u001b[0mto_rgba_array\u001b[0m\u001b[1;33m(\u001b[0m\u001b[0mc\u001b[0m\u001b[1;33m)\u001b[0m\u001b[1;33m\u001b[0m\u001b[1;33m\u001b[0m\u001b[0m\n\u001b[0m\u001b[0;32m   4240\u001b[0m             \u001b[1;32mexcept\u001b[0m \u001b[0mValueError\u001b[0m\u001b[1;33m:\u001b[0m\u001b[1;33m\u001b[0m\u001b[1;33m\u001b[0m\u001b[0m\n",
      "\u001b[1;32m~\\AppData\\Roaming\\Python\\Python37\\site-packages\\matplotlib\\colors.py\u001b[0m in \u001b[0;36mto_rgba_array\u001b[1;34m(c, alpha)\u001b[0m\n\u001b[0;32m    339\u001b[0m     \u001b[1;32melse\u001b[0m\u001b[1;33m:\u001b[0m\u001b[1;33m\u001b[0m\u001b[1;33m\u001b[0m\u001b[0m\n\u001b[1;32m--> 340\u001b[1;33m         \u001b[1;32mreturn\u001b[0m \u001b[0mnp\u001b[0m\u001b[1;33m.\u001b[0m\u001b[0marray\u001b[0m\u001b[1;33m(\u001b[0m\u001b[1;33m[\u001b[0m\u001b[0mto_rgba\u001b[0m\u001b[1;33m(\u001b[0m\u001b[0mcc\u001b[0m\u001b[1;33m,\u001b[0m \u001b[0malpha\u001b[0m\u001b[1;33m)\u001b[0m \u001b[1;32mfor\u001b[0m \u001b[0mcc\u001b[0m \u001b[1;32min\u001b[0m \u001b[0mc\u001b[0m\u001b[1;33m]\u001b[0m\u001b[1;33m)\u001b[0m\u001b[1;33m\u001b[0m\u001b[1;33m\u001b[0m\u001b[0m\n\u001b[0m\u001b[0;32m    341\u001b[0m \u001b[1;33m\u001b[0m\u001b[0m\n",
      "\u001b[1;32m~\\AppData\\Roaming\\Python\\Python37\\site-packages\\matplotlib\\colors.py\u001b[0m in \u001b[0;36m<listcomp>\u001b[1;34m(.0)\u001b[0m\n\u001b[0;32m    339\u001b[0m     \u001b[1;32melse\u001b[0m\u001b[1;33m:\u001b[0m\u001b[1;33m\u001b[0m\u001b[1;33m\u001b[0m\u001b[0m\n\u001b[1;32m--> 340\u001b[1;33m         \u001b[1;32mreturn\u001b[0m \u001b[0mnp\u001b[0m\u001b[1;33m.\u001b[0m\u001b[0marray\u001b[0m\u001b[1;33m(\u001b[0m\u001b[1;33m[\u001b[0m\u001b[0mto_rgba\u001b[0m\u001b[1;33m(\u001b[0m\u001b[0mcc\u001b[0m\u001b[1;33m,\u001b[0m \u001b[0malpha\u001b[0m\u001b[1;33m)\u001b[0m \u001b[1;32mfor\u001b[0m \u001b[0mcc\u001b[0m \u001b[1;32min\u001b[0m \u001b[0mc\u001b[0m\u001b[1;33m]\u001b[0m\u001b[1;33m)\u001b[0m\u001b[1;33m\u001b[0m\u001b[1;33m\u001b[0m\u001b[0m\n\u001b[0m\u001b[0;32m    341\u001b[0m \u001b[1;33m\u001b[0m\u001b[0m\n",
      "\u001b[1;32m~\\AppData\\Roaming\\Python\\Python37\\site-packages\\matplotlib\\colors.py\u001b[0m in \u001b[0;36mto_rgba\u001b[1;34m(c, alpha)\u001b[0m\n\u001b[0;32m    184\u001b[0m     \u001b[1;32mif\u001b[0m \u001b[0mrgba\u001b[0m \u001b[1;32mis\u001b[0m \u001b[1;32mNone\u001b[0m\u001b[1;33m:\u001b[0m  \u001b[1;31m# Suppress exception chaining of cache lookup failure.\u001b[0m\u001b[1;33m\u001b[0m\u001b[1;33m\u001b[0m\u001b[0m\n\u001b[1;32m--> 185\u001b[1;33m         \u001b[0mrgba\u001b[0m \u001b[1;33m=\u001b[0m \u001b[0m_to_rgba_no_colorcycle\u001b[0m\u001b[1;33m(\u001b[0m\u001b[0mc\u001b[0m\u001b[1;33m,\u001b[0m \u001b[0malpha\u001b[0m\u001b[1;33m)\u001b[0m\u001b[1;33m\u001b[0m\u001b[1;33m\u001b[0m\u001b[0m\n\u001b[0m\u001b[0;32m    186\u001b[0m         \u001b[1;32mtry\u001b[0m\u001b[1;33m:\u001b[0m\u001b[1;33m\u001b[0m\u001b[1;33m\u001b[0m\u001b[0m\n",
      "\u001b[1;32m~\\AppData\\Roaming\\Python\\Python37\\site-packages\\matplotlib\\colors.py\u001b[0m in \u001b[0;36m_to_rgba_no_colorcycle\u001b[1;34m(c, alpha)\u001b[0m\n\u001b[0;32m    267\u001b[0m         \u001b[1;31m# Test dimensionality to reject single floats.\u001b[0m\u001b[1;33m\u001b[0m\u001b[1;33m\u001b[0m\u001b[1;33m\u001b[0m\u001b[0m\n\u001b[1;32m--> 268\u001b[1;33m         \u001b[1;32mraise\u001b[0m \u001b[0mValueError\u001b[0m\u001b[1;33m(\u001b[0m\u001b[1;34mf\"Invalid RGBA argument: {orig_c!r}\"\u001b[0m\u001b[1;33m)\u001b[0m\u001b[1;33m\u001b[0m\u001b[1;33m\u001b[0m\u001b[0m\n\u001b[0m\u001b[0;32m    269\u001b[0m     \u001b[1;31m# Return a tuple to prevent the cached value from being modified.\u001b[0m\u001b[1;33m\u001b[0m\u001b[1;33m\u001b[0m\u001b[1;33m\u001b[0m\u001b[0m\n",
      "\u001b[1;31mValueError\u001b[0m: Invalid RGBA argument: 0.0",
      "\nDuring handling of the above exception, another exception occurred:\n",
      "\u001b[1;31mValueError\u001b[0m                                Traceback (most recent call last)",
      "\u001b[1;32m<ipython-input-193-21a2a9648468>\u001b[0m in \u001b[0;36m<module>\u001b[1;34m\u001b[0m\n\u001b[0;32m      1\u001b[0m \u001b[0mkumeler\u001b[0m \u001b[1;33m=\u001b[0m \u001b[0mk_fit\u001b[0m\u001b[1;33m.\u001b[0m\u001b[0mlabels_\u001b[0m\u001b[1;33m\u001b[0m\u001b[1;33m\u001b[0m\u001b[0m\n\u001b[1;32m----> 2\u001b[1;33m \u001b[0mplt\u001b[0m\u001b[1;33m.\u001b[0m\u001b[0mscatter\u001b[0m\u001b[1;33m(\u001b[0m\u001b[0mX_reduced_train\u001b[0m\u001b[1;33m[\u001b[0m\u001b[1;33m:\u001b[0m\u001b[1;33m]\u001b[0m\u001b[1;33m,\u001b[0m \u001b[0mX_reduced_train\u001b[0m\u001b[1;33m[\u001b[0m\u001b[1;33m:\u001b[0m\u001b[1;33m]\u001b[0m\u001b[1;33m,\u001b[0m \u001b[0mc\u001b[0m \u001b[1;33m=\u001b[0m \u001b[0mkumeler\u001b[0m\u001b[1;33m,\u001b[0m \u001b[0ms\u001b[0m \u001b[1;33m=\u001b[0m \u001b[1;36m50\u001b[0m\u001b[1;33m,\u001b[0m \u001b[0mcmap\u001b[0m \u001b[1;33m=\u001b[0m \u001b[1;34m\"viridis\"\u001b[0m\u001b[1;33m)\u001b[0m\u001b[1;33m\u001b[0m\u001b[1;33m\u001b[0m\u001b[0m\n\u001b[0m\u001b[0;32m      3\u001b[0m \u001b[0mmerkezler\u001b[0m \u001b[1;33m=\u001b[0m \u001b[0mk_fit\u001b[0m\u001b[1;33m.\u001b[0m\u001b[0mcluster_centers_\u001b[0m\u001b[1;33m\u001b[0m\u001b[1;33m\u001b[0m\u001b[0m\n\u001b[0;32m      4\u001b[0m \u001b[0mplt\u001b[0m\u001b[1;33m.\u001b[0m\u001b[0mscatter\u001b[0m\u001b[1;33m(\u001b[0m\u001b[0mmerkezler\u001b[0m\u001b[1;33m[\u001b[0m\u001b[1;33m:\u001b[0m\u001b[1;33m,\u001b[0m\u001b[1;36m0\u001b[0m\u001b[1;33m]\u001b[0m\u001b[1;33m,\u001b[0m \u001b[0mmerkezler\u001b[0m\u001b[1;33m[\u001b[0m\u001b[1;33m:\u001b[0m\u001b[1;33m,\u001b[0m\u001b[1;36m1\u001b[0m\u001b[1;33m]\u001b[0m\u001b[1;33m,\u001b[0m \u001b[0mc\u001b[0m \u001b[1;33m=\u001b[0m \u001b[1;34m\"black\"\u001b[0m\u001b[1;33m,\u001b[0m \u001b[0ms\u001b[0m \u001b[1;33m=\u001b[0m \u001b[1;36m200\u001b[0m\u001b[1;33m,\u001b[0m \u001b[0malpha\u001b[0m \u001b[1;33m=\u001b[0m \u001b[1;36m0.5\u001b[0m\u001b[1;33m)\u001b[0m\u001b[1;33m\u001b[0m\u001b[1;33m\u001b[0m\u001b[0m\n",
      "\u001b[1;32m~\\AppData\\Roaming\\Python\\Python37\\site-packages\\matplotlib\\pyplot.py\u001b[0m in \u001b[0;36mscatter\u001b[1;34m(x, y, s, c, marker, cmap, norm, vmin, vmax, alpha, linewidths, verts, edgecolors, plotnonfinite, data, **kwargs)\u001b[0m\n\u001b[0;32m   2814\u001b[0m         \u001b[0mverts\u001b[0m\u001b[1;33m=\u001b[0m\u001b[0mverts\u001b[0m\u001b[1;33m,\u001b[0m \u001b[0medgecolors\u001b[0m\u001b[1;33m=\u001b[0m\u001b[0medgecolors\u001b[0m\u001b[1;33m,\u001b[0m\u001b[1;33m\u001b[0m\u001b[1;33m\u001b[0m\u001b[0m\n\u001b[0;32m   2815\u001b[0m         plotnonfinite=plotnonfinite, **({\"data\": data} if data is not\n\u001b[1;32m-> 2816\u001b[1;33m         None else {}), **kwargs)\n\u001b[0m\u001b[0;32m   2817\u001b[0m     \u001b[0msci\u001b[0m\u001b[1;33m(\u001b[0m\u001b[0m__ret\u001b[0m\u001b[1;33m)\u001b[0m\u001b[1;33m\u001b[0m\u001b[1;33m\u001b[0m\u001b[0m\n\u001b[0;32m   2818\u001b[0m     \u001b[1;32mreturn\u001b[0m \u001b[0m__ret\u001b[0m\u001b[1;33m\u001b[0m\u001b[1;33m\u001b[0m\u001b[0m\n",
      "\u001b[1;32m~\\AppData\\Roaming\\Python\\Python37\\site-packages\\matplotlib\\__init__.py\u001b[0m in \u001b[0;36minner\u001b[1;34m(ax, data, *args, **kwargs)\u001b[0m\n\u001b[0;32m   1563\u001b[0m     \u001b[1;32mdef\u001b[0m \u001b[0minner\u001b[0m\u001b[1;33m(\u001b[0m\u001b[0max\u001b[0m\u001b[1;33m,\u001b[0m \u001b[1;33m*\u001b[0m\u001b[0margs\u001b[0m\u001b[1;33m,\u001b[0m \u001b[0mdata\u001b[0m\u001b[1;33m=\u001b[0m\u001b[1;32mNone\u001b[0m\u001b[1;33m,\u001b[0m \u001b[1;33m**\u001b[0m\u001b[0mkwargs\u001b[0m\u001b[1;33m)\u001b[0m\u001b[1;33m:\u001b[0m\u001b[1;33m\u001b[0m\u001b[1;33m\u001b[0m\u001b[0m\n\u001b[0;32m   1564\u001b[0m         \u001b[1;32mif\u001b[0m \u001b[0mdata\u001b[0m \u001b[1;32mis\u001b[0m \u001b[1;32mNone\u001b[0m\u001b[1;33m:\u001b[0m\u001b[1;33m\u001b[0m\u001b[1;33m\u001b[0m\u001b[0m\n\u001b[1;32m-> 1565\u001b[1;33m             \u001b[1;32mreturn\u001b[0m \u001b[0mfunc\u001b[0m\u001b[1;33m(\u001b[0m\u001b[0max\u001b[0m\u001b[1;33m,\u001b[0m \u001b[1;33m*\u001b[0m\u001b[0mmap\u001b[0m\u001b[1;33m(\u001b[0m\u001b[0msanitize_sequence\u001b[0m\u001b[1;33m,\u001b[0m \u001b[0margs\u001b[0m\u001b[1;33m)\u001b[0m\u001b[1;33m,\u001b[0m \u001b[1;33m**\u001b[0m\u001b[0mkwargs\u001b[0m\u001b[1;33m)\u001b[0m\u001b[1;33m\u001b[0m\u001b[1;33m\u001b[0m\u001b[0m\n\u001b[0m\u001b[0;32m   1566\u001b[0m \u001b[1;33m\u001b[0m\u001b[0m\n\u001b[0;32m   1567\u001b[0m         \u001b[0mbound\u001b[0m \u001b[1;33m=\u001b[0m \u001b[0mnew_sig\u001b[0m\u001b[1;33m.\u001b[0m\u001b[0mbind\u001b[0m\u001b[1;33m(\u001b[0m\u001b[0max\u001b[0m\u001b[1;33m,\u001b[0m \u001b[1;33m*\u001b[0m\u001b[0margs\u001b[0m\u001b[1;33m,\u001b[0m \u001b[1;33m**\u001b[0m\u001b[0mkwargs\u001b[0m\u001b[1;33m)\u001b[0m\u001b[1;33m\u001b[0m\u001b[1;33m\u001b[0m\u001b[0m\n",
      "\u001b[1;32m~\\AppData\\Roaming\\Python\\Python37\\site-packages\\matplotlib\\cbook\\deprecation.py\u001b[0m in \u001b[0;36mwrapper\u001b[1;34m(*args, **kwargs)\u001b[0m\n\u001b[0;32m    356\u001b[0m                 \u001b[1;34mf\"%(removal)s.  If any parameter follows {name!r}, they \"\u001b[0m\u001b[1;33m\u001b[0m\u001b[1;33m\u001b[0m\u001b[0m\n\u001b[0;32m    357\u001b[0m                 f\"should be pass as keyword, not positionally.\")\n\u001b[1;32m--> 358\u001b[1;33m         \u001b[1;32mreturn\u001b[0m \u001b[0mfunc\u001b[0m\u001b[1;33m(\u001b[0m\u001b[1;33m*\u001b[0m\u001b[0margs\u001b[0m\u001b[1;33m,\u001b[0m \u001b[1;33m**\u001b[0m\u001b[0mkwargs\u001b[0m\u001b[1;33m)\u001b[0m\u001b[1;33m\u001b[0m\u001b[1;33m\u001b[0m\u001b[0m\n\u001b[0m\u001b[0;32m    359\u001b[0m \u001b[1;33m\u001b[0m\u001b[0m\n\u001b[0;32m    360\u001b[0m     \u001b[1;32mreturn\u001b[0m \u001b[0mwrapper\u001b[0m\u001b[1;33m\u001b[0m\u001b[1;33m\u001b[0m\u001b[0m\n",
      "\u001b[1;32m~\\AppData\\Roaming\\Python\\Python37\\site-packages\\matplotlib\\axes\\_axes.py\u001b[0m in \u001b[0;36mscatter\u001b[1;34m(self, x, y, s, c, marker, cmap, norm, vmin, vmax, alpha, linewidths, verts, edgecolors, plotnonfinite, **kwargs)\u001b[0m\n\u001b[0;32m   4401\u001b[0m             self._parse_scatter_color_args(\n\u001b[0;32m   4402\u001b[0m                 \u001b[0mc\u001b[0m\u001b[1;33m,\u001b[0m \u001b[0medgecolors\u001b[0m\u001b[1;33m,\u001b[0m \u001b[0mkwargs\u001b[0m\u001b[1;33m,\u001b[0m \u001b[0mx\u001b[0m\u001b[1;33m.\u001b[0m\u001b[0msize\u001b[0m\u001b[1;33m,\u001b[0m\u001b[1;33m\u001b[0m\u001b[1;33m\u001b[0m\u001b[0m\n\u001b[1;32m-> 4403\u001b[1;33m                 get_next_color_func=self._get_patches_for_fill.get_next_color)\n\u001b[0m\u001b[0;32m   4404\u001b[0m \u001b[1;33m\u001b[0m\u001b[0m\n\u001b[0;32m   4405\u001b[0m         \u001b[1;32mif\u001b[0m \u001b[0mplotnonfinite\u001b[0m \u001b[1;32mand\u001b[0m \u001b[0mcolors\u001b[0m \u001b[1;32mis\u001b[0m \u001b[1;32mNone\u001b[0m\u001b[1;33m:\u001b[0m\u001b[1;33m\u001b[0m\u001b[1;33m\u001b[0m\u001b[0m\n",
      "\u001b[1;32m~\\AppData\\Roaming\\Python\\Python37\\site-packages\\matplotlib\\axes\\_axes.py\u001b[0m in \u001b[0;36m_parse_scatter_color_args\u001b[1;34m(c, edgecolors, kwargs, xsize, get_next_color_func)\u001b[0m\n\u001b[0;32m   4240\u001b[0m             \u001b[1;32mexcept\u001b[0m \u001b[0mValueError\u001b[0m\u001b[1;33m:\u001b[0m\u001b[1;33m\u001b[0m\u001b[1;33m\u001b[0m\u001b[0m\n\u001b[0;32m   4241\u001b[0m                 \u001b[1;32mif\u001b[0m \u001b[1;32mnot\u001b[0m \u001b[0mvalid_shape\u001b[0m\u001b[1;33m:\u001b[0m\u001b[1;33m\u001b[0m\u001b[1;33m\u001b[0m\u001b[0m\n\u001b[1;32m-> 4242\u001b[1;33m                     \u001b[1;32mraise\u001b[0m \u001b[0minvalid_shape_exception\u001b[0m\u001b[1;33m(\u001b[0m\u001b[0mc\u001b[0m\u001b[1;33m.\u001b[0m\u001b[0msize\u001b[0m\u001b[1;33m,\u001b[0m \u001b[0mxsize\u001b[0m\u001b[1;33m)\u001b[0m\u001b[1;33m\u001b[0m\u001b[1;33m\u001b[0m\u001b[0m\n\u001b[0m\u001b[0;32m   4243\u001b[0m                 \u001b[1;31m# Both the mapping *and* the RGBA conversion failed: pretty\u001b[0m\u001b[1;33m\u001b[0m\u001b[1;33m\u001b[0m\u001b[1;33m\u001b[0m\u001b[0m\n\u001b[0;32m   4244\u001b[0m                 \u001b[1;31m# severe failure => one may appreciate a verbose feedback.\u001b[0m\u001b[1;33m\u001b[0m\u001b[1;33m\u001b[0m\u001b[1;33m\u001b[0m\u001b[0m\n",
      "\u001b[1;31mValueError\u001b[0m: 'c' argument has 4625 elements, which is inconsistent with 'x' and 'y' with size 41625."
     ]
    },
    {
     "data": {
      "image/png": "[encoded data removed]",
      "text/plain": [
       "<Figure size 432x288 with 1 Axes>"
      ]
     },
     "metadata": {
      "needs_background": "light"
     },
     "output_type": "display_data"
    }
   ],
   "source": [
    "kumeler = k_fit.labels_\n",
    "plt.scatter(X_reduced_train[:], X_reduced_train[:], c = kumeler, s = 50, cmap = \"viridis\")\n",
    "merkezler = k_fit.cluster_centers_\n",
    "plt.scatter(merkezler[:,0], merkezler[:,1], c = \"black\", s = 200, alpha = 0.5)"
   ]
  },
  {
   "cell_type": "markdown",
   "metadata": {},
   "source": [
    "# Naive Bayes"
   ]
  },
  {
   "cell_type": "code",
   "execution_count": 130,
   "metadata": {},
   "outputs": [],
   "source": [
    "import pandas as pd\n",
    "diabetes = pd.read_csv('diabetes.csv')\n",
    "df = diabetes.copy()\n",
    "df = df.dropna()\n",
    "y = df[\"Outcome\"]\n",
    "X = df.drop([\"Outcome\"], axis=1)\n",
    "X_train, X_test, y_train, y_test = train_test_split(X, y, test_size = 0.30,\n",
    "                                                   random_state=42)"
   ]
  },
  {
   "cell_type": "code",
   "execution_count": 131,
   "metadata": {},
   "outputs": [
    {
     "data": {
      "text/plain": [
       "GaussianNB(priors=None, var_smoothing=1e-09)"
      ]
     },
     "execution_count": 131,
     "metadata": {},
     "output_type": "execute_result"
    }
   ],
   "source": [
    "#normality gerekli\n",
    "nb = GaussianNB()\n",
    "nb_model = nb.fit(X_train, y_train)\n",
    "nb_model"
   ]
  },
  {
   "cell_type": "code",
   "execution_count": 132,
   "metadata": {},
   "outputs": [
    {
     "data": {
      "text/plain": [
       "array([0, 0, 0, 0, 1, 1, 0, 0, 0, 1], dtype=int64)"
      ]
     },
     "execution_count": 132,
     "metadata": {},
     "output_type": "execute_result"
    }
   ],
   "source": [
    "nb_model.predict(X_test)[0:10]"
   ]
  },
  {
   "cell_type": "code",
   "execution_count": 133,
   "metadata": {},
   "outputs": [
    {
     "data": {
      "text/plain": [
       "array([[0.73815858, 0.26184142],\n",
       "       [0.94027894, 0.05972106],\n",
       "       [0.97242831, 0.02757169],\n",
       "       [0.82840069, 0.17159931],\n",
       "       [0.47153473, 0.52846527],\n",
       "       [0.47274458, 0.52725542],\n",
       "       [0.99607705, 0.00392295],\n",
       "       [0.69925055, 0.30074945],\n",
       "       [0.53838117, 0.46161883],\n",
       "       [0.25004536, 0.74995464]])"
      ]
     },
     "execution_count": 133,
     "metadata": {},
     "output_type": "execute_result"
    }
   ],
   "source": [
    "nb_model.predict_proba(X_test)[0:10]\n"
   ]
  },
  {
   "cell_type": "code",
   "execution_count": 134,
   "metadata": {},
   "outputs": [],
   "source": [
    "y_pred = nb_model.predict(X_test)"
   ]
  },
  {
   "cell_type": "code",
   "execution_count": 135,
   "metadata": {},
   "outputs": [
    {
     "data": {
      "text/plain": [
       "0.7445887445887446"
      ]
     },
     "execution_count": 135,
     "metadata": {},
     "output_type": "execute_result"
    }
   ],
   "source": [
    "accuracy_score(y_test,y_pred)"
   ]
  },
  {
   "cell_type": "code",
   "execution_count": 136,
   "metadata": {},
   "outputs": [
    {
     "data": {
      "text/plain": [
       "0.775"
      ]
     },
     "execution_count": 136,
     "metadata": {},
     "output_type": "execute_result"
    }
   ],
   "source": [
    "cross_val_score(nb_model, X_test, y_test, cv=10).mean()"
   ]
  },
  {
   "cell_type": "code",
   "execution_count": 143,
   "metadata": {},
   "outputs": [
    {
     "data": {
      "text/plain": [
       "MultinomialNB(alpha=1.0, class_prior=None, fit_prior=True)"
      ]
     },
     "execution_count": 143,
     "metadata": {},
     "output_type": "execute_result"
    }
   ],
   "source": [
    "#normality kontrolü yapmadan\n",
    "mnb = MultinomialNB()\n",
    "mnb_model = mnb.fit(X_train, y_train)\n",
    "mnb_model"
   ]
  },
  {
   "cell_type": "code",
   "execution_count": 144,
   "metadata": {},
   "outputs": [
    {
     "data": {
      "text/plain": [
       "array([0, 1, 1, 0, 1, 1, 1, 1, 0, 0], dtype=int64)"
      ]
     },
     "execution_count": 144,
     "metadata": {},
     "output_type": "execute_result"
    }
   ],
   "source": [
    "mnb_model.predict(X_test)[0:10]"
   ]
  },
  {
   "cell_type": "code",
   "execution_count": 145,
   "metadata": {},
   "outputs": [
    {
     "data": {
      "text/plain": [
       "array([[1.00000000e+000, 4.08040965e-064],\n",
       "       [3.34281669e-117, 1.00000000e+000],\n",
       "       [2.54869311e-277, 1.00000000e+000],\n",
       "       [1.00000000e+000, 2.14540449e-250],\n",
       "       [0.00000000e+000, 1.00000000e+000],\n",
       "       [5.56046193e-127, 1.00000000e+000],\n",
       "       [5.96604267e-188, 1.00000000e+000],\n",
       "       [4.28558824e-114, 1.00000000e+000],\n",
       "       [1.00000000e+000, 0.00000000e+000],\n",
       "       [1.00000000e+000, 0.00000000e+000]])"
      ]
     },
     "execution_count": 145,
     "metadata": {},
     "output_type": "execute_result"
    }
   ],
   "source": [
    "mnb_model.predict_proba(X_test)[0:10]\n"
   ]
  },
  {
   "cell_type": "code",
   "execution_count": 146,
   "metadata": {},
   "outputs": [],
   "source": [
    "y_pred = mnb_model.predict(X_test)"
   ]
  },
  {
   "cell_type": "code",
   "execution_count": 147,
   "metadata": {},
   "outputs": [
    {
     "data": {
      "text/plain": [
       "0.4389438943894389"
      ]
     },
     "execution_count": 147,
     "metadata": {},
     "output_type": "execute_result"
    }
   ],
   "source": [
    "accuracy_score(y_test,y_pred)"
   ]
  },
  {
   "cell_type": "code",
   "execution_count": 148,
   "metadata": {},
   "outputs": [
    {
     "data": {
      "text/plain": [
       "0.5842896174863388"
      ]
     },
     "execution_count": 148,
     "metadata": {},
     "output_type": "execute_result"
    }
   ],
   "source": [
    "cross_val_score(mnb_model, X_test, y_test, cv=10).mean()"
   ]
  },
  {
   "cell_type": "code",
   "execution_count": 149,
   "metadata": {},
   "outputs": [
    {
     "data": {
      "text/plain": [
       "BernoulliNB(alpha=1.0, binarize=0.0, class_prior=None, fit_prior=True)"
      ]
     },
     "execution_count": 149,
     "metadata": {},
     "output_type": "execute_result"
    }
   ],
   "source": [
    "#binary target olduğunda (iki sınıflı)\n",
    "bnb = BernoulliNB()\n",
    "bnb_model = bnb.fit(X_train, y_train)\n",
    "bnb_model"
   ]
  },
  {
   "cell_type": "code",
   "execution_count": 150,
   "metadata": {},
   "outputs": [
    {
     "data": {
      "text/plain": [
       "array([0, 0, 0, 0, 0, 0, 0, 0, 0, 0], dtype=int64)"
      ]
     },
     "execution_count": 150,
     "metadata": {},
     "output_type": "execute_result"
    }
   ],
   "source": [
    "bnb_model.predict(X_test)[0:10]"
   ]
  },
  {
   "cell_type": "code",
   "execution_count": 151,
   "metadata": {},
   "outputs": [
    {
     "data": {
      "text/plain": [
       "array([[0.79261926, 0.20738074],\n",
       "       [0.94879295, 0.05120705],\n",
       "       [0.95562423, 0.04437577],\n",
       "       [0.95562423, 0.04437577],\n",
       "       [0.95562423, 0.04437577],\n",
       "       [0.95562423, 0.04437577],\n",
       "       [0.94879295, 0.05120705],\n",
       "       [0.94879295, 0.05120705],\n",
       "       [0.94879295, 0.05120705],\n",
       "       [0.94879295, 0.05120705]])"
      ]
     },
     "execution_count": 151,
     "metadata": {},
     "output_type": "execute_result"
    }
   ],
   "source": [
    "bnb_model.predict_proba(X_test)[0:10]\n"
   ]
  },
  {
   "cell_type": "code",
   "execution_count": 152,
   "metadata": {},
   "outputs": [],
   "source": [
    "y_pred = bnb_model.predict(X_test)"
   ]
  },
  {
   "cell_type": "code",
   "execution_count": 153,
   "metadata": {},
   "outputs": [
    {
     "data": {
      "text/plain": [
       "0.8993399339933993"
      ]
     },
     "execution_count": 153,
     "metadata": {},
     "output_type": "execute_result"
    }
   ],
   "source": [
    "accuracy_score(y_test,y_pred)"
   ]
  },
  {
   "cell_type": "code",
   "execution_count": 154,
   "metadata": {},
   "outputs": [
    {
     "data": {
      "text/plain": [
       "0.9142076502732239"
      ]
     },
     "execution_count": 154,
     "metadata": {},
     "output_type": "execute_result"
    }
   ],
   "source": [
    "cross_val_score(bnb_model, X_test, y_test, cv=10).mean()"
   ]
  },
  {
   "cell_type": "code",
   "execution_count": 155,
   "metadata": {},
   "outputs": [
    {
     "name": "stdout",
     "output_type": "stream",
     "text": [
      "Fitting 10 folds for each of 4 candidates, totalling 40 fits\n"
     ]
    },
    {
     "name": "stderr",
     "output_type": "stream",
     "text": [
      "[Parallel(n_jobs=-1)]: Using backend LokyBackend with 8 concurrent workers.\n"
     ]
    },
    {
     "name": "stdout",
     "output_type": "stream",
     "text": [
      "En iyi parametreler: {'priors': (0.4, 0.6)}\n",
      "En iyi skor: 0.8541054839676356\n"
     ]
    },
    {
     "name": "stderr",
     "output_type": "stream",
     "text": [
      "[Parallel(n_jobs=-1)]: Done  25 tasks      | elapsed:    1.4s\n",
      "[Parallel(n_jobs=-1)]: Done  40 out of  40 | elapsed:    1.4s finished\n"
     ]
    }
   ],
   "source": [
    "nb_params = {\"priors\": [(0.1,0.9), (0.2,0.8), (0.3,0.7), (0.4,0.6)]}\n",
    "nb = GaussianNB()\n",
    "nb_cv = GridSearchCV(nb, nb_params,\n",
    "                    cv=10,\n",
    "                    n_jobs=-1,\n",
    "                    verbose=2)\n",
    "nb_cv.fit(X_train,y_train)\n",
    "print(f\"En iyi parametreler: {nb_cv.best_params_}\")\n",
    "print(f\"En iyi skor: {nb_cv.best_score_}\")"
   ]
  },
  {
   "cell_type": "code",
   "execution_count": 172,
   "metadata": {},
   "outputs": [
    {
     "data": {
      "text/plain": [
       "GaussianNB(priors=(0.4, 0.6), var_smoothing=1e-09)"
      ]
     },
     "execution_count": 172,
     "metadata": {},
     "output_type": "execute_result"
    }
   ],
   "source": [
    "nb_tuned = GaussianNB(priors=(0.4,0.6))\n",
    "nb_tuned.fit(X_train,y_train)"
   ]
  },
  {
   "cell_type": "code",
   "execution_count": 173,
   "metadata": {},
   "outputs": [
    {
     "data": {
      "text/plain": [
       "0.8432343234323433"
      ]
     },
     "execution_count": 173,
     "metadata": {},
     "output_type": "execute_result"
    }
   ],
   "source": [
    "y_pred = nb_tuned.predict(X_test)\n",
    "\n",
    "accuracy_score(y_test,y_pred)"
   ]
  },
  {
   "cell_type": "code",
   "execution_count": 174,
   "metadata": {},
   "outputs": [
    {
     "data": {
      "text/plain": [
       "0.7092622950819673"
      ]
     },
     "execution_count": 174,
     "metadata": {},
     "output_type": "execute_result"
    }
   ],
   "source": [
    "cross_val_score(nb_tuned, X_test, y_test, cv=10).mean()"
   ]
  },
  {
   "cell_type": "code",
   "execution_count": 179,
   "metadata": {
    "scrolled": true
   },
   "outputs": [
    {
     "name": "stdout",
     "output_type": "stream",
     "text": [
      "----------------------------\n",
      "KNeighborsClassifier:\n",
      "Accuracy: 91.4191%\n",
      "----------------------------\n",
      "GaussianNB:\n",
      "Accuracy: 89.9340%\n",
      "----------------------------\n",
      "LinearSVC:\n",
      "Accuracy: 91.4191%\n",
      "----------------------------\n",
      "CatBoostClassifier:\n",
      "Accuracy: 95.7096%\n"
     ]
    },
    {
     "data": {
      "image/png": "[encoded data removed]",
      "text/plain": [
       "<Figure size 432x288 with 1 Axes>"
      ]
     },
     "metadata": {
      "needs_background": "light"
     },
     "output_type": "display_data"
    }
   ],
   "source": [
    "modeller = [\n",
    "    knn_model,\n",
    "    nb_model,\n",
    "    svm_model,\n",
    "    #mlpc_tuned,\n",
    "    #cart_tuned,\n",
    "    #rf_tuned,\n",
    "    #gbm_tuned,\n",
    "    cb_model,\n",
    "    #lgbm_tuned,\n",
    "    #xgb_tuned\n",
    "    \n",
    "    \n",
    "]\n",
    "\n",
    "\n",
    "for model in modeller:\n",
    "    isimler = model.__class__.__name__\n",
    "    y_pred = model.predict(X_test)     \n",
    "    dogruluk = accuracy_score(y_test, y_pred)\n",
    "    print(\"-\"*28)\n",
    "    print(isimler + \":\" )\n",
    "    print(\"Accuracy: {:.4%}\".format(dogruluk))\n",
    "sonuc = []\n",
    "\n",
    "sonuclar = pd.DataFrame(columns= [\"Modeller\",\"Accuracy\"])\n",
    "\n",
    "for model in modeller:\n",
    "    isimler = model.__class__.__name__\n",
    "    y_pred = model.predict(X_test)\n",
    "    dogruluk = accuracy_score(y_test, y_pred)    \n",
    "    sonuc = pd.DataFrame([[isimler, dogruluk*100]], columns= [\"Modeller\",\"Accuracy\"])\n",
    "    sonuclar = sonuclar.append(sonuc)\n",
    "    \n",
    "    \n",
    "sns.barplot(x= 'Accuracy', y = 'Modeller', data=sonuclar, color=\"b\")\n",
    "plt.xlabel('Accuracy %')\n",
    "plt.title('Modellerin Doğruluk Oranları');"
   ]
  },
  {
   "cell_type": "code",
   "execution_count": 180,
   "metadata": {},
   "outputs": [
    {
     "name": "stdout",
     "output_type": "stream",
     "text": [
      "----------------------------\n",
      "KNeighborsClassifier:\n",
      "Accuracy: 91.7492%\n",
      "----------------------------\n",
      "GaussianNB:\n",
      "Accuracy: 84.3234%\n",
      "----------------------------\n",
      "SVC:\n",
      "Accuracy: 91.4191%\n",
      "----------------------------\n",
      "CatBoostClassifier:\n",
      "Accuracy: 96.0396%\n"
     ]
    },
    {
     "data": {
      "image/png": "[encoded data removed]",
      "text/plain": [
       "<Figure size 432x288 with 1 Axes>"
      ]
     },
     "metadata": {
      "needs_background": "light"
     },
     "output_type": "display_data"
    }
   ],
   "source": [
    "modeller = [\n",
    "    knn_tuned,\n",
    "    nb_tuned,\n",
    "    svc_tuned,\n",
    "    #mlpc_tuned,\n",
    "    #cart_tuned,\n",
    "    #rf_tuned,\n",
    "    #gbm_tuned,\n",
    "    cb_tuned,\n",
    "    #lgbm_tuned,\n",
    "    #xgb_tuned\n",
    "    \n",
    "    \n",
    "]\n",
    "\n",
    "\n",
    "for model in modeller:\n",
    "    isimler = model.__class__.__name__\n",
    "    y_pred = model.predict(X_test)     \n",
    "    dogruluk = accuracy_score(y_test, y_pred)\n",
    "    print(\"-\"*28)\n",
    "    print(isimler + \":\" )\n",
    "    print(\"Accuracy: {:.4%}\".format(dogruluk))\n",
    "sonuc = []\n",
    "\n",
    "sonuclar = pd.DataFrame(columns= [\"Modeller\",\"Accuracy\"])\n",
    "\n",
    "for model in modeller:\n",
    "    isimler = model.__class__.__name__\n",
    "    y_pred = model.predict(X_test)\n",
    "    dogruluk = accuracy_score(y_test, y_pred)    \n",
    "    sonuc = pd.DataFrame([[isimler, dogruluk*100]], columns= [\"Modeller\",\"Accuracy\"])\n",
    "    sonuclar = sonuclar.append(sonuc)\n",
    "    \n",
    "    \n",
    "sns.barplot(x= 'Accuracy', y = 'Modeller', data=sonuclar, color=\"b\")\n",
    "plt.xlabel('Accuracy %')\n",
    "plt.title('Modellerin Doğruluk Oranları');"
   ]
  }
 ],
 "metadata": {
  "kernelspec": {
   "display_name": "Python 3",
   "language": "python",
   "name": "python3"
  },
  "language_info": {
   "codemirror_mode": {
    "name": "ipython",
    "version": 3
   },
   "file_extension": ".py",
   "mimetype": "text/x-python",
   "name": "python",
   "nbconvert_exporter": "python",
   "pygments_lexer": "ipython3",
   "version": "3.7.6"
  }
 },
 "nbformat": 4,
 "nbformat_minor": 4
}
